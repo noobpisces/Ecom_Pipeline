{
 "cells": [
  {
   "cell_type": "code",
   "execution_count": 1,
   "id": "0bd2bb9e-78b1-4df0-8bfe-829cc68700e7",
   "metadata": {
    "tags": []
   },
   "outputs": [],
   "source": [
    "import os\n",
    "import sys\n",
    "import json\n",
    "import logging\n",
    "import traceback\n",
    "from datetime import datetime, timedelta\n",
    "\n",
    "from pyspark.sql import SparkSession\n",
    "from pyspark.sql import functions as F\n",
    "from pyspark.sql.functions import (\n",
    "    col, from_json, explode, to_date, date_format,\n",
    "    dayofweek, dayofmonth, dayofyear, weekofyear,\n",
    "    month, quarter, year, when, unix_timestamp,\n",
    "    expr, sum, size, length, lit, to_timestamp, current_timestamp, max, udf\n",
    ")\n",
    "from pyspark.sql.types import (\n",
    "    ArrayType, StructType, StructField, BooleanType,\n",
    "    StringType, IntegerType, DateType, FloatType,\n",
    "    DoubleType, LongType\n",
    ")\n",
    "from delta.tables import DeltaTable\n"
   ]
  },
  {
   "cell_type": "code",
   "execution_count": 2,
   "id": "4ccc049e-6b25-40a7-a9f9-ef572f840c1c",
   "metadata": {
    "tags": []
   },
   "outputs": [
    {
     "name": "stderr",
     "output_type": "stream",
     "text": [
      "Warning: Ignoring non-Spark config property: delta.enable-non-concurrent-writes\n"
     ]
    },
    {
     "name": "stdout",
     "output_type": "stream",
     "text": [
      "25/06/08 13:48:33 WARN NativeCodeLoader: Unable to load native-hadoop library for your platform... using builtin-java classes where applicable\n"
     ]
    },
    {
     "name": "stderr",
     "output_type": "stream",
     "text": [
      "Setting default log level to \"WARN\".\n",
      "To adjust logging level use sc.setLogLevel(newLevel). For SparkR, use setLogLevel(newLevel).\n"
     ]
    }
   ],
   "source": [
    "\n",
    "spark = SparkSession.builder \\\n",
    "    .appName(\"TestJupyter\") \\\n",
    "    .config(\"spark.jars\", \"jars/hadoop-aws-3.3.4.jar,jars/spark-sql-kafka-0-10_2.12-3.2.1.jar,jars/aws-java-sdk-bundle-1.12.262.jar,jars/delta-core_2.12-2.2.0.jar,jars/delta-storage-2.2.0.jar\")\\\n",
    "    .config(\"spark.hadoop.fs.s3a.endpoint\", \"http://minio:9000\") \\\n",
    "    .config(\"spark.hadoop.fs.s3a.access.key\", \"conbo123\") \\\n",
    "    .config(\"spark.hadoop.fs.s3a.secret.key\", \"123conbo\") \\\n",
    "    .config(\"spark.hadoop.fs.s3a.path.style.access\", \"true\") \\\n",
    "    .config(\"spark.hadoop.fs.s3a.impl\", \"org.apache.hadoop.fs.s3a.S3AFileSystem\") \\\n",
    "    .config(\"spark.sql.extensions\", \"io.delta.sql.DeltaSparkSessionExtension\") \\\n",
    "    .config(\"spark.sql.catalog.spark_catalog\", \"org.apache.spark.sql.delta.catalog.DeltaCatalog\") \\\n",
    "    .config(\"spark.delta.logStore.class\", \"org.apache.spark.sql.delta.storage.S3SingleDriverLogStore\") \\\n",
    "    .config(\"delta.enable-non-concurrent-writes\", \"true\") \\\n",
    "    .config('spark.sql.warehouse.dir', \"s3a://lakehouse/\") \\\n",
    "    .getOrCreate()"
   ]
  },
  {
   "cell_type": "code",
   "execution_count": 8,
   "id": "2d512bf7-50c8-4fc5-94ba-2024499438b0",
   "metadata": {},
   "outputs": [
    {
     "name": "stdout",
     "output_type": "stream",
     "text": [
      "fact_movies: 45347 rows\n",
      "dim_movie: 45347 rows\n",
      "dim_cast: 205688 rows\n",
      "dim_crew: 159659 rows\n",
      "dim_genre: 32 rows\n",
      "dim_date: 146098 rows\n",
      "dim_keyword: 19956 rows\n",
      "movie_cast: 560238 rows\n",
      "movie_crew: 418831 rows\n",
      "movie_genre: 90969 rows\n",
      "movie_keyword: 156602 rows\n"
     ]
    }
   ],
   "source": [
    "gold_base_path = \"s3a://lakehouse/gold/\"\n",
    "\n",
    "tables = [\n",
    "    \"fact_movies\",\n",
    "    \"dim_movie\",\n",
    "    \"dim_cast\",\n",
    "    \"dim_crew\",\n",
    "    \"dim_genre\",\n",
    "    \"dim_date\",\n",
    "    \"dim_keyword\",\n",
    "    \"movie_cast\",\n",
    "    \"movie_crew\",\n",
    "    \"movie_genre\",\n",
    "    \"movie_keyword\"\n",
    "]\n",
    "\n",
    "for table in tables:\n",
    "    df = spark.read.format(\"delta\").load(f\"{gold_base_path}{table}\")\n",
    "    count = df.count()\n",
    "    print(f\"{table}: {count} rows\")"
   ]
  },
  {
   "cell_type": "code",
   "execution_count": 9,
   "id": "82643de6-fbed-4798-b261-2d96699f5363",
   "metadata": {},
   "outputs": [
    {
     "name": "stdout",
     "output_type": "stream",
     "text": [
      "fact_movies: 45384 rows\n",
      "dim_movie: 45384 rows\n",
      "dim_cast: 206274 rows\n",
      "dim_crew: 160512 rows\n"
     ]
    },
    {
     "name": "stderr",
     "output_type": "stream",
     "text": [
      "                                                                                "
     ]
    },
    {
     "name": "stdout",
     "output_type": "stream",
     "text": [
      "dim_genre: 32 rows\n",
      "dim_date: 146098 rows\n",
      "dim_keyword: 20010 rows\n",
      "movie_cast: 561118 rows\n",
      "movie_crew: 420358 rows\n",
      "movie_genre: 91062 rows\n",
      "movie_keyword: 156779 rows\n"
     ]
    }
   ],
   "source": [
    "gold_base_path = \"s3a://lakehouse/gold/\"\n",
    "\n",
    "tables = [\n",
    "    \"fact_movies\",\n",
    "    \"dim_movie\",\n",
    "    \"dim_cast\",\n",
    "    \"dim_crew\",\n",
    "    \"dim_genre\",\n",
    "    \"dim_date\",\n",
    "    \"dim_keyword\",\n",
    "    \"movie_cast\",\n",
    "    \"movie_crew\",\n",
    "    \"movie_genre\",\n",
    "    \"movie_keyword\"\n",
    "]\n",
    "\n",
    "for table in tables:\n",
    "    df = spark.read.format(\"delta\").load(f\"{gold_base_path}{table}\")\n",
    "    count = df.count()\n",
    "    print(f\"{table}: {count} rows\")"
   ]
  },
  {
   "cell_type": "code",
   "execution_count": 6,
   "id": "6835bff7-8ce4-44ee-aefa-37cf5a0d9a24",
   "metadata": {},
   "outputs": [
    {
     "name": "stdout",
     "output_type": "stream",
     "text": [
      "Bronze_Movies_API: 40 rows\n",
      "Bronze_Crews_API: 40 rows\n"
     ]
    },
    {
     "name": "stderr",
     "output_type": "stream",
     "text": [
      "                                                                                "
     ]
    },
    {
     "name": "stdout",
     "output_type": "stream",
     "text": [
      "Bronze_Keywords_API: 40 rows\n"
     ]
    }
   ],
   "source": [
    "Bronze_base_path = \"s3a://lakehouse/bronze/\"\n",
    "\n",
    "tables = [\n",
    "    \"Bronze_Movies_API\",\n",
    "    \"Bronze_Crews_API\",\n",
    "    \"Bronze_Keywords_API\"\n",
    "]\n",
    "\n",
    "for table in tables:\n",
    "    df = spark.read.format(\"delta\").load(f\"{Bronze_base_path}{table}\")\n",
    "    count = df.count()\n",
    "    print(f\"{table}: {count} rows\")"
   ]
  },
  {
   "cell_type": "code",
   "execution_count": 3,
   "id": "8dfc453c-83e0-45db-946c-ddba21f0469a",
   "metadata": {},
   "outputs": [
    {
     "name": "stdout",
     "output_type": "stream",
     "text": [
      "25/05/25 11:42:15 WARN MetricsConfig: Cannot locate configuration: tried hadoop-metrics2-s3a-file-system.properties,hadoop-metrics2.properties\n",
      "25/05/25 11:42:21 WARN package: Truncated the string representation of a plan since it was too large. This behavior can be adjusted by setting 'spark.sql.debug.maxToStringFields'.\n"
     ]
    },
    {
     "name": "stderr",
     "output_type": "stream",
     "text": [
      "                                                                                "
     ]
    },
    {
     "name": "stdout",
     "output_type": "stream",
     "text": [
      "fact_movies: 46490 rows\n",
      "dim_movie: 46490 rows\n"
     ]
    },
    {
     "name": "stderr",
     "output_type": "stream",
     "text": [
      "                                                                                "
     ]
    },
    {
     "name": "stdout",
     "output_type": "stream",
     "text": [
      "dim_cast: 221257 rows\n",
      "dim_crew: 194325 rows\n",
      "dim_genre: 32 rows\n",
      "dim_date: 146098 rows\n",
      "dim_keyword: 21359 rows\n",
      "movie_cast: 588545 rows\n"
     ]
    },
    {
     "name": "stderr",
     "output_type": "stream",
     "text": [
      "                                                                                "
     ]
    },
    {
     "name": "stdout",
     "output_type": "stream",
     "text": [
      "movie_crew: 551702 rows\n",
      "movie_genre: 93085 rows\n",
      "movie_keyword: 164894 rows\n"
     ]
    }
   ],
   "source": [
    "gold_base_path = \"s3a://lakehouse/gold/\"\n",
    "\n",
    "tables = [\n",
    "    \"fact_movies\",\n",
    "    \"dim_movie\",\n",
    "    \"dim_cast\",\n",
    "    \"dim_crew\",\n",
    "    \"dim_genre\",\n",
    "    \"dim_date\",\n",
    "    \"dim_keyword\",\n",
    "    \"movie_cast\",\n",
    "    \"movie_crew\",\n",
    "    \"movie_genre\",\n",
    "    \"movie_keyword\"\n",
    "]\n",
    "\n",
    "for table in tables:\n",
    "    df = spark.read.format(\"delta\").load(f\"{gold_base_path}{table}\")\n",
    "    count = df.count()\n",
    "    print(f\"{table}: {count} rows\")"
   ]
  },
  {
   "cell_type": "code",
   "execution_count": null,
   "id": "b1ade65b-615d-46a1-80e4-e3728eca981d",
   "metadata": {},
   "outputs": [],
   "source": []
  },
  {
   "cell_type": "code",
   "execution_count": 10,
   "id": "389834c7-2976-49d7-9a7f-006e09804b37",
   "metadata": {},
   "outputs": [
    {
     "name": "stderr",
     "output_type": "stream",
     "text": [
      "                                                                                "
     ]
    },
    {
     "name": "stdout",
     "output_type": "stream",
     "text": [
      "fact_movies: 45384 distinct movie IDs\n",
      "dim_movie: 45384 rows\n",
      "dim_cast: 206274 rows\n",
      "dim_crew: 160512 rows\n",
      "dim_genre: 32 rows\n",
      "dim_date: 146098 rows\n",
      "dim_keyword: 20010 rows\n",
      "movie_cast: 561118 rows\n",
      "movie_crew: 420358 rows\n",
      "movie_genre: 91062 rows\n",
      "movie_keyword: 156779 rows\n"
     ]
    }
   ],
   "source": [
    "gold_base_path = \"s3a://lakehouse/gold/\"\n",
    "\n",
    "tables = [\n",
    "    \"fact_movies\",\n",
    "    \"dim_movie\",\n",
    "    \"dim_cast\",\n",
    "    \"dim_crew\",\n",
    "    \"dim_genre\",\n",
    "    \"dim_date\",\n",
    "    \"dim_keyword\",\n",
    "    \"movie_cast\",\n",
    "    \"movie_crew\",\n",
    "    \"movie_genre\",\n",
    "    \"movie_keyword\"\n",
    "]\n",
    "\n",
    "for table in tables:\n",
    "    df = spark.read.format(\"delta\").load(f\"{gold_base_path}{table}\")\n",
    "    \n",
    "    if table == \"fact_movies\":\n",
    "        count = df.select(\"id\").distinct().count()\n",
    "        print(f\"{table}: {count} distinct movie IDs\")\n",
    "    else:\n",
    "        count = df.count()\n",
    "        print(f\"{table}: {count} rows\")\n"
   ]
  },
  {
   "cell_type": "code",
   "execution_count": 4,
   "id": "4bd5f8ef-9ed1-4693-ac8f-f78377f990b7",
   "metadata": {},
   "outputs": [
    {
     "name": "stderr",
     "output_type": "stream",
     "text": [
      "                                                                                "
     ]
    },
    {
     "name": "stdout",
     "output_type": "stream",
     "text": [
      "fact_movies: 46289 rows\n"
     ]
    },
    {
     "name": "stderr",
     "output_type": "stream",
     "text": [
      "                                                                                "
     ]
    },
    {
     "name": "stdout",
     "output_type": "stream",
     "text": [
      "dim_movie: 46289 rows\n",
      "dim_cast: 214598 rows\n"
     ]
    },
    {
     "name": "stderr",
     "output_type": "stream",
     "text": [
      "                                                                                "
     ]
    },
    {
     "name": "stdout",
     "output_type": "stream",
     "text": [
      "dim_crew: 181226 rows\n",
      "dim_genre: 32 rows\n",
      "dim_date: 45640 rows\n",
      "dim_keyword: 20814 rows\n",
      "movie_cast: 574835 rows\n",
      "movie_crew: 500748 rows\n"
     ]
    },
    {
     "name": "stderr",
     "output_type": "stream",
     "text": [
      "                                                                                "
     ]
    },
    {
     "name": "stdout",
     "output_type": "stream",
     "text": [
      "movie_genre: 92477 rows\n",
      "movie_keyword: 160507 rows\n",
      "25/05/24 19:11:56 WARN HeartbeatReceiver: Removing executor driver with no recent heartbeats: 769948 ms exceeds timeout 120000 ms\n"
     ]
    }
   ],
   "source": [
    "gold_base_path = \"s3a://lakehouse/gold/\"\n",
    "\n",
    "tables = [\n",
    "    \"fact_movies\",\n",
    "    \"dim_movie\",\n",
    "    \"dim_cast\",\n",
    "    \"dim_crew\",\n",
    "    \"dim_genre\",\n",
    "    \"dim_date\",\n",
    "    \"dim_keyword\",\n",
    "    \"movie_cast\",\n",
    "    \"movie_crew\",\n",
    "    \"movie_genre\",\n",
    "    \"movie_keyword\"\n",
    "]\n",
    "\n",
    "for table in tables:\n",
    "    df = spark.read.format(\"delta\").load(f\"{gold_base_path}{table}\")\n",
    "    count = df.count()\n",
    "    print(f\"{table}: {count} rows\")"
   ]
  },
  {
   "cell_type": "code",
   "execution_count": null,
   "id": "15fe4442-a041-47e8-8eca-c80dcfe398a2",
   "metadata": {},
   "outputs": [],
   "source": []
  },
  {
   "cell_type": "code",
   "execution_count": null,
   "id": "62234974-de0e-4f77-a2d5-a2d4b5f1a3e0",
   "metadata": {},
   "outputs": [],
   "source": []
  },
  {
   "cell_type": "code",
   "execution_count": null,
   "id": "3dcda051-0dce-4241-a21d-1d279084a918",
   "metadata": {},
   "outputs": [],
   "source": []
  },
  {
   "cell_type": "code",
   "execution_count": 40,
   "id": "eb7f8303-f354-447a-ad17-1727efc55364",
   "metadata": {},
   "outputs": [
    {
     "name": "stderr",
     "output_type": "stream",
     "text": [
      "                                                                                "
     ]
    }
   ],
   "source": [
    "df = spark.read.format(\"delta\").load(\"s3a://lakehouse/bronze/Bronze_Movies_API\")\n",
    "\n"
   ]
  },
  {
   "cell_type": "code",
   "execution_count": 41,
   "id": "17a9c126-31df-4e81-8e9e-96dd6c941f49",
   "metadata": {},
   "outputs": [
    {
     "data": {
      "text/plain": [
       "5293"
      ]
     },
     "execution_count": 41,
     "metadata": {},
     "output_type": "execute_result"
    }
   ],
   "source": [
    "df.count()"
   ]
  },
  {
   "cell_type": "code",
   "execution_count": 4,
   "id": "f10a56ec-6417-4b3c-ba65-f052b013effa",
   "metadata": {},
   "outputs": [
    {
     "data": {
      "text/plain": [
       "[Row(read_time=datetime.datetime(2025, 5, 25, 10, 5, 20, 666000)),\n",
       " Row(read_time=datetime.datetime(2025, 5, 24, 15, 38, 32, 73000)),\n",
       " Row(read_time=datetime.datetime(2025, 5, 24, 15, 38, 32, 73000)),\n",
       " Row(read_time=datetime.datetime(2025, 5, 24, 15, 38, 20, 422000)),\n",
       " Row(read_time=datetime.datetime(2025, 5, 24, 15, 38, 20, 422000)),\n",
       " Row(read_time=datetime.datetime(2025, 5, 24, 15, 38, 43, 197000)),\n",
       " Row(read_time=datetime.datetime(2025, 5, 24, 15, 38, 43, 197000)),\n",
       " Row(read_time=datetime.datetime(2025, 5, 24, 15, 38, 43, 197000)),\n",
       " Row(read_time=datetime.datetime(2025, 5, 24, 15, 38, 43, 197000)),\n",
       " Row(read_time=datetime.datetime(2025, 5, 24, 15, 38, 43, 197000)),\n",
       " Row(read_time=datetime.datetime(2025, 5, 24, 14, 22, 51, 939000)),\n",
       " Row(read_time=datetime.datetime(2025, 5, 24, 14, 22, 51, 939000)),\n",
       " Row(read_time=datetime.datetime(2025, 5, 25, 10, 7, 26, 209000)),\n",
       " Row(read_time=datetime.datetime(2025, 5, 25, 10, 7, 26, 209000)),\n",
       " Row(read_time=datetime.datetime(2025, 5, 25, 10, 7, 26, 209000)),\n",
       " Row(read_time=datetime.datetime(2025, 5, 25, 10, 7, 26, 209000)),\n",
       " Row(read_time=datetime.datetime(2025, 5, 25, 10, 7, 26, 209000)),\n",
       " Row(read_time=datetime.datetime(2025, 5, 24, 15, 40, 6, 510000)),\n",
       " Row(read_time=datetime.datetime(2025, 5, 24, 15, 40, 6, 510000)),\n",
       " Row(read_time=datetime.datetime(2025, 5, 24, 15, 40, 6, 510000)),\n",
       " Row(read_time=datetime.datetime(2025, 5, 24, 15, 41, 45, 380000)),\n",
       " Row(read_time=datetime.datetime(2025, 5, 24, 14, 24, 16, 702000)),\n",
       " Row(read_time=datetime.datetime(2025, 5, 24, 14, 24, 16, 702000)),\n",
       " Row(read_time=datetime.datetime(2025, 5, 24, 15, 42, 55, 597000)),\n",
       " Row(read_time=datetime.datetime(2025, 5, 24, 14, 26, 41, 51000)),\n",
       " Row(read_time=datetime.datetime(2025, 5, 25, 10, 5, 5, 427000)),\n",
       " Row(read_time=datetime.datetime(2025, 5, 25, 10, 5, 5, 427000)),\n",
       " Row(read_time=datetime.datetime(2025, 5, 25, 10, 5, 5, 427000)),\n",
       " Row(read_time=datetime.datetime(2025, 5, 25, 10, 5, 5, 427000)),\n",
       " Row(read_time=datetime.datetime(2025, 5, 24, 15, 40, 25, 702000)),\n",
       " Row(read_time=datetime.datetime(2025, 5, 24, 15, 40, 25, 702000)),\n",
       " Row(read_time=datetime.datetime(2025, 5, 24, 15, 42, 51, 897000)),\n",
       " Row(read_time=datetime.datetime(2025, 5, 24, 15, 42, 51, 897000)),\n",
       " Row(read_time=datetime.datetime(2025, 5, 24, 15, 42, 51, 897000)),\n",
       " Row(read_time=datetime.datetime(2025, 5, 25, 10, 7, 23, 740000)),\n",
       " Row(read_time=datetime.datetime(2025, 5, 25, 10, 7, 23, 740000)),\n",
       " Row(read_time=datetime.datetime(2025, 5, 25, 10, 7, 23, 740000)),\n",
       " Row(read_time=datetime.datetime(2025, 5, 24, 14, 27, 8, 786000)),\n",
       " Row(read_time=datetime.datetime(2025, 5, 24, 14, 27, 8, 786000)),\n",
       " Row(read_time=datetime.datetime(2025, 5, 24, 14, 27, 8, 786000))]"
      ]
     },
     "execution_count": 4,
     "metadata": {},
     "output_type": "execute_result"
    }
   ],
   "source": [
    "from pyspark.sql.functions import col\n",
    "\n",
    "df = spark.read.format(\"delta\").load(\"s3a://lakehouse/bronze/Bronze_Movies_API\")\n",
    "df.select(col(\"read_time\")).tail(40)"
   ]
  },
  {
   "cell_type": "code",
   "execution_count": 4,
   "id": "2bdab878-10ef-4a9e-90a5-d7024a136184",
   "metadata": {},
   "outputs": [
    {
     "name": "stderr",
     "output_type": "stream",
     "text": [
      "                                                                                "
     ]
    }
   ],
   "source": [
    "df_Crews = spark.read.format(\"delta\").load(\"s3a://lakehouse/gold/dim_cast\")\n"
   ]
  },
  {
   "cell_type": "code",
   "execution_count": 5,
   "id": "a1e98478-f01e-478b-985b-d830bdccd14b",
   "metadata": {},
   "outputs": [
    {
     "data": {
      "text/plain": [
       "205735"
      ]
     },
     "execution_count": 5,
     "metadata": {},
     "output_type": "execute_result"
    }
   ],
   "source": [
    "df_Crews.count()"
   ]
  },
  {
   "cell_type": "code",
   "execution_count": 84,
   "id": "116491c2-f8f5-45e8-9f2d-8af5e7b7967f",
   "metadata": {},
   "outputs": [],
   "source": [
    "dim_cast_df = df_Crews.select(\n",
    "    explode(col(\"cast\")).alias(\"cast\")\n",
    "    ).select(\n",
    "        col(\"cast.id\").alias(\"id\"),\n",
    "        col(\"cast.name\").alias(\"name\"),\n",
    "        col(\"cast.profile_path\").alias(\"profile_path\"),\n",
    "        col(\"cast.gender\").alias(\"gender\")\n",
    ")"
   ]
  },
  {
   "cell_type": "code",
   "execution_count": 87,
   "id": "acd497ef-4459-4648-8db6-91865002052f",
   "metadata": {},
   "outputs": [
    {
     "name": "stdout",
     "output_type": "stream",
     "text": [
      "+---+-----+\n",
      "| id|count|\n",
      "+---+-----+\n",
      "+---+-----+\n",
      "\n"
     ]
    }
   ],
   "source": [
    "dim_cast_df.groupBy(\"id\").count().filter(\"count > 1\").show()\n",
    "dim_cast_df = dim_cast_df.dropDuplicates([\"id\"])"
   ]
  },
  {
   "cell_type": "code",
   "execution_count": null,
   "id": "ee97eb6d-9b8c-4039-9a2f-a2969544a2d6",
   "metadata": {},
   "outputs": [],
   "source": [
    "dim_cast_df.groupBy(\"id\").count().filter(\"count > 1\").show()"
   ]
  },
  {
   "cell_type": "code",
   "execution_count": 88,
   "id": "7d77f3f1-5ae6-460d-86f6-905961b17a20",
   "metadata": {},
   "outputs": [
    {
     "name": "stdout",
     "output_type": "stream",
     "text": [
      "25/05/22 20:51:13 WARN HintErrorLogger: Hint (strategy=broadcast) is not supported in the query: build left for full outer join.\n",
      "25/05/22 20:51:13 WARN HintErrorLogger: Hint (strategy=broadcast) is not supported in the query: build left for full outer join.\n",
      "25/05/22 20:51:13 WARN HintErrorLogger: Hint (strategy=broadcast) is not supported in the query: build left for full outer join.\n",
      "25/05/22 20:51:13 WARN MemoryManager: Total allocation exceeds 95.00% (1,020,054,720 bytes) of heap memory\n",
      "Scaling row group sizes to 95.00% for 8 writers\n"
     ]
    },
    {
     "name": "stderr",
     "output_type": "stream",
     "text": [
      "                                                                                "
     ]
    }
   ],
   "source": [
    "dim_cast = DeltaTable.forPath(spark, \"s3a://lakehouse/gold/dim_cast\")\n",
    "dim_cast.alias(\"target\").merge(\n",
    "    dim_cast_df.alias(\"source\"),\n",
    "    \"target.id = source.id\"\n",
    ").whenMatchedUpdateAll().whenNotMatchedInsertAll().execute()"
   ]
  },
  {
   "cell_type": "code",
   "execution_count": 69,
   "id": "973b8c09-6aa2-4cc0-bf8d-397e3b2a21d8",
   "metadata": {},
   "outputs": [
    {
     "ename": "AnalysisException",
     "evalue": "Cannot write to already existent path s3a://lakehouse/gold/dim_cast without setting OVERWRITE = 'true'.",
     "output_type": "error",
     "traceback": [
      "\u001b[0;31m---------------------------------------------------------------------------\u001b[0m",
      "\u001b[0;31mAnalysisException\u001b[0m                         Traceback (most recent call last)",
      "Cell \u001b[0;32mIn[69], line 17\u001b[0m\n\u001b[1;32m     12\u001b[0m     dim_cast\u001b[38;5;241m.\u001b[39malias(\u001b[38;5;124m\"\u001b[39m\u001b[38;5;124mtarget\u001b[39m\u001b[38;5;124m\"\u001b[39m)\u001b[38;5;241m.\u001b[39mmerge(\n\u001b[1;32m     13\u001b[0m         dim_cast_df\u001b[38;5;241m.\u001b[39malias(\u001b[38;5;124m\"\u001b[39m\u001b[38;5;124msource\u001b[39m\u001b[38;5;124m\"\u001b[39m),\n\u001b[1;32m     14\u001b[0m         \u001b[38;5;124m\"\u001b[39m\u001b[38;5;124mtarget.id = source.id\u001b[39m\u001b[38;5;124m\"\u001b[39m\n\u001b[1;32m     15\u001b[0m     )\u001b[38;5;241m.\u001b[39mwhenMatchedUpdateAll()\u001b[38;5;241m.\u001b[39mwhenNotMatchedInsertAll()\u001b[38;5;241m.\u001b[39mexecute()\n\u001b[1;32m     16\u001b[0m \u001b[38;5;28;01mexcept\u001b[39;00m:\n\u001b[0;32m---> 17\u001b[0m     \u001b[43mdim_cast_df\u001b[49m\u001b[38;5;241;43m.\u001b[39;49m\u001b[43mwrite\u001b[49m\u001b[38;5;241;43m.\u001b[39;49m\u001b[43mformat\u001b[49m\u001b[43m(\u001b[49m\u001b[38;5;124;43m\"\u001b[39;49m\u001b[38;5;124;43mdelta\u001b[39;49m\u001b[38;5;124;43m\"\u001b[39;49m\u001b[43m)\u001b[49m\u001b[38;5;241;43m.\u001b[39;49m\u001b[43msave\u001b[49m\u001b[43m(\u001b[49m\u001b[38;5;124;43m\"\u001b[39;49m\u001b[38;5;124;43ms3a://lakehouse/gold/dim_cast\u001b[39;49m\u001b[38;5;124;43m\"\u001b[39;49m\u001b[43m)\u001b[49m\n",
      "File \u001b[0;32m/usr/local/lib/python3.9/site-packages/pyspark/sql/readwriter.py:968\u001b[0m, in \u001b[0;36mDataFrameWriter.save\u001b[0;34m(self, path, format, mode, partitionBy, **options)\u001b[0m\n\u001b[1;32m    966\u001b[0m     \u001b[38;5;28mself\u001b[39m\u001b[38;5;241m.\u001b[39m_jwrite\u001b[38;5;241m.\u001b[39msave()\n\u001b[1;32m    967\u001b[0m \u001b[38;5;28;01melse\u001b[39;00m:\n\u001b[0;32m--> 968\u001b[0m     \u001b[38;5;28;43mself\u001b[39;49m\u001b[38;5;241;43m.\u001b[39;49m\u001b[43m_jwrite\u001b[49m\u001b[38;5;241;43m.\u001b[39;49m\u001b[43msave\u001b[49m\u001b[43m(\u001b[49m\u001b[43mpath\u001b[49m\u001b[43m)\u001b[49m\n",
      "File \u001b[0;32m/usr/local/lib/python3.9/site-packages/py4j/java_gateway.py:1321\u001b[0m, in \u001b[0;36mJavaMember.__call__\u001b[0;34m(self, *args)\u001b[0m\n\u001b[1;32m   1315\u001b[0m command \u001b[38;5;241m=\u001b[39m proto\u001b[38;5;241m.\u001b[39mCALL_COMMAND_NAME \u001b[38;5;241m+\u001b[39m\\\n\u001b[1;32m   1316\u001b[0m     \u001b[38;5;28mself\u001b[39m\u001b[38;5;241m.\u001b[39mcommand_header \u001b[38;5;241m+\u001b[39m\\\n\u001b[1;32m   1317\u001b[0m     args_command \u001b[38;5;241m+\u001b[39m\\\n\u001b[1;32m   1318\u001b[0m     proto\u001b[38;5;241m.\u001b[39mEND_COMMAND_PART\n\u001b[1;32m   1320\u001b[0m answer \u001b[38;5;241m=\u001b[39m \u001b[38;5;28mself\u001b[39m\u001b[38;5;241m.\u001b[39mgateway_client\u001b[38;5;241m.\u001b[39msend_command(command)\n\u001b[0;32m-> 1321\u001b[0m return_value \u001b[38;5;241m=\u001b[39m \u001b[43mget_return_value\u001b[49m\u001b[43m(\u001b[49m\n\u001b[1;32m   1322\u001b[0m \u001b[43m    \u001b[49m\u001b[43manswer\u001b[49m\u001b[43m,\u001b[49m\u001b[43m \u001b[49m\u001b[38;5;28;43mself\u001b[39;49m\u001b[38;5;241;43m.\u001b[39;49m\u001b[43mgateway_client\u001b[49m\u001b[43m,\u001b[49m\u001b[43m \u001b[49m\u001b[38;5;28;43mself\u001b[39;49m\u001b[38;5;241;43m.\u001b[39;49m\u001b[43mtarget_id\u001b[49m\u001b[43m,\u001b[49m\u001b[43m \u001b[49m\u001b[38;5;28;43mself\u001b[39;49m\u001b[38;5;241;43m.\u001b[39;49m\u001b[43mname\u001b[49m\u001b[43m)\u001b[49m\n\u001b[1;32m   1324\u001b[0m \u001b[38;5;28;01mfor\u001b[39;00m temp_arg \u001b[38;5;129;01min\u001b[39;00m temp_args:\n\u001b[1;32m   1325\u001b[0m     temp_arg\u001b[38;5;241m.\u001b[39m_detach()\n",
      "File \u001b[0;32m/usr/local/lib/python3.9/site-packages/pyspark/sql/utils.py:196\u001b[0m, in \u001b[0;36mcapture_sql_exception.<locals>.deco\u001b[0;34m(*a, **kw)\u001b[0m\n\u001b[1;32m    192\u001b[0m converted \u001b[38;5;241m=\u001b[39m convert_exception(e\u001b[38;5;241m.\u001b[39mjava_exception)\n\u001b[1;32m    193\u001b[0m \u001b[38;5;28;01mif\u001b[39;00m \u001b[38;5;129;01mnot\u001b[39;00m \u001b[38;5;28misinstance\u001b[39m(converted, UnknownException):\n\u001b[1;32m    194\u001b[0m     \u001b[38;5;66;03m# Hide where the exception came from that shows a non-Pythonic\u001b[39;00m\n\u001b[1;32m    195\u001b[0m     \u001b[38;5;66;03m# JVM exception message.\u001b[39;00m\n\u001b[0;32m--> 196\u001b[0m     \u001b[38;5;28;01mraise\u001b[39;00m converted \u001b[38;5;28;01mfrom\u001b[39;00m\u001b[38;5;250m \u001b[39m\u001b[38;5;28;01mNone\u001b[39;00m\n\u001b[1;32m    197\u001b[0m \u001b[38;5;28;01melse\u001b[39;00m:\n\u001b[1;32m    198\u001b[0m     \u001b[38;5;28;01mraise\u001b[39;00m\n",
      "\u001b[0;31mAnalysisException\u001b[0m: Cannot write to already existent path s3a://lakehouse/gold/dim_cast without setting OVERWRITE = 'true'."
     ]
    }
   ],
   "source": [
    "dim_cast_df = df_Crews.select(\n",
    "    explode(col(\"cast\")).alias(\"cast\")\n",
    "    ).select(\n",
    "        col(\"cast.id\").alias(\"id\"),\n",
    "        col(\"cast.name\").alias(\"name\"),\n",
    "        col(\"cast.profile_path\").alias(\"profile_path\"),\n",
    "        col(\"cast.gender\").alias(\"gender\")\n",
    ")\n",
    "\n",
    "try:\n",
    "    dim_cast = DeltaTable.forPath(spark, \"s3a://lakehouse/gold/dim_cast\")\n",
    "    dim_cast.alias(\"target\").merge(\n",
    "        dim_cast_df.alias(\"source\"),\n",
    "        \"target.id = source.id\"\n",
    "    ).whenMatchedUpdateAll().whenNotMatchedInsertAll().execute()\n",
    "except:\n",
    "    dim_cast_df.write.format(\"delta\").save(\"s3a://lakehouse/gold/dim_cast\")"
   ]
  },
  {
   "cell_type": "code",
   "execution_count": 75,
   "id": "dc0ce62c-5e2a-4988-872b-e5b6ddd81340",
   "metadata": {},
   "outputs": [
    {
     "data": {
      "text/plain": [
       "46972"
      ]
     },
     "execution_count": 75,
     "metadata": {},
     "output_type": "execute_result"
    }
   ],
   "source": [
    "dim_cast_df = df_Crews.select(\n",
    "    explode(col(\"cast\")).alias(\"cast\")\n",
    "    ).select(\n",
    "        col(\"cast.id\").alias(\"id\"),\n",
    "        col(\"cast.name\").alias(\"name\"),\n",
    "        col(\"cast.profile_path\").alias(\"profile_path\"),\n",
    "        col(\"cast.gender\").alias(\"gender\")\n",
    ")\n",
    "dim_cast_df.count()"
   ]
  },
  {
   "cell_type": "code",
   "execution_count": 76,
   "id": "6bf56f91-57fe-4042-9dc9-cfe2cc881ce1",
   "metadata": {},
   "outputs": [
    {
     "name": "stdout",
     "output_type": "stream",
     "text": [
      "root\n",
      " |-- id: integer (nullable = true)\n",
      " |-- name: string (nullable = true)\n",
      " |-- profile_path: string (nullable = true)\n",
      " |-- gender: integer (nullable = true)\n",
      "\n"
     ]
    }
   ],
   "source": [
    "dim_cast_df.printSchema()"
   ]
  },
  {
   "cell_type": "code",
   "execution_count": 79,
   "id": "059f98f8-2381-4e8b-b905-1e484c49ea13",
   "metadata": {},
   "outputs": [],
   "source": [
    "df_Movies = spark.read.format(\"delta\").load(\"s3a://lakehouse/gold/dim_cast\")"
   ]
  },
  {
   "cell_type": "code",
   "execution_count": 80,
   "id": "66ccd678-d932-4720-9d13-6bfeebeb38c8",
   "metadata": {},
   "outputs": [
    {
     "data": {
      "text/plain": [
       "229376"
      ]
     },
     "execution_count": 80,
     "metadata": {},
     "output_type": "execute_result"
    }
   ],
   "source": [
    "df_Movies.count()"
   ]
  },
  {
   "cell_type": "code",
   "execution_count": 74,
   "id": "6c9e2528-ffb1-405f-bcd9-7891fea32722",
   "metadata": {},
   "outputs": [
    {
     "name": "stdout",
     "output_type": "stream",
     "text": [
      "root\n",
      " |-- name: string (nullable = true)\n",
      " |-- gender: integer (nullable = true)\n",
      " |-- profile_path: string (nullable = true)\n",
      " |-- id: integer (nullable = true)\n",
      "\n"
     ]
    }
   ],
   "source": [
    "df_Movies.printSchema()"
   ]
  },
  {
   "cell_type": "code",
   "execution_count": 6,
   "id": "2aad4d90-7fab-464a-89ad-935fcc41ad15",
   "metadata": {},
   "outputs": [],
   "source": [
    "import os\n",
    "import sys\n",
    "import traceback\n",
    "import logging\n",
    "from pyspark.sql import SparkSession\n",
    "from pyspark.sql.functions import  explode,col, expr,when,to_date, sum, from_json,size,length, lit, to_timestamp,current_timestamp, max\n",
    "from pyspark.sql.types import  ArrayType,StructType, StructField, BooleanType, StringType, IntegerType, DateType, FloatType,DoubleType, LongType\n",
    "from pyspark.sql.functions import (\n",
    "    col, from_json, explode, to_date, date_format,\n",
    "    dayofweek, dayofmonth, dayofyear, weekofyear,\n",
    "    month, quarter, year, when, unix_timestamp\n",
    ")\n",
    "from delta.tables import DeltaTable\n",
    "from pyspark.sql import functions as F\n",
    "\n",
    "from datetime import datetime, timedelta"
   ]
  },
  {
   "cell_type": "code",
   "execution_count": null,
   "id": "3adc2f97-495e-4900-acbc-303a5e147b57",
   "metadata": {},
   "outputs": [],
   "source": [
    "df_Movies = spark.read.format(\"delta\").load(\"s3a://lakehouse/bronze/Bronze_Movies_API\")\n",
    "df_Movies = df_Movies.filter(f\"read_time > '{last_read_time_movie}'\")\n",
    "df_Crews = spark.read.format(\"delta\").load(\"s3a://lakehouse/bronze/Bronze_Crews_API\")\n",
    "df_Crews = df_Crews.filter(f\"read_time > '{last_read_time_crew}'\")\n",
    "df_Keywords = spark.read.format(\"delta\").load(\"s3a://lakehouse/bronze/Bronze_Keywords_API\")\n",
    "df_Keywords = df_Keywords.filter(f\"read_time > '{last_read_time_keyword}'\")"
   ]
  },
  {
   "cell_type": "code",
   "execution_count": 47,
   "id": "801e94fd-548e-415a-ad35-083f33517f21",
   "metadata": {},
   "outputs": [
    {
     "name": "stdout",
     "output_type": "stream",
     "text": [
      "25/05/22 20:35:13 WARN DeltaLog: Change in the table id detected while updating snapshot. \n",
      "Previous snapshot = Snapshot(path=s3a://lakehouse/silver/Silver_Movies_API/_delta_log, version=1, metadata=Metadata(51dda7bb-d218-4077-b63b-1a70ad987856,null,null,Format(parquet,Map()),{\"type\":\"struct\",\"fields\":[{\"name\":\"id\",\"type\":\"integer\",\"nullable\":true,\"metadata\":{}},{\"name\":\"budget\",\"type\":\"integer\",\"nullable\":true,\"metadata\":{}},{\"name\":\"popularity\",\"type\":\"double\",\"nullable\":true,\"metadata\":{}},{\"name\":\"revenue\",\"type\":\"double\",\"nullable\":true,\"metadata\":{}},{\"name\":\"vote_average\",\"type\":\"double\",\"nullable\":true,\"metadata\":{}},{\"name\":\"vote_count\",\"type\":\"double\",\"nullable\":true,\"metadata\":{}},{\"name\":\"date_id\",\"type\":\"integer\",\"nullable\":true,\"metadata\":{}},{\"name\":\"title\",\"type\":\"string\",\"nullable\":true,\"metadata\":{}},{\"name\":\"original_title\",\"type\":\"string\",\"nullable\":true,\"metadata\":{}},{\"name\":\"language\",\"type\":\"string\",\"nullable\":true,\"metadata\":{}},{\"name\":\"overview\",\"type\":\"string\",\"nullable\":true,\"metadata\":{}},{\"name\":\"runtime\",\"type\":\"double\",\"nullable\":true,\"metadata\":{}},{\"name\":\"tagline\",\"type\":\"string\",\"nullable\":true,\"metadata\":{}},{\"name\":\"status\",\"type\":\"string\",\"nullable\":true,\"metadata\":{}},{\"name\":\"homepage\",\"type\":\"string\",\"nullable\":true,\"metadata\":{}},{\"name\":\"genres\",\"type\":{\"type\":\"array\",\"elementType\":{\"type\":\"struct\",\"fields\":[{\"name\":\"id\",\"type\":\"integer\",\"nullable\":true,\"metadata\":{}},{\"name\":\"name\",\"type\":\"string\",\"nullable\":true,\"metadata\":{}}]},\"containsNull\":true},\"nullable\":true,\"metadata\":{}},{\"name\":\"release_date\",\"type\":\"string\",\"nullable\":true,\"metadata\":{}},{\"name\":\"read_time\",\"type\":\"timestamp\",\"nullable\":true,\"metadata\":{}}]},List(),Map(),Some(1747944587341)), logSegment=LogSegment(s3a://lakehouse/silver/Silver_Movies_API/_delta_log,1,WrappedArray(S3AFileStatus{path=s3a://lakehouse/silver/Silver_Movies_API/_delta_log/00000000000000000000.json; isDirectory=false; length=6566; replication=1; blocksize=33554432; modification_time=1747944590019; access_time=0; owner=jovyan; group=jovyan; permission=rw-rw-rw-; isSymlink=false; hasAcl=false; isEncrypted=true; isErasureCoded=false} isEmptyDirectory=FALSE eTag=1308d00df5885c00a8f92ae4d1a6b8fc versionId=null, S3AFileStatus{path=s3a://lakehouse/silver/Silver_Movies_API/_delta_log/00000000000000000001.json; isDirectory=false; length=728; replication=1; blocksize=33554432; modification_time=1747944974911; access_time=0; owner=jovyan; group=jovyan; permission=rw-rw-rw-; isSymlink=false; hasAcl=false; isEncrypted=true; isErasureCoded=false} isEmptyDirectory=FALSE eTag=5e5095495ec8c888a76e8a357bdd2e47 versionId=null),List(),None,1747944974911), checksumOpt=None)\n",
      "New snapshot = Snapshot(path=s3a://lakehouse/silver/Silver_Movies_API/_delta_log, version=0, metadata=Metadata(9026d646-64a9-4156-afc8-8135a17adab1,null,null,Format(parquet,Map()),{\"type\":\"struct\",\"fields\":[{\"name\":\"id\",\"type\":\"integer\",\"nullable\":true,\"metadata\":{}},{\"name\":\"budget\",\"type\":\"integer\",\"nullable\":true,\"metadata\":{}},{\"name\":\"popularity\",\"type\":\"double\",\"nullable\":true,\"metadata\":{}},{\"name\":\"revenue\",\"type\":\"double\",\"nullable\":true,\"metadata\":{}},{\"name\":\"vote_average\",\"type\":\"double\",\"nullable\":true,\"metadata\":{}},{\"name\":\"vote_count\",\"type\":\"double\",\"nullable\":true,\"metadata\":{}},{\"name\":\"date_id\",\"type\":\"integer\",\"nullable\":true,\"metadata\":{}},{\"name\":\"title\",\"type\":\"string\",\"nullable\":true,\"metadata\":{}},{\"name\":\"original_title\",\"type\":\"string\",\"nullable\":true,\"metadata\":{}},{\"name\":\"language\",\"type\":\"string\",\"nullable\":true,\"metadata\":{}},{\"name\":\"overview\",\"type\":\"string\",\"nullable\":true,\"metadata\":{}},{\"name\":\"runtime\",\"type\":\"double\",\"nullable\":true,\"metadata\":{}},{\"name\":\"tagline\",\"type\":\"string\",\"nullable\":true,\"metadata\":{}},{\"name\":\"status\",\"type\":\"string\",\"nullable\":true,\"metadata\":{}},{\"name\":\"homepage\",\"type\":\"string\",\"nullable\":true,\"metadata\":{}},{\"name\":\"genres\",\"type\":{\"type\":\"array\",\"elementType\":{\"type\":\"struct\",\"fields\":[{\"name\":\"id\",\"type\":\"integer\",\"nullable\":true,\"metadata\":{}},{\"name\":\"name\",\"type\":\"string\",\"nullable\":true,\"metadata\":{}}]},\"containsNull\":true},\"nullable\":true,\"metadata\":{}},{\"name\":\"release_date\",\"type\":\"string\",\"nullable\":true,\"metadata\":{}},{\"name\":\"read_time\",\"type\":\"timestamp\",\"nullable\":true,\"metadata\":{}}]},List(),Map(),Some(1747945920639)), logSegment=LogSegment(s3a://lakehouse/silver/Silver_Movies_API/_delta_log,0,WrappedArray(S3AFileStatus{path=s3a://lakehouse/silver/Silver_Movies_API/_delta_log/00000000000000000000.json; isDirectory=false; length=6566; replication=1; blocksize=33554432; modification_time=1747945923287; access_time=0; owner=jovyan; group=jovyan; permission=rw-rw-rw-; isSymlink=false; hasAcl=false; isEncrypted=true; isErasureCoded=false} isEmptyDirectory=FALSE eTag=2cc9dd33bb2290e68b323c7df31769b0 versionId=null),List(),None,1747945923287), checksumOpt=None).\n"
     ]
    }
   ],
   "source": [
    "try:\n",
    "    readTime = spark.read.format(\"delta\").load(\"s3a://lakehouse/ReadTime\")\n",
    "except:\n",
    "    spark.sql(\"\"\"\n",
    "CREATE TABLE IF NOT EXISTS delta.`s3a://lakehouse/ReadTime` (\n",
    "    task_id STRING,\n",
    "    last_read_time TIMESTAMP\n",
    ") USING DELTA\n",
    "\"\"\")\n",
    "    spark.sql(\"\"\"\n",
    "    INSERT INTO delta.`s3a://lakehouse/ReadTime`\n",
    "    VALUES \n",
    "      ('BatchApi_Process_Movies', '1970-01-01 00:00:00'),\n",
    "      ('BatchApi_Process_Crews', '1970-01-01 00:00:00'),\n",
    "      ('BatchApi_Process_Keywords', '1970-01-01 00:00:00')\n",
    "\"\"\")\n",
    "    readTime = spark.read.format(\"delta\").load(\"s3a://lakehouse/ReadTime\")\n",
    "\n",
    "# result = readTime.filter(f\"task_id = 'BatchApi_Process'\").select(\"last_read_time\").collect()\n",
    "# last_read_time = result[0][0]\n",
    "result_movie = readTime.filter(f\"task_id = 'BatchApi_Process_Movies'\").select(\"last_read_time\").collect()\n",
    "result_crew = readTime.filter(f\"task_id = 'BatchApi_Process_Crews'\").select(\"last_read_time\").collect()\n",
    "result_keyword = readTime.filter(f\"task_id = 'BatchApi_Process_Keywords'\").select(\"last_read_time\").collect()\n",
    "\n",
    "last_read_time_movie = result_movie[0][0]\n",
    "last_read_time_crew = result_crew[0][0]\n",
    "last_read_time_keyword = result_keyword[0][0]\n",
    "\n",
    "\n",
    "df_Movies = spark.read.format(\"delta\").load(\"s3a://lakehouse/bronze/Bronze_Movies_API\")\n",
    "df_Movies = df_Movies.filter(f\"read_time > '{last_read_time_movie}'\")\n",
    "df_Crews = spark.read.format(\"delta\").load(\"s3a://lakehouse/bronze/Bronze_Crews_API\")\n",
    "df_Crews = df_Crews.filter(f\"read_time > '{last_read_time_crew}'\")\n",
    "df_Keywords = spark.read.format(\"delta\").load(\"s3a://lakehouse/bronze/Bronze_Keywords_API\")\n",
    "df_Keywords = df_Keywords.filter(f\"read_time > '{last_read_time_keyword}'\")\n",
    "\n",
    "schema_movie = StructType([\n",
    "    StructField(\"id\", IntegerType(), True),\n",
    "    StructField(\"title\", StringType(), True),\n",
    "    StructField(\"original_title\", StringType(), True),\n",
    "    StructField(\"original_language\", StringType(), True),\n",
    "    StructField(\"overview\", StringType(), True),\n",
    "    StructField(\"release_date\", StringType(), True),\n",
    "    StructField(\"runtime\", DoubleType(), True),\n",
    "    StructField(\"budget\", IntegerType(), True),\n",
    "    StructField(\"revenue\", DoubleType(), True),\n",
    "    StructField(\"popularity\", DoubleType(), True),\n",
    "    StructField(\"vote_average\", DoubleType(), True),\n",
    "    StructField(\"vote_count\", DoubleType(), True),\n",
    "    StructField(\"tagline\", StringType(), True),\n",
    "    StructField(\"status\", StringType(), True),\n",
    "    StructField(\"homepage\", StringType(), True),\n",
    "    StructField(\"genres\", ArrayType(StructType([\n",
    "        StructField(\"id\", IntegerType(), True),\n",
    "        StructField(\"name\", StringType(), True)\n",
    "    ])), True)\n",
    "])\n",
    "schema_crew = StructType([\n",
    "    StructField(\"id\", IntegerType(), True),\n",
    "    StructField(\"cast\", ArrayType(\n",
    "        StructType([\n",
    "            StructField(\"adult\", BooleanType(), True),\n",
    "            StructField(\"gender\", IntegerType(), True),\n",
    "            StructField(\"id\", IntegerType(), True),\n",
    "            StructField(\"known_for_department\", StringType(), True),\n",
    "            StructField(\"name\", StringType(), True),\n",
    "            StructField(\"original_name\", StringType(), True),\n",
    "            StructField(\"popularity\", DoubleType(), True),\n",
    "            StructField(\"profile_path\", StringType(), True),\n",
    "            StructField(\"cast_id\", IntegerType(), True),\n",
    "            StructField(\"character\", StringType(), True),\n",
    "            StructField(\"credit_id\", StringType(), True),\n",
    "            StructField(\"order\", IntegerType(), True)\n",
    "        ])\n",
    "    ), True),\n",
    "    StructField(\"crew\", ArrayType(\n",
    "        StructType([\n",
    "            StructField(\"adult\", BooleanType(), True),\n",
    "            StructField(\"gender\", IntegerType(), True),\n",
    "            StructField(\"id\", IntegerType(), True),\n",
    "            StructField(\"known_for_department\", StringType(), True),\n",
    "            StructField(\"name\", StringType(), True),\n",
    "            StructField(\"original_name\", StringType(), True),\n",
    "            StructField(\"popularity\", DoubleType(), True),\n",
    "            StructField(\"profile_path\", StringType(), True),\n",
    "            StructField(\"credit_id\", StringType(), True),\n",
    "            StructField(\"department\", StringType(), True),\n",
    "            StructField(\"job\", StringType(), True)\n",
    "        ])\n",
    "    ), True)\n",
    "])\n",
    "schema_keyword = StructType([\n",
    "    StructField(\"id\", IntegerType(), True),\n",
    "    StructField(\"keywords\", ArrayType(\n",
    "        StructType([\n",
    "            StructField(\"id\", IntegerType(), True),\n",
    "            StructField(\"name\", StringType(), True)\n",
    "        ])\n",
    "    ), True)\n",
    "])\n",
    "df_Movies = df_Movies.withColumn(\"data\", from_json(col(\"raw_json\"), schema_movie)) \\\n",
    "                             .select(\"data.*\", \"read_time\")\n",
    "\n",
    "df_Movies = df_Movies.select(\n",
    "    col(\"id\").cast(\"integer\"),\n",
    "    col(\"budget\").cast(\"integer\"),\n",
    "    col(\"popularity\").cast(\"double\").alias(\"popularity\"),\n",
    "    col(\"revenue\").cast(\"double\").alias(\"revenue\"),\n",
    "    col(\"vote_average\").cast(\"double\").alias(\"vote_average\"),\n",
    "    col(\"vote_count\").cast(\"double\").alias(\"vote_count\"),\n",
    "    date_format(col(\"release_date\"), \"yyyyMMdd\").cast(\"integer\").alias(\"date_id\"),\n",
    "    col(\"title\"),                                                # Giữ nguyên kiểu string\n",
    "    col(\"original_title\"),                                       # Giữ nguyên kiểu string\n",
    "    col(\"original_language\").alias(\"language\"),                  # Đổi tên trường: original_language -> language\n",
    "    col(\"overview\"),                                             # Giữ nguyên kiểu string\n",
    "    col(\"runtime\").cast(\"double\").alias(\"runtime\"),              # Ép về double\n",
    "    col(\"tagline\"),                                              # Giữ nguyên kiểu string\n",
    "    col(\"status\"),                                               # Giữ nguyên kiểu string\n",
    "    col(\"homepage\"),\n",
    "    col(\"genres\"),\n",
    "    col(\"release_date\"),\n",
    "    col(\"read_time\")\n",
    ")\n",
    "\n",
    "\n",
    "df_Keywords = df_Keywords.withColumn(\"data\", from_json(col(\"raw_json\"), schema_keyword)) \\\n",
    "                             .select(\"data.*\", \"read_time\")\n",
    "df_Crews = df_Crews.withColumn(\"data\", from_json(col(\"raw_json\"), schema_crew)) \\\n",
    "                             .select(\"data.*\", \"read_time\")\n",
    "\n",
    "# last_read_time = Variable.get(\"last_read_time\", default_var=\"1970-01-01T00:00:00\")\n",
    "# last_read_time_ts = to_timestamp(lit(last_read_time), \"yyyy-MM-dd HH:mm:ss\")\n",
    "\n",
    "\n",
    "# df = df.filter(\n",
    "#                                 (col(\"read_time\") >= last_read_time_ts)\n",
    "#                             )\n",
    "\n",
    "# last_read_time = Variable.get(\"last_read_time\", default_var=\"1970-01-01T00:00:00\")\n",
    "\n",
    "# # Chuyển đổi thành kiểu timestamp nếu cần\n",
    "# filtered_df = df.filter(col(\"read_time\") > lit(last_read_time).cast(\"timestamp\"))\n",
    "\n",
    "\n",
    "\n",
    "# df_Movies = df_Movies.filter(f\"read_time > '{last_read_time}'\")\n",
    "# df_Crews = df_Crews.filter(f\"read_time > '{last_read_time}'\")\n",
    "# df_Keywords = df_Keywords.filter(f\"read_time > '{last_read_time}'\")\n",
    "\n",
    "try:\n",
    "    tb_movie = DeltaTable.forPath(spark, \"s3a://lakehouse/silver/Silver_Movies_API\")\n",
    "    tb_movie.alias(\"target\").merge(\n",
    "        df_Movies.alias(\"source\"),\n",
    "        \"target.id = source.id\"\n",
    "    ).whenMatchedUpdateAll() .whenNotMatchedInsertAll().execute()\n",
    "except:\n",
    "    df_Movies.write.format(\"delta\").save(\"s3a://lakehouse/silver/Silver_Movies_API\")\n",
    "\n",
    "try:\n",
    "    tb_crew = DeltaTable.forPath(spark, \"s3a://lakehouse/silver/Silver_Crews_API\")\n",
    "    tb_crew.alias(\"target\").merge(\n",
    "        df_Crews.alias(\"source\"),\n",
    "        \"target.id = source.id\"\n",
    "    ).whenMatchedUpdateAll() .whenNotMatchedInsertAll().execute()\n",
    "except:\n",
    "    df_Crews.write.format(\"delta\").save(\"s3a://lakehouse/silver/Silver_Crews_API\")\n",
    "\n",
    "\n",
    "try:\n",
    "    tb_keyword = DeltaTable.forPath(spark, \"s3a://lakehouse/silver/Silver_Keywords_API\")\n",
    "    tb_keyword.alias(\"target\").merge(\n",
    "        df_Keywords.alias(\"source\"),\n",
    "        \"target.id = source.id\"\n",
    "    ).whenMatchedUpdateAll() .whenNotMatchedInsertAll().execute()\n",
    "except:\n",
    "    df_Keywords.write.format(\"delta\").save(\"s3a://lakehouse/silver/Silver_Keywords_API\")\n"
   ]
  },
  {
   "cell_type": "code",
   "execution_count": 20,
   "id": "bb6e7680-13f7-4306-87ce-eae1d43fe586",
   "metadata": {},
   "outputs": [
    {
     "data": {
      "text/plain": [
       "1744"
      ]
     },
     "execution_count": 20,
     "metadata": {},
     "output_type": "execute_result"
    }
   ],
   "source": [
    "df_Keywords.count()"
   ]
  },
  {
   "cell_type": "code",
   "execution_count": 22,
   "id": "08d62808-4448-426b-bec2-28d2d061c94a",
   "metadata": {},
   "outputs": [
    {
     "data": {
      "text/plain": [
       "Row(id=985939, keywords=[Row(id=3298, name='hallucination'), Row(id=9743, name='stranded'), Row(id=33787, name='tower'), Row(id=197623, name='free climbing'), Row(id=209439, name='sport climbing'), Row(id=234505, name='adrenaline junkie'), Row(id=235677, name='dehydration'), Row(id=309974, name='absurd'), Row(id=316832, name='tense'), Row(id=336497, name='survival thriller')], read_time=datetime.datetime(2025, 5, 22, 19, 56, 11, 862000))"
      ]
     },
     "execution_count": 22,
     "metadata": {},
     "output_type": "execute_result"
    }
   ],
   "source": [
    "df_Keywords.head()"
   ]
  },
  {
   "cell_type": "code",
   "execution_count": 12,
   "id": "8a7c5a09-5e77-4897-b6d9-251fab14d2e2",
   "metadata": {},
   "outputs": [
    {
     "name": "stdout",
     "output_type": "stream",
     "text": [
      "+-------+---------+----------+-------------+------------+----------+--------+--------------------+--------------------+--------+--------------------+-------+--------------------+--------+--------------------+--------------------+------------+--------------------+\n",
      "|     id|   budget|popularity|      revenue|vote_average|vote_count| date_id|               title|      original_title|language|            overview|runtime|             tagline|  status|            homepage|              genres|release_date|           read_time|\n",
      "+-------+---------+----------+-------------+------------+----------+--------+--------------------+--------------------+--------+--------------------+-------+--------------------+--------+--------------------+--------------------+------------+--------------------+\n",
      "|1233620|        0|  108.2867|          0.0|         6.8|       4.0|20250227| ¡Qué Huevos, Sofía!| ¡Qué Huevos, Sofía!|      es|Sofia gives every...|  106.0|                    |Released|                    |      [{35, Comedy}]|  2025-02-27|2025-05-22 19:56:...|\n",
      "| 985939|  3000000|   22.6933|  1.7363261E7|       7.144|    4123.0|20220811|                Fall|                Fall|      en|For best friends ...|  107.0|Fear reaches new ...|Released|https://www.lions...|    [{53, Thriller}]|  2022-08-11|2025-05-22 19:56:...|\n",
      "| 552524|100000000|   91.6885|          0.0|         8.3|      11.0|20250521|       Lilo & Stitch|       Lilo & Stitch|      en|The wildly funny ...|  108.0|Hold on to your c...|Released|https://movies.di...|[{10751, Family},...|  2025-05-21|2025-05-22 19:56:...|\n",
      "|1094473|        0|  249.7793|          0.0|       6.053|      19.0|20241016|Bambi: A Life in ...|Bambi, l'histoire...|      fr|The life of Bambi...|   77.0|                    |Released|                    |[{12, Adventure},...|  2024-10-16|2025-05-22 19:56:...|\n",
      "|1403735|        0|  105.6034|          0.0|         5.0|       3.0|20250214|               Laila|                లైలా|      te|Sonu Model, a ren...|  134.0|                    |Released|                    |[{35, Comedy}, {1...|  2025-02-14|2025-05-22 19:56:...|\n",
      "|    120| 93000000|   26.3133| 8.71368364E8|       8.421|   25965.0|20011218|The Lord of the R...|The Lord of the R...|      en|Young hobbit Frod...|  179.0|One ring to rule ...|Released|http://www.lordof...|[{12, Adventure},...|  2001-12-18|2025-05-22 19:56:...|\n",
      "|  18785| 35000000|   19.5128| 4.69310836E8|       7.323|   17238.0|20090602|        The Hangover|        The Hangover|      en|When three friend...|  100.0|Some guys just ca...|Released|https://www.warne...|      [{35, Comedy}]|  2009-06-02|2025-05-22 19:56:...|\n",
      "|    680|  8000000|   18.2531| 2.13928762E8|       8.489|   28664.0|19940910|        Pulp Fiction|        Pulp Fiction|      en|A burger-loving h...|  154.0|You won't know th...|Released|https://www.miram...|[{53, Thriller}, ...|  1994-09-10|2025-05-22 19:56:...|\n",
      "|1255788| 10000000|   18.4057|       4772.0|       6.236|     138.0|20250130|        The Gardener|        Le Jardinier|      fr|Every year the Pr...|  110.0|                    |Released|                    |[{28, Action}, {3...|  2025-01-30|2025-05-22 19:56:...|\n",
      "|1094473|        0|  249.7793|          0.0|       6.053|      19.0|20241016|Bambi: A Life in ...|Bambi, l'histoire...|      fr|The life of Bambi...|   77.0|                    |Released|                    |[{12, Adventure},...|  2024-10-16|2025-05-22 19:56:...|\n",
      "| 575265|        0|  205.7232|          0.0|         7.6|      78.0|20250517|Mission: Impossib...|Mission: Impossib...|      en|Ethan Hunt and th...|  170.0|Every choice, eve...|Released|https://www.missi...|[{28, Action}, {1...|  2025-05-17|2025-05-22 19:56:...|\n",
      "|1233620|        0|  108.2867|          0.0|         6.8|       4.0|20250227| ¡Qué Huevos, Sofía!| ¡Qué Huevos, Sofía!|      es|Sofia gives every...|  106.0|                    |Released|                    |      [{35, Comedy}]|  2025-02-27|2025-05-22 19:56:...|\n",
      "|1403735|        0|  105.6034|          0.0|         5.0|       3.0|20250214|               Laila|                లైలా|      te|Sonu Model, a ren...|  134.0|                    |Released|                    |[{35, Comedy}, {1...|  2025-02-14|2025-05-22 19:56:...|\n",
      "| 552524|100000000|   91.6885|          0.0|         8.3|      11.0|20250521|       Lilo & Stitch|       Lilo & Stitch|      en|The wildly funny ...|  108.0|Hold on to your c...|Released|https://movies.di...|[{10751, Family},...|  2025-05-21|2025-05-22 19:56:...|\n",
      "|1241982|150000000|  102.9097|1.059544057E9|       7.088|    2362.0|20241121|             Moana 2|             Moana 2|      en|After receiving a...|  100.0|The ocean is call...|Released|https://movies.di...|[{16, Animation},...|  2024-11-21|2025-05-22 19:56:...|\n",
      "| 574475| 50000000|  503.2304| 1.05700106E8|         7.1|     241.0|20250509|Final Destination...|Final Destination...|      en|Plagued by a viol...|  110.0|Death runs in the...|Released|https://www.final...|[{27, Horror}, {9...|  2025-05-09|2025-05-22 19:56:...|\n",
      "|1197306| 40000000|  365.7532|  9.8652557E7|       6.583|     831.0|20250326|       A Working Man|       A Working Man|      en|Levon Cade left b...|  116.0|Human traffickers...|Released|https://www.amazo...|[{28, Action}, {8...|  2025-03-26|2025-05-22 19:56:...|\n",
      "|1356236|        0|   88.8228|          0.0|       6.864|      33.0|20240924|     Saint Catherine|     Saint Catherine|      en|An orphaned girl ...|   86.0|                    |Released|                    |      [{27, Horror}]|  2024-09-24|2025-05-22 19:56:...|\n",
      "|1359977|        0|  175.3354|          0.0|       5.522|      23.0|20241001|  Conjuring the Cult|  Conjuring the Cult|      en|After discovering...|   93.0|                    |Released|                    |[{27, Horror}, {1...|  2024-10-01|2025-05-22 19:56:...|\n",
      "|1124620| 10000000|   90.8103|  6.8758266E7|       5.906|     621.0|20250214|          The Monkey|          The Monkey|      en|When twin brother...|   97.0|Everybody dies. A...|Released|http://www.neonra...|[{27, Horror}, {3...|  2025-02-14|2025-05-22 19:56:...|\n",
      "+-------+---------+----------+-------------+------------+----------+--------+--------------------+--------------------+--------+--------------------+-------+--------------------+--------+--------------------+--------------------+------------+--------------------+\n",
      "only showing top 20 rows\n",
      "\n"
     ]
    }
   ],
   "source": [
    "df_Movies.show()"
   ]
  },
  {
   "cell_type": "code",
   "execution_count": 17,
   "id": "ca43b2d0-00fc-4f54-8ccf-ec4cb421369f",
   "metadata": {},
   "outputs": [],
   "source": [
    "df_Crews = spark.read.format(\"delta\").load(\"s3a://lakehouse/bronze/Bronze_Keywords_API\")"
   ]
  },
  {
   "cell_type": "code",
   "execution_count": 18,
   "id": "3edc98a7-9f49-4a97-9f09-080694d3b956",
   "metadata": {},
   "outputs": [
    {
     "data": {
      "text/plain": [
       "[Row(raw_json='{\"id\": 985939, \"keywords\": [{\"id\": 3298, \"name\": \"hallucination\"}, {\"id\": 9743, \"name\": \"stranded\"}, {\"id\": 33787, \"name\": \"tower\"}, {\"id\": 197623, \"name\": \"free climbing\"}, {\"id\": 209439, \"name\": \"sport climbing\"}, {\"id\": 234505, \"name\": \"adrenaline junkie\"}, {\"id\": 235677, \"name\": \"dehydration\"}, {\"id\": 309974, \"name\": \"absurd\"}, {\"id\": 316832, \"name\": \"tense\"}, {\"id\": 336497, \"name\": \"survival thriller\"}]}', topic='tmdb_keywords', read_time=datetime.datetime(2025, 5, 22, 19, 56, 11, 862000))]"
      ]
     },
     "execution_count": 18,
     "metadata": {},
     "output_type": "execute_result"
    }
   ],
   "source": [
    "df_Crews.head(1)"
   ]
  },
  {
   "cell_type": "code",
   "execution_count": null,
   "id": "d1d1b4d4-624c-4f19-af9f-3acb00f822f5",
   "metadata": {},
   "outputs": [],
   "source": []
  },
  {
   "cell_type": "code",
   "execution_count": null,
   "id": "1ffcd432-237d-4167-8d09-ef28eb6649c6",
   "metadata": {},
   "outputs": [],
   "source": []
  },
  {
   "cell_type": "code",
   "execution_count": null,
   "id": "6d74b331-0612-4c48-aa2f-80a01e2fbf99",
   "metadata": {},
   "outputs": [],
   "source": []
  },
  {
   "cell_type": "code",
   "execution_count": 46,
   "id": "cbfebb3c-cd04-45e8-b2c1-17491277735e",
   "metadata": {},
   "outputs": [
    {
     "data": {
      "text/plain": [
       "46972"
      ]
     },
     "execution_count": 46,
     "metadata": {},
     "output_type": "execute_result"
    }
   ],
   "source": [
    "dim_cast = spark.read.format(\"delta\").load(\"s3a://lakehouse/gold/dim_cast\")\n",
    "dim_cast.count()"
   ]
  },
  {
   "cell_type": "code",
   "execution_count": 42,
   "id": "a772874c-de12-4898-bd95-57544c55974d",
   "metadata": {},
   "outputs": [
    {
     "name": "stdout",
     "output_type": "stream",
     "text": [
      "root\n",
      " |-- name: string (nullable = true)\n",
      " |-- gender: integer (nullable = true)\n",
      " |-- profile_path: string (nullable = true)\n",
      " |-- id: integer (nullable = true)\n",
      "\n"
     ]
    }
   ],
   "source": [
    "dim_cast.printSchema()"
   ]
  },
  {
   "cell_type": "code",
   "execution_count": 48,
   "id": "2531925f-5a86-453a-9546-4088886c4da5",
   "metadata": {},
   "outputs": [
    {
     "data": {
      "text/plain": [
       "132269"
      ]
     },
     "execution_count": 48,
     "metadata": {},
     "output_type": "execute_result"
    }
   ],
   "source": [
    "dim_cr = spark.read.format(\"delta\") \\\n",
    "    .load(\"s3a://lakehouse/gold/dim_crew\")\n",
    "dim_cr.count()"
   ]
  },
  {
   "cell_type": "code",
   "execution_count": 49,
   "id": "8414d1a0-b733-411e-8927-32c933aeec0b",
   "metadata": {},
   "outputs": [
    {
     "name": "stdout",
     "output_type": "stream",
     "text": [
      "root\n",
      " |-- id: integer (nullable = true)\n",
      " |-- name: string (nullable = true)\n",
      " |-- profile_path: string (nullable = true)\n",
      " |-- gender: integer (nullable = true)\n",
      "\n"
     ]
    }
   ],
   "source": [
    "dim_cr.printSchema()"
   ]
  },
  {
   "cell_type": "code",
   "execution_count": 37,
   "id": "294aad3d-1fc8-4192-ab5d-bb2221e31f6e",
   "metadata": {},
   "outputs": [
    {
     "name": "stdout",
     "output_type": "stream",
     "text": [
      "+-------+-----------------+--------------------+------+\n",
      "|     id|             name|        profile_path|gender|\n",
      "+-------+-----------------+--------------------+------+\n",
      "|  11874|   Neal H. Moritz|/xgCTFHhbQh3QyIT7...|     2|\n",
      "|  93364|      Jeff Fowler|/wExdubFgeBkEUP8M...|     2|\n",
      "|  64227|    Brandon Trost|/ojlCBUXBaueoNV0d...|     2|\n",
      "|  76054|    Luke Freeborn|                null|     2|\n",
      "|1908574|        Al LeVine|                null|     2|\n",
      "|1538618|         AJ Riach|/enK8bxdYmBPj6Oy3...|     2|\n",
      "|  56827|   Tom Holkenborg|/oRxT9sySUewNqcfm...|     2|\n",
      "|4527293|  Deanna Marshall|                null|     1|\n",
      "|1634438|  Allan Padelford|                null|     2|\n",
      "|2441229|     Oleg Podobin|                null|     2|\n",
      "|  63453|    Patrick Casey|/tAhWI0rojGBVf9ik...|     2|\n",
      "|  63449|      Josh Miller|/m9dCtaDDXycswi47...|     2|\n",
      "|1492059| John Whittington|/oaaQ6BsmryuEeBlf...|     2|\n",
      "|1486976|    Christina Low|/c8mwAXsOPFxM6sXS...|     1|\n",
      "|1378696|Ethan Van der Ryn|/cee7w7XpNMSXyFv0...|     2|\n",
      "|1378695|      Erik Aadahl|/c02IxbuxyZR93j0g...|     2|\n",
      "|1378695|      Erik Aadahl|/c02IxbuxyZR93j0g...|     2|\n",
      "|1378696|Ethan Van der Ryn|/cee7w7XpNMSXyFv0...|     2|\n",
      "|2240788|      Toby Ascher|/xYcYyVQN2E3bw3L9...|     2|\n",
      "|2222900|    Toru Nakahara|                null|     2|\n",
      "+-------+-----------------+--------------------+------+\n",
      "only showing top 20 rows\n",
      "\n"
     ]
    }
   ],
   "source": [
    "dim_cr.show()"
   ]
  },
  {
   "cell_type": "code",
   "execution_count": 35,
   "id": "3d4cfcab-c2db-43c2-b987-b6db6b2887a4",
   "metadata": {},
   "outputs": [
    {
     "data": {
      "text/plain": [
       "432"
      ]
     },
     "execution_count": 35,
     "metadata": {},
     "output_type": "execute_result"
    }
   ],
   "source": [
    "facr = spark.read.format(\"delta\") \\\n",
    "    .load(\"s3a://lakehouse/gold/fact_movies\")\n",
    "\n",
    "from pyspark.sql.functions import col\n",
    "\n",
    "facr.filter((col(\"date_id\") / 10000).cast(\"int\") == 2025).count()"
   ]
  },
  {
   "cell_type": "code",
   "execution_count": 36,
   "id": "7091a464-f8de-4ef3-a314-d845dd4c39c8",
   "metadata": {},
   "outputs": [
    {
     "name": "stdout",
     "output_type": "stream",
     "text": [
      "root\n",
      " |-- id: integer (nullable = true)\n",
      " |-- budget: integer (nullable = true)\n",
      " |-- popularity: double (nullable = true)\n",
      " |-- revenue: double (nullable = true)\n",
      " |-- vote_average: double (nullable = true)\n",
      " |-- vote_count: double (nullable = true)\n",
      " |-- date_id: long (nullable = true)\n",
      "\n"
     ]
    }
   ],
   "source": [
    "facr.printSchema()"
   ]
  },
  {
   "cell_type": "code",
   "execution_count": 38,
   "id": "fe864b49-5b93-4aef-a399-8beb5a29564d",
   "metadata": {},
   "outputs": [
    {
     "data": {
      "text/plain": [
       "46972"
      ]
     },
     "execution_count": 38,
     "metadata": {},
     "output_type": "execute_result"
    }
   ],
   "source": [
    "dim_g = spark.read.format(\"delta\").load(\"s3a://lakehouse/gold/movie_cast\")\n",
    "dim_g.count()"
   ]
  },
  {
   "cell_type": "code",
   "execution_count": 40,
   "id": "81eae680-c211-4565-beb1-be836239f311",
   "metadata": {},
   "outputs": [
    {
     "name": "stdout",
     "output_type": "stream",
     "text": [
      "root\n",
      " |-- cast_id: integer (nullable = true)\n",
      " |-- character: string (nullable = true)\n",
      " |-- movie_id: integer (nullable = true)\n",
      " |-- order: integer (nullable = true)\n",
      "\n"
     ]
    }
   ],
   "source": [
    "dim_g .printSchema()"
   ]
  },
  {
   "cell_type": "code",
   "execution_count": null,
   "id": "e4e9547f-b64b-49dc-a626-b87fa6fc0efd",
   "metadata": {},
   "outputs": [],
   "source": []
  },
  {
   "cell_type": "code",
   "execution_count": 108,
   "id": "30026076-4f72-4856-a138-98dbbb5e5a0c",
   "metadata": {},
   "outputs": [],
   "source": [
    "df_Movies = spark.read.format(\"delta\").load(\"s3a://lakehouse/silver/Silver_Movies_API\")\n",
    "df_Crews = spark.read.format(\"delta\").load(\"s3a://lakehouse/silver/Silver_Crews_API\")\n",
    "df_Keywords = spark.read.format(\"delta\").load(\"s3a://lakehouse/silver/Silver_Keywords_API\")\n",
    "# last_read_time = Variable.get(\"last_read_time_SG\", default_var=\"1970-01-01T00:00:00\")\n",
    "# last_read_time_ts = to_timestamp(lit(last_read_time), \"yyyy-MM-dd HH:mm:ss\")\n",
    "try:\n",
    "    readTime = spark.read.format(\"delta\").load(\"s3a://lakehouse/ReadTime\")\n",
    "except:\n",
    "    spark.sql(\"\"\"\n",
    "CREATE TABLE IF NOT EXISTS delta.`s3a://lakehouse/ReadTime` (\n",
    "    task_id STRING,\n",
    "    last_read_time TIMESTAMP\n",
    ") USING DELTA\n",
    "\"\"\")\n",
    "    spark.sql(\"\"\"\n",
    "    INSERT INTO delta.`s3a://lakehouse/ReadTime`\n",
    "    VALUES \n",
    "      ('BatchApi_Process_Movies', '1970-01-01 00:00:00'),\n",
    "      ('BatchApi_Process_Crews', '1970-01-01 00:00:00'),\n",
    "      ('BatchApi_Process_Keywords', '1970-01-01 00:00:00')\n",
    "\"\"\")\n",
    "    readTime = spark.read.format(\"delta\").load(\"s3a://lakehouse/ReadTime\")\n",
    "\n",
    "result_movie = readTime.filter(f\"task_id = 'BatchApi_Process_Movies'\").select(\"last_read_time\").collect()\n",
    "result_crew = readTime.filter(f\"task_id = 'BatchApi_Process_Crews'\").select(\"last_read_time\").collect()\n",
    "result_keyword = readTime.filter(f\"task_id = 'BatchApi_Process_Keywords'\").select(\"last_read_time\").collect()\n",
    "\n",
    "last_read_time_movie = result_movie[0][0]\n",
    "last_read_time_crew = result_crew[0][0]\n",
    "last_read_time_keyword = result_keyword[0][0]\n",
    "\n",
    "\n",
    "df_Movies = df_Movies.filter(f\"read_time > '{last_read_time_movie}'\")\n",
    "df_Crews = df_Crews.filter(f\"read_time > '{last_read_time_crew}'\")"
   ]
  },
  {
   "cell_type": "code",
   "execution_count": 109,
   "id": "b1f0f5a6-368a-4a94-ba7f-d6b7b1bdb044",
   "metadata": {},
   "outputs": [
    {
     "name": "stdout",
     "output_type": "stream",
     "text": [
      "+---+----+----+---------+\n",
      "| id|cast|crew|read_time|\n",
      "+---+----+----+---------+\n",
      "+---+----+----+---------+\n",
      "\n"
     ]
    }
   ],
   "source": [
    "df_Crews.show()"
   ]
  },
  {
   "cell_type": "code",
   "execution_count": 110,
   "id": "a38e1cf8-d47f-4eac-a773-d30cba27cdb8",
   "metadata": {},
   "outputs": [],
   "source": [
    "dim_cast_df = df_Crews.select(\n",
    "    explode(col(\"cast\")).alias(\"cast\")\n",
    "    ).select(\n",
    "        col(\"cast.id\").alias(\"cast_id\"),\n",
    "        col(\"cast.name\").alias(\"name\"),\n",
    "        col(\"cast.profile_path\").alias(\"profile_path\"),\n",
    "        col(\"cast.gender\").alias(\"gender\")\n",
    ")\n",
    "\n"
   ]
  },
  {
   "cell_type": "code",
   "execution_count": 112,
   "id": "26915f58-1240-42af-a137-995ef7c9b4b6",
   "metadata": {},
   "outputs": [
    {
     "ename": "AnalysisException",
     "evalue": "cannot resolve target.cast_id in search condition given columns target.name, target.gender, target.profile_path, target.id, source.cast_id, source.name, source.profile_path, source.gender; line 1 pos 0",
     "output_type": "error",
     "traceback": [
      "\u001b[0;31m---------------------------------------------------------------------------\u001b[0m",
      "\u001b[0;31mAnalysisException\u001b[0m                         Traceback (most recent call last)",
      "Cell \u001b[0;32mIn[112], line 2\u001b[0m\n\u001b[1;32m      1\u001b[0m dim_cast \u001b[38;5;241m=\u001b[39m DeltaTable\u001b[38;5;241m.\u001b[39mforPath(spark, \u001b[38;5;124m\"\u001b[39m\u001b[38;5;124ms3a://lakehouse/gold/dim_cast\u001b[39m\u001b[38;5;124m\"\u001b[39m)\n\u001b[0;32m----> 2\u001b[0m \u001b[43mdim_cast\u001b[49m\u001b[38;5;241;43m.\u001b[39;49m\u001b[43malias\u001b[49m\u001b[43m(\u001b[49m\u001b[38;5;124;43m\"\u001b[39;49m\u001b[38;5;124;43mtarget\u001b[39;49m\u001b[38;5;124;43m\"\u001b[39;49m\u001b[43m)\u001b[49m\u001b[38;5;241;43m.\u001b[39;49m\u001b[43mmerge\u001b[49m\u001b[43m(\u001b[49m\n\u001b[1;32m      3\u001b[0m \u001b[43m    \u001b[49m\u001b[43mdim_cast_df\u001b[49m\u001b[38;5;241;43m.\u001b[39;49m\u001b[43malias\u001b[49m\u001b[43m(\u001b[49m\u001b[38;5;124;43m\"\u001b[39;49m\u001b[38;5;124;43msource\u001b[39;49m\u001b[38;5;124;43m\"\u001b[39;49m\u001b[43m)\u001b[49m\u001b[43m,\u001b[49m\n\u001b[1;32m      4\u001b[0m \u001b[43m    \u001b[49m\u001b[38;5;124;43m\"\u001b[39;49m\u001b[38;5;124;43mtarget.cast_id = source.cast_id\u001b[39;49m\u001b[38;5;124;43m\"\u001b[39;49m\n\u001b[1;32m      5\u001b[0m \u001b[43m)\u001b[49m\u001b[38;5;241;43m.\u001b[39;49m\u001b[43mwhenNotMatchedInsertAll\u001b[49m\u001b[43m(\u001b[49m\u001b[43m)\u001b[49m\u001b[38;5;241;43m.\u001b[39;49m\u001b[43mexecute\u001b[49m\u001b[43m(\u001b[49m\u001b[43m)\u001b[49m\n",
      "File \u001b[0;32m~/.local/lib/python3.9/site-packages/delta/tables.py:938\u001b[0m, in \u001b[0;36mDeltaMergeBuilder.execute\u001b[0;34m(self)\u001b[0m\n\u001b[1;32m    931\u001b[0m \u001b[38;5;129m@since\u001b[39m(\u001b[38;5;241m0.4\u001b[39m)  \u001b[38;5;66;03m# type: ignore[arg-type]\u001b[39;00m\n\u001b[1;32m    932\u001b[0m \u001b[38;5;28;01mdef\u001b[39;00m\u001b[38;5;250m \u001b[39m\u001b[38;5;21mexecute\u001b[39m(\u001b[38;5;28mself\u001b[39m) \u001b[38;5;241m-\u001b[39m\u001b[38;5;241m>\u001b[39m \u001b[38;5;28;01mNone\u001b[39;00m:\n\u001b[1;32m    933\u001b[0m \u001b[38;5;250m    \u001b[39m\u001b[38;5;124;03m\"\"\"\u001b[39;00m\n\u001b[1;32m    934\u001b[0m \u001b[38;5;124;03m    Execute the merge operation based on the built matched and not matched actions.\u001b[39;00m\n\u001b[1;32m    935\u001b[0m \n\u001b[1;32m    936\u001b[0m \u001b[38;5;124;03m    See :py:class:`~delta.tables.DeltaMergeBuilder` for complete usage details.\u001b[39;00m\n\u001b[1;32m    937\u001b[0m \u001b[38;5;124;03m    \"\"\"\u001b[39;00m\n\u001b[0;32m--> 938\u001b[0m     \u001b[38;5;28;43mself\u001b[39;49m\u001b[38;5;241;43m.\u001b[39;49m\u001b[43m_jbuilder\u001b[49m\u001b[38;5;241;43m.\u001b[39;49m\u001b[43mexecute\u001b[49m\u001b[43m(\u001b[49m\u001b[43m)\u001b[49m\n",
      "File \u001b[0;32m/usr/local/lib/python3.9/site-packages/py4j/java_gateway.py:1321\u001b[0m, in \u001b[0;36mJavaMember.__call__\u001b[0;34m(self, *args)\u001b[0m\n\u001b[1;32m   1315\u001b[0m command \u001b[38;5;241m=\u001b[39m proto\u001b[38;5;241m.\u001b[39mCALL_COMMAND_NAME \u001b[38;5;241m+\u001b[39m\\\n\u001b[1;32m   1316\u001b[0m     \u001b[38;5;28mself\u001b[39m\u001b[38;5;241m.\u001b[39mcommand_header \u001b[38;5;241m+\u001b[39m\\\n\u001b[1;32m   1317\u001b[0m     args_command \u001b[38;5;241m+\u001b[39m\\\n\u001b[1;32m   1318\u001b[0m     proto\u001b[38;5;241m.\u001b[39mEND_COMMAND_PART\n\u001b[1;32m   1320\u001b[0m answer \u001b[38;5;241m=\u001b[39m \u001b[38;5;28mself\u001b[39m\u001b[38;5;241m.\u001b[39mgateway_client\u001b[38;5;241m.\u001b[39msend_command(command)\n\u001b[0;32m-> 1321\u001b[0m return_value \u001b[38;5;241m=\u001b[39m \u001b[43mget_return_value\u001b[49m\u001b[43m(\u001b[49m\n\u001b[1;32m   1322\u001b[0m \u001b[43m    \u001b[49m\u001b[43manswer\u001b[49m\u001b[43m,\u001b[49m\u001b[43m \u001b[49m\u001b[38;5;28;43mself\u001b[39;49m\u001b[38;5;241;43m.\u001b[39;49m\u001b[43mgateway_client\u001b[49m\u001b[43m,\u001b[49m\u001b[43m \u001b[49m\u001b[38;5;28;43mself\u001b[39;49m\u001b[38;5;241;43m.\u001b[39;49m\u001b[43mtarget_id\u001b[49m\u001b[43m,\u001b[49m\u001b[43m \u001b[49m\u001b[38;5;28;43mself\u001b[39;49m\u001b[38;5;241;43m.\u001b[39;49m\u001b[43mname\u001b[49m\u001b[43m)\u001b[49m\n\u001b[1;32m   1324\u001b[0m \u001b[38;5;28;01mfor\u001b[39;00m temp_arg \u001b[38;5;129;01min\u001b[39;00m temp_args:\n\u001b[1;32m   1325\u001b[0m     temp_arg\u001b[38;5;241m.\u001b[39m_detach()\n",
      "File \u001b[0;32m/usr/local/lib/python3.9/site-packages/pyspark/sql/utils.py:196\u001b[0m, in \u001b[0;36mcapture_sql_exception.<locals>.deco\u001b[0;34m(*a, **kw)\u001b[0m\n\u001b[1;32m    192\u001b[0m converted \u001b[38;5;241m=\u001b[39m convert_exception(e\u001b[38;5;241m.\u001b[39mjava_exception)\n\u001b[1;32m    193\u001b[0m \u001b[38;5;28;01mif\u001b[39;00m \u001b[38;5;129;01mnot\u001b[39;00m \u001b[38;5;28misinstance\u001b[39m(converted, UnknownException):\n\u001b[1;32m    194\u001b[0m     \u001b[38;5;66;03m# Hide where the exception came from that shows a non-Pythonic\u001b[39;00m\n\u001b[1;32m    195\u001b[0m     \u001b[38;5;66;03m# JVM exception message.\u001b[39;00m\n\u001b[0;32m--> 196\u001b[0m     \u001b[38;5;28;01mraise\u001b[39;00m converted \u001b[38;5;28;01mfrom\u001b[39;00m\u001b[38;5;250m \u001b[39m\u001b[38;5;28;01mNone\u001b[39;00m\n\u001b[1;32m    197\u001b[0m \u001b[38;5;28;01melse\u001b[39;00m:\n\u001b[1;32m    198\u001b[0m     \u001b[38;5;28;01mraise\u001b[39;00m\n",
      "\u001b[0;31mAnalysisException\u001b[0m: cannot resolve target.cast_id in search condition given columns target.name, target.gender, target.profile_path, target.id, source.cast_id, source.name, source.profile_path, source.gender; line 1 pos 0"
     ]
    }
   ],
   "source": [
    "dim_cast = DeltaTable.forPath(spark, \"s3a://lakehouse/gold/dim_cast\")\n",
    "dim_cast.alias(\"target\").merge(\n",
    "    dim_cast_df.alias(\"source\"),\n",
    "    \"target.cast_id = source.cast_id\"\n",
    ").whenNotMatchedInsertAll().execute()"
   ]
  },
  {
   "cell_type": "code",
   "execution_count": null,
   "id": "f9fdbcae-43dd-4554-9355-86ca2a16f069",
   "metadata": {},
   "outputs": [],
   "source": [
    "\n",
    "try:\n",
    "    dim_cast = DeltaTable.forPath(spark, \"s3a://lakehouse/gold/dim_cast\")\n",
    "    dim_cast.alias(\"target\").merge(\n",
    "        dim_cast_df.alias(\"source\"),\n",
    "        \"target.cast_id = source.cast_id\"\n",
    "    ).whenNotMatchedInsertAll().execute()\n",
    "except:\n",
    "    dim_cast_df.write.format(\"delta\").mode(\"overwrite\").option(\"overwriteSchema\", \"true\").save(\"s3a://lakehouse/gold/dim_cast\")"
   ]
  },
  {
   "cell_type": "code",
   "execution_count": null,
   "id": "f5f47182-bd12-427e-b660-33272c28cf46",
   "metadata": {},
   "outputs": [],
   "source": []
  },
  {
   "cell_type": "code",
   "execution_count": null,
   "id": "a30483d7-d1b0-44b5-a23c-786d31dd41a1",
   "metadata": {},
   "outputs": [],
   "source": []
  },
  {
   "cell_type": "code",
   "execution_count": 103,
   "id": "0a70a9ba-c7d0-47e3-b74e-43d96ccfb3dd",
   "metadata": {},
   "outputs": [],
   "source": [
    "dim_cast = DeltaTable.forPath(spark, \"s3a://lakehouse/gold/dim_cast\")"
   ]
  },
  {
   "cell_type": "code",
   "execution_count": 104,
   "id": "77878b40-2429-41d6-9c56-1dc2ef26536c",
   "metadata": {},
   "outputs": [
    {
     "ename": "AttributeError",
     "evalue": "'DeltaTable' object has no attribute 'count'",
     "output_type": "error",
     "traceback": [
      "\u001b[0;31m---------------------------------------------------------------------------\u001b[0m",
      "\u001b[0;31mAttributeError\u001b[0m                            Traceback (most recent call last)",
      "Cell \u001b[0;32mIn[104], line 1\u001b[0m\n\u001b[0;32m----> 1\u001b[0m \u001b[43mdim_cast\u001b[49m\u001b[38;5;241;43m.\u001b[39;49m\u001b[43mcount\u001b[49m()\n",
      "\u001b[0;31mAttributeError\u001b[0m: 'DeltaTable' object has no attribute 'count'"
     ]
    }
   ],
   "source": [
    "dim_cast.count()"
   ]
  },
  {
   "cell_type": "code",
   "execution_count": 105,
   "id": "87978615-089f-4521-a234-410562e18dac",
   "metadata": {},
   "outputs": [],
   "source": [
    "df.write.format(\"delta\").mode(\"overwrite\").option(\"overwriteSchema\", \"true\").save(\"s3a://lakehouse/gold/dim_cast\")"
   ]
  },
  {
   "cell_type": "code",
   "execution_count": 113,
   "id": "6f9ac442-b3bd-4db7-8304-c1a26cc5d374",
   "metadata": {
    "tags": []
   },
   "outputs": [],
   "source": [
    "df = spark.read.format(\"delta\") \\\n",
    "    .load(\"s3a://lakehouse/gold/dim_cast\")\n"
   ]
  },
  {
   "cell_type": "code",
   "execution_count": 114,
   "id": "766b524b-f468-409a-b738-7eeb3e5c7b68",
   "metadata": {},
   "outputs": [
    {
     "data": {
      "text/plain": [
       "205735"
      ]
     },
     "execution_count": 114,
     "metadata": {},
     "output_type": "execute_result"
    }
   ],
   "source": [
    "df.count()"
   ]
  },
  {
   "cell_type": "code",
   "execution_count": 97,
   "id": "09f8c22f-01f9-4df4-96ba-0ee2f8164236",
   "metadata": {},
   "outputs": [
    {
     "name": "stdout",
     "output_type": "stream",
     "text": [
      "root\n",
      " |-- name: string (nullable = true)\n",
      " |-- gender: integer (nullable = true)\n",
      " |-- profile_path: string (nullable = true)\n",
      " |-- id: integer (nullable = true)\n",
      "\n"
     ]
    }
   ],
   "source": [
    "df.printSchema()"
   ]
  },
  {
   "cell_type": "code",
   "execution_count": 32,
   "id": "17a97b7d-9408-4007-bbc5-19e75eb58dc4",
   "metadata": {
    "tags": []
   },
   "outputs": [
    {
     "name": "stdout",
     "output_type": "stream",
     "text": [
      "+-------+-------------------+--------------------+------+-----+\n",
      "|cast_id|               name|        profile_path|gender|order|\n",
      "+-------+-------------------+--------------------+------+-----+\n",
      "|5443785|   Braedon Trujillo|/tJrzXw3sIJBSqbSb...|     2|    0|\n",
      "|1258966|    Iqbaal Ramadhan|/AoETtoy7K04cRCtP...|     2|    0|\n",
      "|2034251|      Angga Yunanda|/1M3cLNTQLL1Vy6Ub...|     2|    1|\n",
      "|1878346|      Aghniny Haque|/5pFyssmQGxxCu5ge...|     1|    2|\n",
      "|1972045|      Rachel Amanda|/c2Ts2WgLSUUZV6xT...|     1|    3|\n",
      "|1825362|          Ari Irham|/1GL3vMkA2MedpOsk...|     2|    4|\n",
      "|2110619|        Umay Shahab|/6iRD80jucvDQWIyY...|     2|    5|\n",
      "|1157592|   Atiqah Hasiholan|/fmvlEKtxQQLHzmFH...|     1|    6|\n",
      "|1155281|     Tio Pakusadewo|/uAbKPJPbXVg1pi1b...|     2|    7|\n",
      "|1158143|         Dwi Sasono|/3l5aJxHeDI2wMajt...|     2|    8|\n",
      "|1503670|      Ganindra Bimo|/6nsI1LCCadVaMKjK...|     2|    9|\n",
      "|1571858|        Andrea Dian|/7G9jaBQ437o4GSbe...|     1|   10|\n",
      "|2095812|      Muhammad Khan|/lJjEBY9c235CJtTb...|     2|   11|\n",
      "|3123222|        Reza Hilman|                null|     0|   12|\n",
      "|1259152|   Joshua Pandelaki|/3kZaROWAnw9aSB2R...|     2|   13|\n",
      "|1155282|   Ratna Riantiarno|/6GtYfY1eMK9F9iqJ...|     0|   14|\n",
      "|1539399|        Jenny Zhang|/aBwKbQmgBA1cpT3m...|     1|   15|\n",
      "|1001666|       Tegar Satrya|/hQU2DsjwCKcaEMUU...|     2|   16|\n",
      "|3859121|      Frangky Lucas|                null|     0|   17|\n",
      "|2781195|Novi Rahmat Hidayat|                null|     0|   18|\n",
      "+-------+-------------------+--------------------+------+-----+\n",
      "only showing top 20 rows\n",
      "\n"
     ]
    }
   ],
   "source": [
    "df.show()"
   ]
  },
  {
   "cell_type": "code",
   "execution_count": 17,
   "id": "06a0cacf-f177-40e0-b6b1-aeba89731d08",
   "metadata": {
    "tags": []
   },
   "outputs": [
    {
     "name": "stdout",
     "output_type": "stream",
     "text": [
      "+--------------------+------+\n",
      "|        profile_path| count|\n",
      "+--------------------+------+\n",
      "|/7MLLqCXPFEF9PwnV...|     2|\n",
      "|                null|128430|\n",
      "|/924xXlQnyah5S7IX...|     2|\n",
      "|/zw5NqIuPMJ9dOcat...|     2|\n",
      "|/XOBozygTE94ERu1g...|     2|\n",
      "|/uS4a3epqXVtjTUGR...|     2|\n",
      "|/vXC9xIRPuI60wN2P...|     2|\n",
      "|/zUqyn3aQXTzeP1n8...|     3|\n",
      "|/cC4ogX4QInjkCSSk...|     2|\n",
      "|/qV7OgJ3rcRmwKPkg...|     3|\n",
      "|/eA6I3oUAR7iyIgxD...|     2|\n",
      "|/njnqNhDGKxM2qLye...|     2|\n",
      "|/miYaN1tdR41HqoxF...|     2|\n",
      "|/67ezLWzb4bV3Z6IO...|     3|\n",
      "+--------------------+------+\n",
      "\n"
     ]
    }
   ],
   "source": [
    "id_counts = df.groupBy(\"profile_path\").agg(F.count(\"*\").alias(\"count\"))\n",
    "\n",
    "# Lọc ra các id xuất hiện nhiều hơn 1 lần\n",
    "duplicate_ids = id_counts.filter(F.col(\"count\") > 1)\n",
    "\n",
    "duplicate_ids.show()"
   ]
  },
  {
   "cell_type": "code",
   "execution_count": 9,
   "id": "ec3ac5d2-d79c-4056-a3b6-afc8bf434fc6",
   "metadata": {
    "tags": []
   },
   "outputs": [
    {
     "data": {
      "text/plain": [
       "[Row(name='Harrison Ford', gender=2, profile_path='/7CcoVFTogQgex2kJkXKMe8qHZrC.jpg', id=3),\n",
       " Row(name='Peter Cushing', gender=2, profile_path='/fg7ufC0IMr6VasQzzdmTtX5ycQF.jpg', id=5),\n",
       " Row(name='Allison Janney', gender=1, profile_path='/fido6hwI8tFSZNt6HtP2DZH2eu6.jpg', id=19),\n",
       " Row(name='Elizabeth Perkins', gender=1, profile_path='/bkdWnnrMADJcFpKAOitMjQH3uEQ.jpg', id=20),\n",
       " Row(name='Sally Field', gender=1, profile_path='/ymhpsxujOO3a9qaGYSpkenCt9Le.jpg', id=35),\n",
       " Row(name='Alan Silvestri', gender=2, profile_path='/chEsfnDEtRmv1bfOaNAoVEzhCc6.jpg', id=37),\n",
       " Row(name='Orson Welles', gender=2, profile_path='/2DF3e98c7GGa1uJJvpgIiMPg0h2.jpg', id=40),\n",
       " Row(name='Sean Bean', gender=2, profile_path='/iIxP2IzvcLgr5WaTBD4UfSqaV3q.jpg', id=48),\n",
       " Row(name='Maurice Roeves', gender=2, profile_path='/qXYjnIHClkey4QQxPG5D5JD7Y74.jpg', id=54),\n",
       " Row(name='Gary Oldman', gender=2, profile_path='/v4qJEX4TEgEt2Zghldbd71AFjbV.jpg', id=64),\n",
       " Row(name='Robert August', gender=2, profile_path=None, id=92),\n",
       " Row(name='Cate Blanchett', gender=1, profile_path='/33vvSBq51vpXwfkhQzQTwgRAUeI.jpg', id=112),\n",
       " Row(name='Uma Thurman', gender=1, profile_path='/6SuOc2R7kXjq3Em24KTNDW9qblJ.jpg', id=139),\n",
       " Row(name='Walter Murch', gender=2, profile_path=None, id=154),\n",
       " Row(name='Lior Ashkenazi', gender=2, profile_path='/c2IJJuYiqZNHoZVikp6HgCgbGkK.jpg', id=164),\n",
       " Row(name='Knut Berger', gender=2, profile_path=None, id=165),\n",
       " Row(name='Carola Regnier', gender=1, profile_path='/mMlu7Y5U4DXLXAERCSLH7ILjWZL.jpg', id=168),\n",
       " Row(name='Hanns Zischler', gender=2, profile_path='/zlVtIH2P4cZLyftZZcfFo037N3t.jpg', id=169),\n",
       " Row(name='David Silverman', gender=2, profile_path='/oatUUj2riEaUSoncMv1Ulheffog.jpg', id=197),\n",
       " Row(name='Kirsten Dunst', gender=1, profile_path='/wBXvh6PJd0IUVNpvatPC1kzuHtm.jpg', id=205),\n",
       " Row(name='Tom Wilkinson', gender=2, profile_path='/4mxZKgdem0sQ8hJd0Y7TREwq7TJ.jpg', id=207),\n",
       " Row(name='William Hurt', gender=2, profile_path='/mf5GiYZjURQ72CPtY1kBva7mqIK.jpg', id=227),\n",
       " Row(name='Greg Bryk', gender=2, profile_path='/1I3SxKFvQSam6KOMT4j5f0nFxRg.jpg', id=231),\n",
       " Row(name='Deborah Drakeford', gender=0, profile_path=None, id=235),\n",
       " Row(name='Margaret Tyzack', gender=1, profile_path='/x46TBOnZI9i5jfIkD12i8cnrQdK.jpg', id=250),\n",
       " Row(name='Gael García Bernal', gender=2, profile_path='/6rTzWV80Z8AZbF6o3io1sYVOGhI.jpg', id=258),\n",
       " Row(name='Alvaro Guerrero', gender=0, profile_path='/d2k2Z0XgSIkBJxAuedS5yOF9O1U.jpg', id=262),\n",
       " Row(name='Emilio Echevarría', gender=2, profile_path='/iGgExtFoyuIAmll19gEmorWQAPX.jpg', id=263),\n",
       " Row(name='Humberto Busto', gender=2, profile_path='/u9Y1oxHrkj6J69HDTWPCgtMcIrp.jpg', id=266),\n",
       " Row(name='Rosa María Bianchi', gender=0, profile_path='/qZkZhM3fa0IH5qgMOArHtZ0K6pH.jpg', id=268),\n",
       " Row(name='Dunia Saldívar', gender=1, profile_path='/jXS6rqUqUWpUGo5vV6VLm9LjpZc.jpg', id=269),\n",
       " Row(name='Antonio Vega', gender=0, profile_path=None, id=279),\n",
       " Row(name='Frederick Strother', gender=0, profile_path='/r4V8H2qg1J0tgeoxToxj19nFVM.jpg', id=292),\n",
       " Row(name='John Wagner', gender=2, profile_path=None, id=306),\n",
       " Row(name='Pedro Almodóvar', gender=2, profile_path='/9dc8NqjMnOcZ8EiUvaAQiMiT4Tz.jpg', id=309)]"
      ]
     },
     "execution_count": 9,
     "metadata": {},
     "output_type": "execute_result"
    }
   ],
   "source": [
    "df.movi"
   ]
  },
  {
   "cell_type": "code",
   "execution_count": 19,
   "id": "dd7450cd-274b-4ede-8348-5ad4d6e32008",
   "metadata": {
    "tags": []
   },
   "outputs": [
    {
     "data": {
      "text/plain": [
       "560238"
      ]
     },
     "execution_count": 19,
     "metadata": {},
     "output_type": "execute_result"
    }
   ],
   "source": [
    "df.count()"
   ]
  },
  {
   "cell_type": "code",
   "execution_count": 20,
   "id": "0316d3df-427f-411f-89df-c44a8a94b22b",
   "metadata": {
    "tags": []
   },
   "outputs": [],
   "source": [
    "df = spark.read.format(\"delta\").load(\"s3a://lakehouse/silver/Silver_Movies_API\")\n"
   ]
  },
  {
   "cell_type": "code",
   "execution_count": 23,
   "id": "d2530b30-f8b6-4dee-baed-5a007b0df663",
   "metadata": {
    "tags": []
   },
   "outputs": [],
   "source": [
    "df = spark.read.format(\"delta\").load(\"s3a://lakehouse/gold/dim_movie\")\n"
   ]
  },
  {
   "cell_type": "code",
   "execution_count": 24,
   "id": "cb1d9543-fa11-4bf5-a00f-86ce2de76c75",
   "metadata": {
    "tags": []
   },
   "outputs": [
    {
     "data": {
      "text/plain": [
       "45434"
      ]
     },
     "execution_count": 24,
     "metadata": {},
     "output_type": "execute_result"
    }
   ],
   "source": [
    "df.count()"
   ]
  },
  {
   "cell_type": "code",
   "execution_count": 16,
   "id": "d253c17c-a1e6-42a1-a7d4-3aeab0292040",
   "metadata": {
    "tags": []
   },
   "outputs": [
    {
     "data": {
      "text/plain": [
       "136418"
      ]
     },
     "execution_count": 16,
     "metadata": {},
     "output_type": "execute_result"
    }
   ],
   "source": [
    "df.count()"
   ]
  },
  {
   "cell_type": "code",
   "execution_count": 18,
   "id": "a332907f-b1e1-444f-9cf7-d1aa460e6427",
   "metadata": {
    "tags": []
   },
   "outputs": [
    {
     "data": {
      "text/plain": [
       "1133"
      ]
     },
     "execution_count": 18,
     "metadata": {},
     "output_type": "execute_result"
    }
   ],
   "source": [
    "df.count()"
   ]
  },
  {
   "cell_type": "code",
   "execution_count": 17,
   "id": "4753d420-aa50-4f4f-8c39-ba5cd9f2b8dd",
   "metadata": {
    "tags": []
   },
   "outputs": [
    {
     "name": "stdout",
     "output_type": "stream",
     "text": [
      "df_exploded 560668\n"
     ]
    }
   ],
   "source": [
    "def fix_json_format(crew_str):\n",
    "    if crew_str is None:\n",
    "        return None\n",
    "    try:\n",
    "        # Dùng json.loads để kiểm tra nếu hợp lệ, nếu không thì sửa\n",
    "        fixed_json = json.dumps(eval(crew_str))  # Chuyển đổi thành JSON chuẩn\n",
    "        return fixed_json\n",
    "    except Exception as e:\n",
    "        return None  # Trả về None nếu có lỗi\n",
    "fix_json_udf = udf(fix_json_format, StringType()) \n",
    "df_dim_cast = spark.read.format(\"delta\").load(\"s3a://lakehouse/silver/credit\")\n",
    "df_dim_cast= df_dim_cast.withColumn(\"cast\", fix_json_udf(col(\"cast\")))\n",
    "\n",
    "\n",
    "cast_schema = ArrayType(\n",
    "    StructType([\n",
    "        StructField(\"cast_id\", IntegerType(), True),\n",
    "        StructField(\"character\", StringType(), True),\n",
    "        StructField(\"credit_id\", StringType(), True),\n",
    "        StructField(\"gender\", IntegerType(), True),\n",
    "        StructField(\"id\", IntegerType(), True),\n",
    "        StructField(\"name\", StringType(), True),\n",
    "        StructField(\"order\", IntegerType(), True),\n",
    "        StructField(\"profile_path\", StringType(), True)\n",
    "    ])\n",
    ")\n",
    "df_parsed = df_dim_cast.withColumn(\"cast\", from_json(col(\"cast\"), cast_schema))\n",
    "\n",
    "# Explode cột cast để có nhiều dòng\n",
    "df_exploded = df_parsed.withColumn(\"cast\", explode(col(\"cast\")))\n",
    "\n",
    "# Chọn các trường cần thiết\n",
    "df_selected_Dim = df_exploded.select(\n",
    "    col(\"cast.name\"),\n",
    "    col(\"cast.gender\"),\n",
    "    col(\"cast.profile_path\"),\n",
    "    col(\"cast.id\")\n",
    ")\n",
    "df_selected_Bridge = df_exploded.select(\n",
    "    col(\"cast.id\").alias(\"cast_id\"),\n",
    "    col(\"cast.character\"),\n",
    "    col(\"id\").alias(\"movie_id\"),\n",
    "    col(\"cast.order\")\n",
    "\n",
    ")\n",
    "\n",
    "print(\"df_exploded\" ,df_exploded.count())\n",
    "try:\n",
    "    dim_cast = DeltaTable.forPath(spark, \"s3a://lakehouse/gold/dim_cast\")\n",
    "    dim_cast.alias(\"target\").merge(\n",
    "        df_selected_Dim.alias(\"source\"),\n",
    "        \"target.id = source.id\"\n",
    "    ).whenNotMatchedInsertAll().execute()\n",
    "except:\n",
    "    df_selected_Dim.write.format(\"delta\").mode(\"overwrite\").option(\"overwriteSchema\", \"true\").save(\"s3a://lakehouse/gold/dim_cast\")\n",
    "    \n",
    "try:\n",
    "    movie_cast = DeltaTable.forPath(spark, \"s3a://lakehouse/gold/movie_cast\")\n",
    "    movie_cast.alias(\"target\").merge(\n",
    "        df_selected_Bridge.alias(\"source\"),\n",
    "        \"target.movie_id = source.movie_id AND target.cast_id = source.cast_id AND target.character = source.character\"\n",
    "    ).whenNotMatchedInsertAll().execute()\n",
    "except:\n",
    "    df_selected_Bridge.write.format(\"delta\").mode(\"overwrite\").option(\"overwriteSchema\", \"true\").save(\"s3a://lakehouse/gold/movie_cast\")"
   ]
  },
  {
   "cell_type": "code",
   "execution_count": 16,
   "id": "b0b52e84-231c-4e03-8f27-46b63c01ab73",
   "metadata": {
    "tags": []
   },
   "outputs": [
    {
     "data": {
      "text/plain": [
       "560668"
      ]
     },
     "execution_count": 16,
     "metadata": {},
     "output_type": "execute_result"
    }
   ],
   "source": [
    "df_selected_Bridge.count()"
   ]
  },
  {
   "cell_type": "code",
   "execution_count": 15,
   "id": "ad326fa8-b243-47b5-a636-cc2d5c92a2ce",
   "metadata": {
    "tags": []
   },
   "outputs": [
    {
     "data": {
      "text/plain": [
       "607386"
      ]
     },
     "execution_count": 15,
     "metadata": {},
     "output_type": "execute_result"
    }
   ],
   "source": [
    "df.count()"
   ]
  },
  {
   "cell_type": "code",
   "execution_count": 23,
   "id": "b6e11940-a3a4-4838-a727-bff60460e513",
   "metadata": {
    "tags": []
   },
   "outputs": [
    {
     "data": {
      "text/plain": [
       "[Row(id=31357, comb='singlemother interracialrelationship chickflick divorce basedonnovel WhitneyHouston AngelaBassett LorettaDevine ForestWhitaker Comedy Drama Romance'),\n",
       " Row(id=46785, comb='celebration money goldfish fish AidaMohammadkhani FereshtehSadreOrafaiy MohsenKafili JafarPanahi Drama Family'),\n",
       " Row(id=9614, comb='lossofmother taxes golf lossoffather sport BenStiller AdamSandler ChristopherMcDonald DennisDugan Comedy'),\n",
       " Row(id=51352, comb='typhus burglary fascism victim prejudice auschwitz rabbit interview GlennClose KennethBranagh JonBlair Foreign Drama Documentary'),\n",
       " Row(id=73067, comb='flashback ireland boy writer troopship CorbanWalker MattDillon GabrielByrne MichaelLindsay-Hogg War Drama Romance'),\n",
       " Row(id=2292, comb=\"loser salesclerk aftercreditsstinger BrianO'Halloran JasonMewes JeffAnderson KevinSmith Comedy\"),\n",
       " Row(id=9271, comb='visualeffect computerprogram hologram virtualreality artificialintelligence policetraining ex-cop android DenzelWashington KellyLynch RussellCrowe BrettLeonard Thriller Action Science Fiction Crime'),\n",
       " Row(id=46924, comb='success medievaltimes struggle RobinWilliams MaxJohnson MaudieJohnson BillForsyth Fantasy Comedy Drama'),\n",
       " Row(id=9612, comb='alienlife-form spaceinvasion extraterrestrialtechnology RobertKnott JaneCurtin DanAykroyd SteveBarron Science Fiction Comedy Family'),\n",
       " Row(id=788, comb='restaurant custodybattle sanfrancisco nanny mask parentchildrelationship fakeidentity SallyField RobinWilliams PierceBrosnan ChrisColumbus Comedy Drama Family'),\n",
       " Row(id=18862, comb='basement children divorce JamieLeeCurtis KyleHoward KevinPollak HarryWiner Comedy Family'),\n",
       " Row(id=9401, comb='hitman explosion cocaine murder losangeles guns scam hostage assassin detective suicidal argument jealousy nudity GregCruttwell JeffDaniels DannyAiello JohnHerzfeld Crime Comedy'),\n",
       " Row(id=81310, comb='winniethepooh short JohnFiedler SterlingHolloway WolfgangReitherman Animation Music Family'),\n",
       " Row(id=102461, comb='BenoîtMagimel VirginieLedoyen DominiqueValadié BenoîtJacquot Drama'),\n",
       " Row(id=85588, comb=''),\n",
       " Row(id=54405, comb='independentfilm NedBeatty TaraFitzgerald AdrianDunbar PeterChelsom Foreign Comedy'),\n",
       " Row(id=17692, comb='scubadiving swimming seaworld 3d sequel dolphin killershark themepark diving boattrouble waterskiing greatwhiteshark shark florida giantanimal BessArmstrong DennisQuaid SimonMacCorkindale JoeAlves Thriller Horror'),\n",
       " Row(id=64562, comb='Drama'),\n",
       " Row(id=29193, comb='confidence dialogue invention independentfilm SteveMartin CampbellScott BenGazzara DavidMamet Thriller Crime Drama Mystery'),\n",
       " Row(id=78373, comb='smalltown texas BreckinMeyer PeterFacinelli EddieMills TimMcCanlies Comedy Drama Family')]"
      ]
     },
     "execution_count": 23,
     "metadata": {},
     "output_type": "execute_result"
    }
   ],
   "source": [
    "df.head(20)"
   ]
  },
  {
   "cell_type": "code",
   "execution_count": 10,
   "id": "32af14cc-a082-4de4-aa82-3110b974e791",
   "metadata": {
    "tags": []
   },
   "outputs": [
    {
     "ename": "ValueError",
     "evalue": "read_time",
     "output_type": "error",
     "traceback": [
      "\u001b[0;31m---------------------------------------------------------------------------\u001b[0m",
      "\u001b[0;31mValueError\u001b[0m                                Traceback (most recent call last)",
      "File \u001b[0;32m/usr/local/spark/python/pyspark/sql/types.py:1884\u001b[0m, in \u001b[0;36mRow.__getitem__\u001b[0;34m(self, item)\u001b[0m\n\u001b[1;32m   1881\u001b[0m \u001b[38;5;28;01mtry\u001b[39;00m:\n\u001b[1;32m   1882\u001b[0m     \u001b[38;5;66;03m# it will be slow when it has many fields,\u001b[39;00m\n\u001b[1;32m   1883\u001b[0m     \u001b[38;5;66;03m# but this will not be used in normal cases\u001b[39;00m\n\u001b[0;32m-> 1884\u001b[0m     idx \u001b[38;5;241m=\u001b[39m \u001b[38;5;28;43mself\u001b[39;49m\u001b[38;5;241;43m.\u001b[39;49m\u001b[43m__fields__\u001b[49m\u001b[38;5;241;43m.\u001b[39;49m\u001b[43mindex\u001b[49m\u001b[43m(\u001b[49m\u001b[43mitem\u001b[49m\u001b[43m)\u001b[49m\n\u001b[1;32m   1885\u001b[0m     \u001b[38;5;28;01mreturn\u001b[39;00m \u001b[38;5;28msuper\u001b[39m(Row, \u001b[38;5;28mself\u001b[39m)\u001b[38;5;241m.\u001b[39m\u001b[38;5;21m__getitem__\u001b[39m(idx)\n",
      "\u001b[0;31mValueError\u001b[0m: 'read_time' is not in list",
      "\nDuring handling of the above exception, another exception occurred:\n",
      "\u001b[0;31mValueError\u001b[0m                                Traceback (most recent call last)",
      "Cell \u001b[0;32mIn[10], line 194\u001b[0m\n\u001b[1;32m    170\u001b[0m \u001b[38;5;66;03m# movie_genres_query = movie_genre_df.writeStream \\\u001b[39;00m\n\u001b[1;32m    171\u001b[0m \u001b[38;5;66;03m#     .format(\"delta\") \\\u001b[39;00m\n\u001b[1;32m    172\u001b[0m \u001b[38;5;66;03m#     .outputMode(\"append\") \\\u001b[39;00m\n\u001b[0;32m   (...)\u001b[0m\n\u001b[1;32m    189\u001b[0m \u001b[38;5;66;03m# new_last_read_time = datetime.now().isoformat()\u001b[39;00m\n\u001b[1;32m    190\u001b[0m \u001b[38;5;66;03m# Variable.set(\"last_read_time_SG\", new_last_read_time)\u001b[39;00m\n\u001b[1;32m    193\u001b[0m max_read_time_row \u001b[38;5;241m=\u001b[39m df\u001b[38;5;241m.\u001b[39magg(\u001b[38;5;28mmax\u001b[39m(\u001b[38;5;124m\"\u001b[39m\u001b[38;5;124mread_time\u001b[39m\u001b[38;5;124m\"\u001b[39m))\u001b[38;5;241m.\u001b[39mcollect()\n\u001b[0;32m--> 194\u001b[0m max_read_time \u001b[38;5;241m=\u001b[39m \u001b[43mmax_read_time_row\u001b[49m\u001b[43m[\u001b[49m\u001b[38;5;241;43m0\u001b[39;49m\u001b[43m]\u001b[49m\u001b[43m[\u001b[49m\u001b[38;5;124;43m\"\u001b[39;49m\u001b[38;5;124;43mread_time\u001b[39;49m\u001b[38;5;124;43m\"\u001b[39;49m\u001b[43m]\u001b[49m \u001b[38;5;28;01mif\u001b[39;00m max_read_time_row \u001b[38;5;28;01melse\u001b[39;00m \u001b[38;5;28;01mNone\u001b[39;00m\n\u001b[1;32m    197\u001b[0m readTime \u001b[38;5;241m=\u001b[39m spark\u001b[38;5;241m.\u001b[39mread\u001b[38;5;241m.\u001b[39mformat(\u001b[38;5;124m\"\u001b[39m\u001b[38;5;124mdelta\u001b[39m\u001b[38;5;124m\"\u001b[39m)\u001b[38;5;241m.\u001b[39mload(\u001b[38;5;124m\"\u001b[39m\u001b[38;5;124ms3a://lakehouse/ReadTime\u001b[39m\u001b[38;5;124m\"\u001b[39m)\n\u001b[1;32m    199\u001b[0m     \u001b[38;5;66;03m# Cập nhật hoặc chèn bản ghi mới\u001b[39;00m\n",
      "File \u001b[0;32m/usr/local/spark/python/pyspark/sql/types.py:1889\u001b[0m, in \u001b[0;36mRow.__getitem__\u001b[0;34m(self, item)\u001b[0m\n\u001b[1;32m   1887\u001b[0m     \u001b[38;5;28;01mraise\u001b[39;00m \u001b[38;5;167;01mKeyError\u001b[39;00m(item)\n\u001b[1;32m   1888\u001b[0m \u001b[38;5;28;01mexcept\u001b[39;00m \u001b[38;5;167;01mValueError\u001b[39;00m:\n\u001b[0;32m-> 1889\u001b[0m     \u001b[38;5;28;01mraise\u001b[39;00m \u001b[38;5;167;01mValueError\u001b[39;00m(item)\n",
      "\u001b[0;31mValueError\u001b[0m: read_time"
     ]
    }
   ],
   "source": [
    "df = spark.read.format(\"delta\").load(\"s3a://lakehouse/silver/Silver_API_1\")\n",
    "# last_read_time = Variable.get(\"last_read_time_SG\", default_var=\"1970-01-01T00:00:00\")\n",
    "# last_read_time_ts = to_timestamp(lit(last_read_time), \"yyyy-MM-dd HH:mm:ss\")\n",
    "try:\n",
    "    readTime = spark.read.format(\"delta\").load(\"s3a://lakehouse/ReadTime\")\n",
    "except:\n",
    "    spark.sql(\"\"\"\n",
    "CREATE TABLE IF NOT EXISTS delta.`s3a://your-bucket/processing_state` (\n",
    "    task_id STRING,\n",
    "    last_read_time TIMESTAMP\n",
    ") USING DELTA\n",
    "\"\"\")\n",
    "    spark.sql(\"\"\"\n",
    "    INSERT INTO delta.`s3a://lakehouse/ReadTime`\n",
    "    VALUES ('BatchApi_Process', '1970-01-01 00:00:00')\n",
    "    \"\"\")\n",
    "    readTime = spark.read.format(\"delta\").load(\"s3a://lakehouse/ReadTime\")\n",
    "\n",
    "result = readTime.filter(f\"task_id = 'BatchApi_Process'\").select(\"last_read_time\").collect()\n",
    "last_read_time = result[0][0]\n",
    "\n",
    "df.filter(f\"read_time > '{last_read_time}'\")\n",
    "# --------------------------------------------------\n",
    "# FACT TABLE: fact_movie\n",
    "# --------------------------------------------------\n",
    "fact_movie_df = df.select(\n",
    "    col(\"id\"),\n",
    "    col(\"budget\"),\n",
    "    col(\"popularity\"),\n",
    "    col(\"revenue\"),\n",
    "    col(\"vote_average\"),\n",
    "    col(\"vote_count\"),\n",
    "    col(\"date_id\")\n",
    ").dropDuplicates([\"id\"])\n",
    "\n",
    "try:\n",
    "\n",
    "    fact_movie = DeltaTable.forPath(spark, \"s3a://lakehouse/gold/fact_movies\")\n",
    "\n",
    "    fact_movie.alias(\"target\").merge(\n",
    "        fact_movie_df.alias(\"source\"),\n",
    "        \"target.id = source.id\"\n",
    "    ).whenNotMatchedInsertAll().execute()\n",
    "except :\n",
    "    fact_movie_df.write.format(\"delta\").mode(\"overwrite\").save(\"s3a://lakehouse/gold/fact_movies\")\n",
    "\n",
    "\n",
    "\n",
    "# fact_movie_query = fact_movie_df.writeStream \\\n",
    "#     .format(\"delta\") \\\n",
    "#     .outputMode(\"append\") \\\n",
    "#     .option(\"checkpointLocation\", \"s3a://lakehouse/check/fact_movies\") \\\n",
    "#     .option(\"path\", \"s3a://lakehouse/gold/fact_movies\") \\\n",
    "#     .start()\n",
    "\n",
    "# --------------------------------------------------\n",
    "# DIMENSION TABLE: dim_movie\n",
    "# Lưu ý: Đổi tên các cột để khớp với schema của Delta table hiện có:\n",
    "# Schema mong đợi: id, title, original_title, language, overview, runtime, tagline, status, homepage\n",
    "# --------------------------------------------------\n",
    "dimmovie_df = df.select(\n",
    "    col(\"id\"),                        # Ép sang long\n",
    "    col(\"title\"),                                                # Giữ nguyên kiểu string\n",
    "    col(\"original_title\"),                                       # Giữ nguyên kiểu string\n",
    "    col(\"language\"),                  # Đổi tên trường: original_language -> language\n",
    "    col(\"overview\"),                                             # Giữ nguyên kiểu string\n",
    "    col(\"runtime\"),              # Ép về double\n",
    "    col(\"tagline\"),                                              # Giữ nguyên kiểu string\n",
    "    col(\"status\"),                                               # Giữ nguyên kiểu string\n",
    "    col(\"homepage\")                                              # Giữ nguyên kiểu string\n",
    ").dropDuplicates([\"id\"])\n",
    "\n",
    "\n",
    "try:\n",
    "    dimmovie = DeltaTable.forPath(spark, \"s3a://lakehouse/gold/dim_movie\")\n",
    "    dimmovie.alias(\"target\").merge(\n",
    "        dimmovie_df.alias(\"source\"),\n",
    "        \"target.id = source.id\"\n",
    "    ).whenNotMatchedInsertAll().execute()\n",
    "except:\n",
    "    dimmovie_df.write.format(\"delta\").mode(\"overwrite\").save(\"s3a://lakehouse/gold/dim_movie\")\n",
    "# dimmovie_query = dimmovie_df.writeStream \\\n",
    "#     .format(\"delta\") \\\n",
    "#     .outputMode(\"append\") \\\n",
    "#     .option(\"checkpointLocation\", \"s3a://lakehouse/check/dim_movie\") \\\n",
    "#     .option(\"path\", \"s3a://lakehouse/gold/dim_movie\") \\\n",
    "#     .start()\n",
    "\n",
    "# --------------------------------------------------\n",
    "# DIMENSION TABLE: dim_date\n",
    "# --------------------------------------------------\n",
    "dimdate_df = df.withColumn(\"release_date\", to_date(col(\"release_date\"), \"yyyy-MM-dd\")) \\\n",
    "    .select(\n",
    "        date_format(col(\"release_date\"), \"yyyy-MM-dd\").alias(\"release_date\"),\n",
    "        dayofweek(col(\"release_date\")).alias(\"DayOfWeek\"),\n",
    "        date_format(col(\"release_date\"), \"EEEE\").alias(\"DayName\"),\n",
    "        dayofmonth(col(\"release_date\")).alias(\"DayOfMonth\"),\n",
    "        dayofyear(col(\"release_date\")).alias(\"DayOfYear\"),\n",
    "        weekofyear(col(\"release_date\")).alias(\"WeekOfYear\"),\n",
    "        date_format(col(\"release_date\"), \"MMMM\").alias(\"MonthName\"),\n",
    "        month(col(\"release_date\")).alias(\"MonthOfYear\"),\n",
    "        quarter(col(\"release_date\")).alias(\"Quarter\"),\n",
    "        year(col(\"release_date\")).alias(\"Year\"),\n",
    "        when(dayofweek(col(\"release_date\")).between(2, 6), True).otherwise(False).alias(\"IsWeekDay\"),\n",
    "        col(\"date_id\")\n",
    "    ).dropDuplicates([\"date_id\"])\n",
    "\n",
    "try:\n",
    "    dimdate = DeltaTable.forPath(spark, \"s3a://lakehouse/gold/dim_date\")\n",
    "    dimdate.alias(\"target\").merge(\n",
    "        dimdate_df.alias(\"source\"),\n",
    "        \"target.date_id = source.date_id\"\n",
    "    ).whenNotMatchedInsertAll().execute()\n",
    "except:\n",
    "    dimdate_df.write.format(\"delta\").mode(\"overwrite\").save(\"s3a://lakehouse/gold/dim_date\")\n",
    "\n",
    "# dim_date_query = dimdate_df.writeStream \\\n",
    "#     .format(\"delta\") \\\n",
    "#     .outputMode(\"append\") \\\n",
    "#     .option(\"checkpointLocation\", \"s3a://lakehouse/check/dim_date\") \\\n",
    "#     .option(\"path\", \"s3a://lakehouse/gold/dim_date\") \\\n",
    "#     .start()\n",
    "\n",
    "# --------------------------------------------------\n",
    "# DIMENSION TABLE: dim_genre\n",
    "# --------------------------------------------------\n",
    "dim_genre_df = df.select(\n",
    "    explode(col(\"genres\")).alias(\"genre\")\n",
    ").select(\n",
    "    col(\"genre.id\").cast(\"integer\").alias(\"id\"),\n",
    "    col(\"genre.name\").alias(\"name\")\n",
    ").dropDuplicates([\"id\"])\n",
    "\n",
    "try:\n",
    "    dim_genre = DeltaTable.forPath(spark, \"s3a://lakehouse/gold/dim_genre\")\n",
    "    dim_genre.alias(\"target\").merge(\n",
    "        dim_genre_df.alias(\"source\"),\n",
    "        \"target.id = source.id\"\n",
    "    ).whenNotMatchedInsertAll().execute()\n",
    "except:\n",
    "    dim_genre_df.write.format(\"delta\").mode(\"overwrite\").save(\"s3a://lakehouse/gold/dim_genre\")\n",
    "\n",
    "# dim_genre_query = dim_genre_df.writeStream \\\n",
    "#     .format(\"delta\") \\\n",
    "#     .outputMode(\"append\") \\\n",
    "#     .option(\"checkpointLocation\", \"s3a://lakehouse/check/dim_genre\") \\\n",
    "#     .option(\"path\", \"s3a://lakehouse/gold/dim_genre\") \\\n",
    "#     .start()\n",
    "\n",
    "# --------------------------------------------------\n",
    "# BRIDGE TABLE: movie_genres\n",
    "# --------------------------------------------------\n",
    "movie_genre_df = df.select(\n",
    "    col(\"id\").alias(\"movie_id\"),\n",
    "    explode(col(\"genres\")).alias(\"genre\")\n",
    ").select(\n",
    "    col(\"genre.id\").cast(\"integer\").alias(\"genres_id\"),\n",
    "    col(\"movie_id\").alias(\"id\")\n",
    ")\n",
    "\n",
    "try:\n",
    "    movie_genre = DeltaTable.forPath(spark, \"s3a://lakehouse/gold/movie_genre\")\n",
    "    movie_genre.alias(\"target\").merge(\n",
    "        movie_genre_df.alias(\"source\"),\n",
    "        \"target.id = source.id AND target.genres_id = source.genres_id\"\n",
    "    ).whenNotMatchedInsertAll().execute()\n",
    "except:\n",
    "    movie_genre_df.write.format(\"delta\").mode(\"overwrite\").save(\"s3a://lakehouse/gold/movie_genres\")\n",
    "\n",
    "# movie_genres_query = movie_genre_df.writeStream \\\n",
    "#     .format(\"delta\") \\\n",
    "#     .outputMode(\"append\") \\\n",
    "#     .option(\"checkpointLocation\", \"s3a://lakehouse/check/movie_genres\") \\\n",
    "#     .option(\"path\", \"s3a://lakehouse/gold/movie_genres\") \\\n",
    "#     .start()\n",
    "\n",
    "\n",
    "# date = spark.sql(\"SELECT current_timestamp() AS ts\")\n",
    "\n",
    "# # Lấy giá trị timestamp từ DataFrame\n",
    "# new_last_read_time = date.collect()[0][\"ts\"]\n",
    "\n",
    "# # Chuyển timestamp thành chuỗi ISO format (nếu cần)\n",
    "# new_last_read_time_str = new_last_read_time.isoformat()\n",
    "\n",
    "# # Lưu vào Airflow Variable\n",
    "# Variable.set(\"last_read_time_SG\", new_last_read_time_str)\n",
    "\n",
    "# new_last_read_time = datetime.now().isoformat()\n",
    "# Variable.set(\"last_read_time_SG\", new_last_read_time)\n",
    "\n",
    "\n",
    "max_read_time_row = df.agg(max(\"read_time\")).collect()\n",
    "max_read_time = max_read_time_row[0][\"max(read_time)\"] if max_read_time_row else None\n",
    "\n",
    "\n",
    "readTime = spark.read.format(\"delta\").load(\"s3a://lakehouse/ReadTime\")\n",
    "    \n",
    "    # Cập nhật hoặc chèn bản ghi mới\n",
    "updated_df = readTime.filter(f\"task_id != 'BatchApi_Process'\").union(\n",
    "    spark.createDataFrame([(\"BatchApi_Process\", max_read_time)], [\"task_id\", \"last_read_time\"])\n",
    ")\n",
    "\n",
    "# Ghi đè Delta Table\n",
    "updated_df.write.format(\"delta\").mode(\"overwrite\").save(\"s3a://your-bucket/processing_state\")"
   ]
  },
  {
   "cell_type": "code",
   "execution_count": 3,
   "id": "47baca2f-9880-4982-86d6-7ee7d8ac2ae0",
   "metadata": {
    "tags": []
   },
   "outputs": [],
   "source": [
    "df = spark.read.format(\"delta\").load(\"s3a://lakehouse/bronze/Bronze_API_1\")\n"
   ]
  },
  {
   "cell_type": "code",
   "execution_count": 5,
   "id": "cbaa1173-9945-40e2-92c7-ed11cf81707d",
   "metadata": {
    "tags": []
   },
   "outputs": [
    {
     "name": "stdout",
     "output_type": "stream",
     "text": [
      "+------+--------------------+--------------------+-----------------+--------------------+-------+-------+--------+--------------------+------+----------+-------+------------+----------+------------+----------------+-------------------+\n",
      "|    id|      original_title|               title|original_language|            overview|runtime|tagline|  status|            homepage|budget|popularity|revenue|vote_average|vote_count|release_date|          genres|          read_time|\n",
      "+------+--------------------+--------------------+-----------------+--------------------+-------+-------+--------+--------------------+------+----------+-------+------------+----------+------------+----------------+-------------------+\n",
      "| 46704|Shakira: MTV Unpl...|Shakira: MTV Unpl...|               en|MTV Unplugged is ...|   51.0|       |Released|http://www.shakir...|     0|      0.36|      0|         7.6|         8|  2000-02-29|[{10402, Music}]|2025-02-23 08:16:52|\n",
      "|853991|Battle of the Bot...|Battle of the Bot...|               en|Active Duty is pr...|  126.0|       |Released|                    |     0|       0.0|      0|         0.0|         0|  2017-09-08|              []|2025-02-23 08:16:29|\n",
      "|351390|                Alba|                Alba|               en|A young priest ha...|   23.0|       |Released|                    |     0|     0.121|      0|         6.0|         1|  2012-02-06|   [{18, Drama}]|2025-02-23 08:16:29|\n",
      "|396043|                Lola|                Lola|               es|Lola is a young l...|   16.0|       |Released|                    |     0|     0.105|      0|         0.0|         0|  2014-07-24|   [{18, Drama}]|2025-02-23 08:16:29|\n",
      "+------+--------------------+--------------------+-----------------+--------------------+-------+-------+--------+--------------------+------+----------+-------+------------+----------+------------+----------------+-------------------+\n",
      "\n"
     ]
    }
   ],
   "source": [
    "from pyspark.sql.functions import current_timestamp, expr\n",
    "\n",
    "filtered_df = df.filter(col(\"read_time\") >= expr(\"current_timestamp() - interval 15 hour\"))\n",
    "\n",
    "# Hiển thị dữ liệu đã lọc\n",
    "filtered_df.show()\n"
   ]
  },
  {
   "cell_type": "code",
   "execution_count": 5,
   "id": "dd17fa4a-988f-43f3-9d34-479dd279f223",
   "metadata": {
    "tags": []
   },
   "outputs": [
    {
     "data": {
      "text/plain": [
       "[Row(id=605475, budget=0, popularity=0.006, revenue=0.0, vote_average=0.0, vote_count=0.0, date_id=20160106, title='At-issue', original_title='At-issue', language='en', overview='Puppet Bartholomew makes a change to his life.', runtime=10.0, tagline='', status='Released', homepage='', genres=[], release_date=datetime.date(2016, 1, 6), read_time=datetime.datetime(2025, 2, 22, 15, 52, 24, 948000)),\n",
       " Row(id=861458, budget=0, popularity=0.075, revenue=0.0, vote_average=1.0, vote_count=1.0, date_id=20020408, title='Nouvelles neuves du monde de Moustic', original_title='Nouvelles neuves du monde de Moustic', language='fr', overview='', runtime=0.0, tagline='', status='Released', homepage='', genres=[Row(id=35, name='Comedy')], release_date=datetime.date(2002, 4, 8), read_time=datetime.datetime(2025, 2, 22, 15, 52, 24, 948000)),\n",
       " Row(id=724202, budget=0, popularity=0.009, revenue=0.0, vote_average=0.0, vote_count=0.0, date_id=20170905, title='Erdogan - Vom Demokraten zum Despoten', original_title='Erdogan - Vom Demokraten zum Despoten', language='de', overview='', runtime=0.0, tagline='', status='Released', homepage='', genres=[Row(id=99, name='Documentary')], release_date=datetime.date(2017, 9, 5), read_time=datetime.datetime(2025, 2, 22, 16, 3, 5, 72000)),\n",
       " Row(id=937069, budget=0, popularity=0.006, revenue=0.0, vote_average=0.0, vote_count=0.0, date_id=20170101, title='Chris Sharma - Above The Sea', original_title='Chris Sharma - Above The Sea', language='it', overview='', runtime=0.0, tagline='', status='Released', homepage='', genres=[Row(id=99, name='Documentary'), Row(id=12, name='Adventure'), Row(id=36, name='History')], release_date=datetime.date(2017, 1, 1), read_time=datetime.datetime(2025, 2, 22, 16, 9, 7, 122000)),\n",
       " Row(id=771933, budget=0, popularity=0.418, revenue=0.0, vote_average=5.0, vote_count=2.0, date_id=19910101, title='El prófugo', original_title='El prófugo', language='es', overview='', runtime=0.0, tagline='', status='Released', homepage='', genres=[], release_date=datetime.date(1991, 1, 1), read_time=datetime.datetime(2025, 2, 22, 16, 9, 7, 122000))]"
      ]
     },
     "execution_count": 5,
     "metadata": {},
     "output_type": "execute_result"
    }
   ],
   "source": [
    "df = spark.read.format(\"delta\").load(\"s3a://lakehouse/silver/Silver_API_1\")\n",
    "df.head(5)"
   ]
  },
  {
   "cell_type": "code",
   "execution_count": 13,
   "id": "7fbf88e9-d704-48af-af36-dde74d0db718",
   "metadata": {
    "tags": []
   },
   "outputs": [
    {
     "data": {
      "text/plain": [
       "[Row(id=912401, original_title='레전드 오브 갱스터', title='The Gods', original_language='ko', overview='In a modern-day Romeo and Juliet, Mikey James, a street hustler raised on the streets with his two brothers, goes to work for the Fasano family as he desperately tries to find a way out of his hustling lifestyle.', runtime=0.0, tagline='', status='Released', homepage='', budget=0, popularity=0.006, revenue=0, vote_average=0.0, vote_count=0, release_date=datetime.date(2017, 1, 6), genres=[], read_time=datetime.datetime(2025, 2, 22, 16, 7, 44, 742000)),\n",
       " Row(id=674221, original_title='Una Noche En Mexico', title='Una Noche En Mexico', original_language='es', overview='One story, one script, one cast, one location two languages. A unique project that talks to two cultures. These films are dedicated to the \\'Dreamers\\' in the US that is stuck between two countries and two cultures. Pablo is a first generation Mexican/American born in the United States, his parents gave him a great education and family life as they assimilated into the American lifestyle. His parents planned on returning to Mexico to retire but after the death of Pablo\\'s mother their dream of returning to their beloved country died with her. Pablo\\'s father vowed to show Pablo the roots of his heritage and sends his son to Mexico to their family\\'s Tequila factory in hopes he will understand and appreciate his heritage. Little did he know that \"One Night in Mexico\" would change his son\\'s life forever.', runtime=73.0, tagline='', status='Released', homepage='', budget=0, popularity=0.077, revenue=0, vote_average=5.0, vote_count=2, release_date=datetime.date(2016, 1, 1), genres=[], read_time=datetime.datetime(2025, 2, 22, 16, 7, 44, 742000)),\n",
       " Row(id=881376, original_title='Origami', title='Origami', original_language='xx', overview='Japan. A man loses his wife and in his sorrow, he dives into origami - his deceased wife’s passion - trying to find comfort in the paper world he’s creating', runtime=5.0, tagline='', status='Released', homepage='', budget=0, popularity=0.015, revenue=0, vote_average=0.0, vote_count=0, release_date=datetime.date(2021, 6, 15), genres=[Row(id=16, name='Animation')], read_time=datetime.datetime(2025, 2, 22, 16, 7, 44, 742000)),\n",
       " Row(id=258732, original_title='Hit and Run', title='Hit and Run', original_language='en', overview='Joanna Kendall must choose between right and wrong when she accidentally hits a young girl with her car. After leaving to call for help, she returns - only to hear the reaction of horrified onlookers, who are outraged that the culprit left the scene of the crime. In a moment of panic and confusion, Joanna makes the life-changing decision to remain silent. The effect snowballs, as this perfect wife and mother must grapple with her guilt, as well as with the female detective who suspects her.', runtime=88.0, tagline=\"She ran over a child and didn't stop... Now her conscious is tearing her apart.\", status='Released', homepage='', budget=0, popularity=0.549, revenue=0, vote_average=6.3, vote_count=7, release_date=datetime.date(1999, 1, 11), genres=[Row(id=18, name='Drama'), Row(id=10770, name='TV Movie')], read_time=datetime.datetime(2025, 2, 22, 16, 5, 10, 250000)),\n",
       " Row(id=387903, original_title='XTFMAX Cardio Max', title='XTFMAX Cardio Max', original_language='en', overview='If you want to melt away fat, build lean muscle and get serious about your fitness, then join Stephanie Oram and XTFMAX. XTFMAX includes 12 complete workouts designed to shred fat and build long lean muscle in just 90 days. Each workout demonstrates 4 different workout levels so regardless if you are a beginner, or ready to take it to the next level atheletically, this program works for you.', runtime=0.0, tagline='XTFMAX', status='Released', homepage='', budget=0, popularity=0.04, revenue=0, vote_average=9.0, vote_count=1, release_date=datetime.date(2014, 9, 1), genres=[], read_time=datetime.datetime(2025, 2, 22, 16, 5, 10, 250000))]"
      ]
     },
     "execution_count": 13,
     "metadata": {},
     "output_type": "execute_result"
    }
   ],
   "source": [
    "df.head(5)"
   ]
  },
  {
   "cell_type": "code",
   "execution_count": 16,
   "id": "5b54530e-b9cc-4ad6-9efb-8572769f7271",
   "metadata": {
    "tags": []
   },
   "outputs": [
    {
     "data": {
      "text/plain": [
       "[Row(read_time=datetime.datetime(2025, 2, 22, 15, 59, 14, 44000)),\n",
       " Row(read_time=datetime.datetime(2025, 2, 22, 15, 59, 14, 44000)),\n",
       " Row(read_time=datetime.datetime(2025, 2, 22, 15, 59, 14, 44000)),\n",
       " Row(read_time=datetime.datetime(2025, 2, 22, 15, 59, 14, 44000)),\n",
       " Row(read_time=datetime.datetime(2025, 2, 22, 15, 59, 14, 44000)),\n",
       " Row(read_time=datetime.datetime(2025, 2, 22, 15, 59, 14, 44000)),\n",
       " Row(read_time=datetime.datetime(2025, 2, 22, 15, 59, 14, 44000)),\n",
       " Row(read_time=datetime.datetime(2025, 2, 22, 15, 59, 14, 44000)),\n",
       " Row(read_time=datetime.datetime(2025, 2, 22, 15, 59, 14, 44000)),\n",
       " Row(read_time=datetime.datetime(2025, 2, 22, 15, 59, 14, 44000)),\n",
       " Row(read_time=datetime.datetime(2025, 2, 22, 15, 59, 14, 44000)),\n",
       " Row(read_time=datetime.datetime(2025, 2, 22, 15, 59, 14, 44000)),\n",
       " Row(read_time=datetime.datetime(2025, 2, 22, 15, 59, 14, 44000)),\n",
       " Row(read_time=datetime.datetime(2025, 2, 22, 15, 59, 14, 44000)),\n",
       " Row(read_time=datetime.datetime(2025, 2, 22, 16, 8, 45, 127000)),\n",
       " Row(read_time=datetime.datetime(2025, 2, 22, 16, 7, 2, 63000)),\n",
       " Row(read_time=datetime.datetime(2025, 2, 22, 15, 54, 29, 120000)),\n",
       " Row(read_time=datetime.datetime(2025, 2, 22, 16, 14, 46, 264000)),\n",
       " Row(read_time=datetime.datetime(2025, 2, 22, 16, 14, 46, 264000)),\n",
       " Row(read_time=datetime.datetime(2025, 2, 22, 16, 14, 46, 264000)),\n",
       " Row(read_time=datetime.datetime(2025, 2, 22, 16, 14, 46, 264000)),\n",
       " Row(read_time=datetime.datetime(2025, 2, 22, 16, 14, 46, 264000)),\n",
       " Row(read_time=datetime.datetime(2025, 2, 22, 16, 14, 46, 264000)),\n",
       " Row(read_time=datetime.datetime(2025, 2, 22, 16, 14, 46, 264000)),\n",
       " Row(read_time=datetime.datetime(2025, 2, 22, 16, 14, 46, 264000)),\n",
       " Row(read_time=datetime.datetime(2025, 2, 22, 16, 14, 46, 264000)),\n",
       " Row(read_time=datetime.datetime(2025, 2, 22, 16, 7, 32, 966000)),\n",
       " Row(read_time=datetime.datetime(2025, 2, 22, 16, 9, 16, 369000)),\n",
       " Row(read_time=datetime.datetime(2025, 2, 22, 15, 55, 17, 641000)),\n",
       " Row(read_time=datetime.datetime(2025, 2, 22, 15, 53, 55, 317000)),\n",
       " Row(read_time=datetime.datetime(2025, 2, 22, 16, 22, 0, 555000)),\n",
       " Row(read_time=datetime.datetime(2025, 2, 22, 16, 21, 36, 249000)),\n",
       " Row(read_time=datetime.datetime(2025, 2, 22, 16, 21, 36, 249000)),\n",
       " Row(read_time=datetime.datetime(2025, 2, 22, 16, 21, 36, 249000)),\n",
       " Row(read_time=datetime.datetime(2025, 2, 22, 16, 21, 36, 249000)),\n",
       " Row(read_time=datetime.datetime(2025, 2, 22, 16, 21, 36, 249000)),\n",
       " Row(read_time=datetime.datetime(2025, 2, 22, 16, 21, 36, 249000)),\n",
       " Row(read_time=datetime.datetime(2025, 2, 22, 16, 21, 36, 249000)),\n",
       " Row(read_time=datetime.datetime(2025, 2, 22, 16, 21, 36, 249000)),\n",
       " Row(read_time=datetime.datetime(2025, 2, 22, 16, 21, 36, 249000)),\n",
       " Row(read_time=datetime.datetime(2025, 2, 22, 16, 21, 36, 249000)),\n",
       " Row(read_time=datetime.datetime(2025, 2, 22, 16, 21, 36, 249000)),\n",
       " Row(read_time=datetime.datetime(2025, 2, 22, 16, 4, 27, 376000)),\n",
       " Row(read_time=datetime.datetime(2025, 2, 22, 16, 3, 25, 633000)),\n",
       " Row(read_time=datetime.datetime(2025, 2, 22, 16, 6, 12, 228000)),\n",
       " Row(read_time=datetime.datetime(2025, 2, 22, 16, 6, 12, 228000)),\n",
       " Row(read_time=datetime.datetime(2025, 2, 22, 16, 6, 12, 228000)),\n",
       " Row(read_time=datetime.datetime(2025, 2, 22, 16, 6, 12, 228000)),\n",
       " Row(read_time=datetime.datetime(2025, 2, 22, 16, 0, 51, 440000)),\n",
       " Row(read_time=datetime.datetime(2025, 2, 22, 16, 2, 15, 281000)),\n",
       " Row(read_time=datetime.datetime(2025, 2, 22, 16, 2, 15, 281000)),\n",
       " Row(read_time=datetime.datetime(2025, 2, 22, 16, 2, 15, 281000)),\n",
       " Row(read_time=datetime.datetime(2025, 2, 22, 16, 22, 13, 303000)),\n",
       " Row(read_time=datetime.datetime(2025, 2, 22, 16, 22, 13, 303000)),\n",
       " Row(read_time=datetime.datetime(2025, 2, 22, 16, 22, 13, 303000)),\n",
       " Row(read_time=datetime.datetime(2025, 2, 22, 16, 2, 35, 523000)),\n",
       " Row(read_time=datetime.datetime(2025, 2, 22, 16, 2, 35, 523000)),\n",
       " Row(read_time=datetime.datetime(2025, 2, 22, 16, 2, 35, 523000)),\n",
       " Row(read_time=datetime.datetime(2025, 2, 22, 16, 2, 35, 523000)),\n",
       " Row(read_time=datetime.datetime(2025, 2, 22, 15, 53, 37, 793000)),\n",
       " Row(read_time=datetime.datetime(2025, 2, 22, 15, 53, 37, 793000)),\n",
       " Row(read_time=datetime.datetime(2025, 2, 22, 15, 53, 37, 793000)),\n",
       " Row(read_time=datetime.datetime(2025, 2, 22, 15, 55, 38, 230000)),\n",
       " Row(read_time=datetime.datetime(2025, 2, 22, 16, 3, 56, 537000)),\n",
       " Row(read_time=datetime.datetime(2025, 2, 22, 16, 3, 56, 537000)),\n",
       " Row(read_time=datetime.datetime(2025, 2, 22, 15, 59, 49, 593000)),\n",
       " Row(read_time=datetime.datetime(2025, 2, 22, 16, 2, 3, 343000)),\n",
       " Row(read_time=datetime.datetime(2025, 2, 22, 15, 29, 41, 926000)),\n",
       " Row(read_time=datetime.datetime(2025, 2, 22, 15, 53, 24, 417000)),\n",
       " Row(read_time=datetime.datetime(2025, 2, 22, 16, 1, 55, 371000)),\n",
       " Row(read_time=datetime.datetime(2025, 2, 22, 16, 1, 55, 371000)),\n",
       " Row(read_time=datetime.datetime(2025, 2, 22, 16, 1, 55, 371000)),\n",
       " Row(read_time=datetime.datetime(2025, 2, 22, 16, 1, 55, 371000)),\n",
       " Row(read_time=datetime.datetime(2025, 2, 22, 16, 1, 3, 526000)),\n",
       " Row(read_time=datetime.datetime(2025, 2, 22, 16, 1, 3, 526000)),\n",
       " Row(read_time=datetime.datetime(2025, 2, 22, 16, 1, 3, 526000)),\n",
       " Row(read_time=datetime.datetime(2025, 2, 22, 16, 1, 3, 526000)),\n",
       " Row(read_time=datetime.datetime(2025, 2, 22, 16, 22, 23, 619000)),\n",
       " Row(read_time=datetime.datetime(2025, 2, 22, 16, 22, 23, 619000)),\n",
       " Row(read_time=datetime.datetime(2025, 2, 22, 16, 22, 23, 619000)),\n",
       " Row(read_time=datetime.datetime(2025, 2, 22, 16, 22, 23, 619000)),\n",
       " Row(read_time=datetime.datetime(2025, 2, 22, 16, 3, 36, 155000)),\n",
       " Row(read_time=datetime.datetime(2025, 2, 22, 16, 1, 13, 665000)),\n",
       " Row(read_time=datetime.datetime(2025, 2, 22, 16, 1, 13, 665000)),\n",
       " Row(read_time=datetime.datetime(2025, 2, 22, 16, 1, 13, 665000)),\n",
       " Row(read_time=datetime.datetime(2025, 2, 22, 16, 1, 13, 665000)),\n",
       " Row(read_time=datetime.datetime(2025, 2, 22, 15, 54, 38, 348000)),\n",
       " Row(read_time=datetime.datetime(2025, 2, 22, 15, 54, 38, 348000)),\n",
       " Row(read_time=datetime.datetime(2025, 2, 22, 15, 54, 38, 348000)),\n",
       " Row(read_time=datetime.datetime(2025, 2, 22, 15, 54, 38, 348000)),\n",
       " Row(read_time=datetime.datetime(2025, 2, 22, 16, 6, 0, 266000)),\n",
       " Row(read_time=datetime.datetime(2025, 2, 22, 16, 6, 41, 436000)),\n",
       " Row(read_time=datetime.datetime(2025, 2, 22, 15, 52, 4, 178000)),\n",
       " Row(read_time=datetime.datetime(2025, 2, 22, 15, 52, 4, 178000)),\n",
       " Row(read_time=datetime.datetime(2025, 2, 22, 15, 52, 4, 178000)),\n",
       " Row(read_time=datetime.datetime(2025, 2, 22, 15, 52, 4, 178000)),\n",
       " Row(read_time=datetime.datetime(2025, 2, 22, 16, 7, 44, 742000)),\n",
       " Row(read_time=datetime.datetime(2025, 2, 22, 16, 7, 44, 742000)),\n",
       " Row(read_time=datetime.datetime(2025, 2, 22, 16, 7, 44, 742000)),\n",
       " Row(read_time=datetime.datetime(2025, 2, 22, 16, 4, 8, 70000)),\n",
       " Row(read_time=datetime.datetime(2025, 2, 22, 16, 4, 8, 70000)),\n",
       " Row(read_time=datetime.datetime(2025, 2, 22, 16, 4, 8, 70000)),\n",
       " Row(read_time=datetime.datetime(2025, 2, 22, 16, 4, 8, 70000)),\n",
       " Row(read_time=datetime.datetime(2025, 2, 22, 16, 9, 26, 344000)),\n",
       " Row(read_time=datetime.datetime(2025, 2, 22, 16, 15, 15, 385000)),\n",
       " Row(read_time=datetime.datetime(2025, 2, 22, 16, 0, 40, 981000)),\n",
       " Row(read_time=datetime.datetime(2025, 2, 22, 15, 59, 51, 708000)),\n",
       " Row(read_time=datetime.datetime(2025, 2, 22, 15, 59, 51, 708000)),\n",
       " Row(read_time=datetime.datetime(2025, 2, 22, 16, 6, 32, 495000)),\n",
       " Row(read_time=datetime.datetime(2025, 2, 22, 16, 6, 32, 495000)),\n",
       " Row(read_time=datetime.datetime(2025, 2, 22, 16, 6, 32, 495000)),\n",
       " Row(read_time=datetime.datetime(2025, 2, 22, 15, 54, 15, 994000)),\n",
       " Row(read_time=datetime.datetime(2025, 2, 22, 16, 8, 36, 282000)),\n",
       " Row(read_time=datetime.datetime(2025, 2, 22, 16, 8, 36, 282000)),\n",
       " Row(read_time=datetime.datetime(2025, 2, 22, 16, 5, 39, 605000)),\n",
       " Row(read_time=datetime.datetime(2025, 2, 22, 16, 5, 10, 250000)),\n",
       " Row(read_time=datetime.datetime(2025, 2, 22, 16, 5, 10, 250000)),\n",
       " Row(read_time=datetime.datetime(2025, 2, 22, 15, 53, 26, 527000)),\n",
       " Row(read_time=datetime.datetime(2025, 2, 22, 15, 53, 26, 527000)),\n",
       " Row(read_time=datetime.datetime(2025, 2, 22, 15, 53, 26, 527000)),\n",
       " Row(read_time=datetime.datetime(2025, 2, 22, 15, 29, 0, 721000)),\n",
       " Row(read_time=datetime.datetime(2025, 2, 22, 15, 54, 58, 609000)),\n",
       " Row(read_time=datetime.datetime(2025, 2, 22, 15, 54, 58, 609000)),\n",
       " Row(read_time=datetime.datetime(2025, 2, 22, 15, 54, 58, 609000)),\n",
       " Row(read_time=datetime.datetime(2025, 2, 22, 15, 51, 23, 982000)),\n",
       " Row(read_time=datetime.datetime(2025, 2, 22, 15, 51, 23, 982000)),\n",
       " Row(read_time=datetime.datetime(2025, 2, 22, 15, 51, 23, 982000)),\n",
       " Row(read_time=datetime.datetime(2025, 2, 22, 16, 2, 25, 590000)),\n",
       " Row(read_time=datetime.datetime(2025, 2, 22, 16, 2, 25, 590000)),\n",
       " Row(read_time=datetime.datetime(2025, 2, 22, 16, 2, 25, 590000)),\n",
       " Row(read_time=datetime.datetime(2025, 2, 22, 16, 2, 25, 590000)),\n",
       " Row(read_time=datetime.datetime(2025, 2, 22, 16, 2, 54, 805000)),\n",
       " Row(read_time=datetime.datetime(2025, 2, 22, 16, 14, 54, 859000)),\n",
       " Row(read_time=datetime.datetime(2025, 2, 22, 16, 14, 54, 859000)),\n",
       " Row(read_time=datetime.datetime(2025, 2, 22, 15, 55, 20, 498000)),\n",
       " Row(read_time=datetime.datetime(2025, 2, 22, 15, 55, 20, 498000)),\n",
       " Row(read_time=datetime.datetime(2025, 2, 22, 15, 55, 20, 498000)),\n",
       " Row(read_time=datetime.datetime(2025, 2, 22, 15, 55, 20, 498000)),\n",
       " Row(read_time=datetime.datetime(2025, 2, 22, 16, 1, 44, 536000)),\n",
       " Row(read_time=datetime.datetime(2025, 2, 22, 16, 1, 44, 536000)),\n",
       " Row(read_time=datetime.datetime(2025, 2, 22, 16, 1, 44, 536000)),\n",
       " Row(read_time=datetime.datetime(2025, 2, 22, 16, 6, 10, 537000)),\n",
       " Row(read_time=datetime.datetime(2025, 2, 22, 16, 2, 46, 248000)),\n",
       " Row(read_time=datetime.datetime(2025, 2, 22, 16, 2, 46, 248000)),\n",
       " Row(read_time=datetime.datetime(2025, 2, 22, 16, 2, 46, 248000)),\n",
       " Row(read_time=datetime.datetime(2025, 2, 22, 16, 2, 46, 248000)),\n",
       " Row(read_time=datetime.datetime(2025, 2, 22, 15, 55, 7, 354000)),\n",
       " Row(read_time=datetime.datetime(2025, 2, 22, 16, 7, 55, 427000)),\n",
       " Row(read_time=datetime.datetime(2025, 2, 22, 16, 7, 55, 427000)),\n",
       " Row(read_time=datetime.datetime(2025, 2, 22, 16, 7, 55, 427000)),\n",
       " Row(read_time=datetime.datetime(2025, 2, 22, 16, 7, 55, 427000)),\n",
       " Row(read_time=datetime.datetime(2025, 2, 22, 15, 53, 14, 144000)),\n",
       " Row(read_time=datetime.datetime(2025, 2, 22, 16, 6, 22, 147000)),\n",
       " Row(read_time=datetime.datetime(2025, 2, 22, 16, 6, 22, 147000)),\n",
       " Row(read_time=datetime.datetime(2025, 2, 22, 16, 6, 22, 147000)),\n",
       " Row(read_time=datetime.datetime(2025, 2, 22, 16, 6, 22, 147000)),\n",
       " Row(read_time=datetime.datetime(2025, 2, 22, 15, 59, 39, 202000)),\n",
       " Row(read_time=datetime.datetime(2025, 2, 22, 16, 9, 27, 782000)),\n",
       " Row(read_time=datetime.datetime(2025, 2, 22, 16, 9, 27, 782000)),\n",
       " Row(read_time=datetime.datetime(2025, 2, 22, 16, 9, 27, 782000)),\n",
       " Row(read_time=datetime.datetime(2025, 2, 22, 16, 9, 27, 782000)),\n",
       " Row(read_time=datetime.datetime(2025, 2, 22, 16, 7, 13, 705000)),\n",
       " Row(read_time=datetime.datetime(2025, 2, 22, 16, 7, 13, 705000)),\n",
       " Row(read_time=datetime.datetime(2025, 2, 22, 16, 7, 13, 705000)),\n",
       " Row(read_time=datetime.datetime(2025, 2, 22, 16, 4, 17, 82000)),\n",
       " Row(read_time=datetime.datetime(2025, 2, 22, 16, 3, 16, 675000)),\n",
       " Row(read_time=datetime.datetime(2025, 2, 22, 16, 3, 16, 675000)),\n",
       " Row(read_time=datetime.datetime(2025, 2, 22, 16, 3, 16, 675000)),\n",
       " Row(read_time=datetime.datetime(2025, 2, 22, 16, 3, 16, 675000)),\n",
       " Row(read_time=datetime.datetime(2025, 2, 22, 16, 15, 17, 700000)),\n",
       " Row(read_time=datetime.datetime(2025, 2, 22, 16, 15, 17, 700000)),\n",
       " Row(read_time=datetime.datetime(2025, 2, 22, 16, 15, 17, 700000)),\n",
       " Row(read_time=datetime.datetime(2025, 2, 22, 16, 15, 17, 700000)),\n",
       " Row(read_time=datetime.datetime(2025, 2, 22, 15, 29, 31, 631000)),\n",
       " Row(read_time=datetime.datetime(2025, 2, 22, 15, 52, 15, 134000)),\n",
       " Row(read_time=datetime.datetime(2025, 2, 22, 15, 52, 15, 134000)),\n",
       " Row(read_time=datetime.datetime(2025, 2, 22, 15, 52, 15, 134000)),\n",
       " Row(read_time=datetime.datetime(2025, 2, 22, 16, 5, 40, 975000)),\n",
       " Row(read_time=datetime.datetime(2025, 2, 22, 16, 5, 40, 975000)),\n",
       " Row(read_time=datetime.datetime(2025, 2, 22, 16, 5, 40, 975000)),\n",
       " Row(read_time=datetime.datetime(2025, 2, 22, 16, 5, 40, 975000)),\n",
       " Row(read_time=datetime.datetime(2025, 2, 22, 16, 8, 24, 560000)),\n",
       " Row(read_time=datetime.datetime(2025, 2, 22, 15, 53, 3, 861000)),\n",
       " Row(read_time=datetime.datetime(2025, 2, 22, 16, 6, 1, 617000)),\n",
       " Row(read_time=datetime.datetime(2025, 2, 22, 16, 6, 1, 617000)),\n",
       " Row(read_time=datetime.datetime(2025, 2, 22, 16, 3, 47, 519000)),\n",
       " Row(read_time=datetime.datetime(2025, 2, 22, 16, 3, 47, 519000)),\n",
       " Row(read_time=datetime.datetime(2025, 2, 22, 15, 53, 5, 881000)),\n",
       " Row(read_time=datetime.datetime(2025, 2, 22, 15, 53, 5, 881000)),\n",
       " Row(read_time=datetime.datetime(2025, 2, 22, 16, 0, 12, 661000)),\n",
       " Row(read_time=datetime.datetime(2025, 2, 22, 16, 0, 12, 661000)),\n",
       " Row(read_time=datetime.datetime(2025, 2, 22, 16, 0, 12, 661000)),\n",
       " Row(read_time=datetime.datetime(2025, 2, 22, 16, 2, 5, 194000)),\n",
       " Row(read_time=datetime.datetime(2025, 2, 22, 16, 2, 5, 194000)),\n",
       " Row(read_time=datetime.datetime(2025, 2, 22, 15, 53, 15, 659000)),\n",
       " Row(read_time=datetime.datetime(2025, 2, 22, 15, 53, 15, 659000)),\n",
       " Row(read_time=datetime.datetime(2025, 2, 22, 15, 53, 15, 659000)),\n",
       " Row(read_time=datetime.datetime(2025, 2, 22, 15, 53, 15, 659000)),\n",
       " Row(read_time=datetime.datetime(2025, 2, 22, 16, 8, 47, 19000)),\n",
       " Row(read_time=datetime.datetime(2025, 2, 22, 16, 8, 47, 19000)),\n",
       " Row(read_time=datetime.datetime(2025, 2, 22, 16, 8, 47, 19000)),\n",
       " Row(read_time=datetime.datetime(2025, 2, 22, 16, 21, 53, 191000)),\n",
       " Row(read_time=datetime.datetime(2025, 2, 22, 16, 21, 53, 191000)),\n",
       " Row(read_time=datetime.datetime(2025, 2, 22, 16, 21, 53, 191000)),\n",
       " Row(read_time=datetime.datetime(2025, 2, 22, 16, 21, 53, 191000)),\n",
       " Row(read_time=datetime.datetime(2025, 2, 22, 15, 56, 0, 921000)),\n",
       " Row(read_time=datetime.datetime(2025, 2, 22, 15, 56, 0, 921000)),\n",
       " Row(read_time=datetime.datetime(2025, 2, 22, 15, 56, 0, 921000)),\n",
       " Row(read_time=datetime.datetime(2025, 2, 22, 16, 0, 30, 715000)),\n",
       " Row(read_time=datetime.datetime(2025, 2, 22, 16, 14, 59, 678000)),\n",
       " Row(read_time=datetime.datetime(2025, 2, 22, 16, 14, 59, 678000)),\n",
       " Row(read_time=datetime.datetime(2025, 2, 22, 16, 14, 59, 678000)),\n",
       " Row(read_time=datetime.datetime(2025, 2, 22, 15, 55, 8, 711000)),\n",
       " Row(read_time=datetime.datetime(2025, 2, 22, 15, 55, 8, 711000)),\n",
       " Row(read_time=datetime.datetime(2025, 2, 22, 16, 8, 5, 405000)),\n",
       " Row(read_time=datetime.datetime(2025, 2, 22, 16, 8, 5, 405000)),\n",
       " Row(read_time=datetime.datetime(2025, 2, 22, 16, 1, 23, 506000)),\n",
       " Row(read_time=datetime.datetime(2025, 2, 22, 16, 1, 23, 506000)),\n",
       " Row(read_time=datetime.datetime(2025, 2, 22, 16, 1, 23, 506000)),\n",
       " Row(read_time=datetime.datetime(2025, 2, 22, 15, 54, 48, 154000)),\n",
       " Row(read_time=datetime.datetime(2025, 2, 22, 15, 54, 48, 154000)),\n",
       " Row(read_time=datetime.datetime(2025, 2, 22, 15, 54, 48, 154000)),\n",
       " Row(read_time=datetime.datetime(2025, 2, 22, 15, 54, 48, 154000)),\n",
       " Row(read_time=datetime.datetime(2025, 2, 22, 15, 52, 55, 657000)),\n",
       " Row(read_time=datetime.datetime(2025, 2, 22, 15, 52, 55, 657000)),\n",
       " Row(read_time=datetime.datetime(2025, 2, 22, 15, 52, 55, 657000)),\n",
       " Row(read_time=datetime.datetime(2025, 2, 22, 16, 0, 53, 157000)),\n",
       " Row(read_time=datetime.datetime(2025, 2, 22, 16, 0, 53, 157000)),\n",
       " Row(read_time=datetime.datetime(2025, 2, 22, 16, 4, 47, 929000)),\n",
       " Row(read_time=datetime.datetime(2025, 2, 22, 16, 5, 49, 882000)),\n",
       " Row(read_time=datetime.datetime(2025, 2, 22, 16, 4, 58, 299000)),\n",
       " Row(read_time=datetime.datetime(2025, 2, 22, 15, 54, 26, 204000)),\n",
       " Row(read_time=datetime.datetime(2025, 2, 22, 16, 4, 49, 309000)),\n",
       " Row(read_time=datetime.datetime(2025, 2, 22, 16, 4, 49, 309000)),\n",
       " Row(read_time=datetime.datetime(2025, 2, 22, 16, 4, 49, 309000)),\n",
       " Row(read_time=datetime.datetime(2025, 2, 22, 16, 5, 30, 774000)),\n",
       " Row(read_time=datetime.datetime(2025, 2, 22, 16, 5, 30, 774000)),\n",
       " Row(read_time=datetime.datetime(2025, 2, 22, 16, 6, 20, 886000)),\n",
       " Row(read_time=datetime.datetime(2025, 2, 22, 15, 55, 58, 927000)),\n",
       " Row(read_time=datetime.datetime(2025, 2, 22, 16, 5, 19, 64000)),\n",
       " Row(read_time=datetime.datetime(2025, 2, 22, 16, 7, 22, 687000)),\n",
       " Row(read_time=datetime.datetime(2025, 2, 22, 16, 7, 22, 687000)),\n",
       " Row(read_time=datetime.datetime(2025, 2, 22, 15, 54, 5, 639000)),\n",
       " Row(read_time=datetime.datetime(2025, 2, 22, 15, 51, 57, 78000)),\n",
       " Row(read_time=datetime.datetime(2025, 2, 22, 15, 51, 57, 78000)),\n",
       " Row(read_time=datetime.datetime(2025, 2, 22, 16, 2, 13, 670000)),\n",
       " Row(read_time=datetime.datetime(2025, 2, 22, 16, 2, 34, 171000)),\n",
       " Row(read_time=datetime.datetime(2025, 2, 22, 16, 3, 6, 643000)),\n",
       " Row(read_time=datetime.datetime(2025, 2, 22, 16, 3, 6, 643000)),\n",
       " Row(read_time=datetime.datetime(2025, 2, 22, 16, 3, 6, 643000)),\n",
       " Row(read_time=datetime.datetime(2025, 2, 22, 15, 53, 56, 806000)),\n",
       " Row(read_time=datetime.datetime(2025, 2, 22, 15, 53, 56, 806000)),\n",
       " Row(read_time=datetime.datetime(2025, 2, 22, 15, 53, 56, 806000)),\n",
       " Row(read_time=datetime.datetime(2025, 2, 22, 15, 59, 41, 394000)),\n",
       " Row(read_time=datetime.datetime(2025, 2, 22, 15, 59, 41, 394000)),\n",
       " Row(read_time=datetime.datetime(2025, 2, 22, 15, 52, 46, 483000)),\n",
       " Row(read_time=datetime.datetime(2025, 2, 22, 15, 52, 46, 483000)),\n",
       " Row(read_time=datetime.datetime(2025, 2, 22, 15, 52, 46, 483000)),\n",
       " Row(read_time=datetime.datetime(2025, 2, 22, 15, 59, 20, 57000)),\n",
       " Row(read_time=datetime.datetime(2025, 2, 22, 15, 59, 20, 57000)),\n",
       " Row(read_time=datetime.datetime(2025, 2, 22, 15, 59, 20, 57000)),\n",
       " Row(read_time=datetime.datetime(2025, 2, 22, 15, 59, 20, 57000)),\n",
       " Row(read_time=datetime.datetime(2025, 2, 22, 16, 3, 37, 970000)),\n",
       " Row(read_time=datetime.datetime(2025, 2, 22, 16, 3, 37, 970000)),\n",
       " Row(read_time=datetime.datetime(2025, 2, 22, 15, 59, 28, 992000)),\n",
       " Row(read_time=datetime.datetime(2025, 2, 22, 16, 8, 26, 162000)),\n",
       " Row(read_time=datetime.datetime(2025, 2, 22, 16, 8, 26, 162000)),\n",
       " Row(read_time=datetime.datetime(2025, 2, 22, 16, 8, 26, 162000)),\n",
       " Row(read_time=datetime.datetime(2025, 2, 22, 16, 21, 41, 506000)),\n",
       " Row(read_time=datetime.datetime(2025, 2, 22, 16, 21, 41, 506000)),\n",
       " Row(read_time=datetime.datetime(2025, 2, 22, 16, 21, 41, 506000)),\n",
       " Row(read_time=datetime.datetime(2025, 2, 22, 16, 21, 41, 506000)),\n",
       " Row(read_time=datetime.datetime(2025, 2, 22, 15, 55, 29, 418000)),\n",
       " Row(read_time=datetime.datetime(2025, 2, 22, 15, 55, 29, 418000)),\n",
       " Row(read_time=datetime.datetime(2025, 2, 22, 15, 55, 29, 418000)),\n",
       " Row(read_time=datetime.datetime(2025, 2, 22, 16, 22, 4, 479000)),\n",
       " Row(read_time=datetime.datetime(2025, 2, 22, 16, 22, 4, 479000)),\n",
       " Row(read_time=datetime.datetime(2025, 2, 22, 16, 22, 4, 479000)),\n",
       " Row(read_time=datetime.datetime(2025, 2, 22, 16, 1, 53, 61000)),\n",
       " Row(read_time=datetime.datetime(2025, 2, 22, 16, 7, 12, 417000)),\n",
       " Row(read_time=datetime.datetime(2025, 2, 22, 16, 7, 12, 417000)),\n",
       " Row(read_time=datetime.datetime(2025, 2, 22, 16, 4, 18, 437000)),\n",
       " Row(read_time=datetime.datetime(2025, 2, 22, 16, 4, 18, 437000)),\n",
       " Row(read_time=datetime.datetime(2025, 2, 22, 16, 8, 55, 404000)),\n",
       " Row(read_time=datetime.datetime(2025, 2, 22, 16, 7, 34, 814000)),\n",
       " Row(read_time=datetime.datetime(2025, 2, 22, 16, 7, 34, 814000)),\n",
       " Row(read_time=datetime.datetime(2025, 2, 22, 15, 52, 43, 250000)),\n",
       " Row(read_time=datetime.datetime(2025, 2, 22, 16, 7, 24, 150000)),\n",
       " Row(read_time=datetime.datetime(2025, 2, 22, 16, 7, 24, 150000)),\n",
       " Row(read_time=datetime.datetime(2025, 2, 22, 16, 7, 24, 150000)),\n",
       " Row(read_time=datetime.datetime(2025, 2, 22, 16, 1, 32, 478000)),\n",
       " Row(read_time=datetime.datetime(2025, 2, 22, 16, 9, 17, 588000)),\n",
       " Row(read_time=datetime.datetime(2025, 2, 22, 16, 9, 17, 588000)),\n",
       " Row(read_time=datetime.datetime(2025, 2, 22, 15, 54, 46, 756000)),\n",
       " Row(read_time=datetime.datetime(2025, 2, 22, 16, 3, 57, 821000)),\n",
       " Row(read_time=datetime.datetime(2025, 2, 22, 16, 3, 57, 821000)),\n",
       " Row(read_time=datetime.datetime(2025, 2, 22, 16, 3, 57, 821000)),\n",
       " Row(read_time=datetime.datetime(2025, 2, 22, 16, 0, 42, 873000)),\n",
       " Row(read_time=datetime.datetime(2025, 2, 22, 16, 0, 42, 873000)),\n",
       " Row(read_time=datetime.datetime(2025, 2, 22, 16, 0, 42, 873000)),\n",
       " Row(read_time=datetime.datetime(2025, 2, 22, 16, 1, 34, 231000)),\n",
       " Row(read_time=datetime.datetime(2025, 2, 22, 16, 1, 34, 231000)),\n",
       " Row(read_time=datetime.datetime(2025, 2, 22, 16, 1, 34, 231000)),\n",
       " Row(read_time=datetime.datetime(2025, 2, 22, 16, 1, 34, 231000)),\n",
       " Row(read_time=datetime.datetime(2025, 2, 22, 15, 52, 2, 132000)),\n",
       " Row(read_time=datetime.datetime(2025, 2, 22, 16, 1, 1, 632000)),\n",
       " Row(read_time=datetime.datetime(2025, 2, 22, 16, 4, 29, 136000)),\n",
       " Row(read_time=datetime.datetime(2025, 2, 22, 16, 4, 29, 136000)),\n",
       " Row(read_time=datetime.datetime(2025, 2, 22, 16, 4, 29, 136000)),\n",
       " Row(read_time=datetime.datetime(2025, 2, 22, 16, 5, 20, 859000)),\n",
       " Row(read_time=datetime.datetime(2025, 2, 22, 16, 5, 20, 859000)),\n",
       " Row(read_time=datetime.datetime(2025, 2, 22, 16, 0, 20, 486000)),\n",
       " Row(read_time=datetime.datetime(2025, 2, 22, 16, 3, 27, 11000)),\n",
       " Row(read_time=datetime.datetime(2025, 2, 22, 16, 3, 27, 11000)),\n",
       " Row(read_time=datetime.datetime(2025, 2, 22, 16, 15, 8, 46000)),\n",
       " Row(read_time=datetime.datetime(2025, 2, 22, 16, 15, 8, 46000)),\n",
       " Row(read_time=datetime.datetime(2025, 2, 22, 16, 8, 4, 58000)),\n",
       " Row(read_time=datetime.datetime(2025, 2, 22, 16, 2, 56, 355000)),\n",
       " Row(read_time=datetime.datetime(2025, 2, 22, 16, 2, 56, 355000)),\n",
       " Row(read_time=datetime.datetime(2025, 2, 22, 16, 2, 56, 355000)),\n",
       " Row(read_time=datetime.datetime(2025, 2, 22, 16, 2, 56, 355000)),\n",
       " Row(read_time=datetime.datetime(2025, 2, 22, 15, 54, 36, 476000)),\n",
       " Row(read_time=datetime.datetime(2025, 2, 22, 16, 6, 42, 687000)),\n",
       " Row(read_time=datetime.datetime(2025, 2, 22, 16, 6, 42, 687000)),\n",
       " Row(read_time=datetime.datetime(2025, 2, 22, 16, 6, 42, 687000)),\n",
       " Row(read_time=datetime.datetime(2025, 2, 22, 16, 4, 37, 664000)),\n",
       " Row(read_time=datetime.datetime(2025, 2, 22, 16, 0, 32, 627000)),\n",
       " Row(read_time=datetime.datetime(2025, 2, 22, 16, 0, 32, 627000)),\n",
       " Row(read_time=datetime.datetime(2025, 2, 22, 16, 4, 6, 818000)),\n",
       " Row(read_time=datetime.datetime(2025, 2, 22, 15, 54, 57, 40000)),\n",
       " Row(read_time=datetime.datetime(2025, 2, 22, 15, 54, 6, 995000)),\n",
       " Row(read_time=datetime.datetime(2025, 2, 22, 15, 54, 6, 995000)),\n",
       " Row(read_time=datetime.datetime(2025, 2, 22, 15, 54, 6, 995000)),\n",
       " Row(read_time=datetime.datetime(2025, 2, 22, 16, 6, 53, 91000)),\n",
       " Row(read_time=datetime.datetime(2025, 2, 22, 15, 54, 17, 948000)),\n",
       " Row(read_time=datetime.datetime(2025, 2, 22, 15, 54, 17, 948000)),\n",
       " Row(read_time=datetime.datetime(2025, 2, 22, 15, 54, 17, 948000)),\n",
       " Row(read_time=datetime.datetime(2025, 2, 22, 15, 28, 34, 42000)),\n",
       " Row(read_time=datetime.datetime(2025, 2, 22, 15, 28, 34, 42000)),\n",
       " Row(read_time=datetime.datetime(2025, 2, 22, 15, 28, 34, 42000)),\n",
       " Row(read_time=datetime.datetime(2025, 2, 22, 15, 28, 34, 42000)),\n",
       " Row(read_time=datetime.datetime(2025, 2, 22, 15, 28, 50, 279000)),\n",
       " Row(read_time=datetime.datetime(2025, 2, 22, 16, 8, 14, 290000)),\n",
       " Row(read_time=datetime.datetime(2025, 2, 22, 16, 0, 22, 213000)),\n",
       " Row(read_time=datetime.datetime(2025, 2, 22, 16, 0, 22, 213000)),\n",
       " Row(read_time=datetime.datetime(2025, 2, 22, 16, 0, 22, 213000)),\n",
       " Row(read_time=datetime.datetime(2025, 2, 22, 16, 6, 51, 843000)),\n",
       " Row(read_time=datetime.datetime(2025, 2, 22, 16, 8, 34, 856000)),\n",
       " Row(read_time=datetime.datetime(2025, 2, 22, 16, 8, 15, 911000)),\n",
       " Row(read_time=datetime.datetime(2025, 2, 22, 16, 8, 15, 911000)),\n",
       " Row(read_time=datetime.datetime(2025, 2, 22, 16, 8, 15, 911000)),\n",
       " Row(read_time=datetime.datetime(2025, 2, 22, 15, 29, 21, 341000)),\n",
       " Row(read_time=datetime.datetime(2025, 2, 22, 15, 51, 52, 533000)),\n",
       " Row(read_time=datetime.datetime(2025, 2, 22, 15, 52, 35, 93000)),\n",
       " Row(read_time=datetime.datetime(2025, 2, 22, 15, 52, 35, 93000)),\n",
       " Row(read_time=datetime.datetime(2025, 2, 22, 16, 6, 31, 169000)),\n",
       " Row(read_time=datetime.datetime(2025, 2, 22, 16, 7, 3, 810000)),\n",
       " Row(read_time=datetime.datetime(2025, 2, 22, 16, 7, 3, 810000)),\n",
       " Row(read_time=datetime.datetime(2025, 2, 22, 16, 7, 3, 810000)),\n",
       " Row(read_time=datetime.datetime(2025, 2, 22, 16, 4, 59, 992000)),\n",
       " Row(read_time=datetime.datetime(2025, 2, 22, 16, 4, 59, 992000)),\n",
       " Row(read_time=datetime.datetime(2025, 2, 22, 16, 1, 42, 739000)),\n",
       " Row(read_time=datetime.datetime(2025, 2, 22, 15, 55, 49, 960000)),\n",
       " Row(read_time=datetime.datetime(2025, 2, 22, 16, 5, 51, 213000)),\n",
       " Row(read_time=datetime.datetime(2025, 2, 22, 16, 5, 51, 213000)),\n",
       " Row(read_time=datetime.datetime(2025, 2, 22, 16, 15, 5, 120000)),\n",
       " Row(read_time=datetime.datetime(2025, 2, 22, 16, 9, 5, 770000)),\n",
       " Row(read_time=datetime.datetime(2025, 2, 22, 15, 53, 34, 769000)),\n",
       " Row(read_time=datetime.datetime(2025, 2, 22, 16, 7, 53, 565000)),\n",
       " Row(read_time=datetime.datetime(2025, 2, 22, 15, 51, 43, 107000)),\n",
       " Row(read_time=datetime.datetime(2025, 2, 22, 16, 1, 22, 197000)),\n",
       " Row(read_time=datetime.datetime(2025, 2, 22, 16, 22, 21, 212000)),\n",
       " Row(read_time=datetime.datetime(2025, 2, 22, 16, 1, 11, 923000)),\n",
       " Row(read_time=datetime.datetime(2025, 2, 22, 16, 0, 1, 871000)),\n",
       " Row(read_time=datetime.datetime(2025, 2, 22, 16, 0, 1, 871000)),\n",
       " Row(read_time=datetime.datetime(2025, 2, 22, 16, 2, 23, 891000)),\n",
       " Row(read_time=datetime.datetime(2025, 2, 22, 16, 7, 43, 271000)),\n",
       " Row(read_time=datetime.datetime(2025, 2, 22, 15, 52, 22, 745000)),\n",
       " Row(read_time=datetime.datetime(2025, 2, 22, 15, 59, 59, 818000)),\n",
       " Row(read_time=datetime.datetime(2025, 2, 22, 15, 52, 24, 948000)),\n",
       " Row(read_time=datetime.datetime(2025, 2, 22, 15, 52, 24, 948000)),\n",
       " Row(read_time=datetime.datetime(2025, 2, 22, 16, 3, 5, 72000)),\n",
       " Row(read_time=datetime.datetime(2025, 2, 22, 16, 9, 7, 122000)),\n",
       " Row(read_time=datetime.datetime(2025, 2, 22, 16, 9, 7, 122000)),\n",
       " Row(read_time=datetime.datetime(2025, 2, 22, 15, 59, 31, 323000)),\n",
       " Row(read_time=datetime.datetime(2025, 2, 22, 15, 59, 31, 323000)),\n",
       " Row(read_time=datetime.datetime(2025, 2, 22, 15, 52, 32, 964000)),\n",
       " Row(read_time=datetime.datetime(2025, 2, 22, 16, 4, 38, 955000)),\n",
       " Row(read_time=datetime.datetime(2025, 2, 22, 16, 22, 10, 857000)),\n",
       " Row(read_time=datetime.datetime(2025, 2, 22, 15, 55, 27, 943000)),\n",
       " Row(read_time=datetime.datetime(2025, 2, 22, 15, 29, 11, 36000)),\n",
       " Row(read_time=datetime.datetime(2025, 2, 22, 16, 8, 57, 108000)),\n",
       " Row(read_time=datetime.datetime(2025, 2, 22, 16, 5, 29, 330000)),\n",
       " Row(read_time=datetime.datetime(2025, 2, 22, 16, 0, 10, 89000)),\n",
       " Row(read_time=datetime.datetime(2025, 2, 22, 15, 55, 48, 494000)),\n",
       " Row(read_time=datetime.datetime(2025, 2, 22, 15, 52, 12, 406000)),\n",
       " Row(read_time=datetime.datetime(2025, 2, 22, 16, 5, 8, 772000)),\n",
       " Row(read_time=datetime.datetime(2025, 2, 22, 16, 3, 15, 357000)),\n",
       " Row(read_time=datetime.datetime(2025, 2, 22, 15, 53, 45, 99000)),\n",
       " Row(read_time=datetime.datetime(2025, 2, 22, 15, 29, 52, 232000)),\n",
       " Row(read_time=datetime.datetime(2025, 2, 22, 16, 2, 44, 462000)),\n",
       " Row(read_time=datetime.datetime(2025, 2, 22, 16, 3, 46, 183000)),\n",
       " Row(read_time=datetime.datetime(2025, 2, 22, 15, 53, 47, 70000)),\n",
       " Row(read_time=datetime.datetime(2025, 2, 22, 15, 52, 53, 535000)),\n",
       " Row(read_time=datetime.datetime(2025, 2, 22, 16, 21, 50, 282000))]"
      ]
     },
     "execution_count": 16,
     "metadata": {},
     "output_type": "execute_result"
    }
   ],
   "source": [
    "df.select(\"read_time\").collect()"
   ]
  },
  {
   "cell_type": "code",
   "execution_count": 7,
   "id": "9608812b-9ec2-48c2-aa88-22805245ab63",
   "metadata": {
    "tags": []
   },
   "outputs": [
    {
     "name": "stdout",
     "output_type": "stream",
     "text": [
      "root\n",
      " |-- genres_id: integer (nullable = true)\n",
      " |-- id: integer (nullable = true)\n",
      "\n"
     ]
    }
   ],
   "source": [
    "df = spark.read.format(\"delta\").load(\"s3a://lakehouse/gold/movie_genre\")\n",
    "df.printSchema()"
   ]
  },
  {
   "cell_type": "code",
   "execution_count": 31,
   "id": "3fd2a9c5-7443-4760-ba75-9c4d89df39db",
   "metadata": {
    "tags": []
   },
   "outputs": [],
   "source": [
    "import boto3\n",
    "import pandas as pd\n",
    "def connect_minio():\n",
    "    try:\n",
    "        s3_client = boto3.client(\n",
    "            \"s3\",\n",
    "            aws_access_key_id=\"conbo123\",\n",
    "            aws_secret_access_key=\"123conbo\",\n",
    "            endpoint_url='http://minio:9000' \n",
    "        )\n",
    "        return s3_client\n",
    "    except Exception as e:\n",
    "        logging.error(f\"Error connecting to MinIO: {str(e)}\")\n",
    "        raise e\n",
    "\n",
    "def get_data_from_raw(name):\n",
    "    try:\n",
    "        client = connect_minio()\n",
    "        response = client.get_object(Bucket=\"lakehouse\", Key=f'raw/{name}.csv')\n",
    "        df = pd.read_csv(response.get(\"Body\"), low_memory=False)\n",
    "        return df\n",
    "    except Exception as e:\n",
    "        logging.error(f\"Error getting data from MinIO: {str(e)}\")\n",
    "        raise e\n",
    "\n",
    "# Hàm ghi dữ liệu vào MinIO\n",
    "def save_data_to_bronze(df, name):\n",
    "    try:\n",
    "        client = connect_minio()\n",
    "        # Sử dụng BytesIO để lưu trữ dữ liệu dưới dạng Parquet\n",
    "        parquet_buffer = BytesIO()\n",
    "        df.to_parquet(parquet_buffer, index=False)\n",
    "        parquet_buffer.seek(0)  # Reset buffer position\n",
    "        client.put_object(Bucket=\"lakehouse\", Key=f'bronze/{name}.parquet', Body=parquet_buffer.getvalue())\n",
    "        logging.info(f\"Data saved to bronze/{name}.parquet successfully.\")\n",
    "    except Exception as e:\n",
    "        logging.error(f\"Error saving data to MinIO: {str(e)}\")\n",
    "        raise e"
   ]
  },
  {
   "cell_type": "code",
   "execution_count": null,
   "id": "9035a62d-c961-4814-bd08-d79b894ca427",
   "metadata": {
    "tags": []
   },
   "outputs": [],
   "source": [
    "df = get_data_from_raw('ratings')\n",
    "save_data_to_bronze(df, 'ratings')"
   ]
  },
  {
   "cell_type": "code",
   "execution_count": 3,
   "id": "6dd27905-cdbe-45ac-b805-734ca2045a3c",
   "metadata": {
    "tags": []
   },
   "outputs": [],
   "source": [
    "df = spark.read.format(\"csv\").load(\"s3a://lakehouse/raw/ratings.csv\")"
   ]
  },
  {
   "cell_type": "code",
   "execution_count": 4,
   "id": "047c82af-46a6-4885-b85c-5b20a2a8674f",
   "metadata": {
    "tags": []
   },
   "outputs": [],
   "source": [
    "df.write.format(\"parquet\").save(\"s3a://lakehouse/bronze/ratings.parquet\")"
   ]
  },
  {
   "cell_type": "markdown",
   "id": "cf15fb28-b141-4225-80e1-d71cabcd256d",
   "metadata": {},
   "source": [
    "# DIM MOVIE\n",
    "### [\"movie_id\", \"title\", \"original_title\", \"language\", \"overview\",\"runtime\", \"tagline\", \"status\", \"homepage\"]"
   ]
  },
  {
   "cell_type": "code",
   "execution_count": 20,
   "id": "30f67fbb-35b7-4e17-b6d9-df48393c1c4e",
   "metadata": {
    "tags": []
   },
   "outputs": [],
   "source": [
    "df_silver_movies = spark.read.format(\"parquet\").load(\"s3a://lakehouse/bronze/movies.parquet\")"
   ]
  },
  {
   "cell_type": "code",
   "execution_count": 21,
   "id": "92d7d7ad-6442-49c6-b732-bc7e375d88b3",
   "metadata": {
    "tags": []
   },
   "outputs": [
    {
     "name": "stdout",
     "output_type": "stream",
     "text": [
      "root\n",
      " |-- adult: string (nullable = true)\n",
      " |-- belongs_to_collection: string (nullable = true)\n",
      " |-- budget: string (nullable = true)\n",
      " |-- genres: string (nullable = true)\n",
      " |-- homepage: string (nullable = true)\n",
      " |-- id: string (nullable = true)\n",
      " |-- imdb_id: string (nullable = true)\n",
      " |-- original_language: string (nullable = true)\n",
      " |-- original_title: string (nullable = true)\n",
      " |-- overview: string (nullable = true)\n",
      " |-- popularity: string (nullable = true)\n",
      " |-- poster_path: string (nullable = true)\n",
      " |-- production_companies: string (nullable = true)\n",
      " |-- production_countries: string (nullable = true)\n",
      " |-- release_date: string (nullable = true)\n",
      " |-- revenue: double (nullable = true)\n",
      " |-- runtime: double (nullable = true)\n",
      " |-- spoken_languages: string (nullable = true)\n",
      " |-- status: string (nullable = true)\n",
      " |-- tagline: string (nullable = true)\n",
      " |-- title: string (nullable = true)\n",
      " |-- video: boolean (nullable = true)\n",
      " |-- vote_average: double (nullable = true)\n",
      " |-- vote_count: double (nullable = true)\n",
      "\n"
     ]
    }
   ],
   "source": [
    "df_silver_movies.printSchema()"
   ]
  },
  {
   "cell_type": "code",
   "execution_count": 4,
   "id": "2e5a303e-774c-44ba-90cc-179ad9e7c04e",
   "metadata": {
    "tags": []
   },
   "outputs": [
    {
     "ename": "NameError",
     "evalue": "name 'df_silver_movies' is not defined",
     "output_type": "error",
     "traceback": [
      "\u001b[0;31m---------------------------------------------------------------------------\u001b[0m",
      "\u001b[0;31mNameError\u001b[0m                                 Traceback (most recent call last)",
      "Cell \u001b[0;32mIn[4], line 1\u001b[0m\n\u001b[0;32m----> 1\u001b[0m df_silver_movies \u001b[38;5;241m=\u001b[39m \u001b[43mdf_silver_movies\u001b[49m\u001b[38;5;241m.\u001b[39mdropna(subset\u001b[38;5;241m=\u001b[39m[\u001b[38;5;124m\"\u001b[39m\u001b[38;5;124mtitle\u001b[39m\u001b[38;5;124m\"\u001b[39m, \u001b[38;5;124m\"\u001b[39m\u001b[38;5;124mrelease_date\u001b[39m\u001b[38;5;124m\"\u001b[39m, \u001b[38;5;124m\"\u001b[39m\u001b[38;5;124mbudget\u001b[39m\u001b[38;5;124m\"\u001b[39m])\n\u001b[1;32m      2\u001b[0m df_silver_movies \u001b[38;5;241m=\u001b[39m df_silver_movies\u001b[38;5;241m.\u001b[39mdropDuplicates()\n",
      "\u001b[0;31mNameError\u001b[0m: name 'df_silver_movies' is not defined"
     ]
    }
   ],
   "source": [
    "df_silver_movies = df_silver_movies.dropna(subset=[\"title\", \"release_date\", \"budget\"])\n",
    "df_silver_movies = df_silver_movies.dropDuplicates()\n"
   ]
  },
  {
   "cell_type": "code",
   "execution_count": 21,
   "id": "8a59d7ae-4cf5-44c4-a52e-9b4c2dd51461",
   "metadata": {
    "tags": []
   },
   "outputs": [],
   "source": [
    "df_silver_movies = df_silver_movies.withColumn(\"id\", col(\"id\").cast(LongType()))\n",
    "\n",
    "df_dim_movie = df_silver_movies.select(\n",
    "    \"id\",  \n",
    "    \"title\", \"original_title\", col(\"spoken_languages\").alias(\"language\"), \"overview\", \n",
    "    \"runtime\", \"tagline\", \"status\", \"homepage\"\n",
    ")\n",
    "df_dim_movie.write.format(\"delta\").mode(\"overwrite\").option(\"overwriteSchema\", \"true\").save(\"s3a://lakehouse/silver_T/dim_movie\")"
   ]
  },
  {
   "cell_type": "markdown",
   "id": "8ad3809e-1a6f-4181-beef-b461f2c9a1cf",
   "metadata": {},
   "source": [
    "# DIM KEYWORD "
   ]
  },
  {
   "cell_type": "code",
   "execution_count": 14,
   "id": "be6f8249-bea8-4844-9849-7c5df53c722c",
   "metadata": {
    "tags": []
   },
   "outputs": [
    {
     "name": "stdout",
     "output_type": "stream",
     "text": [
      "+-----+--------------------------------------------------------------------------------------------------------------------------------------------------------------------------------------------------------------------------------------------------------------------------------------------------------------------------------------------------------------------------------------------------------------------------------------------------------------------------------+\n",
      "|id   |keywords                                                                                                                                                                                                                                                                                                                                                                                                                                                                        |\n",
      "+-----+--------------------------------------------------------------------------------------------------------------------------------------------------------------------------------------------------------------------------------------------------------------------------------------------------------------------------------------------------------------------------------------------------------------------------------------------------------------------------------+\n",
      "|13685|[{'id': 380, 'name': 'brother brother relationship'}, {'id': 642, 'name': 'robbery'}, {'id': 1437, 'name': 'burglar'}, {'id': 2568, 'name': 'language barrier'}, {'id': 2669, 'name': 'motel'}, {'id': 10183, 'name': 'independent film'}, {'id': 10323, 'name': 'psychiatric hospital'}, {'id': 13097, 'name': 'maid'}, {'id': 14604, 'name': 'theft'}, {'id': 15274, 'name': 'nervous breakdown'}, {'id': 187710, 'name': 'escapade'}, {'id': 187717, 'name': 'laundry room'}]|\n",
      "+-----+--------------------------------------------------------------------------------------------------------------------------------------------------------------------------------------------------------------------------------------------------------------------------------------------------------------------------------------------------------------------------------------------------------------------------------------------------------------------------------+\n",
      "\n"
     ]
    }
   ],
   "source": [
    "df = spark.read.format(\"parquet\").load(\"s3a://lakehouse/bronze/keywords.parquet\")\n",
    "df = df.filter((col(\"keywords\").isNotNull()) & (col(\"keywords\") != \"[]\"))\n",
    "df.filter(col(\"id\") == 13685).show(truncate=False)\n"
   ]
  },
  {
   "cell_type": "code",
   "execution_count": 3,
   "id": "c5b51d3a-e117-4d63-a842-98f9ddeeb20a",
   "metadata": {
    "tags": []
   },
   "outputs": [
    {
     "name": "stdout",
     "output_type": "stream",
     "text": [
      "+------------------------+------+\n",
      "|name                    |id    |\n",
      "+------------------------+------+\n",
      "|jealousy                |931   |\n",
      "|toy                     |4290  |\n",
      "|boy                     |5202  |\n",
      "|friendship              |6054  |\n",
      "|friends                 |9713  |\n",
      "|rivalry                 |9823  |\n",
      "|boy next door           |165503|\n",
      "|new toy                 |170722|\n",
      "|toy comes to life       |187065|\n",
      "|board game              |10090 |\n",
      "|disappearance           |10941 |\n",
      "|based on children's book|15101 |\n",
      "|new home                |33467 |\n",
      "|recluse                 |158086|\n",
      "|giant insect            |158091|\n",
      "|fishing                 |1495  |\n",
      "|best friend             |12392 |\n",
      "|duringcreditsstinger    |179431|\n",
      "|old men                 |208510|\n",
      "|based on novel          |818   |\n",
      "+------------------------+------+\n",
      "only showing top 20 rows\n",
      "\n"
     ]
    }
   ],
   "source": [
    "df = spark.read.format(\"parquet\").load(\"s3a://lakehouse/bronze/keywords.parquet\")\n",
    "keyword_schema = ArrayType(\n",
    "    StructType([\n",
    "        StructField(\"id\", IntegerType(), True),\n",
    "        StructField(\"name\", StringType(), True)\n",
    "    ])\n",
    ")\n",
    "df_parsed = df.withColumn(\"keywords\", from_json(col(\"keywords\"), keyword_schema))\n",
    "\n",
    "# Explode cột cast để có nhiều dòng\n",
    "df_exploded = df_parsed.withColumn(\"keywords\", explode(col(\"keywords\")))\n",
    "\n",
    "# Chọn các trường cần thiết\n",
    "df_selected = df_exploded.select(\n",
    "    col(\"keywords.name\"),\n",
    "    col(\"keywords.id\")\n",
    ")\n",
    "df_selected.dropDuplicates([\"id\"])\n",
    "# Hiển thị kết quả\n",
    "df_selected.show(truncate=False)"
   ]
  },
  {
   "cell_type": "code",
   "execution_count": 4,
   "id": "9ddd3c1e-3e28-4153-9c46-4a5c776e61e7",
   "metadata": {
    "tags": []
   },
   "outputs": [],
   "source": [
    "df_selected.write.format(\"delta\").mode(\"overwrite\").option(\"overwriteSchema\", \"true\").save(\"s3a://lakehouse/silver_T/dim_keyword\")"
   ]
  },
  {
   "cell_type": "code",
   "execution_count": null,
   "id": "812f51cf-fb15-47b7-aba7-f57ce345ad55",
   "metadata": {},
   "outputs": [],
   "source": []
  },
  {
   "cell_type": "markdown",
   "id": "48c4f8d4-f7bc-479b-bf4c-3600d3258547",
   "metadata": {},
   "source": [
    "# DIM CAST\n",
    "### cast_id, name, gender, profile_path\n"
   ]
  },
  {
   "cell_type": "code",
   "execution_count": 4,
   "id": "e4aa05ef-b68c-46f0-ac3c-5f410d4f8a4e",
   "metadata": {},
   "outputs": [
    {
     "name": "stdout",
     "output_type": "stream",
     "text": [
      "root\n",
      " |-- cast: string (nullable = true)\n",
      " |-- crew: string (nullable = true)\n",
      " |-- id: long (nullable = true)\n",
      "\n"
     ]
    }
   ],
   "source": [
    "df_dim_cast = spark.read.format(\"parquet\").load(\"s3a://lakehouse/bronze/credits.parquet\")\n",
    "df_dim_cast.printSchema()"
   ]
  },
  {
   "cell_type": "code",
   "execution_count": 6,
   "id": "297bc84f-edd4-4aa2-b86e-b2f72d56d5aa",
   "metadata": {},
   "outputs": [
    {
     "name": "stdout",
     "output_type": "stream",
     "text": [
      "+------------------+------+--------------------------------+------------------------+-------+\n",
      "|name              |gender|profile_path                    |credit_id               |id     |\n",
      "+------------------+------+--------------------------------+------------------------+-------+\n",
      "|Walter Matthau    |2     |/xJVkvprOnzP5Zdh5y63y8HHniDZ.jpg|52fe466a9251416c75077a8d|6837   |\n",
      "|Jack Lemmon       |2     |/chZmNRYMtqkiDlatprGDH4BzGqG.jpg|52fe466a9251416c75077a91|3151   |\n",
      "|Ann-Margret       |1     |/jx5lTaJ5VXZHYB52gaOTAZ9STZk.jpg|52fe466a9251416c75077a95|13567  |\n",
      "|Sophia Loren      |1     |/emKLhbji1c7BjcA2DdbWf0EP9zH.jpg|52fe466a9251416c75077a99|16757  |\n",
      "|Daryl Hannah      |1     |/4LLmp6AQdlj6ueGCRbVRSGvvFSt.jpg|52fe466a9251416c75077a9d|589    |\n",
      "|Burgess Meredith  |2     |/lm98oKloU33Q7QDIIMSyc4Pr2jA.jpg|53e5fcc2c3a3684430000d65|16523  |\n",
      "|Kevin Pollak      |2     |/kwu2T8CDnThZTzE88uiSgJ5eHXf.jpg|53e5fcd4c3a3684433000e1a|7166   |\n",
      "|Whitney Houston   |1     |/69ouDnXnmklYPr4sMJXWKYz81AL.jpg|52fe44779251416c91011aad|8851   |\n",
      "|Angela Bassett    |1     |/tHkgSzhEuJKp5hqp0DZLad8HNZ9.jpg|52fe44779251416c91011ab1|9780   |\n",
      "|Loretta Devine    |1     |/zLQFwQTFtHkb8sbFdkPNamFI7jv.jpg|52fe44779251416c91011ab5|18284  |\n",
      "|Lela Rochon       |1     |/9DBu3r5O4fBosSS4FnSzFCVpm0O.jpg|52fe44779251416c91011ab9|51359  |\n",
      "|Gregory Hines     |2     |/rvvQWFQGeGR14WFVNe0Qg1J7uVY.jpg|52fe44779251416c91011abd|66804  |\n",
      "|Dennis Haysbert   |2     |/mn5Nc5Q31GslpVVWs8p41W4TBma.jpg|52fe44779251416c91011ac1|352    |\n",
      "|Michael Beach     |2     |/lOlWhURNKyZHn71dvq7qC7fiwN6.jpg|52fe44779251416c91011ac5|87118  |\n",
      "|Mykelti Williamson|2     |/8TTxzpuvvpw2tB8xZBCDslYupNU.jpg|52fe44779251416c91011acf|34     |\n",
      "|Lamont Johnson    |2     |/wfZzRPJBdsx62GbkUimc1PShxyC.jpg|56d1b15fc3a3681e4a008b6b|1276777|\n",
      "|Wesley Snipes     |2     |/hQ6EBa6vgu7HoZpzms8Y10VL5Iw.jpg|56f8a929c3a36816e80084f3|10814  |\n",
      "|Steve Martin      |2     |/rI2EMvkfKKPKa5z0nM2pFVBtUyO.jpg|52fe44959251416c75039eb9|67773  |\n",
      "|Diane Keaton      |1     |/fzgUMnbOkxC6E3EFcYHWHFaiKyp.jpg|52fe44959251416c75039ebd|3092   |\n",
      "|Martin Short      |2     |/oZQorXBjTxrdkTJFpoDwOcQ91ji.jpg|52fe44959251416c75039ec1|519    |\n",
      "+------------------+------+--------------------------------+------------------------+-------+\n",
      "only showing top 20 rows\n",
      "\n"
     ]
    }
   ],
   "source": [
    "cast_schema = ArrayType(\n",
    "    StructType([\n",
    "        StructField(\"cast_id\", IntegerType(), True),\n",
    "        StructField(\"character\", StringType(), True),\n",
    "        StructField(\"credit_id\", StringType(), True),\n",
    "        StructField(\"gender\", IntegerType(), True),\n",
    "        StructField(\"id\", LongType(), True),\n",
    "        StructField(\"name\", StringType(), True),\n",
    "        StructField(\"order\", IntegerType(), True),\n",
    "        StructField(\"profile_path\", StringType(), True)\n",
    "    ])\n",
    ")\n",
    "df_parsed = df_dim_cast.withColumn(\"cast\", from_json(col(\"cast\"), cast_schema))\n",
    "\n",
    "# Explode cột cast để có nhiều dòng\n",
    "df_exploded = df_parsed.withColumn(\"cast\", explode(col(\"cast\")))\n",
    "\n",
    "# Chọn các trường cần thiết\n",
    "df_selected = df_exploded.select(\n",
    "    col(\"cast.name\"),\n",
    "    col(\"cast.gender\"),\n",
    "    col(\"cast.profile_path\"),\n",
    "    col(\"cast.credit_id\"),\n",
    "    col(\"cast.id\")\n",
    ")\n",
    "\n",
    "# Hiển thị kết quả\n",
    "df_selected.show(truncate=False)"
   ]
  },
  {
   "cell_type": "code",
   "execution_count": 7,
   "id": "a0e194bc-32a5-4a05-ab77-0b728bb115ec",
   "metadata": {
    "tags": []
   },
   "outputs": [],
   "source": [
    "df_dim_cast  = df_selected.dropDuplicates([\"id\"]).filter(col(\"id\").isNotNull())\n"
   ]
  },
  {
   "cell_type": "code",
   "execution_count": 8,
   "id": "1f3ac56f-9a5b-4c1d-99c3-6ee77d87a202",
   "metadata": {},
   "outputs": [],
   "source": [
    "df_dim_cast.write.format(\"delta\").mode(\"overwrite\").option(\"overwriteSchema\", \"true\").save(\"s3a://lakehouse/silver_T/dim_cast\")"
   ]
  },
  {
   "cell_type": "markdown",
   "id": "d13e848f-ce60-4008-9943-294aacc377d2",
   "metadata": {},
   "source": [
    "# DIM CREW\n",
    "### id, name,  department, job, gender, credit_ID"
   ]
  },
  {
   "cell_type": "code",
   "execution_count": 15,
   "id": "376955da-f48d-4eba-b618-3890aca0447c",
   "metadata": {
    "tags": []
   },
   "outputs": [
    {
     "name": "stdout",
     "output_type": "stream",
     "text": [
      "+--------------------+--------------------+-----+\n",
      "|                cast|                crew|   id|\n",
      "+--------------------+--------------------+-----+\n",
      "|[{'cast_id': 14, ...|[{'credit_id': '5...|  862|\n",
      "|[{'cast_id': 1, '...|[{'credit_id': '5...| 8844|\n",
      "|[{'cast_id': 2, '...|[{'credit_id': '5...|15602|\n",
      "|[{'cast_id': 1, '...|[{'credit_id': '5...|31357|\n",
      "|[{'cast_id': 1, '...|[{'credit_id': '5...|11862|\n",
      "|[{'cast_id': 25, ...|[{'credit_id': '5...|  949|\n",
      "|[{'cast_id': 1, '...|[{'credit_id': '5...|11860|\n",
      "|[{'cast_id': 2, '...|[{'credit_id': '5...|45325|\n",
      "|[{'cast_id': 1, '...|[{'credit_id': '5...| 9091|\n",
      "|[{'cast_id': 1, '...|[{'credit_id': '5...|  710|\n",
      "|[{'cast_id': 1, '...|[{'credit_id': '5...| 9087|\n",
      "|[{'cast_id': 9, '...|[{'credit_id': '5...|12110|\n",
      "|[{'cast_id': 1, '...|[{'credit_id': '5...|21032|\n",
      "|[{'cast_id': 1, '...|[{'credit_id': '5...|10858|\n",
      "|[{'cast_id': 1, '...|[{'credit_id': '5...| 1408|\n",
      "|[{'cast_id': 4, '...|[{'credit_id': '5...|  524|\n",
      "|[{'cast_id': 6, '...|[{'credit_id': '5...| 4584|\n",
      "|[{'cast_id': 42, ...|[{'credit_id': '5...|    5|\n",
      "|[{'cast_id': 1, '...|[{'credit_id': '5...| 9273|\n",
      "|[{'cast_id': 1, '...|[{'credit_id': '5...|11517|\n",
      "+--------------------+--------------------+-----+\n",
      "only showing top 20 rows\n",
      "\n"
     ]
    }
   ],
   "source": [
    "df = spark.read.format(\"parquet\").load(\"s3a://lakehouse/bronze/credits.parquet\") \n",
    "df_filtered = df.filter((col(\"cast\") != \"[]\") & (col(\"crew\") != \"[]\"))\n",
    "df_filtered.show()"
   ]
  },
  {
   "cell_type": "code",
   "execution_count": 19,
   "id": "4f5a440e-0f05-457f-b17e-f64f4d15f286",
   "metadata": {
    "tags": []
   },
   "outputs": [
    {
     "name": "stdout",
     "output_type": "stream",
     "text": [
      "+----+---------------------------------------------------------------------------------------------------------------------------------------------------------------------+-----+\n",
      "|cast|crew                                                                                                                                                                 |id   |\n",
      "+----+---------------------------------------------------------------------------------------------------------------------------------------------------------------------+-----+\n",
      "|[]  |[{'credit_id': '52fe4624c3a36847f80ef0a5', 'department': 'Directing', 'gender': 2, 'id': 129216, 'job': 'Director', 'name': 'Theodore Thomas', 'profile_path': None}]|42981|\n",
      "+----+---------------------------------------------------------------------------------------------------------------------------------------------------------------------+-----+\n",
      "\n"
     ]
    }
   ],
   "source": [
    "df.filter(col(\"id\") == 42981).show(truncate=False)"
   ]
  },
  {
   "cell_type": "code",
   "execution_count": 15,
   "id": "f2bf1964-ff99-4d54-bc8f-c8d5f50748a0",
   "metadata": {
    "tags": []
   },
   "outputs": [],
   "source": [
    "df_dim_crew = spark.read.format(\"parquet\").load(\"s3a://lakehouse/bronze/credits.parquet\")\n"
   ]
  },
  {
   "cell_type": "code",
   "execution_count": 16,
   "id": "445c6e28-8f77-47f3-bd32-79c3cdd38715",
   "metadata": {
    "tags": []
   },
   "outputs": [
    {
     "name": "stdout",
     "output_type": "stream",
     "text": [
      "+--------------------+------+--------------------------------+------------------------+---+-----------------------+----------+\n",
      "|name                |gender|profile_path                    |credit_id               |id |job                    |department|\n",
      "+--------------------+------+--------------------------------+------------------------+---+-----------------------+----------+\n",
      "|Mark Hamill         |2     |/ws544EgE5POxGJqq9LUfhnDrHtV.jpg|52fe44dcc3a368484e03b025|2  |Director               |Directing |\n",
      "|Carrie Fisher       |1     |/pbleNurCYdrLFQMEnlQB2nkOR1O.jpg|52fe4440c3a368484e01852d|4  |Novel                  |Writing   |\n",
      "|Albert Brooks       |2     |/kahlMTdygrPJ28VYRhKPavYD9hs.jpg|52fe44e1c3a368484e03c4dd|13 |Director               |Directing |\n",
      "|Ellen DeGeneres     |1     |/4LG2bFkqOzxzR1kpnoDcwIVuQTG.jpg|52fe44fdc3a368484e0426ed|14 |Writer                 |Writing   |\n",
      "|Barry Humphries     |2     |/ccJHmzU8wzOe4sAmeVeScu5mygl.jpg|52fe4480c3a368484e026db9|22 |Writer                 |Writing   |\n",
      "|Robert Zemeckis     |2     |/isCuZ9PWIOyXzdf3ihodXzjIumL.jpg|52fe48cdc3a36847f817a4b5|24 |Director               |Directing |\n",
      "|Eric Roth           |2     |/e73ADDpR3vT1Bwa0Q0oRp5RQWTb.jpg|52fe4a82c3a36847f81d2107|27 |Writer                 |Writing   |\n",
      "|Tom Hanks           |2     |/pQFoyx7rp09CJTAb932F2g8Nlho.jpg|55e4f0abc3a368140800047e|31 |Producer               |Production|\n",
      "|Orson Welles        |2     |/2DF3e98c7GGa1uJJvpgIiMPg0h2.jpg|52fe4672c3a36847f80ff931|40 |Director               |Directing |\n",
      "|Lars von Trier      |2     |/AlfUoJTJlns0XeJROH7Zqt9SvYr.jpg|52fe45839251416c91034ed7|42 |Director               |Directing |\n",
      "|John Fawcett        |2     |/ArR5IXmo5yqjH4I6kcO9W5u9rDC.jpg|54177f100e0a2637ef0002e0|43 |Director               |Directing |\n",
      "|Luc Besson          |2     |/dXJdczT1NcvcZtnoWVGT0NmG11v.jpg|52fe47c49251416c750a4b0d|59 |Director               |Directing |\n",
      "|Chris Tucker        |2     |/9RQvgEi1GnPK4QzqOGHL3jP3VZr.jpg|559e873f9251412dbe001721|66 |Writer                 |Writing   |\n",
      "|Erich Pommer        |2     |/oClAs4W1TRc2jtYCU4CdtXlEhPZ.jpg|52fe48e99251416c750b73d1|67 |Producer               |Production|\n",
      "|Fritz Lang          |2     |/fQAlhdBDnUYXzkezvyzjLB72pvw.jpg|52fe48e99251416c750b73c5|68 |Director               |Directing |\n",
      "|Karl Freund         |2     |/rp4KICz1DHmkYRlzkrqKWwWZm9U.jpg|56d683f6c3a3682cef007d34|70 |Director of Photography|Camera    |\n",
      "|Bruce Brown         |2     |/t2yDx3OLqFNzCjIOWIjEHbzrRcb.jpg|52fe448dc3a368484e029383|86 |Director               |Directing |\n",
      "|Roger Deakins       |2     |/osGe7eLKNIErFLn1RHJDeYTYOmb.jpg|52fe44a49251416c7503be3f|151|Director of Photography|Camera    |\n",
      "|Sally Menke         |1     |/8cUdiGU7KhBgd8UNnoUYNCMZYgQ.jpg|584ef939c3a3682a8a00139e|156|Editor                 |Editing   |\n",
      "|Michael Winterbottom|2     |/hnzUhUXiWy7ThflTzPTRb869mnB.jpg|52fe4796c3a36847f813dc97|172|Director               |Directing |\n",
      "+--------------------+------+--------------------------------+------------------------+---+-----------------------+----------+\n",
      "only showing top 20 rows\n",
      "\n"
     ]
    }
   ],
   "source": [
    "crew_schema = ArrayType(\n",
    "    StructType([\n",
    "        StructField(\"credit_id\", StringType(), True),\n",
    "        StructField(\"department\", StringType(), True),\n",
    "        StructField(\"gender\", IntegerType(), True),\n",
    "        StructField(\"id\", LongType(), True),\n",
    "        StructField(\"job\", StringType(), True),\n",
    "        StructField(\"name\", StringType(), True),\n",
    "        StructField(\"profile_path\", StringType(), True)\n",
    "    ])\n",
    ")\n",
    "df_parsed = df_dim_crew.withColumn(\"crew\", from_json(col(\"crew\"), crew_schema))\n",
    "# Explode cột cast để có nhiều dòng\n",
    "df_exploded = df_parsed.withColumn(\"crew\", explode(col(\"crew\")))\n",
    "\n",
    "# Chọn các trường cần thiết\n",
    "df_selected = df_exploded.select(\n",
    "    col(\"crew.name\"),\n",
    "    col(\"crew.gender\"),\n",
    "    col(\"crew.profile_path\"),\n",
    "    col(\"crew.credit_id\"),\n",
    "    col(\"crew.id\"),\n",
    "    col(\"crew.job\"),\n",
    "    col(\"crew.department\")\n",
    ")\n",
    "df_selected = df_selected.dropDuplicates([\"id\"]).filter(col(\"id\").isNotNull())\n",
    "# Hiển thị kết quả\n",
    "df_selected.show(truncate=False)"
   ]
  },
  {
   "cell_type": "code",
   "execution_count": 17,
   "id": "0913cb0f-321c-4004-83a1-698458725517",
   "metadata": {
    "tags": []
   },
   "outputs": [],
   "source": [
    "df_selected.write.format(\"delta\").mode(\"overwrite\").option(\"overwriteSchema\", \"true\").save(\"s3a://lakehouse/silver_T/dim_crew\")"
   ]
  },
  {
   "cell_type": "markdown",
   "id": "2020e627-ecfe-43a6-bc5e-160daa990cd1",
   "metadata": {},
   "source": [
    "# DIM DATE"
   ]
  },
  {
   "cell_type": "code",
   "execution_count": 6,
   "id": "673fda4d-69a9-4e7d-bc71-54f0ccf6a068",
   "metadata": {
    "tags": []
   },
   "outputs": [
    {
     "name": "stdout",
     "output_type": "stream",
     "text": [
      "+------------+---------+---------+----------+---------+----------+---------+-----------+-------+----+---------+--------+\n",
      "|release_date|DayOfWeek|  DayName|DayOfMonth|DayOfYear|WeekOfYear|MonthName|MonthOfYear|Quarter|Year|IsWeekDay| DATE_ID|\n",
      "+------------+---------+---------+----------+---------+----------+---------+-----------+-------+----+---------+--------+\n",
      "|  1996-10-25|        6|   Friday|        25|      299|        43|  October|         10|      4|1996|     true|19961025|\n",
      "|  1988-08-28|        1|   Sunday|        28|      241|        34|   August|          8|      3|1988|    false|19880828|\n",
      "|  1988-05-11|        4|Wednesday|        11|      132|        19|      May|          5|      2|1988|     true|19880511|\n",
      "|  1984-02-16|        5| Thursday|        16|       47|         7| February|          2|      1|1984|     true|19840216|\n",
      "|  1986-05-01|        5| Thursday|         1|      121|        18|      May|          5|      2|1986|     true|19860501|\n",
      "|  1995-01-01|        1|   Sunday|         1|        1|        52|  January|          1|      1|1995|    false|19950101|\n",
      "|  1975-09-02|        3|  Tuesday|         2|      245|        36|September|          9|      3|1975|     true|19750902|\n",
      "|  1985-09-25|        4|Wednesday|        25|      268|        39|September|          9|      3|1985|     true|19850925|\n",
      "|  1989-11-17|        6|   Friday|        17|      321|        46| November|         11|      4|1989|     true|19891117|\n",
      "|  1992-08-28|        6|   Friday|        28|      241|        35|   August|          8|      3|1992|     true|19920828|\n",
      "|  1959-09-29|        3|  Tuesday|        29|      272|        40|September|          9|      3|1959|     true|19590929|\n",
      "|  1999-10-15|        6|   Friday|        15|      288|        41|  October|         10|      4|1999|     true|19991015|\n",
      "|  1985-01-25|        6|   Friday|        25|       25|         4|  January|          1|      1|1985|     true|19850125|\n",
      "|  1992-06-04|        5| Thursday|         4|      156|        23|     June|          6|      2|1992|     true|19920604|\n",
      "|  1947-09-25|        5| Thursday|        25|      268|        39|September|          9|      3|1947|     true|19470925|\n",
      "|  1991-06-20|        5| Thursday|        20|      171|        25|     June|          6|      2|1991|     true|19910620|\n",
      "|  1979-08-03|        6|   Friday|         3|      215|        31|   August|          8|      3|1979|     true|19790803|\n",
      "|  1958-12-25|        5| Thursday|        25|      359|        52| December|         12|      4|1958|     true|19581225|\n",
      "|  2000-06-15|        5| Thursday|        15|      167|        24|     June|          6|      2|2000|     true|20000615|\n",
      "|  1986-04-18|        6|   Friday|        18|      108|        16|    April|          4|      2|1986|     true|19860418|\n",
      "+------------+---------+---------+----------+---------+----------+---------+-----------+-------+----+---------+--------+\n",
      "only showing top 20 rows\n",
      "\n"
     ]
    }
   ],
   "source": [
    "df = spark.read.format(\"parquet\").load(\"s3a://lakehouse/bronze/movies.parquet\")\n",
    "df = df.dropna(subset=[\"title\", \"release_date\", \"budget\"])\n",
    "df = df.dropDuplicates()\n",
    "df = df.withColumn(\"parsed_date\", F.to_date(F.col(\"release_date\"), \"yyyy-MM-dd\"))\n",
    "\n",
    "result = df.select(\n",
    "    F.col(\"release_date\"),\n",
    "    F.dayofweek(\"parsed_date\").alias(\"DayOfWeek\"),\n",
    "    F.date_format(\"parsed_date\", \"EEEE\").alias(\"DayName\"),\n",
    "    F.dayofmonth(\"parsed_date\").alias(\"DayOfMonth\"),\n",
    "    F.dayofyear(\"parsed_date\").alias(\"DayOfYear\"),\n",
    "    F.weekofyear(\"parsed_date\").alias(\"WeekOfYear\"),\n",
    "    F.date_format(\"parsed_date\", \"MMMM\").alias(\"MonthName\"),\n",
    "    F.month(\"parsed_date\").alias(\"MonthOfYear\"),\n",
    "    F.quarter(\"parsed_date\").alias(\"Quarter\"),\n",
    "    F.year(\"parsed_date\").alias(\"Year\"),\n",
    "    F.when((F.dayofweek(\"parsed_date\") >= 2) & (F.dayofweek(\"parsed_date\") <= 6), True).otherwise(False).alias(\"IsWeekDay\")\n",
    ")\n",
    "result = result.withColumn(\n",
    "    \"DATE_ID\",\n",
    "    (F.col(\"Year\") * 10000 + F.col(\"MonthOfYear\") * 100 + F.col(\"DayOfMonth\")).cast(\"long\")\n",
    ")\n",
    "\n",
    "result.show()\n",
    "\n"
   ]
  },
  {
   "cell_type": "code",
   "execution_count": 8,
   "id": "ee43fd49-6585-4631-93b5-4fb5ae7cc6c5",
   "metadata": {
    "tags": []
   },
   "outputs": [],
   "source": [
    "result.write.format(\"delta\").mode(\"overwrite\").option(\"overwriteSchema\", \"true\").save(\"s3a://lakehouse/silver_T/dim_date\")"
   ]
  },
  {
   "cell_type": "markdown",
   "id": "5dc2e2d1-3bfd-468e-96c3-05eb46ad088a",
   "metadata": {},
   "source": [
    "# DIM GENRES\n",
    "### genre_id, name"
   ]
  },
  {
   "cell_type": "code",
   "execution_count": 8,
   "id": "ce681301-4e1a-4b5f-b623-681978a03c38",
   "metadata": {
    "tags": []
   },
   "outputs": [],
   "source": [
    "df = spark.read.format(\"parquet\").load(\"s3a://lakehouse/bronze/movies.parquet\")"
   ]
  },
  {
   "cell_type": "code",
   "execution_count": 13,
   "id": "62f5934f-8e49-4dd4-8ded-58e3f21ae936",
   "metadata": {
    "tags": []
   },
   "outputs": [
    {
     "ename": "AnalysisException",
     "evalue": "Cannot resolve column name \"id\" among (CAST(genres.id AS INT), name)",
     "output_type": "error",
     "traceback": [
      "\u001b[0;31m---------------------------------------------------------------------------\u001b[0m",
      "\u001b[0;31mAnalysisException\u001b[0m                         Traceback (most recent call last)",
      "Cell \u001b[0;32mIn[13], line 14\u001b[0m\n\u001b[1;32m      8\u001b[0m df_exploded \u001b[38;5;241m=\u001b[39m df_parsed\u001b[38;5;241m.\u001b[39mwithColumn(\u001b[38;5;124m\"\u001b[39m\u001b[38;5;124mgenres\u001b[39m\u001b[38;5;124m\"\u001b[39m, explode(col(\u001b[38;5;124m\"\u001b[39m\u001b[38;5;124mgenres\u001b[39m\u001b[38;5;124m\"\u001b[39m)))\n\u001b[1;32m     10\u001b[0m df_selected \u001b[38;5;241m=\u001b[39m df_exploded\u001b[38;5;241m.\u001b[39mselect(\n\u001b[1;32m     11\u001b[0m     col(\u001b[38;5;124m\"\u001b[39m\u001b[38;5;124mgenres.id\u001b[39m\u001b[38;5;124m\"\u001b[39m)\u001b[38;5;241m.\u001b[39mcast(\u001b[38;5;124m\"\u001b[39m\u001b[38;5;124mInteger\u001b[39m\u001b[38;5;124m\"\u001b[39m),\n\u001b[1;32m     12\u001b[0m     col(\u001b[38;5;124m\"\u001b[39m\u001b[38;5;124mgenres.name\u001b[39m\u001b[38;5;124m\"\u001b[39m)\n\u001b[1;32m     13\u001b[0m )\n\u001b[0;32m---> 14\u001b[0m df_selected \u001b[38;5;241m=\u001b[39m \u001b[43mdf_selected\u001b[49m\u001b[38;5;241;43m.\u001b[39;49m\u001b[43mdropDuplicates\u001b[49m\u001b[43m(\u001b[49m\u001b[43m[\u001b[49m\u001b[38;5;124;43m\"\u001b[39;49m\u001b[38;5;124;43mid\u001b[39;49m\u001b[38;5;124;43m\"\u001b[39;49m\u001b[43m]\u001b[49m\u001b[43m)\u001b[49m\n",
      "File \u001b[0;32m/usr/local/spark/python/pyspark/sql/dataframe.py:2403\u001b[0m, in \u001b[0;36mDataFrame.dropDuplicates\u001b[0;34m(self, subset)\u001b[0m\n\u001b[1;32m   2401\u001b[0m     jdf \u001b[38;5;241m=\u001b[39m \u001b[38;5;28mself\u001b[39m\u001b[38;5;241m.\u001b[39m_jdf\u001b[38;5;241m.\u001b[39mdropDuplicates()\n\u001b[1;32m   2402\u001b[0m \u001b[38;5;28;01melse\u001b[39;00m:\n\u001b[0;32m-> 2403\u001b[0m     jdf \u001b[38;5;241m=\u001b[39m \u001b[38;5;28;43mself\u001b[39;49m\u001b[38;5;241;43m.\u001b[39;49m\u001b[43m_jdf\u001b[49m\u001b[38;5;241;43m.\u001b[39;49m\u001b[43mdropDuplicates\u001b[49m\u001b[43m(\u001b[49m\u001b[38;5;28;43mself\u001b[39;49m\u001b[38;5;241;43m.\u001b[39;49m\u001b[43m_jseq\u001b[49m\u001b[43m(\u001b[49m\u001b[43msubset\u001b[49m\u001b[43m)\u001b[49m\u001b[43m)\u001b[49m\n\u001b[1;32m   2404\u001b[0m \u001b[38;5;28;01mreturn\u001b[39;00m DataFrame(jdf, \u001b[38;5;28mself\u001b[39m\u001b[38;5;241m.\u001b[39msparkSession)\n",
      "File \u001b[0;32m/usr/local/spark/python/lib/py4j-0.10.9.5-src.zip/py4j/java_gateway.py:1321\u001b[0m, in \u001b[0;36mJavaMember.__call__\u001b[0;34m(self, *args)\u001b[0m\n\u001b[1;32m   1315\u001b[0m command \u001b[38;5;241m=\u001b[39m proto\u001b[38;5;241m.\u001b[39mCALL_COMMAND_NAME \u001b[38;5;241m+\u001b[39m\\\n\u001b[1;32m   1316\u001b[0m     \u001b[38;5;28mself\u001b[39m\u001b[38;5;241m.\u001b[39mcommand_header \u001b[38;5;241m+\u001b[39m\\\n\u001b[1;32m   1317\u001b[0m     args_command \u001b[38;5;241m+\u001b[39m\\\n\u001b[1;32m   1318\u001b[0m     proto\u001b[38;5;241m.\u001b[39mEND_COMMAND_PART\n\u001b[1;32m   1320\u001b[0m answer \u001b[38;5;241m=\u001b[39m \u001b[38;5;28mself\u001b[39m\u001b[38;5;241m.\u001b[39mgateway_client\u001b[38;5;241m.\u001b[39msend_command(command)\n\u001b[0;32m-> 1321\u001b[0m return_value \u001b[38;5;241m=\u001b[39m \u001b[43mget_return_value\u001b[49m\u001b[43m(\u001b[49m\n\u001b[1;32m   1322\u001b[0m \u001b[43m    \u001b[49m\u001b[43manswer\u001b[49m\u001b[43m,\u001b[49m\u001b[43m \u001b[49m\u001b[38;5;28;43mself\u001b[39;49m\u001b[38;5;241;43m.\u001b[39;49m\u001b[43mgateway_client\u001b[49m\u001b[43m,\u001b[49m\u001b[43m \u001b[49m\u001b[38;5;28;43mself\u001b[39;49m\u001b[38;5;241;43m.\u001b[39;49m\u001b[43mtarget_id\u001b[49m\u001b[43m,\u001b[49m\u001b[43m \u001b[49m\u001b[38;5;28;43mself\u001b[39;49m\u001b[38;5;241;43m.\u001b[39;49m\u001b[43mname\u001b[49m\u001b[43m)\u001b[49m\n\u001b[1;32m   1324\u001b[0m \u001b[38;5;28;01mfor\u001b[39;00m temp_arg \u001b[38;5;129;01min\u001b[39;00m temp_args:\n\u001b[1;32m   1325\u001b[0m     temp_arg\u001b[38;5;241m.\u001b[39m_detach()\n",
      "File \u001b[0;32m/usr/local/spark/python/pyspark/sql/utils.py:196\u001b[0m, in \u001b[0;36mcapture_sql_exception.<locals>.deco\u001b[0;34m(*a, **kw)\u001b[0m\n\u001b[1;32m    192\u001b[0m converted \u001b[38;5;241m=\u001b[39m convert_exception(e\u001b[38;5;241m.\u001b[39mjava_exception)\n\u001b[1;32m    193\u001b[0m \u001b[38;5;28;01mif\u001b[39;00m \u001b[38;5;129;01mnot\u001b[39;00m \u001b[38;5;28misinstance\u001b[39m(converted, UnknownException):\n\u001b[1;32m    194\u001b[0m     \u001b[38;5;66;03m# Hide where the exception came from that shows a non-Pythonic\u001b[39;00m\n\u001b[1;32m    195\u001b[0m     \u001b[38;5;66;03m# JVM exception message.\u001b[39;00m\n\u001b[0;32m--> 196\u001b[0m     \u001b[38;5;28;01mraise\u001b[39;00m converted \u001b[38;5;28;01mfrom\u001b[39;00m \u001b[38;5;28mNone\u001b[39m\n\u001b[1;32m    197\u001b[0m \u001b[38;5;28;01melse\u001b[39;00m:\n\u001b[1;32m    198\u001b[0m     \u001b[38;5;28;01mraise\u001b[39;00m\n",
      "\u001b[0;31mAnalysisException\u001b[0m: Cannot resolve column name \"id\" among (CAST(genres.id AS INT), name)"
     ]
    }
   ],
   "source": [
    "genres_schema = ArrayType(\n",
    "    StructType([\n",
    "        StructField(\"id\", IntegerType(), True),\n",
    "        StructField(\"name\", StringType(), True)\n",
    "    ])\n",
    ")\n",
    "df_parsed = df.withColumn(\"genres\", from_json(col(\"genres\"), genres_schema))\n",
    "df_exploded = df_parsed.withColumn(\"genres\", explode(col(\"genres\")))\n",
    "\n",
    "df_selected = df_exploded.select(\n",
    "    col(\"genres.id\"),\n",
    "    col(\"genres.name\")\n",
    ")\n",
    "df_selected = df_selected.dropDuplicates(subset=[\"id\"])"
   ]
  },
  {
   "cell_type": "code",
   "execution_count": 13,
   "id": "6dff8db6-f1bb-4d8f-b05d-aba40f48d3cd",
   "metadata": {
    "tags": []
   },
   "outputs": [
    {
     "name": "stdout",
     "output_type": "stream",
     "text": [
      "+-----+--------------------+\n",
      "|   id|                name|\n",
      "+-----+--------------------+\n",
      "|   12|           Adventure|\n",
      "|   14|             Fantasy|\n",
      "|   16|           Animation|\n",
      "|   18|               Drama|\n",
      "|   27|              Horror|\n",
      "|   28|              Action|\n",
      "|   35|              Comedy|\n",
      "|   36|             History|\n",
      "|   37|             Western|\n",
      "|   53|            Thriller|\n",
      "|   80|               Crime|\n",
      "|   99|         Documentary|\n",
      "|  878|     Science Fiction|\n",
      "| 2883|             Aniplex|\n",
      "| 7759|             GoHands|\n",
      "| 7760|           BROSTA TV|\n",
      "| 7761|Mardock Scramble ...|\n",
      "| 9648|             Mystery|\n",
      "|10402|               Music|\n",
      "|10749|             Romance|\n",
      "+-----+--------------------+\n",
      "only showing top 20 rows\n",
      "\n"
     ]
    }
   ],
   "source": [
    "df_selected.show()"
   ]
  },
  {
   "cell_type": "code",
   "execution_count": 14,
   "id": "e2fa32db-2eba-4b51-8541-80b2e2e3b561",
   "metadata": {
    "tags": []
   },
   "outputs": [],
   "source": [
    "df_selected.write.format(\"delta\").mode(\"overwrite\").option(\"overwriteSchema\", \"true\").save(\"s3a://lakehouse/silver_T/dim_genres\")"
   ]
  },
  {
   "cell_type": "markdown",
   "id": "b9dd7cd3-1357-48da-8faa-6910dd40c6ac",
   "metadata": {},
   "source": [
    "# complete DIM"
   ]
  },
  {
   "cell_type": "code",
   "execution_count": 9,
   "id": "a18e3b80-eb16-4cb9-8667-326f145430c9",
   "metadata": {},
   "outputs": [
    {
     "name": "stdout",
     "output_type": "stream",
     "text": [
      "root\n",
      " |-- id: long (nullable = true)\n",
      " |-- title: string (nullable = true)\n",
      " |-- original_title: string (nullable = true)\n",
      " |-- language: string (nullable = true)\n",
      " |-- overview: string (nullable = true)\n",
      " |-- runtime: double (nullable = true)\n",
      " |-- tagline: string (nullable = true)\n",
      " |-- status: string (nullable = true)\n",
      " |-- homepage: string (nullable = true)\n",
      "\n"
     ]
    }
   ],
   "source": [
    "df_dimmovie = spark.read.format(\"delta\").load(\"s3a://lakehouse/silver_T/dim_movie\")\n",
    "df_dimmovie.printSchema()"
   ]
  },
  {
   "cell_type": "code",
   "execution_count": 10,
   "id": "a79a69c6-a6aa-4565-a25a-d6b99ac2b205",
   "metadata": {
    "tags": []
   },
   "outputs": [
    {
     "name": "stdout",
     "output_type": "stream",
     "text": [
      "root\n",
      " |-- name: string (nullable = true)\n",
      " |-- gender: integer (nullable = true)\n",
      " |-- profile_path: string (nullable = true)\n",
      " |-- credit_id: string (nullable = true)\n",
      " |-- id: long (nullable = true)\n",
      "\n"
     ]
    }
   ],
   "source": [
    "df_cast = spark.read.format(\"delta\").load(\"s3a://lakehouse/silver_T/dim_cast\")\n",
    "df_cast.printSchema()"
   ]
  },
  {
   "cell_type": "code",
   "execution_count": 11,
   "id": "ad22acc0-2345-43a5-be96-cbd9e556da7e",
   "metadata": {
    "tags": []
   },
   "outputs": [
    {
     "name": "stdout",
     "output_type": "stream",
     "text": [
      "root\n",
      " |-- name: string (nullable = true)\n",
      " |-- gender: integer (nullable = true)\n",
      " |-- profile_path: string (nullable = true)\n",
      " |-- credit_id: string (nullable = true)\n",
      " |-- id: long (nullable = true)\n",
      " |-- job: string (nullable = true)\n",
      " |-- department: string (nullable = true)\n",
      "\n"
     ]
    }
   ],
   "source": [
    "df_crew = spark.read.format(\"delta\").load(\"s3a://lakehouse/silver_T/dim_crew\")\n",
    "df_crew.printSchema()"
   ]
  },
  {
   "cell_type": "code",
   "execution_count": 12,
   "id": "24cfdca5-0ba0-4f57-89a7-d67ceddba669",
   "metadata": {
    "tags": []
   },
   "outputs": [
    {
     "name": "stdout",
     "output_type": "stream",
     "text": [
      "root\n",
      " |-- id: integer (nullable = true)\n",
      " |-- name: string (nullable = true)\n",
      "\n"
     ]
    }
   ],
   "source": [
    "df_genres = spark.read.format(\"delta\").load(\"s3a://lakehouse/silver_T/dim_genres\")\n",
    "df_genres.printSchema()"
   ]
  },
  {
   "cell_type": "code",
   "execution_count": 13,
   "id": "c392d11f-bade-48a7-ab4e-f3eb4f3f8dc1",
   "metadata": {
    "tags": []
   },
   "outputs": [
    {
     "name": "stdout",
     "output_type": "stream",
     "text": [
      "root\n",
      " |-- release_date: string (nullable = true)\n",
      " |-- DayOfWeek: integer (nullable = true)\n",
      " |-- DayName: string (nullable = true)\n",
      " |-- DayOfMonth: integer (nullable = true)\n",
      " |-- DayOfYear: integer (nullable = true)\n",
      " |-- WeekOfYear: integer (nullable = true)\n",
      " |-- MonthName: string (nullable = true)\n",
      " |-- MonthOfYear: integer (nullable = true)\n",
      " |-- Quarter: integer (nullable = true)\n",
      " |-- Year: integer (nullable = true)\n",
      " |-- IsWeekDay: boolean (nullable = true)\n",
      " |-- DATE_ID: long (nullable = true)\n",
      "\n"
     ]
    }
   ],
   "source": [
    "df_date = spark.read.format(\"delta\").load(\"s3a://lakehouse/silver_T/dim_date\")\n",
    "df_date.printSchema()"
   ]
  },
  {
   "cell_type": "markdown",
   "id": "b5e081a0-4d03-4ada-9071-08668b4bd8ed",
   "metadata": {},
   "source": [
    "# Cast_Movie"
   ]
  },
  {
   "cell_type": "code",
   "execution_count": 18,
   "id": "ee656d3a-20d0-4947-85d4-ab0a2dae4335",
   "metadata": {
    "tags": []
   },
   "outputs": [
    {
     "name": "stdout",
     "output_type": "stream",
     "text": [
      "+-------+----------------------------+--------+\n",
      "|cast_id|character                   |movie_id|\n",
      "+-------+----------------------------+--------+\n",
      "|6837   |Max Goldman                 |15602   |\n",
      "|3151   |John Gustafson              |15602   |\n",
      "|13567  |Ariel Gustafson             |15602   |\n",
      "|16757  |Maria Sophia Coletta Ragetti|15602   |\n",
      "|589    |Melanie Gustafson           |15602   |\n",
      "|16523  |Grandpa Gustafson           |15602   |\n",
      "|7166   |Jacob Goldman               |15602   |\n",
      "|8851   |Savannah 'Vannah' Jackson   |31357   |\n",
      "|9780   |Bernadine 'Bernie' Harris   |31357   |\n",
      "|18284  |Gloria 'Glo' Matthews       |31357   |\n",
      "|51359  |Robin Stokes                |31357   |\n",
      "|66804  |Marvin King                 |31357   |\n",
      "|352    |Kenneth Dawkins             |31357   |\n",
      "|87118  |John Harris, Sr.            |31357   |\n",
      "|34     |Troy                        |31357   |\n",
      "|1276777|Joseph                      |31357   |\n",
      "|10814  |James Wheeler               |31357   |\n",
      "|67773  |George Banks                |11862   |\n",
      "|3092   |Nina Banks                  |11862   |\n",
      "|519    |Franck Eggelhoffer          |11862   |\n",
      "+-------+----------------------------+--------+\n",
      "only showing top 20 rows\n",
      "\n"
     ]
    }
   ],
   "source": [
    "df = spark.read.format(\"parquet\").load(\"s3a://lakehouse/bronze/credits.parquet\")\n",
    "cast_schema = ArrayType(\n",
    "    StructType([\n",
    "        StructField(\"cast_id\", IntegerType(), True),\n",
    "        StructField(\"character\", StringType(), True),\n",
    "        StructField(\"credit_id\", StringType(), True),\n",
    "        StructField(\"gender\", IntegerType(), True),\n",
    "        StructField(\"id\", LongType(), True),\n",
    "        StructField(\"name\", StringType(), True),\n",
    "        StructField(\"order\", IntegerType(), True),\n",
    "        StructField(\"profile_path\", StringType(), True)\n",
    "    ])\n",
    ")\n",
    "df_parsed = df.withColumn(\"cast\", from_json(col(\"cast\"), cast_schema))\n",
    "\n",
    "# Explode cột cast để có nhiều dòng\n",
    "df_exploded = df_parsed.withColumn(\"cast\", explode(col(\"cast\")))\n",
    "\n",
    "# Chọn các trường cần thiết\n",
    "df_selected = df_exploded.select(\n",
    "    col(\"cast.id\").alias(\"cast_id\"),\n",
    "    col(\"cast.character\"),\n",
    "    col(\"id\").alias(\"movie_id\")\n",
    ")\n",
    "\n",
    "# Hiển thị kết quả\n",
    "df_selected.show(truncate=False)\n"
   ]
  },
  {
   "cell_type": "code",
   "execution_count": 19,
   "id": "11350882-2879-4bed-8f87-ca2892281b12",
   "metadata": {
    "tags": []
   },
   "outputs": [],
   "source": [
    "df_selected.write.format(\"delta\").mode(\"overwrite\").option(\"overwriteSchema\", \"true\").save(\"s3a://lakehouse/silver_T/movie_cast\")"
   ]
  },
  {
   "cell_type": "markdown",
   "id": "e62d71b2-d2df-4fcb-8e7b-1f38cfd0269e",
   "metadata": {},
   "source": [
    "# movie_crew"
   ]
  },
  {
   "cell_type": "code",
   "execution_count": 20,
   "id": "b1789ed4-7bdc-4594-8069-5838667de380",
   "metadata": {
    "tags": []
   },
   "outputs": [
    {
     "name": "stdout",
     "output_type": "stream",
     "text": [
      "root\n",
      " |-- cast: string (nullable = true)\n",
      " |-- crew: string (nullable = true)\n",
      " |-- id: long (nullable = true)\n",
      "\n",
      "+-------+------------+----------+--------+\n",
      "|crew_id|job         |department|movie_id|\n",
      "+-------+------------+----------+--------+\n",
      "|6210   |Writer      |Writing   |16420   |\n",
      "|56710  |Director    |Directing |16420   |\n",
      "|56710  |Adaptation  |Writing   |16420   |\n",
      "|33315  |Director    |Directing |31174   |\n",
      "|6210   |Theatre Play|Writing   |31174   |\n",
      "|1327   |Writer      |Writing   |31174   |\n",
      "|33315  |Writer      |Writing   |31174   |\n",
      "|16862  |Director    |Directing |48750   |\n",
      "|37127  |Writer      |Writing   |48750   |\n",
      "|16862  |Writer      |Writing   |48750   |\n",
      "|119294 |Writer      |Writing   |46785   |\n",
      "|120229 |Director    |Directing |46785   |\n",
      "|117075 |Director    |Directing |188588  |\n",
      "|14692  |Director    |Directing |47475   |\n",
      "|114997 |Director    |Directing |55475   |\n",
      "|114997 |Writer      |Writing   |55475   |\n",
      "|5281   |Director    |Directing |20649   |\n",
      "|5281   |Screenplay  |Writing   |20649   |\n",
      "|2989   |Screenplay  |Writing   |20649   |\n",
      "|2163   |Screenplay  |Writing   |52856   |\n",
      "+-------+------------+----------+--------+\n",
      "only showing top 20 rows\n",
      "\n"
     ]
    }
   ],
   "source": [
    "df = spark.read.format(\"parquet\").load(\"s3a://lakehouse/bronze/credits.parquet\")\n",
    "df.printSchema()\n",
    "crew_schema = ArrayType(\n",
    "    StructType([\n",
    "        StructField(\"department\", StringType(), True),\n",
    "        StructField(\"gender\", IntegerType(), True),\n",
    "        StructField(\"id\", LongType(), True),\n",
    "        StructField(\"job\", StringType(), True),\n",
    "        StructField(\"name\", StringType(), True),\n",
    "        StructField(\"profile_path\", StringType(), True)\n",
    "    ])\n",
    ")\n",
    "df_parsed = df.withColumn(\"crew\", from_json(col(\"crew\"), crew_schema))\n",
    "# Explode cột cast để có nhiều dòng\n",
    "df_exploded = df_parsed.withColumn(\"crew\", explode(col(\"crew\")))\n",
    "\n",
    "# Chọn các trường cần thiết\n",
    "df_selected = df_exploded.select(\n",
    "    col(\"crew.id\").alias(\"crew_id\"),\n",
    "    col(\"crew.job\"),\n",
    "    col(\"crew.department\"),\n",
    "    col(\"id\").alias(\"movie_id\")\n",
    ")\n",
    "\n",
    "df_selected.show(truncate=False)\n"
   ]
  },
  {
   "cell_type": "code",
   "execution_count": 21,
   "id": "12da9567-ae16-4fa9-a7c6-02edd15f1909",
   "metadata": {
    "tags": []
   },
   "outputs": [],
   "source": [
    "df_selected.write.format(\"delta\").mode(\"overwrite\").option(\"overwriteSchema\", \"true\").save(\"s3a://lakehouse/silver_T/movie_crew\")"
   ]
  },
  {
   "cell_type": "markdown",
   "id": "426e87d1-9263-4615-92ce-5389852c27e4",
   "metadata": {},
   "source": [
    "# movie genres"
   ]
  },
  {
   "cell_type": "code",
   "execution_count": 14,
   "id": "e2608d67-31c5-41b2-adc6-b5fbc690f3bb",
   "metadata": {
    "tags": []
   },
   "outputs": [],
   "source": [
    "df = spark.read.format(\"parquet\").load(\"s3a://lakehouse/bronze/movies.parquet\")\n",
    "genres_schema = ArrayType(\n",
    "    StructType([\n",
    "        StructField(\"id\", IntegerType(), True),\n",
    "        StructField(\"name\", StringType(), True)\n",
    "    ])\n",
    ")\n",
    "df_parsed = df.withColumn(\"genres\", from_json(col(\"genres\"), genres_schema))\n",
    "df_exploded = df_parsed.withColumn(\"genres\", explode(col(\"genres\")))\n",
    "\n",
    "df_selected = df_exploded.select(\n",
    "    col(\"genres.id\").alias(\"genres_id\"),\n",
    "    col(\"id\").cast(\"Integer\")\n",
    ")"
   ]
  },
  {
   "cell_type": "code",
   "execution_count": 15,
   "id": "5e2a64bf-12d4-47f9-b863-96bc27f47af7",
   "metadata": {
    "tags": []
   },
   "outputs": [],
   "source": [
    "df_selected.write.format(\"delta\").mode(\"overwrite\").option(\"overwriteSchema\", \"true\").save(\"s3a://lakehouse/silver_T/movie_genres\")"
   ]
  },
  {
   "cell_type": "markdown",
   "id": "70ff88e7-46c9-45cd-99f9-3cd6ab698413",
   "metadata": {},
   "source": [
    "# Movie Keyword"
   ]
  },
  {
   "cell_type": "code",
   "execution_count": 5,
   "id": "045d2a91-85f5-452b-8cf2-a3adfe6a427d",
   "metadata": {
    "tags": []
   },
   "outputs": [
    {
     "name": "stdout",
     "output_type": "stream",
     "text": [
      "+------------------------+----------+-----+\n",
      "|name                    |keyword_id|id   |\n",
      "+------------------------+----------+-----+\n",
      "|jealousy                |931       |862  |\n",
      "|toy                     |4290      |862  |\n",
      "|boy                     |5202      |862  |\n",
      "|friendship              |6054      |862  |\n",
      "|friends                 |9713      |862  |\n",
      "|rivalry                 |9823      |862  |\n",
      "|boy next door           |165503    |862  |\n",
      "|new toy                 |170722    |862  |\n",
      "|toy comes to life       |187065    |862  |\n",
      "|board game              |10090     |8844 |\n",
      "|disappearance           |10941     |8844 |\n",
      "|based on children's book|15101     |8844 |\n",
      "|new home                |33467     |8844 |\n",
      "|recluse                 |158086    |8844 |\n",
      "|giant insect            |158091    |8844 |\n",
      "|fishing                 |1495      |15602|\n",
      "|best friend             |12392     |15602|\n",
      "|duringcreditsstinger    |179431    |15602|\n",
      "|old men                 |208510    |15602|\n",
      "|based on novel          |818       |31357|\n",
      "+------------------------+----------+-----+\n",
      "only showing top 20 rows\n",
      "\n"
     ]
    }
   ],
   "source": [
    "df = spark.read.format(\"parquet\").load(\"s3a://lakehouse/bronze/keywords.parquet\")\n",
    "keyword_schema = ArrayType(\n",
    "    StructType([\n",
    "        StructField(\"id\", IntegerType(), True),\n",
    "        StructField(\"name\", StringType(), True)\n",
    "    ])\n",
    ")\n",
    "df_parsed = df.withColumn(\"keywords\", from_json(col(\"keywords\"), keyword_schema))\n",
    "\n",
    "# Explode cột cast để có nhiều dòng\n",
    "df_exploded = df_parsed.withColumn(\"keywords\", explode(col(\"keywords\")))\n",
    "\n",
    "# Chọn các trường cần thiết\n",
    "df_selected = df_exploded.select(\n",
    "    col(\"keywords.name\"),\n",
    "    col(\"keywords.id\").alias(\"keyword_id\"),\n",
    "    col(\"id\")\n",
    "                             \n",
    ")\n",
    "\n",
    "# Hiển thị kết quả\n",
    "df_selected.show(truncate=False)"
   ]
  },
  {
   "cell_type": "code",
   "execution_count": 6,
   "id": "61202b63-2bf6-4d55-8a0c-2704c1924575",
   "metadata": {
    "tags": []
   },
   "outputs": [],
   "source": [
    "df_selected.write.format(\"delta\").mode(\"overwrite\").option(\"overwriteSchema\", \"true\").save(\"s3a://lakehouse/silver_T/movie_keyword\")"
   ]
  },
  {
   "cell_type": "code",
   "execution_count": null,
   "id": "76637455-3eb4-486a-b6c4-c462711eba73",
   "metadata": {},
   "outputs": [],
   "source": []
  },
  {
   "cell_type": "markdown",
   "id": "e3cc4206-fb6f-491b-b847-1a8f5007a045",
   "metadata": {},
   "source": [
    "# Fact Movie"
   ]
  },
  {
   "cell_type": "code",
   "execution_count": 28,
   "id": "f5b8e29c-da6b-44b0-a9f7-651774471409",
   "metadata": {
    "tags": []
   },
   "outputs": [
    {
     "name": "stdout",
     "output_type": "stream",
     "text": [
      "root\n",
      " |-- adult: string (nullable = true)\n",
      " |-- belongs_to_collection: string (nullable = true)\n",
      " |-- budget: string (nullable = true)\n",
      " |-- genres: string (nullable = true)\n",
      " |-- homepage: string (nullable = true)\n",
      " |-- id: string (nullable = true)\n",
      " |-- imdb_id: string (nullable = true)\n",
      " |-- original_language: string (nullable = true)\n",
      " |-- original_title: string (nullable = true)\n",
      " |-- overview: string (nullable = true)\n",
      " |-- popularity: double (nullable = true)\n",
      " |-- poster_path: string (nullable = true)\n",
      " |-- production_companies: string (nullable = true)\n",
      " |-- production_countries: string (nullable = true)\n",
      " |-- release_date: string (nullable = true)\n",
      " |-- revenue: double (nullable = true)\n",
      " |-- runtime: double (nullable = true)\n",
      " |-- spoken_languages: string (nullable = true)\n",
      " |-- status: string (nullable = true)\n",
      " |-- tagline: string (nullable = true)\n",
      " |-- title: string (nullable = true)\n",
      " |-- video: boolean (nullable = true)\n",
      " |-- vote_average: double (nullable = true)\n",
      " |-- vote_count: double (nullable = true)\n",
      "\n"
     ]
    }
   ],
   "source": [
    "df= spark.read.format(\"parquet\").load(\"s3a://lakehouse/bronze/movies.parquet\")\n",
    "df = df.withColumn(\"popularity\", col(\"popularity\").cast(\"double\"))\n",
    "df.printSchema()"
   ]
  },
  {
   "cell_type": "code",
   "execution_count": 7,
   "id": "5e139577-43b2-4ceb-8d15-cf0b98323402",
   "metadata": {
    "tags": []
   },
   "outputs": [],
   "source": [
    "df = spark.read.format(\"parquet\").load(\"s3a://lakehouse/bronze/movies.parquet\")\n",
    "df_fact = df.withColumn(\n",
    "    \"date_id\",\n",
    "    (F.year(\"release_date\") * 10000 + F.month(\"release_date\") * 100 + F.dayofmonth(\"release_date\")).cast(\"long\")\n",
    ")\n",
    "\n",
    "df_fact = df_fact.select(\n",
    "    col(\"id\").cast(\"Integer\"),\n",
    "    col(\"budget\"),\n",
    "    col(\"popularity\"),\n",
    "    col(\"revenue\"),\n",
    "    col(\"vote_average\"),\n",
    "    col(\"vote_count\"),\n",
    "    col(\"date_id\")\n",
    ")\n",
    "df_fact.write.format(\"delta\").mode(\"overwrite\").option(\"overwriteSchema\", \"true\").save(\"s3a://lakehouse/silver_T/fact_movies\")"
   ]
  },
  {
   "cell_type": "code",
   "execution_count": 36,
   "id": "807271d2-7382-400e-8bf7-142f05eecb0a",
   "metadata": {
    "tags": []
   },
   "outputs": [
    {
     "name": "stdout",
     "output_type": "stream",
     "text": [
      "+-----+--------+----------+------------+------------+----------+--------+\n",
      "|   id|  budget|popularity|     revenue|vote_average|vote_count| date_id|\n",
      "+-----+--------+----------+------------+------------+----------+--------+\n",
      "|  862|30000000| 21.946943|3.73554033E8|         7.7|    5415.0|19951030|\n",
      "| 8844|65000000| 17.015539|2.62797249E8|         6.9|    2413.0|19951215|\n",
      "|15602|       0|   11.7129|         0.0|         6.5|      92.0|19951222|\n",
      "|31357|16000000|  3.859495| 8.1452156E7|         6.1|      34.0|19951222|\n",
      "|11862|       0|  8.387519| 7.6578911E7|         5.7|     173.0|19950210|\n",
      "|  949|60000000| 17.924927|1.87436818E8|         7.7|    1886.0|19951215|\n",
      "|11860|58000000|  6.677277|         0.0|         6.2|     141.0|19951215|\n",
      "|45325|       0|  2.561161|         0.0|         5.4|      45.0|19951222|\n",
      "| 9091|35000000|   5.23158| 6.4350171E7|         5.5|     174.0|19951222|\n",
      "|  710|58000000| 14.686036|3.52194034E8|         6.6|    1194.0|19951116|\n",
      "| 9087|62000000|  6.318445|1.07879496E8|         6.5|     199.0|19951117|\n",
      "|12110|       0|  5.430331|         0.0|         5.7|     210.0|19951222|\n",
      "|21032|       0| 12.140733| 1.1348324E7|         7.1|     423.0|19951222|\n",
      "|10858|44000000|     5.092| 1.3681765E7|         7.1|      72.0|19951222|\n",
      "| 1408|98000000|  7.284477| 1.0017322E7|         5.7|     137.0|19951222|\n",
      "|  524|52000000| 10.137389|1.16112375E8|         7.8|    1343.0|19951122|\n",
      "| 4584|16500000| 10.673167|      1.35E8|         7.2|     364.0|19951213|\n",
      "|    5| 4000000|  9.026586|   4300000.0|         6.5|     539.0|19951209|\n",
      "| 9273|30000000|  8.205448|2.12385533E8|         6.1|    1128.0|19951110|\n",
      "|11517|60000000|  7.337906| 3.5431113E7|         5.4|     224.0|19951121|\n",
      "+-----+--------+----------+------------+------------+----------+--------+\n",
      "only showing top 20 rows\n",
      "\n"
     ]
    }
   ],
   "source": [
    "df = spark.read.format(\"delta\").load(\"s3a://lakehouse/silver_T/fact_movies\")\n",
    "df.show()"
   ]
  },
  {
   "cell_type": "raw",
   "id": "ddb8f74f-a49e-492d-82d0-1cd44ac17078",
   "metadata": {},
   "source": [
    "                    dim_genres\n",
    "                          |\n",
    "             movie_genre_bridge\n",
    "                          |\n",
    "dim_movie -------------- fact_movie_revenue -------------- dim_date\n",
    "                         /        \\\n",
    "        movie_cast_bridge      movie_crew_bridge\n",
    "                |                     |\n",
    "          dim_cast                   dim_crew\n",
    "\n",
    "                 "
   ]
  },
  {
   "cell_type": "code",
   "execution_count": null,
   "id": "3429f6a7-0b7a-41bb-9fa8-2085c5c67269",
   "metadata": {},
   "outputs": [],
   "source": []
  }
 ],
 "metadata": {
  "kernelspec": {
   "display_name": "Python 3 (ipykernel)",
   "language": "python",
   "name": "python3"
  },
  "language_info": {
   "codemirror_mode": {
    "name": "ipython",
    "version": 3
   },
   "file_extension": ".py",
   "mimetype": "text/x-python",
   "name": "python",
   "nbconvert_exporter": "python",
   "pygments_lexer": "ipython3",
   "version": "3.9.23"
  }
 },
 "nbformat": 4,
 "nbformat_minor": 5
}
