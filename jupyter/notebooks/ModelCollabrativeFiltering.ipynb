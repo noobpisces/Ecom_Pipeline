{
 "cells": [
  {
   "cell_type": "code",
   "execution_count": 1,
   "id": "28864f54-881d-4d80-9a9c-4ab886c7d2f1",
   "metadata": {
    "tags": []
   },
   "outputs": [],
   "source": [
    "from pyspark.sql import SparkSession\n",
    "import pandas as pd\n",
    "from pyspark.sql.types import StructType, StructField, BooleanType, StringType, IntegerType, DateType, FloatType,DoubleType,ArrayType,LongType\n",
    "import logging\n",
    "import sys\n",
    "import traceback\n",
    "import ast\n",
    "import json\n",
    "import os\n",
    "import sys\n",
    "import traceback\n",
    "import logging\n",
    "from pyspark.sql.functions import col, expr,when,to_date ,udf, concat_ws,posexplode, from_json\n",
    "from pyspark.sql.types import StructType, StructField, BooleanType, StringType, IntegerType, DateType, FloatType,DoubleType\n",
    "from pyspark.sql import functions as F"
   ]
  },
  {
   "cell_type": "code",
   "execution_count": 3,
   "id": "9317314f-3d5e-4a42-84ca-b7dcfcdcc9b0",
   "metadata": {
    "tags": []
   },
   "outputs": [
    {
     "name": "stdout",
     "output_type": "stream",
     "text": [
      "25/06/15 12:16:23 WARN MetricsConfig: Cannot locate configuration: tried hadoop-metrics2-s3a-file-system.properties,hadoop-metrics2.properties\n"
     ]
    }
   ],
   "source": [
    "# spark = SparkSession.builder \\\n",
    "#     .appName(\"MinIO with Delta Lake\") \\\n",
    "#     .config(\"spark.driver.memory\", \"6g\") \\\n",
    "#     .config(\"spark.executor.memory\", \"6g\") \\\n",
    "#     .config(\"spark.driver.cores\", \"4\") \\\n",
    "#     .config(\"spark.executor.cores\", \"4\") \\\n",
    "#     .config(\"spark.dynamicAllocation.enabled\", \"true\") \\\n",
    "#     .config(\"spark.dynamicAllocation.minExecutors\", \"1\") \\\n",
    "#     .config(\"spark.dynamicAllocation.maxExecutors\", \"1\") \\\n",
    "#     .config(\"spark.dynamicAllocation.initialExecutors\", \"1\") \\\n",
    "#     .config(\"spark.sql.shuffle.partitions\", \"12\") \\\n",
    "#     .config(\"spark.memory.offHeap.enabled\", \"true\") \\\n",
    "#     .config(\"spark.memory.offHeap.size\", \"1g\") \\\n",
    "#     .config(\"spark.jars\", \"jars/hadoop-aws-3.3.4.jar,jars/spark-sql-kafka-0-10_2.12-3.2.1.jar,jars/aws-java-sdk-bundle-1.12.262.jar,jars/delta-core_2.12-2.2.0.jar,jars/delta-storage-2.2.0.jar\") \\\n",
    "#     .config(\"spark.hadoop.fs.s3a.endpoint\", \"http://minio:9000\") \\\n",
    "#     .config(\"spark.hadoop.fs.s3a.access.key\", \"conbo123\") \\\n",
    "#     .config(\"spark.hadoop.fs.s3a.secret.key\", \"123conbo\") \\\n",
    "#     .config(\"spark.hadoop.fs.s3a.path.style.access\", \"true\") \\\n",
    "#     .config(\"spark.hadoop.fs.s3a.impl\", \"org.apache.hadoop.fs.s3a.S3AFileSystem\") \\\n",
    "#     .config(\"spark.sql.extensions\", \"io.delta.sql.DeltaSparkSessionExtension\") \\\n",
    "#     .config(\"spark.sql.catalog.spark_catalog\", \"org.apache.spark.sql.delta.catalog.DeltaCatalog\") \\\n",
    "#     .config(\"spark.delta.logStore.class\", \"org.apache.spark.sql.delta.storage.S3SingleDriverLogStore\") \\\n",
    "#     .config(\"delta.enable-non-concurrent-writes\", \"true\") \\\n",
    "#     .config('spark.sql.warehouse.dir', \"s3a://lakehouse/\") \\\n",
    "#     .getOrCreate()\n",
    "\n",
    "\n",
    "spark = SparkSession.builder \\\n",
    "    .appName(\"HybridRecommenderMaxPerformance\") \\\n",
    "    .master(\"spark://spark-master:7077\") \\\n",
    "    .config(\"spark.executor.memory\", \"5g\") \\\n",
    "    .config(\"spark.driver.memory\", \"5g\") \\\n",
    "    .config(\"spark.executor.cores\", \"4\") \\\n",
    "    .config(\"spark.executor.cores\", \"4\") \\\n",
    "    .config(\"spark.jars.packages\", \"com.johnsnowlabs.nlp:spark-nlp_2.12:5.1.3\") \\\n",
    "    .config(\"spark.executor.instances\", \"1\") \\\n",
    "    .config(\"spark.default.parallelism\", \"8\") \\\n",
    "    .config(\"spark.sql.shuffle.partitions\", \"8\") \\\n",
    "    .config(\"spark.memory.offHeap.enabled\", \"true\") \\\n",
    "    .config(\"spark.memory.offHeap.size\", \"4g\") \\\n",
    "    .config(\"spark.jars\", \"jars/hadoop-aws-3.3.4.jar,jars/spark-sql-kafka-0-10_2.12-3.2.1.jar,jars/aws-java-sdk-bundle-1.12.262.jar,jars/delta-core_2.12-2.2.0.jar,jars/delta-storage-2.2.0.jar\") \\\n",
    "    .config(\"spark.hadoop.fs.s3a.endpoint\", \"http://minio:9000\") \\\n",
    "    .config(\"spark.hadoop.fs.s3a.access.key\", \"conbo123\") \\\n",
    "    .config(\"spark.hadoop.fs.s3a.secret.key\", \"123conbo\") \\\n",
    "    .config(\"spark.hadoop.fs.s3a.path.style.access\", \"true\") \\\n",
    "    .config(\"spark.hadoop.fs.s3a.impl\", \"org.apache.hadoop.fs.s3a.S3AFileSystem\") \\\n",
    "    .config(\"spark.sql.extensions\", \"io.delta.sql.DeltaSparkSessionExtension\") \\\n",
    "    .config(\"spark.sql.catalog.spark_catalog\", \"org.apache.spark.sql.delta.catalog.DeltaCatalog\") \\\n",
    "    .config(\"spark.delta.logStore.class\", \"org.apache.spark.sql.delta.storage.S3SingleDriverLogStore\") \\\n",
    "    .config(\"delta.enable-non-concurrent-writes\", \"true\") \\\n",
    "    .config(\"spark.sql.warehouse.dir\", \"s3a://lakehouse/\") \\\n",
    "    .getOrCreate()"
   ]
  },
  {
   "cell_type": "code",
   "execution_count": 4,
   "id": "1143cb58-fdd8-44d3-8a88-c5bf78f8b4e1",
   "metadata": {
    "tags": []
   },
   "outputs": [
    {
     "name": "stdout",
     "output_type": "stream",
     "text": [
      "25/06/15 12:17:06 WARN package: Truncated the string representation of a plan since it was too large. This behavior can be adjusted by setting 'spark.sql.debug.maxToStringFields'.\n"
     ]
    },
    {
     "name": "stderr",
     "output_type": "stream",
     "text": [
      "                                                                                "
     ]
    },
    {
     "name": "stdout",
     "output_type": "stream",
     "text": [
      "root\n",
      " |-- userId: integer (nullable = true)\n",
      " |-- movieId: integer (nullable = true)\n",
      " |-- rating: float (nullable = true)\n",
      "\n"
     ]
    }
   ],
   "source": [
    "from pyspark.sql import functions as F\n",
    "from pyspark.ml.linalg import Vectors, VectorUDT\n",
    "from pyspark.ml.feature import VectorAssembler\n",
    "from pyspark.sql.functions import monotonically_increasing_id\n",
    "from pyspark.ml.recommendation import ALS\n",
    "from pyspark.ml.evaluation import RegressionEvaluator\n",
    "\n",
    "\n",
    "\n",
    "ratings = spark.read.format(\"delta\").load(\"s3a://lakehouse/silver/ratings\")\n",
    "ratings = ratings.select(\"userId\", \"movieId\", \"rating\")\n",
    "df = ratings.withColumn('userId', ratings['userId'].cast('int')).\\\n",
    "withColumn('movieId', ratings['movieId'].cast('int')).withColumn('rating', ratings['rating'].cast('float'))\n",
    "df.printSchema()"
   ]
  },
  {
   "cell_type": "code",
   "execution_count": 5,
   "id": "3f092d55-0b94-40db-bb99-9b3754dbfd3d",
   "metadata": {
    "tags": []
   },
   "outputs": [
    {
     "name": "stdout",
     "output_type": "stream",
     "text": [
      "root\n",
      " |-- userId: integer (nullable = true)\n",
      " |-- movieId: long (nullable = true)\n",
      " |-- rating: float (nullable = true)\n",
      "\n"
     ]
    }
   ],
   "source": [
    "ratings = ratings.select(\"userId\", \"movieId\", \"rating\")\n",
    "ratings.printSchema()"
   ]
  },
  {
   "cell_type": "code",
   "execution_count": 6,
   "id": "2ebc531e-bd08-4672-95a2-24249c474d6d",
   "metadata": {
    "tags": []
   },
   "outputs": [
    {
     "name": "stdout",
     "output_type": "stream",
     "text": [
      "root\n",
      " |-- userId: integer (nullable = true)\n",
      " |-- movieId: integer (nullable = true)\n",
      " |-- rating: float (nullable = true)\n",
      "\n"
     ]
    }
   ],
   "source": [
    "df = ratings.withColumn('userId', ratings['userId'].cast('int')).\\\n",
    "withColumn('movieId', ratings['movieId'].cast('int')).withColumn('rating', ratings['rating'].cast('float'))\n",
    "df.printSchema()"
   ]
  },
  {
   "cell_type": "code",
   "execution_count": 9,
   "id": "0f9b617a-9b7e-44c4-9a86-5fd5b7ff352e",
   "metadata": {
    "tags": []
   },
   "outputs": [
    {
     "name": "stderr",
     "output_type": "stream",
     "text": [
      "[Stage 27:==================================================>       (7 + 1) / 8]"
     ]
    },
    {
     "name": "stdout",
     "output_type": "stream",
     "text": [
      "The number of ratings in each set: 22399900, 4798379, 4797199\n"
     ]
    },
    {
     "name": "stderr",
     "output_type": "stream",
     "text": [
      "                                                                                "
     ]
    }
   ],
   "source": [
    "train, validation, test = df.randomSplit([0.7, 0.15, 0.15], seed=0)\n",
    "print(\"The number of ratings in each set: {}, {}, {}\".format(train.count(), validation.count(), test.count()))"
   ]
  },
  {
   "cell_type": "code",
   "execution_count": 13,
   "id": "0259f516-9b03-4fd7-b023-1a064db5bbb0",
   "metadata": {
    "tags": []
   },
   "outputs": [],
   "source": [
    "from pyspark.sql.functions import col, sqrt\n",
    "def RMSE(predictions):\n",
    "    squared_diff = predictions.withColumn(\"squared_diff\", pow(col(\"rating\") - col(\"prediction\"), 2))\n",
    "    mse = squared_diff.selectExpr(\"mean(squared_diff) as mse\").first().mse\n",
    "    return mse ** 0.5"
   ]
  },
  {
   "cell_type": "code",
   "execution_count": 14,
   "id": "d9e8cf03-4808-490c-83dd-baefe21019bf",
   "metadata": {
    "tags": []
   },
   "outputs": [],
   "source": [
    "# implement the model using ALS algorithm and find the right hyperparameters using Grid Search\n",
    "from pyspark.ml.recommendation import ALS\n",
    "import time  \n",
    "\n",
    "def GridSearch(train, valid, num_iterations, reg_param, n_factors):\n",
    "    min_rmse = float('inf')\n",
    "    best_n = -1\n",
    "    best_reg = 0\n",
    "    best_model = None\n",
    "    # run Grid Search for all the parameter defined in the range in a loop\n",
    "    for n in n_factors:\n",
    "        for reg in reg_param:\n",
    "            als = ALS(rank = n, \n",
    "                      maxIter = num_iterations, \n",
    "                      seed = 0, \n",
    "                      regParam = reg,\n",
    "                      userCol=\"userId\", \n",
    "                      itemCol=\"movieId\", \n",
    "                      ratingCol=\"rating\", \n",
    "                      coldStartStrategy=\"drop\")            \n",
    "            model = als.fit(train)\n",
    "            predictions = model.transform(valid)\n",
    "            rmse = RMSE(predictions)     \n",
    "            print('{} latent factors and regularization = {}: validation RMSE is {}'.format(n, reg, rmse))\n",
    "            # track the best model using RMSE\n",
    "            if rmse < min_rmse:\n",
    "                min_rmse = rmse\n",
    "                best_n = n\n",
    "                best_reg = reg\n",
    "                best_model = model\n",
    "                \n",
    "    pred = best_model.transform(train)\n",
    "    train_rmse = RMSE(pred)\n",
    "    # best model and its metrics\n",
    "    print('\\nThe best model has {} latent factors and regularization = {}:'.format(best_n, best_reg))\n",
    "    print('traning RMSE is {}; validation RMSE is {}'.format(train_rmse, min_rmse))\n",
    "    return best_model"
   ]
  },
  {
   "cell_type": "code",
   "execution_count": 15,
   "id": "593cd653-0821-48d3-aaba-c26f75d944a9",
   "metadata": {
    "tags": []
   },
   "outputs": [
    {
     "name": "stderr",
     "output_type": "stream",
     "text": [
      "                                                                                "
     ]
    },
    {
     "name": "stdout",
     "output_type": "stream",
     "text": [
      "6 latent factors and regularization = 0.01: validation RMSE is 0.8103752215843026\n"
     ]
    },
    {
     "name": "stderr",
     "output_type": "stream",
     "text": [
      "                                                                                "
     ]
    },
    {
     "name": "stdout",
     "output_type": "stream",
     "text": [
      "6 latent factors and regularization = 0.03: validation RMSE is 0.8038924409155549\n"
     ]
    },
    {
     "name": "stderr",
     "output_type": "stream",
     "text": [
      "                                                                                "
     ]
    },
    {
     "name": "stdout",
     "output_type": "stream",
     "text": [
      "6 latent factors and regularization = 0.05: validation RMSE is 0.8001335835076074\n"
     ]
    },
    {
     "name": "stderr",
     "output_type": "stream",
     "text": [
      "                                                                                "
     ]
    },
    {
     "name": "stdout",
     "output_type": "stream",
     "text": [
      "6 latent factors and regularization = 0.07: validation RMSE is 0.8009723908048109\n"
     ]
    },
    {
     "name": "stderr",
     "output_type": "stream",
     "text": [
      "                                                                                "
     ]
    },
    {
     "name": "stdout",
     "output_type": "stream",
     "text": [
      "6 latent factors and regularization = 0.1: validation RMSE is 0.8078194351853303\n"
     ]
    },
    {
     "name": "stderr",
     "output_type": "stream",
     "text": [
      "                                                                                "
     ]
    },
    {
     "name": "stdout",
     "output_type": "stream",
     "text": [
      "8 latent factors and regularization = 0.01: validation RMSE is 0.8061608206232866\n"
     ]
    },
    {
     "name": "stderr",
     "output_type": "stream",
     "text": [
      "                                                                                "
     ]
    },
    {
     "name": "stdout",
     "output_type": "stream",
     "text": [
      "8 latent factors and regularization = 0.03: validation RMSE is 0.7977326854638257\n"
     ]
    },
    {
     "name": "stderr",
     "output_type": "stream",
     "text": [
      "                                                                                "
     ]
    },
    {
     "name": "stdout",
     "output_type": "stream",
     "text": [
      "8 latent factors and regularization = 0.05: validation RMSE is 0.7954077460191987\n"
     ]
    },
    {
     "name": "stderr",
     "output_type": "stream",
     "text": [
      "                                                                                "
     ]
    },
    {
     "name": "stdout",
     "output_type": "stream",
     "text": [
      "8 latent factors and regularization = 0.07: validation RMSE is 0.7967981773370553\n"
     ]
    },
    {
     "name": "stderr",
     "output_type": "stream",
     "text": [
      "                                                                                "
     ]
    },
    {
     "name": "stdout",
     "output_type": "stream",
     "text": [
      "8 latent factors and regularization = 0.1: validation RMSE is 0.8055375699981835\n"
     ]
    },
    {
     "name": "stderr",
     "output_type": "stream",
     "text": [
      "                                                                                "
     ]
    },
    {
     "name": "stdout",
     "output_type": "stream",
     "text": [
      "10 latent factors and regularization = 0.01: validation RMSE is 0.8032563531187382\n"
     ]
    },
    {
     "name": "stderr",
     "output_type": "stream",
     "text": [
      "                                                                                "
     ]
    },
    {
     "name": "stdout",
     "output_type": "stream",
     "text": [
      "10 latent factors and regularization = 0.03: validation RMSE is 0.7920308008162709\n"
     ]
    },
    {
     "name": "stderr",
     "output_type": "stream",
     "text": [
      "                                                                                "
     ]
    },
    {
     "name": "stdout",
     "output_type": "stream",
     "text": [
      "10 latent factors and regularization = 0.05: validation RMSE is 0.7907374926184436\n"
     ]
    },
    {
     "name": "stderr",
     "output_type": "stream",
     "text": [
      "                                                                                "
     ]
    },
    {
     "name": "stdout",
     "output_type": "stream",
     "text": [
      "10 latent factors and regularization = 0.07: validation RMSE is 0.79327835609992\n"
     ]
    },
    {
     "name": "stderr",
     "output_type": "stream",
     "text": [
      "                                                                                "
     ]
    },
    {
     "name": "stdout",
     "output_type": "stream",
     "text": [
      "10 latent factors and regularization = 0.1: validation RMSE is 0.8034340980770003\n"
     ]
    },
    {
     "name": "stderr",
     "output_type": "stream",
     "text": [
      "                                                                                "
     ]
    },
    {
     "name": "stdout",
     "output_type": "stream",
     "text": [
      "12 latent factors and regularization = 0.01: validation RMSE is 0.8054526443073445\n"
     ]
    },
    {
     "name": "stderr",
     "output_type": "stream",
     "text": [
      "                                                                                "
     ]
    },
    {
     "name": "stdout",
     "output_type": "stream",
     "text": [
      "12 latent factors and regularization = 0.03: validation RMSE is 0.7889014973160202\n"
     ]
    },
    {
     "name": "stderr",
     "output_type": "stream",
     "text": [
      "                                                                                "
     ]
    },
    {
     "name": "stdout",
     "output_type": "stream",
     "text": [
      "12 latent factors and regularization = 0.05: validation RMSE is 0.7855243448734479\n"
     ]
    },
    {
     "name": "stderr",
     "output_type": "stream",
     "text": [
      "                                                                                "
     ]
    },
    {
     "name": "stdout",
     "output_type": "stream",
     "text": [
      "12 latent factors and regularization = 0.07: validation RMSE is 0.7883851964414105\n"
     ]
    },
    {
     "name": "stderr",
     "output_type": "stream",
     "text": [
      "                                                                                "
     ]
    },
    {
     "name": "stdout",
     "output_type": "stream",
     "text": [
      "12 latent factors and regularization = 0.1: validation RMSE is 0.8007412610186813\n"
     ]
    },
    {
     "name": "stderr",
     "output_type": "stream",
     "text": [
      "                                                                                "
     ]
    },
    {
     "name": "stdout",
     "output_type": "stream",
     "text": [
      "\n",
      "The best model has 12 latent factors and regularization = 0.05:\n",
      "traning RMSE is 0.7167061052331951; validation RMSE is 0.7855243448734479\n",
      "Total Runtime: 1312.56 seconds\n"
     ]
    }
   ],
   "source": [
    "# build the model using different ranges for Grid Search\n",
    "from pyspark.sql.functions import col, sqrt\n",
    "num_iterations = 10\n",
    "ranks = [6, 8, 10, 12]\n",
    "reg_params = [0.01, 0.03, 0.05, 0.07, 0.1]\n",
    "\n",
    "start_time = time.time()\n",
    "final_model = GridSearch(train, validation, num_iterations, reg_params, ranks)\n",
    "print('Total Runtime: {:.2f} seconds'.format(time.time() - start_time))"
   ]
  },
  {
   "cell_type": "code",
   "execution_count": 16,
   "id": "ff7167fd-c061-40e7-ac89-2e1817beec56",
   "metadata": {},
   "outputs": [
    {
     "name": "stderr",
     "output_type": "stream",
     "text": [
      "                                                                                "
     ]
    }
   ],
   "source": [
    "final_model.save(\"s3a://lakehouse/data/CF_als_best_model\")\n"
   ]
  },
  {
   "cell_type": "code",
   "execution_count": 5,
   "id": "beebdea8-74dc-4ecc-9dcb-d3a1b590b7c6",
   "metadata": {
    "tags": []
   },
   "outputs": [
    {
     "name": "stderr",
     "output_type": "stream",
     "text": [
      "                                                                                "
     ]
    }
   ],
   "source": [
    "from pyspark.ml.recommendation import ALSModel\n",
    "\n",
    "temp = ALSModel.load(\"s3a://lakehouse/data/CF_als_best_model\")"
   ]
  },
  {
   "cell_type": "code",
   "execution_count": 17,
   "id": "3a72f012-437e-469c-b818-615a497f4619",
   "metadata": {
    "tags": []
   },
   "outputs": [
    {
     "name": "stderr",
     "output_type": "stream",
     "text": [
      "[Stage 3504:==========================================>             (6 + 2) / 8]"
     ]
    },
    {
     "name": "stdout",
     "output_type": "stream",
     "text": [
      "The testing RMSE is 0.7849833376593055\n"
     ]
    },
    {
     "name": "stderr",
     "output_type": "stream",
     "text": [
      "                                                                                "
     ]
    }
   ],
   "source": [
    "pred_test = final_model.transform(test)\n",
    "print('The testing RMSE is ' + str(RMSE(pred_test)))"
   ]
  },
  {
   "cell_type": "code",
   "execution_count": 18,
   "id": "48a2ceaf-8cc4-4107-8bbe-06272730dc7e",
   "metadata": {
    "tags": []
   },
   "outputs": [
    {
     "name": "stderr",
     "output_type": "stream",
     "text": [
      "[Stage 3536:=====================================>                  (2 + 1) / 3]"
     ]
    },
    {
     "name": "stdout",
     "output_type": "stream",
     "text": [
      "+-------+------+\n",
      "|movieId|userId|\n",
      "+-------+------+\n",
      "|    157|    12|\n",
      "|    639|    12|\n",
      "|   2640|    12|\n",
      "|   8849|    12|\n",
      "|   9340|    12|\n",
      "|   9715|    12|\n",
      "|  11224|    12|\n",
      "+-------+------+\n",
      "\n"
     ]
    },
    {
     "name": "stderr",
     "output_type": "stream",
     "text": [
      "                                                                                "
     ]
    }
   ],
   "source": [
    "single_user = test.filter(test['userId']==12).select(['movieId','userId'])\n",
    "single_user.show()"
   ]
  },
  {
   "cell_type": "code",
   "execution_count": 6,
   "id": "f2612eaa-468e-49ab-8262-c2ee185304f8",
   "metadata": {},
   "outputs": [
    {
     "name": "stderr",
     "output_type": "stream",
     "text": [
      "                                                                                "
     ]
    }
   ],
   "source": [
    "# Đọc dữ liệu movie_names và ratings_data từ Delta\n",
    "movies  = spark.read.format(\"delta\").load(\"s3a://lakehouse/gold/dim_movie\")\n",
    "movies  = movies .select(\"id\", \"title\")\n",
    "movies  = movies .withColumnRenamed(\"id\", \"movieId\")\n",
    "df_merge = spark.read.format(\"delta\").load(\"s3a://lakehouse/gold/MergeDataTest\")\n",
    "from pyspark.ml.recommendation import ALSModel\n",
    "df_list = spark.read.format(\"delta\").load(\"s3a://lakehouse/data/bertTestHiHi\")\n",
    "\n",
    "temp = ALSModel.load(\"s3a://lakehouse/data/CF_als_best_model\")"
   ]
  },
  {
   "cell_type": "code",
   "execution_count": 20,
   "id": "e1d27299-7423-4054-91af-98ef534b5ba8",
   "metadata": {
    "tags": []
   },
   "outputs": [
    {
     "name": "stderr",
     "output_type": "stream",
     "text": [
      "[Stage 3550:=====================================>                  (2 + 1) / 3]"
     ]
    },
    {
     "name": "stdout",
     "output_type": "stream",
     "text": [
      "+-------+------+-------+--------------------+\n",
      "|movieId|userId|movieId|               title|\n",
      "+-------+------+-------+--------------------+\n",
      "|    157|    12|    157|Star Trek III: Th...|\n",
      "|    639|    12|    639|When Harry Met Sa...|\n",
      "|   2640|    12|   2640|            Heathers|\n",
      "|   8849|    12|   8849|               Alfie|\n",
      "|   9340|    12|   9340|         The Goonies|\n",
      "|   9715|    12|   9715|         Hope Floats|\n",
      "|  11224|    12|  11224|          Cinderella|\n",
      "+-------+------+-------+--------------------+\n",
      "\n"
     ]
    },
    {
     "name": "stderr",
     "output_type": "stream",
     "text": [
      "                                                                                "
     ]
    }
   ],
   "source": [
    "single_user.join(movies, single_user.movieId == movies.movieId, 'inner').show()\n"
   ]
  },
  {
   "cell_type": "code",
   "execution_count": 21,
   "id": "e0bc4783-ce83-4f4e-8ed2-383e20b47094",
   "metadata": {
    "tags": []
   },
   "outputs": [
    {
     "name": "stderr",
     "output_type": "stream",
     "text": [
      "[Stage 3553:=================================================>      (7 + 1) / 8]"
     ]
    },
    {
     "name": "stdout",
     "output_type": "stream",
     "text": [
      "+-------+------+----------+\n",
      "|movieId|userId|prediction|\n",
      "+-------+------+----------+\n",
      "|   9715|    12| 3.2391589|\n",
      "|  11224|    12| 3.1785722|\n",
      "|   9340|    12| 3.1723292|\n",
      "|    639|    12| 2.7267034|\n",
      "|   2640|    12| 2.4407022|\n",
      "|   8849|    12| 2.2240846|\n",
      "|    157|    12| 0.8963401|\n",
      "+-------+------+----------+\n",
      "\n"
     ]
    },
    {
     "name": "stderr",
     "output_type": "stream",
     "text": [
      "                                                                                "
     ]
    }
   ],
   "source": [
    "reccomendations = final_model.transform(single_user)\n",
    "reccomendations.orderBy('prediction',ascending=False).show()"
   ]
  },
  {
   "cell_type": "code",
   "execution_count": 22,
   "id": "25aec6cd-1e12-4d90-ad03-db15267612fe",
   "metadata": {
    "tags": []
   },
   "outputs": [
    {
     "name": "stderr",
     "output_type": "stream",
     "text": [
      "[Stage 3634:=================================================>      (7 + 1) / 8]"
     ]
    },
    {
     "name": "stdout",
     "output_type": "stream",
     "text": [
      "+-------+------+----------+-------+--------------------+\n",
      "|movieId|userId|prediction|movieId|               title|\n",
      "+-------+------+----------+-------+--------------------+\n",
      "|    157|    12| 0.8963401|    157|Star Trek III: Th...|\n",
      "|    639|    12| 2.7267034|    639|When Harry Met Sa...|\n",
      "|   2640|    12| 2.4407022|   2640|            Heathers|\n",
      "|   8849|    12| 2.2240846|   8849|               Alfie|\n",
      "|   9340|    12| 3.1723292|   9340|         The Goonies|\n",
      "|   9715|    12| 3.2391589|   9715|         Hope Floats|\n",
      "|  11224|    12| 3.1785722|  11224|          Cinderella|\n",
      "+-------+------+----------+-------+--------------------+\n",
      "\n"
     ]
    },
    {
     "name": "stderr",
     "output_type": "stream",
     "text": [
      "                                                                                "
     ]
    }
   ],
   "source": [
    "reccomendations.join(movies, reccomendations.movieId == movies.movieId, 'inner').show()\n"
   ]
  },
  {
   "cell_type": "code",
   "execution_count": 23,
   "id": "ce2f764b-9c11-4fbc-be3a-99085f511ddd",
   "metadata": {
    "tags": []
   },
   "outputs": [
    {
     "name": "stdout",
     "output_type": "stream",
     "text": [
      "Movies liked by user with ID 12\n"
     ]
    },
    {
     "name": "stderr",
     "output_type": "stream",
     "text": [
      "                                                                                "
     ]
    },
    {
     "name": "stdout",
     "output_type": "stream",
     "text": [
      "+-------+--------------------+------+\n",
      "|movieId|               title|rating|\n",
      "+-------+--------------------+------+\n",
      "|    157|Star Trek III: Th...|   1.0|\n",
      "|    639|When Harry Met Sa...|   3.5|\n",
      "|   2640|            Heathers|   3.0|\n",
      "|   8849|               Alfie|   4.0|\n",
      "|   9340|         The Goonies|   3.0|\n",
      "|   9715|         Hope Floats|   4.5|\n",
      "|  11224|          Cinderella|   3.0|\n",
      "+-------+--------------------+------+\n",
      "\n",
      "Recommended movies for user with ID 12\n"
     ]
    },
    {
     "name": "stderr",
     "output_type": "stream",
     "text": [
      "                                                                                "
     ]
    },
    {
     "name": "stdout",
     "output_type": "stream",
     "text": [
      "+-------+--------------------+----------+\n",
      "|movieId|               title|prediction|\n",
      "+-------+--------------------+----------+\n",
      "| 397403|   Brexit: The Movie|  6.505104|\n",
      "|   1731|               Helen|  6.163009|\n",
      "| 393841|      Pelli Choopulu|  5.947569|\n",
      "| 412758|          Eat Locals| 5.9273725|\n",
      "| 355177|Tig Notaro: Boyis...| 5.9270086|\n",
      "| 261810|            Silenced| 5.8784776|\n",
      "| 409502|     I'm Not Ashamed|  5.839202|\n",
      "| 228198|Eu Não Faço a Men...|  5.811181|\n",
      "| 407036|        On the Brain| 5.6171036|\n",
      "| 461088|50 Kilos of Sour ...| 5.5664444|\n",
      "|  65488|     Raintree County|  5.538809|\n",
      "|  56759| Notre Dame de Paris|   5.46525|\n",
      "|  11496|They Call Me Rene...| 5.4383755|\n",
      "| 398854|A Midsummer Night...|  5.412646|\n",
      "| 176088|   The Story of Luke|  5.370575|\n",
      "|  63039|          Noah's Ark| 5.3683953|\n",
      "|  42427|           Fair Play|  5.366928|\n",
      "|  17022|Michael Jackson: ...| 5.3630924|\n",
      "|  15199|Rent: Filmed Live...|  5.343305|\n",
      "| 432025|The Art of Loving...|  5.272885|\n",
      "+-------+--------------------+----------+\n",
      "only showing top 20 rows\n",
      "\n"
     ]
    }
   ],
   "source": [
    "from pyspark.sql.functions import col, lit\n",
    "\n",
    "# select a single user from the test set\n",
    "user_id = 12\n",
    "single_user_ratings = test.filter(test['userId'] == user_id).select(['movieId', 'userId', 'rating'])\n",
    "\n",
    "# display the movies the user has liked\n",
    "print(\"Movies liked by user with ID\", user_id)\n",
    "single_user_ratings.join(movies, 'movieId').select('movieId', 'title', 'rating').show()\n",
    "\n",
    "# generate recommendations for the user\n",
    "all_movies = df.select('movieId').distinct()\n",
    "user_movies = single_user_ratings.select('movieId').distinct()\n",
    "movies_to_recommend = all_movies.subtract(user_movies)\n",
    "\n",
    "# predict ratings for movies the user has not rated yet\n",
    "recommendations = final_model.transform(movies_to_recommend.withColumn('userId', lit(user_id)))\n",
    "\n",
    "# filter out the movies that the user has already rated or seen (this filters out the movies that the user has not liked as well)\n",
    "recommendations = recommendations.filter(col('prediction') > 0)\n",
    "\n",
    "# display the recommendations with movie names\n",
    "print(\"Recommended movies for user with ID\", user_id)\n",
    "recommended_movies = recommendations.join(movies, 'movieId').select('movieId', 'title', 'prediction')\n",
    "\n",
    "# Sort recommended movies by prediction in descending order\n",
    "ordered_recommendations = recommended_movies.orderBy(col('prediction').desc())\n",
    "\n",
    "# Display the ordered recommendations\n",
    "ordered_recommendations.show()"
   ]
  },
  {
   "cell_type": "code",
   "execution_count": null,
   "id": "6428e564-e09d-4c32-b2cf-664b4c421075",
   "metadata": {},
   "outputs": [],
   "source": []
  },
  {
   "cell_type": "code",
   "execution_count": null,
   "id": "faf5e45d-a7ac-4ed0-8fa2-8a4c367cdecc",
   "metadata": {},
   "outputs": [],
   "source": []
  },
  {
   "cell_type": "code",
   "execution_count": null,
   "id": "30868a37-62ec-4138-b958-af37b50e47d3",
   "metadata": {},
   "outputs": [],
   "source": []
  },
  {
   "cell_type": "code",
   "execution_count": null,
   "id": "63b75647-a2c3-4616-b5dd-7020795ed56e",
   "metadata": {},
   "outputs": [],
   "source": []
  },
  {
   "cell_type": "code",
   "execution_count": null,
   "id": "fd9fadb5-05fd-4d62-81f4-ad21aa0817a9",
   "metadata": {},
   "outputs": [],
   "source": []
  },
  {
   "cell_type": "code",
   "execution_count": 12,
   "id": "a9716544-2ccc-4755-b005-8374ed1a0b11",
   "metadata": {},
   "outputs": [
    {
     "name": "stdout",
     "output_type": "stream",
     "text": [
      "Movies liked by user with ID 123\n",
      "+--------------------+--------------------+-------------------+--------------------+----------+------------+----------+------+-------+\n",
      "|               title|              genres|     director_names|          cast_names|popularity|vote_average|vote_count|rating|movieId|\n",
      "+--------------------+--------------------+-------------------+--------------------+----------+------------+----------+------+-------+\n",
      "|           Star Wars|[Action, Adventur...|     [George Lucas]|[Carrie Fisher, H...| 42.149697|         8.1|    6778.0|   5.0|     11|\n",
      "|The Shawshank Red...|      [Crime, Drama]|   [Frank Darabont]|[Bob Gunton, Clan...| 51.645403|         8.5|    8358.0|   3.0|    278|\n",
      "|    Schindler's List|[Drama, History, ...| [Steven Spielberg]|[Ben Kingsley, Ca...| 41.725123|         8.3|    4436.0|   4.5|    424|\n",
      "|            Die Hard|  [Action, Thriller]|   [John McTiernan]|[Alan Rickman, Al...| 16.640522|         7.5|    4005.0|   4.0|    562|\n",
      "|The Empire Strike...|[Action, Adventur...|   [Irvin Kershner]|[Billy Dee Willia...| 19.470959|         8.2|    5998.0|   5.0|   1891|\n",
      "|  The Princess Bride|[Adventure, Comed...|       [Rob Reiner]|[André the Giant,...|  15.15267|         7.6|    1518.0|   5.0|   2493|\n",
      "|Raiders of the Lo...| [Action, Adventure]| [Steven Spielberg]|[Harrison Ford, K...| 19.901576|         7.7|    3949.0|   5.0|     85|\n",
      "|  Return of the Jedi|[Action, Adventur...| [Richard Marquand]|[Billy Dee Willia...| 14.586087|         7.9|    4763.0|   4.0|   1892|\n",
      "|       Groundhog Day|[Comedy, Drama, F...|     [Harold Ramis]|[Andie MacDowell,...| 12.989627|         7.4|    2358.0|   2.5|    137|\n",
      "|  Back to the Future|[Adventure, Comed...|  [Robert Zemeckis]|[Christopher Lloy...| 25.778509|         8.0|    6239.0|   4.5|    105|\n",
      "|Indiana Jones and...| [Action, Adventure]| [Steven Spielberg]|[Alison Doody, De...| 14.788987|         7.6|    3221.0|   4.0|     89|\n",
      "| Saving Private Ryan|[Drama, History, ...| [Steven Spielberg]|[Matt Damon, Tom ...| 21.758054|         7.9|    5148.0|   3.0|    857|\n",
      "|The Lord of the R...|[Action, Adventur...|    [Peter Jackson]|[Cate Blanchett, ...| 32.070725|         8.0|    8892.0|   4.0|    120|\n",
      "|The Lord of the R...|[Action, Adventur...|    [Peter Jackson]|[Elijah Wood, Ian...| 29.423537|         8.0|    7641.0|   4.0|    121|\n",
      "|The Lord of the R...|[Action, Adventur...|    [Peter Jackson]|[Elijah Wood, Ian...| 29.324358|         8.1|    8226.0|   4.0|    122|\n",
      "|       Batman Begins|[Action, Crime, D...|[Christopher Nolan]|[Christian Bale, ...| 28.505341|         7.5|    7511.0|   3.0|    272|\n",
      "|     The Dark Knight|[Action, Crime, D...|[Christopher Nolan]|[Aaron Eckhart, C...|123.167259|         8.3|   12269.0|   2.5|    155|\n",
      "|           Star Trek|[Action, Adventur...|      [J.J. Abrams]|[Chris Pine, Eric...| 15.362632|         7.4|    4574.0|   2.5|  13475|\n",
      "|Guardians of the ...|[Action, Adventur...|       [James Gunn]|[Chris Pratt, Dav...| 53.291601|         7.9|   10014.0|   3.5| 118340|\n",
      "|Star Wars: The Fo...|[Action, Adventur...|      [J.J. Abrams]|[Adam Driver, Dai...| 31.626013|         7.5|    7993.0|   5.0| 140607|\n",
      "+--------------------+--------------------+-------------------+--------------------+----------+------------+----------+------+-------+\n",
      "\n",
      "Recommended movies for user with ID 123\n"
     ]
    },
    {
     "name": "stderr",
     "output_type": "stream",
     "text": [
      "[Stage 191:=================================================>       (7 + 1) / 8]"
     ]
    },
    {
     "name": "stdout",
     "output_type": "stream",
     "text": [
      "+--------------------+--------------------+-------------------+--------------------+----------+------------+----------+----------+-------+\n",
      "|               title|              genres|     director_names|          cast_names|popularity|vote_average|vote_count|prediction|movieId|\n",
      "+--------------------+--------------------+-------------------+--------------------+----------+------------+----------+----------+-------+\n",
      "|               Live!|          [Thriller]|   [Bill Guttentag]|[David Krumholtz,...| 12.376901|         5.7|      48.0| 4.5028553|  25218|\n",
      "|Star Trek II: The...|[Action, Adventur...|   [Nicholas Meyer]|[DeForest Kelley,...|  7.160236|         7.3|     688.0| 4.2702622|    154|\n",
      "|       He's a Dragon|[Adventure, Fanta...|[Indar Dzhendubaev]|[Maria Poezhaeva,...|  5.978316|         6.6|      38.0| 4.0405807| 370964|\n",
      "|     Son of Paleface|[Comedy, Romance,...|    [Frank Tashlin]|[Bob Hope, Jane R...|  4.423289|         6.2|      13.0|   4.02585|  30801|\n",
      "|Those Daring Youn...| [Adventure, Comedy]|      [Ken Annakin]|[Bourvil, Lando B...|  4.336514|         6.8|      10.0| 4.0062866|  38792|\n",
      "|            Ace High|[Action, Comedy, ...| [Giuseppe Colizzi]|[Brock Peters, Bu...|  3.785942|         6.1|      28.0| 4.1035886|  11874|\n",
      "|                  Jo|            [Comedy]|     [Jean Girault]|[Bernard Blier, C...|   3.39109|         7.1|      49.0|  4.170941|  12598|\n",
      "|       Out of Nature|     [Comedy, Drama]|       [Ole Giæver]|[Marte Magnusdott...|  2.335565|         7.1|       9.0| 4.3137484| 285176|\n",
      "| Heart of the Dragon|[Action, Comedy, ...|       [Sammo Hung]|[Emily Chu, Jacki...|  2.301717|         6.9|      24.0| 4.4705315|  18763|\n",
      "|    Scabbard Samurai|[Action, Comedy, ...|[Hitoshi Matsumoto]|[Itsuji Itao, Jun...|  1.754357|         6.5|      11.0| 4.3998795|  80801|\n",
      "|Escape to Witch M...|[Adventure, Famil...|      [Peter Rader]|[Elisabeth Moss, ...|  1.749574|         5.4|      16.0|  4.215236| 239033|\n",
      "|Sonic The Hedgeho...|[Action, Adventur...| [Ikegami Kazunori]|[Hekiru Shīna, La...|  1.719684|         6.6|       9.0| 4.0920954|  16355|\n",
      "|    Rabbit Seasoning|[Animation, Comed...|      [Chuck Jones]|[Arthur Q. Bryan,...|  1.648768|         7.1|      29.0| 4.1438875|  52954|\n",
      "|     The Floorwalker|            [Comedy]|  [Charlie Chaplin]|[Charlie Chaplin,...|  1.558567|         6.3|      21.0| 4.0417852|  53416|\n",
      "|            One A.M.|            [Comedy]|  [Charlie Chaplin]|[Albert Austin, C...|  1.472505|         6.3|      17.0| 4.5324707|  53418|\n",
      "|In the Forests of...|  [Adventure, Drama]|      [Safy Nebbou]|[Evgeniy Sidikhin...|  1.333969|         7.3|      34.0|  4.173392| 395452|\n",
      "| White Out, Black In|[Documentary, Dra...|  [Adirley Queirós]|[DJ Jamaika, Dilm...|  1.236621|         6.4|      11.0| 4.2217774| 256959|\n",
      "|          Being Evel|[Documentary, His...|     [Daniel Junge]|[Evel Knievel, Ge...|  1.197099|         7.1|       9.0| 4.4999638| 317655|\n",
      "|Bruce Lee: A Warr...|       [Documentary]|      [John Little]|[Bruce Lee, Jacki...|  1.165594|         7.3|      15.0| 4.4491324|  37588|\n",
      "|             C(r)ook|[Comedy, Crime, T...|    [Pepe Danquart]|[Corinna Harfouch...|  1.151656|         6.4|       9.0| 4.7054043|   8995|\n",
      "+--------------------+--------------------+-------------------+--------------------+----------+------------+----------+----------+-------+\n",
      "only showing top 20 rows\n",
      "\n"
     ]
    },
    {
     "name": "stderr",
     "output_type": "stream",
     "text": [
      "                                                                                "
     ]
    }
   ],
   "source": [
    "from pyspark.sql.functions import col, lit\n",
    "\n",
    "# select a single user from the test set\n",
    "user_id = 123\n",
    "single_user_ratings = ratings.filter(ratings['userId'] == user_id).select(['movieId', 'userId', 'rating'])\n",
    "\n",
    "# display the movies the user has liked\n",
    "print(\"Movies liked by user with ID\", user_id)\n",
    "single_user_ratings.join(df_merge, single_user_ratings['movieId'] == df_merge['id']).select(\"title\", \"genres\", \"director_names\", \"cast_names\", \"popularity\", \"vote_average\", \"vote_count\", \"rating\", \"movieId\").show()\n",
    "\n",
    "# generate recommendations for the user\n",
    "all_movies = df.select('movieId').distinct()\n",
    "user_movies = single_user_ratings.select('movieId').distinct()\n",
    "movies_to_recommend = all_movies.subtract(user_movies)\n",
    "\n",
    "# predict ratings for movies the user has not rated yet\n",
    "recommendations = temp.transform(movies_to_recommend.withColumn('userId', lit(user_id)))\n",
    "\n",
    "# filter out the movies that the user has already rated or seen (this filters out the movies that the user has not liked as well)\n",
    "recommendations = recommendations.filter(col('prediction') > 4)\n",
    "\n",
    "# display the recommendations with movie names\n",
    "print(\"Recommended movies for user with ID\", user_id)\n",
    "recommended_movies = recommendations.join(df_merge, recommendations['movieId'] == df_merge['id']).select(\"title\", \"genres\", \"director_names\", \"cast_names\", \"popularity\", \"vote_average\", \"vote_count\", \"prediction\", \"movieId\")\n",
    "\n",
    "# Sort recommended movies by prediction in descending order\n",
    "ordered_recommendations = recommended_movies.orderBy(col('popularity').desc())\n",
    "\n",
    "# Display the ordered recommendations\n",
    "ordered_recommendations.show()"
   ]
  },
  {
   "cell_type": "code",
   "execution_count": 28,
   "id": "48fb1a81-5223-4fba-85cd-19ceeaf79e53",
   "metadata": {},
   "outputs": [],
   "source": [
    "import numpy as np"
   ]
  },
  {
   "cell_type": "code",
   "execution_count": 18,
   "id": "0012038b-44fc-40ff-b7b7-e1017d6a00aa",
   "metadata": {},
   "outputs": [
    {
     "name": "stdout",
     "output_type": "stream",
     "text": [
      "Phim user đã xem:\n",
      "+--------------------+--------------------+-------------------+--------------------+----------+------------+----------+------+\n",
      "|               title|              genres|     director_names|          cast_names|popularity|vote_average|vote_count|rating|\n",
      "+--------------------+--------------------+-------------------+--------------------+----------+------------+----------+------+\n",
      "|           Star Wars|[Action, Adventur...|     [George Lucas]|[Carrie Fisher, H...| 42.149697|         8.1|    6778.0|   5.0|\n",
      "|The Shawshank Red...|      [Crime, Drama]|   [Frank Darabont]|[Bob Gunton, Clan...| 51.645403|         8.5|    8358.0|   3.0|\n",
      "|    Schindler's List|[Drama, History, ...| [Steven Spielberg]|[Ben Kingsley, Ca...| 41.725123|         8.3|    4436.0|   4.5|\n",
      "|            Die Hard|  [Action, Thriller]|   [John McTiernan]|[Alan Rickman, Al...| 16.640522|         7.5|    4005.0|   4.0|\n",
      "|The Empire Strike...|[Action, Adventur...|   [Irvin Kershner]|[Billy Dee Willia...| 19.470959|         8.2|    5998.0|   5.0|\n",
      "|  The Princess Bride|[Adventure, Comed...|       [Rob Reiner]|[André the Giant,...|  15.15267|         7.6|    1518.0|   5.0|\n",
      "|Raiders of the Lo...| [Action, Adventure]| [Steven Spielberg]|[Harrison Ford, K...| 19.901576|         7.7|    3949.0|   5.0|\n",
      "|  Return of the Jedi|[Action, Adventur...| [Richard Marquand]|[Billy Dee Willia...| 14.586087|         7.9|    4763.0|   4.0|\n",
      "|       Groundhog Day|[Comedy, Drama, F...|     [Harold Ramis]|[Andie MacDowell,...| 12.989627|         7.4|    2358.0|   2.5|\n",
      "|  Back to the Future|[Adventure, Comed...|  [Robert Zemeckis]|[Christopher Lloy...| 25.778509|         8.0|    6239.0|   4.5|\n",
      "|Indiana Jones and...| [Action, Adventure]| [Steven Spielberg]|[Alison Doody, De...| 14.788987|         7.6|    3221.0|   4.0|\n",
      "| Saving Private Ryan|[Drama, History, ...| [Steven Spielberg]|[Matt Damon, Tom ...| 21.758054|         7.9|    5148.0|   3.0|\n",
      "|The Lord of the R...|[Action, Adventur...|    [Peter Jackson]|[Cate Blanchett, ...| 32.070725|         8.0|    8892.0|   4.0|\n",
      "|The Lord of the R...|[Action, Adventur...|    [Peter Jackson]|[Elijah Wood, Ian...| 29.423537|         8.0|    7641.0|   4.0|\n",
      "|The Lord of the R...|[Action, Adventur...|    [Peter Jackson]|[Elijah Wood, Ian...| 29.324358|         8.1|    8226.0|   4.0|\n",
      "|       Batman Begins|[Action, Crime, D...|[Christopher Nolan]|[Christian Bale, ...| 28.505341|         7.5|    7511.0|   3.0|\n",
      "|     The Dark Knight|[Action, Crime, D...|[Christopher Nolan]|[Aaron Eckhart, C...|123.167259|         8.3|   12269.0|   2.5|\n",
      "|           Star Trek|[Action, Adventur...|      [J.J. Abrams]|[Chris Pine, Eric...| 15.362632|         7.4|    4574.0|   2.5|\n",
      "|Guardians of the ...|[Action, Adventur...|       [James Gunn]|[Chris Pratt, Dav...| 53.291601|         7.9|   10014.0|   3.5|\n",
      "|Star Wars: The Fo...|[Action, Adventur...|      [J.J. Abrams]|[Adam Driver, Dai...| 31.626013|         7.5|    7993.0|   5.0|\n",
      "+--------------------+--------------------+-------------------+--------------------+----------+------------+----------+------+\n",
      "\n",
      "Phim được lọc lại bằng CB (cosine):\n"
     ]
    },
    {
     "name": "stderr",
     "output_type": "stream",
     "text": [
      "[Stage 438:=================================================>       (7 + 1) / 8]"
     ]
    },
    {
     "name": "stdout",
     "output_type": "stream",
     "text": [
      "+--------------------+--------------------+----------+------------+----------+----------+----------+\n",
      "|               title|              genres|popularity|vote_average|vote_count|similarity|prediction|\n",
      "+--------------------+--------------------+----------+------------+----------+----------+----------+\n",
      "|      The Terminator|[Action, Science ...| 19.293562|         7.4|    4208.0|0.97331464| 3.8391197|\n",
      "|Terminator 2: Jud...|[Action, Science ...| 22.661695|         7.7|    4274.0| 0.9712052| 3.9911008|\n",
      "|Star Trek II: The...|[Action, Adventur...|  7.160236|         7.3|     688.0| 0.9703853| 4.2702622|\n",
      "|2019: After the F...|[Action, Horror, ...|  1.323491|         4.5|      18.0| 0.9584577| 3.8921218|\n",
      "|               Alien|[Action, Horror, ...|  23.37742|         7.9|    4564.0| 0.9579005| 3.7663982|\n",
      "|      Steel Frontier|[Action, Science ...|  0.163373|         6.3|       3.0| 0.9574179|  4.374361|\n",
      "|              Aliens|[Action, Horror, ...| 21.761179|         7.7|    3282.0|0.95667744| 3.9067647|\n",
      "|        Ghostbusters|   [Comedy, Fantasy]| 22.089729|         7.3|    2431.0|0.95493484| 3.9925137|\n",
      "|     SOS Coast Guard|            [Action]|  0.707991|         4.0|       2.0| 0.9547161| 3.9884079|\n",
      "|Star Trek IV: The...|[Adventure, Scien...| 12.596956|         6.9|     490.0| 0.9535471| 3.7768807|\n",
      "|The Swan Princess...|[Animation, Famil...|  5.121309|         5.8|      83.0| 0.9533276| 3.8271313|\n",
      "|                Zaat|[Drama, Fantasy, ...|  0.794203|         2.1|      14.0|0.94965535|   3.71247|\n",
      "|Escape to Witch M...|[Adventure, Famil...|  1.749574|         5.4|      16.0| 0.9485428|  4.215236|\n",
      "|   Wicked Stepmother|[Comedy, Fantasy,...|   5.78E-4|         6.2|       7.0| 0.9484556| 3.8231716|\n",
      "|                Jaws|[Adventure, Horro...| 19.726114|         7.5|    2628.0| 0.9483365| 3.8094928|\n",
      "|      Wheels of Fire|[Action, Adventur...|   1.08232|         5.1|       5.0|0.94778466|  3.926007|\n",
      "|Sonic The Hedgeho...|[Action, Adventur...|  1.719684|         6.6|       9.0|0.94663936| 4.0920954|\n",
      "|            Superman|[Action, Crime, S...|  0.971064|         4.0|       2.0| 0.9454773| 4.1839113|\n",
      "|               Kongo|     [Drama, Horror]|  0.108541|         7.3|       3.0| 0.9445943| 3.9785182|\n",
      "|Never Sleep Again...|       [Documentary]|   2.48821|         8.2|      37.0|0.94112617|  3.950556|\n",
      "+--------------------+--------------------+----------+------------+----------+----------+----------+\n",
      "only showing top 20 rows\n",
      "\n"
     ]
    },
    {
     "name": "stderr",
     "output_type": "stream",
     "text": [
      "                                                                                "
     ]
    }
   ],
   "source": [
    "from pyspark.sql.functions import col, lit\n",
    "from pyspark.sql.types import FloatType\n",
    "from pyspark.sql import functions as F\n",
    "import numpy as np\n",
    "\n",
    "# 1. Chọn 1 user\n",
    "user_id = 123\n",
    "single_user_ratings = ratings.filter(ratings['userId'] == user_id).select(['movieId', 'userId', 'rating'])\n",
    "\n",
    "# 2. In các phim user đã rating\n",
    "print(\"Phim user đã xem:\")\n",
    "single_user_ratings.join(df_merge, single_user_ratings['movieId'] == df_merge['id']).select(\n",
    "    \"title\", \"genres\", \"director_names\", \"cast_names\", \"popularity\", \"vote_average\", \"vote_count\", \"rating\").show()\n",
    "\n",
    "# 3. Lấy danh sách phim chưa xem\n",
    "all_movies = df.select('movieId').distinct()\n",
    "user_movies = single_user_ratings.select('movieId').distinct()\n",
    "movies_to_recommend = all_movies.subtract(user_movies)\n",
    "\n",
    "# 4. Dự đoán bằng CF\n",
    "recommendations = temp.transform(movies_to_recommend.withColumn('userId', lit(user_id)))\n",
    "recommendations = recommendations.filter(col('prediction') > 3.7)\n",
    "\n",
    "# 5. Join info phim\n",
    "recommended_movies = recommendations.join(df_merge, recommendations['movieId'] == df_merge['id']).select(\n",
    "    \"title\", \"genres\",  \"popularity\", \"vote_average\", \n",
    "    \"vote_count\", \"movieId\", \"prediction\"\n",
    ")\n",
    "\n",
    "# 6. Lấy vector các phim user đã rating\n",
    "rated_movies = single_user_ratings.join(df_list, single_user_ratings.movieId == df_list.id)\n",
    "\n",
    "# 7. Tính vector trung bình\n",
    "user_vec = rated_movies.select('vecs').rdd.map(lambda row: np.array(row['vecs'])).mean()\n",
    "broadcast_user_vec = spark.sparkContext.broadcast(user_vec)\n",
    "\n",
    "# 8. UDF tính cosine similarity\n",
    "def cosine_similarity(v1, v2):\n",
    "    v1 = np.array(v1)\n",
    "    v2 = np.array(v2)\n",
    "    numerator = float(np.dot(v1, v2))\n",
    "    denominator = float(np.linalg.norm(v1) * np.linalg.norm(v2))\n",
    "    return numerator / denominator if denominator != 0 else 0.0\n",
    "\n",
    "cosine_udf = F.udf(lambda vec: float(cosine_similarity(broadcast_user_vec.value, vec)), FloatType())\n",
    "\n",
    "# 9. Join vector vào các phim gợi ý và tính similarity\n",
    "cb_filtered = recommended_movies.join(df_list, recommended_movies.movieId == df_list.id)\n",
    "cb_filtered = cb_filtered.withColumn('similarity', cosine_udf(F.col('vecs')))\n",
    "\n",
    "# 10. Sắp xếp theo similarity\n",
    "cb_filtered = cb_filtered.orderBy(F.col('similarity').desc())\n",
    "\n",
    "# 11. Hiển thị kết quả sau lọc bằng CB\n",
    "print(\"Phim được lọc lại bằng CB (cosine):\")\n",
    "cb_filtered.select(\n",
    "    \"title\", \"genres\", \"popularity\", \"vote_average\", \n",
    "    \"vote_count\", \"similarity\",\"prediction\"\n",
    ").show()\n"
   ]
  },
  {
   "cell_type": "code",
   "execution_count": null,
   "id": "be88527b-ba36-446a-a2df-6823467c1da7",
   "metadata": {},
   "outputs": [],
   "source": []
  },
  {
   "cell_type": "code",
   "execution_count": null,
   "id": "f1686405-821a-4a10-b7da-064cacae11c2",
   "metadata": {},
   "outputs": [],
   "source": []
  },
  {
   "cell_type": "code",
   "execution_count": null,
   "id": "3548b338-f874-47fc-933a-19f51ca97b90",
   "metadata": {},
   "outputs": [],
   "source": []
  }
 ],
 "metadata": {
  "kernelspec": {
   "display_name": "Python 3 (ipykernel)",
   "language": "python",
   "name": "python3"
  },
  "language_info": {
   "codemirror_mode": {
    "name": "ipython",
    "version": 3
   },
   "file_extension": ".py",
   "mimetype": "text/x-python",
   "name": "python",
   "nbconvert_exporter": "python",
   "pygments_lexer": "ipython3",
   "version": "3.9.23"
  }
 },
 "nbformat": 4,
 "nbformat_minor": 5
}
