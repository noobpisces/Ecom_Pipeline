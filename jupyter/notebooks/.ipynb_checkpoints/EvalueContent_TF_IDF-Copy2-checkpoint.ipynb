{
 "cells": [
  {
   "cell_type": "code",
   "execution_count": 18,
   "id": "4ddfaf26-9657-40d9-8f1d-93af63fb3424",
   "metadata": {
    "tags": []
   },
   "outputs": [],
   "source": [
    "from pyspark.sql.functions import col, abs, sum as spark_sum, pow, sqrt, udf, expr\n",
    "from pyspark.sql.types import FloatType\n",
    "import numpy as np\n",
    "from pyspark.sql import functions as F\n",
    "import builtins\n",
    "from pyspark.sql.window import Window\n",
    "from pyspark.sql.functions import rand, struct, collect_list, col, sqrt\n",
    "from pyspark.sql import SparkSession"
   ]
  },
  {
   "cell_type": "code",
   "execution_count": 19,
   "id": "81cf2f69-cbbb-412f-8f05-8669b6ecbe59",
   "metadata": {
    "tags": []
   },
   "outputs": [],
   "source": [
    "spark = SparkSession.builder \\\n",
    "    .appName(\"MinIO with Delta Lakeeeeeeeeeeeee\") \\\n",
    "    .config(\"spark.jars\", \"jars/hadoop-aws-3.3.4.jar,jars/spark-sql-kafka-0-10_2.12-3.2.1.jar,jars/aws-java-sdk-bundle-1.12.262.jar,jars/delta-core_2.12-2.2.0.jar,jars/delta-storage-2.2.0.jar\") \\\n",
    "    .config(\"spark.hadoop.fs.s3a.endpoint\", \"http://minio:9000\") \\\n",
    "    .config(\"spark.hadoop.fs.s3a.access.key\", \"conbo123\") \\\n",
    "    .config(\"spark.hadoop.fs.s3a.secret.key\", \"123conbo\") \\\n",
    "    .config(\"spark.hadoop.fs.s3a.path.style.access\", \"true\") \\\n",
    "    .config(\"spark.hadoop.fs.s3a.impl\", \"org.apache.hadoop.fs.s3a.S3AFileSystem\") \\\n",
    "    .config(\"spark.sql.extensions\", \"io.delta.sql.DeltaSparkSessionExtension\") \\\n",
    "    .config(\"spark.sql.catalog.spark_catalog\", \"org.apache.spark.sql.delta.catalog.DeltaCatalog\") \\\n",
    "    .config(\"spark.delta.logStore.class\", \"org.apache.spark.sql.delta.storage.S3SingleDriverLogStore\") \\\n",
    "    .config(\"delta.enable-non-concurrent-writes\", \"true\") \\\n",
    "    .config(\"spark.sql.warehouse.dir\", \"s3a://lakehouse/\") \\\n",
    "    .getOrCreate()"
   ]
  },
  {
   "cell_type": "code",
   "execution_count": 20,
   "id": "56c69369-f15e-4208-98b4-938281603278",
   "metadata": {
    "tags": []
   },
   "outputs": [],
   "source": [
    "sc = spark.sparkContext"
   ]
  },
  {
   "cell_type": "code",
   "execution_count": 21,
   "id": "d756cc5d-134c-417a-b553-31da6960bb39",
   "metadata": {
    "tags": []
   },
   "outputs": [],
   "source": [
    "CB = spark.read.format(\"delta\").load(\"s3a://lakehouse/data/all_movies_delta_IDF\")\n",
    "filtered_CB = CB.filter(CB[\"id\"].isNotNull())"
   ]
  },
  {
   "cell_type": "code",
   "execution_count": 22,
   "id": "d70eeabc-f97b-4c0b-9ff8-1cfb8ec68c1a",
   "metadata": {
    "tags": []
   },
   "outputs": [],
   "source": [
    "movie_vec_dict = {int(row.id): row.vecs for row in filtered_CB.select(\"id\", \"vecs\").collect()}\n",
    "b_movie_vec = sc.broadcast(movie_vec_dict)\n",
    "ratings = spark.read.format(\"delta\").load(\"s3a://lakehouse/silver/ratings\")\n",
    "ratings = ratings.select(\"userId\", \"movieId\", \"rating\")\n",
    "ratings = ratings.withColumn('userId', ratings['userId'].cast('int')).\\\n",
    "withColumn('movieId', ratings['movieId'].cast('int')).withColumn('rating', ratings['rating'].cast('float'))\n",
    "train, validation, test = ratings.randomSplit([0.8, 0.1, 0.1], seed=0)\n",
    "test = test.limit(500000)"
   ]
  },
  {
   "cell_type": "code",
   "execution_count": 23,
   "id": "b521bd34-5485-4ef1-917c-c6369ab48a0d",
   "metadata": {
    "tags": []
   },
   "outputs": [],
   "source": [
    "user_hist = (test\n",
    "             .groupBy(\"userId\")\n",
    "             .agg(F.collect_list(F.struct(\"movieId\",\"rating\")).alias(\"history\")))"
   ]
  },
  {
   "cell_type": "code",
   "execution_count": 24,
   "id": "d0f2e95d-5a67-4872-85bf-0d5fa4ea5a97",
   "metadata": {},
   "outputs": [],
   "source": [
    "def predict_rating(user_history, target_id):\n",
    "    vec_dict = b_movie_vec.value\n",
    "    target = vec_dict.get(target_id)\n",
    "    if target is None: return 0.0\n",
    "    num, den = 0.0, 0.0\n",
    "    for mid, r in user_history:\n",
    "        v = vec_dict.get(mid)\n",
    "        if v is None: continue\n",
    "        # cosine similarity\n",
    "        sim = float(np.dot(target, v) / (np.linalg.norm(target)*np.linalg.norm(v))) if np.linalg.norm(target)*np.linalg.norm(v)>0 else 0.0\n",
    "        num += sim * r\n",
    "        den += builtins.abs(sim)\n",
    "    return float(num/den) if den>0 else 0.0\n",
    "\n",
    "predict_udf = F.udf(predict_rating, FloatType())"
   ]
  },
  {
   "cell_type": "code",
   "execution_count": 25,
   "id": "92264852-1a59-41d7-80f3-89c5108ffaad",
   "metadata": {},
   "outputs": [
    {
     "name": "stdout",
     "output_type": "stream",
     "text": [
      "RMSE trên ratings = 0.2904\n"
     ]
    }
   ],
   "source": [
    "ratings_in_cb = (\n",
    "    test\n",
    "    .join(CB.select(F.col(\"id\").alias(\"cb_id\")), test.movieId == F.col(\"cb_id\"), \"inner\")\n",
    "    .select(\"userId\", \"movieId\", \"rating\")\n",
    "    .cache()  # Cache dữ liệu để sử dụng lại\n",
    ")\n",
    "\n",
    "# Tối ưu hóa việc phân vùng trước khi groupBy\n",
    "train_hist = (\n",
    "    ratings_in_cb\n",
    "    .repartition(\"userId\")  # Đảm bảo phân vùng hợp lý khi groupBy theo userId\n",
    "    .groupBy(\"userId\")\n",
    "    .agg(\n",
    "        collect_list(struct(\"movieId\", \"rating\")).alias(\"history\")\n",
    "    )\n",
    ")\n",
    "\n",
    "# Kết hợp sample_ratings với lịch sử train\n",
    "eval_df = (\n",
    "    ratings_in_cb\n",
    "    .join(train_hist, on=\"userId\", how=\"left\")\n",
    ")\n",
    "\n",
    "# Dự đoán và tính bình phương sai số, tối ưu hoá phép toán dự đoán\n",
    "eval_df = (\n",
    "    eval_df\n",
    "    .withColumn(\"predicted_rating\", predict_udf(\"history\", \"movieId\"))\n",
    "    .withColumn(\"squared_error\", (col(\"predicted_rating\") - col(\"rating\"))**2)\n",
    ")\n",
    "\n",
    "# Tính RMSE trực tiếp trong bước tính toán\n",
    "rmse = eval_df.agg(\n",
    "    sqrt(F.avg(\"squared_error\")).alias(\"rmse\")\n",
    ").collect()[0][\"rmse\"]\n",
    "\n",
    "print(f\"RMSE trên ratings = {rmse:.4f}\")"
   ]
  },
  {
   "cell_type": "code",
   "execution_count": null,
   "id": "b5f08028-b4a8-4b29-bf13-546854be715c",
   "metadata": {},
   "outputs": [],
   "source": []
  },
  {
   "cell_type": "code",
   "execution_count": null,
   "id": "23491eac-b875-4667-ab61-ca400e681f78",
   "metadata": {},
   "outputs": [],
   "source": []
  },
  {
   "cell_type": "code",
   "execution_count": null,
   "id": "0f0b39d8-cd65-4b27-8f17-94b40a1e9748",
   "metadata": {},
   "outputs": [],
   "source": []
  },
  {
   "cell_type": "code",
   "execution_count": null,
   "id": "a252e68a-a9e8-48c2-8d0c-cdc3a41d9fe7",
   "metadata": {},
   "outputs": [],
   "source": []
  },
  {
   "cell_type": "code",
   "execution_count": null,
   "id": "cdbfdde3-472c-45f4-91d7-7ee88e09de73",
   "metadata": {},
   "outputs": [],
   "source": []
  },
  {
   "cell_type": "code",
   "execution_count": null,
   "id": "2fc26eaa-265b-430c-8875-21c0c210ca9c",
   "metadata": {},
   "outputs": [],
   "source": []
  },
  {
   "cell_type": "code",
   "execution_count": null,
   "id": "2f8f6f9a-2ab9-44ae-8a03-2b3f25c20285",
   "metadata": {},
   "outputs": [],
   "source": []
  },
  {
   "cell_type": "code",
   "execution_count": null,
   "id": "715d28a5-f5e0-4409-bb2b-1711c7a087e0",
   "metadata": {},
   "outputs": [],
   "source": []
  },
  {
   "cell_type": "code",
   "execution_count": null,
   "id": "44778e61-daa9-43f2-be6c-48539010e096",
   "metadata": {},
   "outputs": [],
   "source": []
  },
  {
   "cell_type": "code",
   "execution_count": null,
   "id": "9233f552-976b-4e05-9412-57060be50e46",
   "metadata": {},
   "outputs": [],
   "source": []
  },
  {
   "cell_type": "code",
   "execution_count": null,
   "id": "0ad56a41-b169-465a-b2b3-b0cdf0d96dea",
   "metadata": {},
   "outputs": [],
   "source": []
  },
  {
   "cell_type": "code",
   "execution_count": null,
   "id": "48e92e40-b7ea-4d39-8d17-d003382e567d",
   "metadata": {},
   "outputs": [],
   "source": []
  },
  {
   "cell_type": "code",
   "execution_count": 77,
   "id": "d1e369c1-fe74-45c9-a33b-5970cd62782a",
   "metadata": {
    "tags": []
   },
   "outputs": [
    {
     "data": {
      "text/plain": [
       "0.0"
      ]
     },
     "execution_count": 77,
     "metadata": {},
     "output_type": "execute_result"
    }
   ],
   "source": [
    "predict_rating(eval_df.select('history').take(1),96821)"
   ]
  },
  {
   "cell_type": "code",
   "execution_count": 79,
   "id": "6110d6a6-eaa3-48ef-a188-51efa9dcfb04",
   "metadata": {
    "tags": []
   },
   "outputs": [
    {
     "data": {
      "text/plain": [
       "[Row(history=[Row(movieId=96821, rating=5.0), Row(movieId=2762, rating=4.5), Row(movieId=147, rating=4.5), Row(movieId=2959, rating=4.0), Row(movieId=858, rating=5.0), Row(movieId=1968, rating=4.0), Row(movieId=1246, rating=5.0), Row(movieId=54503, rating=3.5), Row(movieId=4226, rating=4.0), Row(movieId=58559, rating=4.0), Row(movieId=110, rating=1.0)])]"
      ]
     },
     "execution_count": 79,
     "metadata": {},
     "output_type": "execute_result"
    }
   ],
   "source": [
    "eval_df.select('history').take(1)"
   ]
  },
  {
   "cell_type": "code",
   "execution_count": 82,
   "id": "81c02011-6383-47e7-a661-366673726e90",
   "metadata": {
    "tags": []
   },
   "outputs": [
    {
     "data": {
      "text/plain": [
       "[Row(history=[Row(movieId=96821, rating=5.0), Row(movieId=2762, rating=4.5), Row(movieId=147, rating=4.5), Row(movieId=2959, rating=4.0), Row(movieId=858, rating=5.0), Row(movieId=1968, rating=4.0), Row(movieId=1246, rating=5.0), Row(movieId=54503, rating=3.5), Row(movieId=4226, rating=4.0), Row(movieId=58559, rating=4.0), Row(movieId=110, rating=1.0)])]"
      ]
     },
     "execution_count": 82,
     "metadata": {},
     "output_type": "execute_result"
    }
   ],
   "source": [
    "vv = eval_df.select('history').take(1)\n",
    "vv"
   ]
  },
  {
   "cell_type": "code",
   "execution_count": 109,
   "id": "4fe3daa3-7415-4167-ac03-845a87ff78c9",
   "metadata": {
    "tags": []
   },
   "outputs": [
    {
     "name": "stdout",
     "output_type": "stream",
     "text": [
      "[-0.004987547054256806, -0.007048711687435999, -0.0020082383895950284, -0.04742521244813414, 0.0032200708382708184, 0.026919821441611824, 0.0015610888667117037, -0.01393796325496891, 0.0062209684401750565, -0.009778990882777554, -0.039882565026774126, -0.00022151310900774072, -0.03062977734953165, 0.021649353151374003, 0.02263843553031192, -0.011469860489288454, 0.01451953437508029, -0.04132008873035802, 0.029998779406442362, 0.05683883016600328, -0.011933329282328486, -0.01909188923480756, -0.02031881389934022, -0.01670564037254628, 0.03186120921471978, -0.04048683603896814, 0.027679304010234773, 0.0042531426776857935, -0.014645636629532366, -0.012813672560321935, 0.030011408551431754, -0.01661553411908886, -0.01982816686744199, -0.02952092428527334, 0.03528837217976723, 0.020873948397553143, -0.0005107921931673499, 3.884684102719321e-05, 0.012430900933823603, 0.028060641495839637, -0.027300839017912307, -0.026436581385924536, 0.010153024210868512, -0.025497245040776974, -0.01650848442188683, -0.0011700218379059259, -0.017192469937179017, 0.02037326295805328, 0.017132252742372015, -0.002511286361636046, -0.013715005418121377, -0.006144514454610865, -0.02029990393887548, -0.0018250032410244731, 0.04514857962289277, 0.001538005328791983, 0.010545822956106243, -0.0046429731335271805, 0.02862588264842463, 0.027179948451435742, 0.015168600951951435, 0.009143851916579638, -0.020968489348888397, -0.030223360100268003, 0.0410158708691597, 0.023706830695600194, 0.00218438620761256, 0.016851915594409492, -0.0004517218536313842, -0.004356209353050765, -0.01206295600380091, -0.0018393704667687416, -0.0071879636551089145, -0.030526587438276586, -0.005683050614179057, 0.026350836851634085, 0.01418399771072847, -0.021060669027707157, 0.023487830794799852, 0.037845409036997485, 0.015315520481261261, -0.01091148448176682, -0.014513270833584316, -0.013223380617359105, -0.01097739115357399, -0.002602895598529893, 0.0223883368752842, -0.009843960459179738, 0.027732567259055728, -0.02220400746035225, -0.008495062610189267, -0.009930692664484549, -0.0005388623925254625, 0.01320271407637526, 0.018413303536362946, 0.0021603724761756465, -0.026833045953775152, -0.009832965655197553, -0.0032325216075953316, -0.014716999769649085, 0.017502088989952907, -0.005663181381190524, -0.008151490378248341, -0.011854462750146493, -0.01732666227925459, -0.018535579814959097, 0.0007597774212412974, 0.008351937854005132, 0.015602538882590392, 0.004229462637072977, 0.009768271442119251, 0.004635647713097141, -0.008456892772194217, 0.010393953306929153, 0.020060589276802012, 0.018464984344866344, 0.021551174645805183, -0.006747664035441738, -0.02621563710272312, -0.006240289000903859, -0.007154568372403874, -0.02362622769878191, 0.02286430776653373, 0.011135221746585825, 0.0007021333474446746, 0.01159506751333966, 0.01516944551429547, 0.017533216324141798, -0.04092886715250857, 0.005270314745276289, 0.020845105063498896, 0.009187119245967445, -0.01832727833157953, -0.01294060389045626, -0.02728270717403468, 0.0064056289710981, 0.008227589778150158, -0.024858888567370528, 0.003658215939889059, -7.047041264526984e-05, 0.040426021414425445, 0.005088737617958994, 0.00424528171253555, 0.040830701370449626, -0.010807812802822274, -0.00444408825269955, 0.014081699903780484, -0.008948354803792694, -0.013925495290416567, 0.02175298292080269]\n"
     ]
    }
   ],
   "source": [
    "vec_dict = b_movie_vec.value\n",
    "\n",
    "target = vec_dict.get(147)\n",
    "print(target)\n",
    "if target is None: re = 0.0\n",
    "num, den = 0.0, 0.0\n",
    "for mid, r in vv[0].history:\n",
    "    v = vec_dict.get(mid)\n",
    "    if v is None: continue\n",
    "    # cosine similarity\n",
    "    sim = float(np.dot(target, v) / (np.linalg.norm(target)*np.linalg.norm(v))) if np.linalg.norm(target)*np.linalg.norm(v)>0 else 0.0\n",
    "    num += sim * r\n",
    "    den += builtins.abs(sim)\n",
    "C =  float(num/den) if den>0 else 0.0"
   ]
  },
  {
   "cell_type": "code",
   "execution_count": 111,
   "id": "e120861c-3ac3-4b48-a772-bb039851895a",
   "metadata": {
    "tags": []
   },
   "outputs": [
    {
     "data": {
      "text/plain": [
       "3.936687137226912"
      ]
     },
     "execution_count": 111,
     "metadata": {},
     "output_type": "execute_result"
    }
   ],
   "source": [
    "C"
   ]
  },
  {
   "cell_type": "code",
   "execution_count": 68,
   "id": "7c2f0216-dd2b-4838-898c-beea3c7309ee",
   "metadata": {
    "tags": []
   },
   "outputs": [
    {
     "name": "stdout",
     "output_type": "stream",
     "text": [
      "+------+-------+------+\n",
      "|userId|movieId|rating|\n",
      "+------+-------+------+\n",
      "|     1|  96821|   5.0|\n",
      "|     1|   2762|   4.5|\n",
      "|     1|    147|   4.5|\n",
      "|     1|   2959|   4.0|\n",
      "|     1|    858|   5.0|\n",
      "|     1|   1968|   4.0|\n",
      "|     1|   1246|   5.0|\n",
      "|     1|  54503|   3.5|\n",
      "|     1|   4226|   4.0|\n",
      "|     1|  58559|   4.0|\n",
      "|     1|    110|   1.0|\n",
      "+------+-------+------+\n",
      "\n"
     ]
    }
   ],
   "source": [
    "ratings_in_cb.filter(ratings_in_cb[\"userId\"] == 1).show()\n"
   ]
  },
  {
   "cell_type": "code",
   "execution_count": 52,
   "id": "ebcfe790-d531-4737-8396-3e432de29615",
   "metadata": {},
   "outputs": [
    {
     "name": "stdout",
     "output_type": "stream",
     "text": [
      "+------+-------+------+\n",
      "|userId|movieId|rating|\n",
      "+------+-------+------+\n",
      "|     1|  96821|   5.0|\n",
      "|     1|   2762|   4.5|\n",
      "|     1|    147|   4.5|\n",
      "|     1|   2959|   4.0|\n",
      "|     1|    858|   5.0|\n",
      "|     1|   1968|   4.0|\n",
      "|     1|   1246|   5.0|\n",
      "|     1|  54503|   3.5|\n",
      "|     1|   4226|   4.0|\n",
      "|     1|  58559|   4.0|\n",
      "|     1|    110|   1.0|\n",
      "+------+-------+------+\n",
      "\n"
     ]
    }
   ],
   "source": [
    "ratings_in_cb.show()"
   ]
  },
  {
   "cell_type": "code",
   "execution_count": 59,
   "id": "21b0746b-c135-48f3-bc19-5ae1dc8def67",
   "metadata": {
    "tags": []
   },
   "outputs": [
    {
     "name": "stdout",
     "output_type": "stream",
     "text": [
      "4.011539388193611\n"
     ]
    }
   ],
   "source": [
    "print(calculate_weighted_sim_for_user_movie(1,58559))"
   ]
  },
  {
   "cell_type": "code",
   "execution_count": 32,
   "id": "21181b7c-fd9f-422c-80f0-cd89a79e1cbd",
   "metadata": {
    "tags": []
   },
   "outputs": [],
   "source": [
    "def cosine(v1, v2):\n",
    "    import numpy as np\n",
    "    v1, v2 = np.array(v1), np.array(v2)\n",
    "    denom = np.linalg.norm(v1) * np.linalg.norm(v2)\n",
    "    return float(np.dot(v1, v2) / denom) if denom > 0 else 0.0\n",
    "\n",
    "def getvec(id):\n",
    "    row = CB.filter(CB['id'] == id).select(\"vecs\").head()\n",
    "    return row[\"vecs\"] if row else None\n",
    "def calculate_weighted_sim_for_user_movie(user_id, movie_id):\n",
    "    # Lấy các phim mà user đã rating\n",
    "    filterRating = ratings.filter(ratings[\"userId\"] == user_id).collect()\n",
    "\n",
    "    target_vec = getvec(movie_id)  # vector của phim cần dự đoán\n",
    "\n",
    "    numerator = 0.0\n",
    "    denominator = 0.0\n",
    "\n",
    "    for row in filterRating:\n",
    "        rated_movie_id = row[\"movieId\"]\n",
    "        rating = row[\"rating\"]\n",
    "\n",
    "        rated_vec = getvec(rated_movie_id)\n",
    "        if rated_vec is None or target_vec is None:\n",
    "            continue\n",
    "\n",
    "        sim = cosine(target_vec, rated_vec)\n",
    "\n",
    "        numerator += sim * rating\n",
    "        denominator += builtins.abs(sim)\n",
    "\n",
    "    predicted_rating = numerator / denominator if denominator > 0 else 0.0\n",
    "    return predicted_rating"
   ]
  },
  {
   "cell_type": "code",
   "execution_count": null,
   "id": "cbb05605-4a68-4fcd-9dc4-7a5df578be50",
   "metadata": {},
   "outputs": [],
   "source": []
  },
  {
   "cell_type": "code",
   "execution_count": null,
   "id": "0c8c0d57-3621-4f97-a564-ccf3abb1ea64",
   "metadata": {},
   "outputs": [],
   "source": []
  },
  {
   "cell_type": "code",
   "execution_count": null,
   "id": "ffc72c70-b770-46c7-91c1-4eb8ef1abd78",
   "metadata": {},
   "outputs": [],
   "source": []
  },
  {
   "cell_type": "code",
   "execution_count": null,
   "id": "b38c994e-0f62-48a7-8afa-1490eaea56b6",
   "metadata": {},
   "outputs": [],
   "source": []
  }
 ],
 "metadata": {
  "kernelspec": {
   "display_name": "Python 3 (ipykernel)",
   "language": "python",
   "name": "python3"
  },
  "language_info": {
   "codemirror_mode": {
    "name": "ipython",
    "version": 3
   },
   "file_extension": ".py",
   "mimetype": "text/x-python",
   "name": "python",
   "nbconvert_exporter": "python",
   "pygments_lexer": "ipython3",
   "version": "3.10.10"
  }
 },
 "nbformat": 4,
 "nbformat_minor": 5
}
