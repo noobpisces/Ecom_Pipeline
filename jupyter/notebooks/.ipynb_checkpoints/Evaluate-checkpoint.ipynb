{
 "cells": [
  {
   "cell_type": "code",
   "execution_count": 4,
   "id": "4ddfaf26-9657-40d9-8f1d-93af63fb3424",
   "metadata": {
    "tags": []
   },
   "outputs": [],
   "source": [
    "from pyspark.sql.functions import col, abs, sum as spark_sum, pow, sqrt, udf, expr\n",
    "from pyspark.sql.types import FloatType\n",
    "import numpy as np\n",
    "from pyspark.sql import functions as F\n",
    "import builtins\n",
    "from pyspark.sql import SparkSession"
   ]
  },
  {
   "cell_type": "code",
   "execution_count": 5,
   "id": "81cf2f69-cbbb-412f-8f05-8669b6ecbe59",
   "metadata": {
    "tags": []
   },
   "outputs": [],
   "source": [
    "spark = SparkSession.builder \\\n",
    "    .appName(\"MinIO with Delta Lakeeeeeeeeeeeee\") \\\n",
    "    .config(\"spark.jars\", \"jars/hadoop-aws-3.3.4.jar,jars/spark-sql-kafka-0-10_2.12-3.2.1.jar,jars/aws-java-sdk-bundle-1.12.262.jar,jars/delta-core_2.12-2.2.0.jar,jars/delta-storage-2.2.0.jar\") \\\n",
    "    .config(\"spark.hadoop.fs.s3a.endpoint\", \"http://minio:9000\") \\\n",
    "    .config(\"spark.hadoop.fs.s3a.access.key\", \"conbo123\") \\\n",
    "    .config(\"spark.hadoop.fs.s3a.secret.key\", \"123conbo\") \\\n",
    "    .config(\"spark.hadoop.fs.s3a.path.style.access\", \"true\") \\\n",
    "    .config(\"spark.hadoop.fs.s3a.impl\", \"org.apache.hadoop.fs.s3a.S3AFileSystem\") \\\n",
    "    .config(\"spark.sql.extensions\", \"io.delta.sql.DeltaSparkSessionExtension\") \\\n",
    "    .config(\"spark.sql.catalog.spark_catalog\", \"org.apache.spark.sql.delta.catalog.DeltaCatalog\") \\\n",
    "    .config(\"spark.delta.logStore.class\", \"org.apache.spark.sql.delta.storage.S3SingleDriverLogStore\") \\\n",
    "    .config(\"delta.enable-non-concurrent-writes\", \"true\") \\\n",
    "    .config(\"spark.sql.warehouse.dir\", \"s3a://lakehouse/\") \\\n",
    "    .getOrCreate()"
   ]
  },
  {
   "cell_type": "code",
   "execution_count": 13,
   "id": "d756cc5d-134c-417a-b553-31da6960bb39",
   "metadata": {
    "tags": []
   },
   "outputs": [],
   "source": [
    "CB = spark.read.format(\"delta\").load(\"s3a://lakehouse/data/all_movies_delta\")\n",
    "movie_vec_dict = {row.id: row.vecs for row in CB.select(\"id\",\"vecs\").collect()}\n",
    "b_movie_vec = sc.broadcast(movie_vec_dict)"
   ]
  },
  {
   "cell_type": "code",
   "execution_count": 15,
   "id": "b521bd34-5485-4ef1-917c-c6369ab48a0d",
   "metadata": {
    "tags": []
   },
   "outputs": [
    {
     "name": "stdout",
     "output_type": "stream",
     "text": [
      "root\n",
      " |-- id: string (nullable = true)\n",
      " |-- vecs: array (nullable = true)\n",
      " |    |-- element: double (containsNull = true)\n",
      "\n"
     ]
    }
   ],
   "source": [
    "user_hist = (ratings\n",
    "             .groupBy(\"userId\")\n",
    "             .agg(F.collect_list(F.struct(\"movieId\",\"rating\")).alias(\"history\")))"
   ]
  },
  {
   "cell_type": "code",
   "execution_count": 7,
   "id": "4d123080-4522-4602-aa63-3fa0da6e0752",
   "metadata": {
    "tags": []
   },
   "outputs": [],
   "source": [
    "ratings = spark.read.format(\"delta\").load(\"s3a://lakehouse/silver/ratings\")\n",
    "ratings = ratings.select(\"userId\", \"movieId\", \"rating\")\n",
    "ratings = ratings.withColumn('userId', ratings['userId'].cast('int')).\\\n",
    "withColumn('movieId', ratings['movieId'].cast('int')).withColumn('rating', ratings['rating'].cast('float'))\n",
    "\n",
    "train, ratings_test, validation  = ratings.randomSplit([0.8, 0.1, 0.1], seed=0)\n",
    " ratings_test=ratings_test.litmit(20000)"
   ]
  },
  {
   "cell_type": "code",
   "execution_count": 8,
   "id": "d1c4178d-e8a5-4eaa-9580-0a9879e11fcc",
   "metadata": {
    "tags": []
   },
   "outputs": [
    {
     "data": {
      "text/plain": [
       "DataFrame[userId: int, movieId: int, rating: float, prediction: float]"
      ]
     },
     "execution_count": 8,
     "metadata": {},
     "output_type": "execute_result"
    }
   ],
   "source": [
    "from pyspark.ml.recommendation import ALSModel\n",
    "CF_model = ALSModel.load(\"s3a://lakehouse/CF/als_best_model\")\n",
    "CF_model.transform(ratings_test)"
   ]
  },
  {
   "cell_type": "code",
   "execution_count": 28,
   "id": "eb74e6cf-8888-467b-9f28-fdf7ac81ca1c",
   "metadata": {
    "tags": []
   },
   "outputs": [
    {
     "name": "stdout",
     "output_type": "stream",
     "text": [
      "root\n",
      " |-- id: string (nullable = true)\n",
      " |-- vecs: array (nullable = true)\n",
      " |    |-- element: double (containsNull = true)\n",
      "\n"
     ]
    }
   ],
   "source": [
    "CB.printSchema()"
   ]
  },
  {
   "cell_type": "code",
   "execution_count": 30,
   "id": "67a54393-6bec-4b5f-aaa4-e63cf558aa00",
   "metadata": {
    "tags": []
   },
   "outputs": [
    {
     "name": "stdout",
     "output_type": "stream",
     "text": [
      "root\n",
      " |-- userId: integer (nullable = true)\n",
      " |-- movieId: integer (nullable = true)\n",
      " |-- rating: float (nullable = true)\n",
      "\n"
     ]
    }
   ],
   "source": [
    "ratings.printSchema()"
   ]
  },
  {
   "cell_type": "code",
   "execution_count": null,
   "id": "d0f2e95d-5a67-4872-85bf-0d5fa4ea5a97",
   "metadata": {},
   "outputs": [],
   "source": [
    "def predict_rating(user_history, target_id):\n",
    "    vec_dict = b_movie_vec.value\n",
    "    target = vec_dict.get(target_id)\n",
    "    if target is None: return 0.0\n",
    "    num, den = 0.0, 0.0\n",
    "    for mid, r in user_history:\n",
    "        v = vec_dict.get(mid)\n",
    "        if v is None: continue\n",
    "        # cosine similarity\n",
    "        sim = float(np.dot(target, v) / (np.linalg.norm(target)*np.linalg.norm(v))) if np.linalg.norm(target)*np.linalg.norm(v)>0 else 0.0\n",
    "        num += sim * r\n",
    "        den += abs(sim)\n",
    "    return float(num/den) if den>0 else 0.0\n",
    "\n",
    "predict_udf = F.udf(predict_rating, FloatType())"
   ]
  },
  {
   "cell_type": "code",
   "execution_count": null,
   "id": "e5de1a7e-030e-4e25-a438-1540bcbd835b",
   "metadata": {},
   "outputs": [],
   "source": [
    "to_predict = user_hist.crossJoin(\n",
    "    spark.createDataFrame(target_movie_ids, IntegerType()).toDF(\"movieId\")\n",
    ")"
   ]
  },
  {
   "cell_type": "code",
   "execution_count": null,
   "id": "361c257b-c97b-4476-a11c-90a4835094b9",
   "metadata": {},
   "outputs": [],
   "source": [
    "result = to_predict.withColumn(\n",
    "    \"predicted_rating\",\n",
    "    predict_udf(\"history\",\"movieId\")\n",
    ")"
   ]
  },
  {
   "cell_type": "code",
   "execution_count": null,
   "id": "3c3fea24-59c5-416b-8409-0aafcf64ef22",
   "metadata": {},
   "outputs": [],
   "source": []
  },
  {
   "cell_type": "code",
   "execution_count": null,
   "id": "cf25ae0e-0955-48db-8f91-ccdba31fb357",
   "metadata": {},
   "outputs": [],
   "source": []
  },
  {
   "cell_type": "code",
   "execution_count": 26,
   "id": "7c2f0216-dd2b-4838-898c-beea3c7309ee",
   "metadata": {
    "tags": []
   },
   "outputs": [
    {
     "data": {
      "text/plain": [
       "[Row(userId=1, movieId=110, rating=1.0),\n",
       " Row(userId=1, movieId=147, rating=4.5),\n",
       " Row(userId=1, movieId=858, rating=5.0),\n",
       " Row(userId=1, movieId=1221, rating=5.0),\n",
       " Row(userId=1, movieId=1246, rating=5.0),\n",
       " Row(userId=1, movieId=1968, rating=4.0),\n",
       " Row(userId=1, movieId=2762, rating=4.5),\n",
       " Row(userId=1, movieId=2918, rating=5.0),\n",
       " Row(userId=1, movieId=2959, rating=4.0),\n",
       " Row(userId=1, movieId=4226, rating=4.0),\n",
       " Row(userId=1, movieId=4878, rating=5.0),\n",
       " Row(userId=1, movieId=5577, rating=5.0),\n",
       " Row(userId=1, movieId=33794, rating=4.0),\n",
       " Row(userId=1, movieId=54503, rating=3.5),\n",
       " Row(userId=1, movieId=58559, rating=4.0),\n",
       " Row(userId=1, movieId=59315, rating=5.0),\n",
       " Row(userId=1, movieId=68358, rating=5.0),\n",
       " Row(userId=1, movieId=69844, rating=5.0),\n",
       " Row(userId=1, movieId=73017, rating=5.0),\n",
       " Row(userId=1, movieId=81834, rating=5.0)]"
      ]
     },
     "execution_count": 26,
     "metadata": {},
     "output_type": "execute_result"
    }
   ],
   "source": [
    "ratings.head(1)"
   ]
  },
  {
   "cell_type": "code",
   "execution_count": null,
   "id": "ebcfe790-d531-4737-8396-3e432de29615",
   "metadata": {},
   "outputs": [],
   "source": []
  },
  {
   "cell_type": "code",
   "execution_count": 50,
   "id": "21181b7c-fd9f-422c-80f0-cd89a79e1cbd",
   "metadata": {
    "tags": []
   },
   "outputs": [
    {
     "data": {
      "text/plain": [
       "27"
      ]
     },
     "execution_count": 50,
     "metadata": {},
     "output_type": "execute_result"
    }
   ],
   "source": [
    "def cosine(v1, v2):\n",
    "    import numpy as np\n",
    "    v1, v2 = np.array(v1), np.array(v2)\n",
    "    denom = np.linalg.norm(v1) * np.linalg.norm(v2)\n",
    "    return float(np.dot(v1, v2) / denom) if denom > 0 else 0.0\n",
    "\n",
    "def getvec(id):\n",
    "    row = CB.filter(CB['id'] == id).select(\"vecs\").head()\n",
    "    return row[\"vecs\"] if row else None\n",
    "def calculate_weighted_sim_for_user_movie(user_id, movie_id):\n",
    "    # Lấy các phim mà user đã rating\n",
    "    filterRating = ratings.filter(ratings[\"userId\"] == user_id).collect()\n",
    "\n",
    "    target_vec = getvec(movie_id)  # vector của phim cần dự đoán\n",
    "\n",
    "    numerator = 0.0\n",
    "    denominator = 0.0\n",
    "\n",
    "    for row in filterRating:\n",
    "        rated_movie_id = row[\"movieId\"]\n",
    "        rating = row[\"rating\"]\n",
    "\n",
    "        rated_vec = getvec(rated_movie_id)\n",
    "        if rated_vec is None or target_vec is None:\n",
    "            continue\n",
    "\n",
    "        sim = cosine(target_vec, rated_vec)\n",
    "\n",
    "        numerator += sim * rating\n",
    "        denominator += builtins.abs(sim)\n",
    "\n",
    "    predicted_rating = numerator / denominator if denominator > 0 else 0.0\n",
    "    return predicted_rating"
   ]
  },
  {
   "cell_type": "code",
   "execution_count": null,
   "id": "cbb05605-4a68-4fcd-9dc4-7a5df578be50",
   "metadata": {},
   "outputs": [],
   "source": []
  }
 ],
 "metadata": {
  "kernelspec": {
   "display_name": "Python 3 (ipykernel)",
   "language": "python",
   "name": "python3"
  },
  "language_info": {
   "codemirror_mode": {
    "name": "ipython",
    "version": 3
   },
   "file_extension": ".py",
   "mimetype": "text/x-python",
   "name": "python",
   "nbconvert_exporter": "python",
   "pygments_lexer": "ipython3",
   "version": "3.10.10"
  }
 },
 "nbformat": 4,
 "nbformat_minor": 5
}
