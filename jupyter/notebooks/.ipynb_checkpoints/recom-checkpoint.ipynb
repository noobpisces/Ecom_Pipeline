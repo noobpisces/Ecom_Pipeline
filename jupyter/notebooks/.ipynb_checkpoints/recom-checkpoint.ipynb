{
 "cells": [
  {
   "cell_type": "code",
   "execution_count": 1,
   "id": "c2057043-2a4f-4878-96cb-3a18fb3c4def",
   "metadata": {
    "tags": []
   },
   "outputs": [],
   "source": [
    "from pyspark.sql import SparkSession\n",
    "from pyspark.sql.functions import col, concat_ws\n",
    "from pyspark.ml import Pipeline\n",
    "from pyspark.ml.feature import Tokenizer, StopWordsRemover, HashingTF, IDF, VectorAssembler\n",
    "from pyspark.sql import functions as F\n",
    "import math\n",
    "from pyspark.sql import SparkSession\n",
    "from pyspark.sql.types import StructType, StructField, StringType, IntegerType, DoubleType, ArrayType, DateType\n",
    "from pyspark.sql.functions import (\n",
    "    col, from_json, explode, to_date, date_format,\n",
    "    dayofweek, dayofmonth, dayofyear, weekofyear,\n",
    "    month, quarter, year, when, unix_timestamp,concat_ws\n",
    ")\n",
    "from delta.tables import DeltaTable\n",
    "from pyspark.ml.feature import RegexTokenizer, StopWordsRemover, Word2Vec\n",
    "from pyspark.ml import Pipeline\n"
   ]
  },
  {
   "cell_type": "code",
   "execution_count": 2,
   "id": "101c085b-c35c-4c16-b1d6-da51c9679607",
   "metadata": {
    "tags": []
   },
   "outputs": [],
   "source": [
    "spark = SparkSession.builder \\\n",
    "    .appName(\"MinIO with Delta Lake\") \\\n",
    "    .config(\"spark.jars\", \"jars/hadoop-aws-3.3.4.jar,jars/spark-sql-kafka-0-10_2.12-3.2.1.jar,jars/aws-java-sdk-bundle-1.12.262.jar,jars/delta-core_2.12-2.2.0.jar,jars/delta-storage-2.2.0.jar\")\\\n",
    "    .config(\"spark.hadoop.fs.s3a.endpoint\", \"http://minio:9000\") \\\n",
    "    .config(\"spark.hadoop.fs.s3a.access.key\", \"conbo123\") \\\n",
    "    .config(\"spark.hadoop.fs.s3a.secret.key\", \"123conbo\") \\\n",
    "    .config(\"spark.hadoop.fs.s3a.path.style.access\", \"true\") \\\n",
    "    .config(\"spark.hadoop.fs.s3a.impl\", \"org.apache.hadoop.fs.s3a.S3AFileSystem\") \\\n",
    "    .config(\"spark.sql.extensions\", \"io.delta.sql.DeltaSparkSessionExtension\") \\\n",
    "    .config(\"spark.sql.catalog.spark_catalog\", \"org.apache.spark.sql.delta.catalog.DeltaCatalog\") \\\n",
    "    .config(\"spark.delta.logStore.class\", \"org.apache.spark.sql.delta.storage.S3SingleDriverLogStore\") \\\n",
    "    .config(\"delta.enable-non-concurrent-writes\", \"true\") \\\n",
    "    .config('spark.sql.warehouse.dir', \"s3a://lakehouse/\") \\\n",
    "    .getOrCreate()"
   ]
  },
  {
   "cell_type": "code",
   "execution_count": 3,
   "id": "276b478a-0cb6-474b-a691-cc0a02039439",
   "metadata": {
    "tags": []
   },
   "outputs": [],
   "source": [
    "df = spark.read.format(\"delta\").load(\"s3a://lakehouse/gold/machineData\")\n"
   ]
  },
  {
   "cell_type": "code",
   "execution_count": 4,
   "id": "29604678-e43e-468d-9bf3-c5e96d9d7f08",
   "metadata": {
    "tags": []
   },
   "outputs": [
    {
     "data": {
      "text/plain": [
       "7368"
      ]
     },
     "execution_count": 4,
     "metadata": {},
     "output_type": "execute_result"
    }
   ],
   "source": [
    "df.count()"
   ]
  },
  {
   "cell_type": "code",
   "execution_count": 5,
   "id": "aced3ac8-4371-43f4-bc99-9ecb469b8287",
   "metadata": {
    "tags": []
   },
   "outputs": [
    {
     "data": {
      "text/plain": [
       "[Row(id=11, budget=11000000, popularity=42.149697, revenue=775398007.0, vote_average=8.1, vote_count=6778.0, date_id=19770525, language=\"[{'iso_639_1': 'en', 'name': 'English'}]\", overview='Princess Leia is captured and held hostage by the evil Imperial forces in their effort to take over the galactic Empire. Venturesome Luke Skywalker and dashing captain Han Solo team together with the loveable robot duo R2-D2 and C-3PO to rescue the beautiful princess and restore peace and justice in the Empire.', tagline='A long time ago in a galaxy far, far away...', runtime=121.0, cast_names=['David Ankrum', 'Marcus Powell', 'Jerry Walter', 'Peter Cushing', 'Shane Rimmer', 'Warwick Diamond', 'Roy Straite', 'Mahjoub', 'Tom Sylla', 'Grant McCune', 'Harold Weed', 'Colin Higgins', 'Alfie Curtis', 'Jack Klaff', 'Frank Henson', 'Peter Sturgeon', 'Mandy Morton', 'Jeremy Sinden', 'William Hootkins', 'Larry Ward', 'Gilda Cohen', 'Peter Sumner', 'Joe Johnston', 'Ted Gagliano', 'Pam Rose', 'James Earl Jones', 'Phil Tippett', \"Steve 'Spaz' Williams\", 'Lightning Bear', 'Mark Austin', 'John Chapman', 'Burnell Tucker', 'Eddie Byrne', 'Robert A. Denham', 'Al Lampert', 'Derek Lyons', 'Maria De Aragon', 'Kim Falkinburg', 'Mark Hamill', 'Angus MacInnes', 'Alex McCrindle', 'Tommy Ilsley', 'Tiffany L. Kurtz', 'Paul Blake', 'Graham Ashley', 'Christine Hewett', 'George Stock', 'Phil Brown', 'Angela Staines', 'Alf Mangan', 'Hal Wamsley', 'John Sylla', 'Barry Copping', 'Ted Burnett', 'Drewe Henley', 'Anthony Daniels', 'Anthony Lang', 'Peter Diamond', 'Rick McCallum', 'Don Henderson', 'Salo Gardner', 'Shelagh Fraser', 'Colin Michael Kitchens', 'Bill Weston', 'Nelson Hall', 'Denis Lawson', 'Tim Condren', 'Leslie Schofield', 'Sadie Eden', 'Steve Gawley', 'Jon Berg', 'Geoffrey Moon', 'Robert Davies', 'Lorne Peterson', 'Laine Liska', 'Kenny Baker', 'Malcolm Tierney', 'Fred Wood', 'Alan Harris', 'Reg Harding', 'Doug Beswick', 'Barry Gnome', 'Linda Jones', 'Harrison Ford', 'Diana Sadley Way', 'Richard LeParmentier', 'Scott Beach', 'Harry Fielder', 'Janice Burchette', 'Joe Kaye', 'Morgan Upton', 'Jack Purvis', 'Garrick Hagon', 'Peter Mayhew', 'Michael Leader', 'Alec Guinness', 'Arthur Howell', 'Melissa Kurtz', 'Isaac Grand', 'Carrie Fisher', 'Erica Simmons', 'Annette Jones', 'George Roubicek', 'David Prowse', 'Rusty Goffe', 'Frazer Diamond'], director_names=['George Lucas'], genres=['Action', 'Adventure', 'Science Fiction'], keyword_names=['empire', 'rebellion', 'death star', 'galaxy', 'the force', 'hermit', 'jedi', 'totalitarianism', 'stormtrooper', 'space opera', 'galactic war', 'rescue mission', 'lightsaber', 'planet', 'smuggler', 'android'])]"
      ]
     },
     "execution_count": 5,
     "metadata": {},
     "output_type": "execute_result"
    }
   ],
   "source": [
    "df.head(1)"
   ]
  },
  {
   "cell_type": "code",
   "execution_count": 8,
   "id": "3c940d05-4477-4cf9-bb4c-a70a8631d213",
   "metadata": {
    "tags": []
   },
   "outputs": [],
   "source": [
    "df = df.dropna(subset=[\"overview\", \"keyword_names\"])\n"
   ]
  },
  {
   "cell_type": "code",
   "execution_count": 32,
   "id": "30f01bcb-df33-4934-84ec-2d01e3d95ace",
   "metadata": {
    "tags": []
   },
   "outputs": [],
   "source": [
    "df = df.fillna({\"overview\": \"\"})"
   ]
  },
  {
   "cell_type": "code",
   "execution_count": 11,
   "id": "8f198d36-130e-45a1-8066-d3d211fa2d4a",
   "metadata": {
    "tags": []
   },
   "outputs": [],
   "source": [
    "df = df.withColumn('comb', concat_ws(\" \", col('keyword_names'), col('cast_names'), col('director_names'), col('genres')))\n"
   ]
  },
  {
   "cell_type": "code",
   "execution_count": 15,
   "id": "6b5db38f-b262-4dfa-8fb2-e1f06a38374d",
   "metadata": {
    "tags": []
   },
   "outputs": [],
   "source": [
    "df = df.select('comb')"
   ]
  },
  {
   "cell_type": "code",
   "execution_count": 16,
   "id": "b52e64d6-8c87-42bd-b4bf-355d709e0d5e",
   "metadata": {
    "tags": []
   },
   "outputs": [
    {
     "data": {
      "text/plain": [
       "[Row(comb=\"hoodlum bet woman director los angeles new year's eve witch sperm episode film hotel hotel room Allison Anders Robert Rodriguez Alexandre Rockwell Quentin Tarantino Crime Comedy Patricia Vonne Salma Hayek Kimberly Blair Marc Lawrence Ione Skye Antonio Banderas Sammi Davis Amanda de Cadenet Lana McKissack Bruce Willis Jennifer Beals Kathy Griffin Lawrence Bender Lili Taylor Alicia Witt Danny Verduzco David Proval Marisa Tomei Valeria Golino Madonna Paul Calderon Tamlyn Tomita Quentin Tarantino Tim Roth\")]"
      ]
     },
     "execution_count": 16,
     "metadata": {},
     "output_type": "execute_result"
    }
   ],
   "source": [
    "df.head(1)"
   ]
  },
  {
   "cell_type": "code",
   "execution_count": null,
   "id": "44e9246e-46d7-4d97-8f8e-bd1804937652",
   "metadata": {},
   "outputs": [],
   "source": []
  },
  {
   "cell_type": "code",
   "execution_count": null,
   "id": "34218fdc-4fff-4dbc-9f3a-28779d02d5a2",
   "metadata": {},
   "outputs": [],
   "source": []
  },
  {
   "cell_type": "code",
   "execution_count": null,
   "id": "8106be1f-647a-4cb3-aeee-cf225929316f",
   "metadata": {},
   "outputs": [],
   "source": []
  },
  {
   "cell_type": "code",
   "execution_count": 46,
   "id": "5f41c3e8-fc3d-4ef7-a1a7-f808f4dd2473",
   "metadata": {
    "tags": []
   },
   "outputs": [],
   "source": [
    "tokenizer = Tokenizer(inputCol=\"comb\", outputCol=\"comb_tokens\")\n",
    "df = tokenizer.transform(df)"
   ]
  },
  {
   "cell_type": "code",
   "execution_count": 47,
   "id": "116f98e5-250b-4521-8b80-3413c8aaf68d",
   "metadata": {
    "tags": []
   },
   "outputs": [],
   "source": [
    "stopword_remover = StopWordsRemover(inputCol=\"overview_tokens\", outputCol=\"filtered_overview\")\n",
    "df = stopword_remover.transform(df)\n"
   ]
  },
  {
   "cell_type": "code",
   "execution_count": 48,
   "id": "fde8b948-008c-4ac1-a1c7-46b93a765b37",
   "metadata": {
    "tags": []
   },
   "outputs": [],
   "source": [
    "word2vec = Word2Vec(vectorSize=100, minCount=1, inputCol=\"filtered_overview\", outputCol=\"overview_vector\")\n",
    "model = word2vec.fit(df)\n",
    "df = model.transform(df)\n"
   ]
  },
  {
   "cell_type": "code",
   "execution_count": 36,
   "id": "286b3c06-a8ab-4192-b905-e4f309482af9",
   "metadata": {},
   "outputs": [
    {
     "data": {
      "text/plain": [
       "[Row(id=12, budget=94000000, popularity=25.497794, revenue=940335536.0, vote_average=7.6, vote_count=6292.0, date_id=20030530, language=\"[{'iso_639_1': 'en', 'name': 'English'}]\", overview=\"Nemo, an adventurous young clownfish, is unexpectedly taken from his Great Barrier Reef home to a dentist's office aquarium. It's up to his worrisome father Marlin and a friendly but forgetful fish Dory to bring Nemo home -- meeting vegetarian sharks, surfer dude turtles, hypnotic jellyfish, hungry seagulls, and more along the way.\", tagline=\"There are 3.7 trillion fish in the ocean. They're looking for one.\", runtime=100.0, cast_names=['Geoffrey Rush', 'Andrew Stanton', 'Bruce Spence', 'Erica Beck', 'Willem Dafoe', 'Alexander Gould', 'Albert Brooks', 'Joe Ranft', 'Bill Hunter', 'Brad Garrett', 'Barry Humphries', 'Allison Janney', 'Elizabeth Perkins', 'Vicki Lewis', 'Stephen Root', 'Erik Per Sullivan', 'John Ratzenberger', 'LuLu Ebeling', 'Nicholas Bird', 'Ellen DeGeneres', 'Austin Pendleton', 'Bob Peterson', 'Jordan Ranft', 'Eric Bana'], director_names=['Andrew Stanton'], genres=['Animation', 'Family'], overview_tokens=['nemo,', 'an', 'adventurous', 'young', 'clownfish,', 'is', 'unexpectedly', 'taken', 'from', 'his', 'great', 'barrier', 'reef', 'home', 'to', 'a', \"dentist's\", 'office', 'aquarium.', \"it's\", 'up', 'to', 'his', 'worrisome', 'father', 'marlin', 'and', 'a', 'friendly', 'but', 'forgetful', 'fish', 'dory', 'to', 'bring', 'nemo', 'home', '--', 'meeting', 'vegetarian', 'sharks,', 'surfer', 'dude', 'turtles,', 'hypnotic', 'jellyfish,', 'hungry', 'seagulls,', 'and', 'more', 'along', 'the', 'way.'], filtered_overview=['nemo,', 'adventurous', 'young', 'clownfish,', 'unexpectedly', 'taken', 'great', 'barrier', 'reef', 'home', \"dentist's\", 'office', 'aquarium.', 'worrisome', 'father', 'marlin', 'friendly', 'forgetful', 'fish', 'dory', 'bring', 'nemo', 'home', '--', 'meeting', 'vegetarian', 'sharks,', 'surfer', 'dude', 'turtles,', 'hypnotic', 'jellyfish,', 'hungry', 'seagulls,', 'along', 'way.'], overview_vector=DenseVector([-0.0094, -0.0005, -0.0056, -0.0107, -0.0111, -0.0091, -0.0013, -0.0042, -0.0115, 0.0058, 0.0087, -0.0029, 0.008, 0.0076, 0.0028, -0.0025, -0.0016, 0.0231, -0.0067, 0.0004, 0.0005, 0.0022, 0.0066, -0.0046, 0.0057, -0.0032, -0.0068, 0.0114, -0.0087, 0.0084, 0.0039, -0.0021, 0.007, -0.0045, 0.018, 0.002, -0.0101, -0.001, -0.0118, 0.0131, -0.0024, -0.0017, -0.0037, 0.0005, -0.0076, 0.009, -0.0169, 0.015, -0.0036, 0.0007, -0.014, 0.0147, -0.0076, 0.0213, -0.0093, -0.0025, 0.0034, 0.0015, 0.0194, -0.0119, 0.0197, -0.0124, 0.0076, -0.0067, -0.0129, 0.005, -0.0076, 0.0001, -0.0061, 0.0152, 0.0013, 0.0061, -0.003, -0.0202, -0.0036, 0.0119, 0.0006, -0.0186, 0.0003, 0.0002, -0.0021, -0.0019, 0.0012, 0.0022, -0.0091, -0.0086, -0.0077, 0.005, -0.0172, 0.0112, -0.0068, -0.0024, -0.003, -0.0103, -0.0197, 0.0013, 0.0106, -0.0058, -0.0039, 0.0058]))]"
      ]
     },
     "execution_count": 36,
     "metadata": {},
     "output_type": "execute_result"
    }
   ],
   "source": [
    "df.head(1)"
   ]
  },
  {
   "cell_type": "code",
   "execution_count": 56,
   "id": "dfa8b6fb-377a-4d29-a816-375757fbb602",
   "metadata": {},
   "outputs": [],
   "source": [
    "df = spark.read.format(\"delta\").load(\"s3a://lakehouse/gold/machineData\")\n",
    "df = df.withColumn(\"combined_content\", \n",
    "                   concat_ws(\" \", \n",
    "                             df.overview, \n",
    "                             df.tagline, \n",
    "                             df.genres, \n",
    "                             df.cast_names, \n",
    "                             df.director_names))\n",
    "tokenizer = Tokenizer(inputCol=\"combined_content\", outputCol=\"combined_tokens\")\n",
    "df = tokenizer.transform(df)\n",
    "\n",
    "stopword_remover = StopWordsRemover(inputCol=\"combined_tokens\", outputCol=\"filtered_content\")\n",
    "df = stopword_remover.transform(df)\n",
    "\n",
    "word2vec = Word2Vec(vectorSize=100, minCount=1, inputCol=\"filtered_content\", outputCol=\"content_vector\")\n",
    "model = word2vec.fit(df)\n",
    "df = model.transform(df)\n",
    "df_2 = df.select(\"overview\", \"tagline\", \"genres\", \"cast_names\", \"director_names\") \n",
    "\n"
   ]
  },
  {
   "cell_type": "code",
   "execution_count": 57,
   "id": "a33a2d3a-4324-48e5-ae4d-e5e6c65b1786",
   "metadata": {},
   "outputs": [
    {
     "data": {
      "text/plain": [
       "[Row(content_vector=DenseVector([0.0093, 0.0147, -0.0169, -0.0412, 0.0527, -0.0067, -0.0193, -0.0048, -0.0595, -0.012, -0.0076, 0.0292, -0.0386, 0.0514, 0.0319, 0.0299, -0.0013, 0.0053, -0.0111, -0.0354, -0.0458, 0.0165, 0.0418, -0.0043, -0.0163, -0.0312, 0.0081, -0.0212, -0.0749, -0.0128, -0.0145, -0.0088, 0.0333, -0.0321, 0.0248, 0.0023, -0.0076, 0.0028, -0.0119, 0.0232, -0.0223, -0.0209, 0.0052, -0.0034, 0.012, 0.0019, -0.0153, 0.0362, -0.0086, -0.0008, -0.0469, 0.0499, -0.033, -0.0346, -0.0594, 0.0183, -0.0268, 0.001, 0.0404, 0.0094, 0.0151, -0.0108, -0.0064, -0.0082, 0.018, 0.0067, -0.0039, -0.0366, -0.0264, 0.0038, -0.0012, 0.0315, -0.0087, 0.0014, 0.0139, 0.0114, 0.0815, -0.0356, 0.02, 0.0165, -0.0272, -0.0619, -0.0046, -0.0629, -0.0452, -0.0627, 0.0098, 0.0253, -0.0041, -0.004, -0.0069, 0.001, 0.0419, 0.0186, 0.0197, -0.0218, 0.0165, -0.0335, 0.0321, 0.001]))]"
      ]
     },
     "execution_count": 57,
     "metadata": {},
     "output_type": "execute_result"
    }
   ],
   "source": [
    "df_2.head(1)"
   ]
  },
  {
   "cell_type": "code",
   "execution_count": null,
   "id": "07cc00c4-f454-4e34-bfbc-7b7185061135",
   "metadata": {},
   "outputs": [],
   "source": []
  },
  {
   "cell_type": "code",
   "execution_count": null,
   "id": "d6195e00-0883-4894-a37f-22e2b2f0b6fd",
   "metadata": {},
   "outputs": [],
   "source": []
  },
  {
   "cell_type": "code",
   "execution_count": null,
   "id": "39cbd7ba-89bd-4003-9d15-ae07f3e24fc4",
   "metadata": {},
   "outputs": [],
   "source": []
  },
  {
   "cell_type": "code",
   "execution_count": null,
   "id": "acfdc182-8f68-4363-983e-1383b18d45a9",
   "metadata": {},
   "outputs": [],
   "source": []
  },
  {
   "cell_type": "code",
   "execution_count": null,
   "id": "b9d26b0c-d6ab-48e9-abf6-1b7d933134a5",
   "metadata": {},
   "outputs": [],
   "source": []
  },
  {
   "cell_type": "code",
   "execution_count": 62,
   "id": "c877773d-2fb7-4371-9588-f6573f0b4631",
   "metadata": {
    "tags": []
   },
   "outputs": [],
   "source": [
    "df = spark.read.format(\"delta\").load(\"s3a://lakehouse/gold/machineData\")\n",
    "df = df.dropna(subset=[\"overview\"])\n",
    "df = df.withColumn(\"cast_names_str\", concat_ws(\" \", \"cast_names\"))\n",
    "df = df.withColumn(\"director_names_str\", concat_ws(\" \", \"director_names\"))\n",
    "df = df.withColumn(\"genre_names_str\", concat_ws(\" \", \"genres\"))\n",
    "\n",
    "\n",
    "df = df.select(\"overview\", \"tagline\", \"genre_names_str\", \"cast_names_str\", \"director_names_str\") \n",
    "# Xử lý overview\n",
    "overview_tokenizer = Tokenizer(inputCol=\"overview\", outputCol=\"overview_tokens\")\n",
    "df = overview_tokenizer.transform(df)\n",
    "overview_stopwords = StopWordsRemover(inputCol=\"overview_tokens\", outputCol=\"overview_filtered\")\n",
    "df = overview_stopwords.transform(df)\n",
    "word2vec_overview = Word2Vec(vectorSize=100, minCount=1, inputCol=\"overview_filtered\", outputCol=\"overview_vector\")\n",
    "model_overview = word2vec_overview.fit(df)\n",
    "df = model_overview.transform(df)\n",
    "\n",
    "# Xử lý cast_names\n",
    "cast_tokenizer = Tokenizer(inputCol=\"cast_names_str\", outputCol=\"cast_tokens\")\n",
    "df = cast_tokenizer.transform(df)\n",
    "cast_stopwords = StopWordsRemover(inputCol=\"cast_tokens\", outputCol=\"cast_filtered\")\n",
    "df = cast_stopwords.transform(df)\n",
    "word2vec_cast = Word2Vec(vectorSize=100, minCount=1, inputCol=\"cast_filtered\", outputCol=\"cast_vector\")\n",
    "model_cast = word2vec_cast.fit(df)\n",
    "df = model_cast.transform(df)\n",
    "\n",
    "# Xử lý genres\n",
    "genre_tokenizer = Tokenizer(inputCol=\"genre_names_str\", outputCol=\"genre_tokens\")\n",
    "df = genre_tokenizer.transform(df)\n",
    "genre_stopwords = StopWordsRemover(inputCol=\"genre_tokens\", outputCol=\"genre_filtered\")\n",
    "df = genre_stopwords.transform(df)\n",
    "word2vec_genre = Word2Vec(vectorSize=100, minCount=1, inputCol=\"genre_filtered\", outputCol=\"genre_vector\")\n",
    "model_genre = word2vec_genre.fit(df)\n",
    "df = model_genre.transform(df)\n",
    "\n",
    "# Xử lý director\n",
    "director_tokenizer = Tokenizer(inputCol=\"director_names_str\", outputCol=\"director_tokens\")\n",
    "df = director_tokenizer.transform(df)\n",
    "director_stopwords = StopWordsRemover(inputCol=\"director_tokens\", outputCol=\"director_filtered\")\n",
    "df = director_stopwords.transform(df)\n",
    "word2vec_director = Word2Vec(vectorSize=100, minCount=1, inputCol=\"director_filtered\", outputCol=\"director_vector\")\n",
    "model_director = word2vec_director.fit(df)\n",
    "df = model_director.transform(df)\n"
   ]
  },
  {
   "cell_type": "code",
   "execution_count": 66,
   "id": "a584f974-782c-4f30-a384-3cd0d8b1d00f",
   "metadata": {
    "tags": []
   },
   "outputs": [
    {
     "data": {
      "text/plain": [
       "[Row(overview_vector=DenseVector([-0.0125, -0.0016, -0.0066, -0.02, -0.0058, -0.0152, 0.0071, 0.0036, -0.006, -0.0031, 0.0012, 0.0047, 0.005, 0.0077, 0.0086, 0.0051, -0.0069, 0.0318, -0.0104, -0.002, -0.0037, 0.0117, 0.0029, -0.0041, 0.0037, -0.0115, -0.0011, 0.0125, -0.0128, 0.011, 0.0067, -0.0038, 0.0173, -0.0026, 0.0246, -0.0057, -0.0113, -0.0048, -0.0199, 0.0152, -0.004, -0.0025, -0.0125, -0.0097, -0.0108, 0.0125, -0.0272, 0.0175, 0.0083, 0.003, -0.0152, 0.0115, -0.0014, 0.0213, -0.0128, -0.0128, 0.0102, 0.0043, 0.016, -0.0122, 0.0215, -0.0211, 0.0096, -0.0063, -0.0104, 0.0114, -0.0057, 0.0082, -0.0114, 0.0188, 0.0092, 0.0071, -0.0013, -0.0304, -0.0119, 0.0179, -0.0059, -0.0196, 0.0073, 0.0111, -0.0035, -0.0025, 0.009, 0.0135, -0.013, -0.0021, -0.0115, -0.0031, -0.0195, 0.0127, -0.0092, -0.0091, -0.0123, -0.0181, -0.0281, 0.0027, 0.0055, -0.0109, -0.0089, 0.0112]), cast_vector=DenseVector([0.0039, 0.0038, 0.0017, -0.0214, 0.021, -0.005, -0.0022, -0.0256, -0.0107, 0.0049, -0.0006, -0.0014, 0.0233, -0.0066, 0.021, -0.0006, 0.0256, 0.0071, 0.0075, -0.0042, -0.0036, 0.0021, 0.0184, -0.0165, -0.0137, -0.005, -0.0, -0.0031, -0.0224, -0.0047, 0.024, 0.0038, 0.0125, 0.0212, 0.0243, -0.0307, -0.0141, -0.0205, -0.001, 0.0097, 0.0269, 0.0149, 0.0035, -0.0042, -0.006, -0.0021, -0.0065, 0.0187, -0.0268, -0.0095, -0.0086, -0.0108, -0.0221, 0.0202, 0.0183, -0.0086, -0.0083, 0.0248, 0.0058, -0.0002, 0.0041, -0.0278, 0.0056, -0.0024, -0.0132, 0.0179, -0.0169, -0.0123, -0.0266, 0.0087, -0.0183, 0.0452, 0.0099, 0.0098, -0.0128, 0.0294, 0.0083, 0.0064, 0.0044, 0.0052, -0.0095, -0.0054, -0.0085, -0.0178, -0.0107, -0.0104, -0.0053, 0.0524, 0.0227, -0.0305, -0.0182, -0.0123, 0.016, -0.001, 0.0193, 0.0076, 0.0258, -0.0243, 0.0117, 0.0268]), genre_vector=DenseVector([-0.0801, -0.0804, 0.0196, 0.0845, -0.0914, -0.0039, 0.0977, 0.0258, 0.1499, 0.0572, 0.0329, 0.0653, 0.1112, 0.0129, 0.1136, -0.0501, 0.1153, 0.0481, 0.0924, 0.0053, -0.0778, 0.09, -0.0112, -0.1337, -0.0931, -0.0472, 0.036, -0.0346, -0.1002, 0.1284, 0.088, -0.0487, -0.0397, -0.0057, -0.096, 0.0436, 0.0286, 0.1129, 0.0896, -0.0191, 0.1279, -0.0218, -0.1364, -0.0141, -0.0681, 0.0565, 0.0657, 0.1081, 0.079, -0.024, -0.0151, 0.1057, 0.0444, 0.0893, -0.0014, 0.0079, -0.1062, 0.1137, 0.0333, 0.0805, 0.0483, 0.0444, -0.0467, 0.0996, -0.0392, -0.0167, 0.0694, -0.0302, -0.0989, 0.0468, -0.112, 0.0755, -0.1879, 0.044, 0.2313, -0.1359, -0.056, -0.0761, 0.0025, 0.0277, -0.076, -0.0113, -0.0638, 0.0471, 0.0227, 0.0229, -0.0294, -0.0837, -0.0045, -0.0451, 0.0062, 0.1155, 0.1425, 0.0844, 0.0883, 0.0277, 0.0587, -0.0843, -0.0839, -0.0242]), director_vector=DenseVector([-0.0052, 0.0012, 0.0112, 0.0046, 0.0019, 0.0039, 0.0019, 0.003, -0.0047, -0.0001, 0.003, -0.0042, -0.0024, 0.002, -0.0089, 0.0018, 0.0039, -0.0064, -0.0036, -0.0027, -0.0093, 0.0019, -0.0019, -0.0015, -0.0079, 0.0059, -0.0019, -0.0067, 0.0033, 0.0099, 0.0107, -0.0058, 0.0107, 0.0003, -0.0013, -0.0047, 0.0042, -0.0078, -0.0026, 0.0115, 0.0082, 0.0009, 0.0046, 0.0077, 0.0017, -0.0035, 0.0055, -0.0055, -0.0045, 0.0051, -0.0084, 0.0054, 0.0012, 0.009, -0.0021, -0.0001, -0.0025, 0.0043, 0.0086, -0.0032, 0.0066, -0.0096, 0.0042, -0.0076, 0.0022, -0.0018, -0.0057, 0.0064, 0.0014, 0.0026, -0.0009, 0.0019, -0.0032, 0.0026, 0.0003, -0.0023, 0.0034, 0.0009, -0.0005, 0.0077, -0.0023, -0.0105, 0.0035, 0.004, 0.0058, -0.0043, -0.0089, -0.0078, -0.0074, -0.0065, 0.0044, -0.0052, -0.0076, -0.0014, -0.0024, 0.0052, -0.001, -0.0014, 0.0021, -0.0006]))]"
      ]
     },
     "execution_count": 66,
     "metadata": {},
     "output_type": "execute_result"
    }
   ],
   "source": [
    "df2 = df.select(\"overview_vector\",\"cast_vector\", \"genre_vector\",\"director_vector\")\n",
    "df2.head(1)"
   ]
  },
  {
   "cell_type": "code",
   "execution_count": null,
   "id": "0597b77e-52de-4c98-8985-f8301bc8cfa0",
   "metadata": {},
   "outputs": [],
   "source": []
  }
 ],
 "metadata": {
  "kernelspec": {
   "display_name": "Python 3 (ipykernel)",
   "language": "python",
   "name": "python3"
  },
  "language_info": {
   "codemirror_mode": {
    "name": "ipython",
    "version": 3
   },
   "file_extension": ".py",
   "mimetype": "text/x-python",
   "name": "python",
   "nbconvert_exporter": "python",
   "pygments_lexer": "ipython3",
   "version": "3.10.10"
  }
 },
 "nbformat": 4,
 "nbformat_minor": 5
}
