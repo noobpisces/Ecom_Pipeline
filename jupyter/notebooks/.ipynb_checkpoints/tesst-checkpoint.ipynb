{
 "cells": [
  {
   "cell_type": "code",
   "execution_count": 1,
   "id": "4f21cc3b-98ec-4139-b854-dd85dc90cef8",
   "metadata": {
    "tags": []
   },
   "outputs": [],
   "source": [
    "from pyspark.sql import SparkSession\n",
    "from pyspark.sql.types import StructType, StructField, StringType, IntegerType, DoubleType, ArrayType, DateType\n",
    "from pyspark.sql.functions import (\n",
    "    col, from_json, explode, to_date, date_format,\n",
    "    dayofweek, dayofmonth, dayofyear, weekofyear,\n",
    "    month, quarter, year, when, unix_timestamp\n",
    ")\n",
    "from delta.tables import DeltaTable\n",
    "from pyspark.sql.types import MapType\n",
    "from pyspark.sql.functions import from_json, col, explode, map_keys, map_values, expr\n",
    "from pyspark.sql.types import MapType, StringType\n"
   ]
  },
  {
   "cell_type": "code",
   "execution_count": 2,
   "id": "551d0e2e-1204-46b4-b3f2-b646319914f5",
   "metadata": {
    "tags": []
   },
   "outputs": [],
   "source": [
    "spark = SparkSession.builder \\\n",
    "    .appName(\"MinIO with Delta Lake\") \\\n",
    "    .config(\"spark.jars\", \"jars/hadoop-aws-3.3.4.jar,jars/spark-sql-kafka-0-10_2.12-3.2.1.jar,jars/aws-java-sdk-bundle-1.12.262.jar,jars/delta-core_2.12-2.2.0.jar,jars/delta-storage-2.2.0.jar\")\\\n",
    "    .config(\"spark.hadoop.fs.s3a.endpoint\", \"http://minio:9000\") \\\n",
    "    .config(\"spark.hadoop.fs.s3a.access.key\", \"conbo123\") \\\n",
    "    .config(\"spark.hadoop.fs.s3a.secret.key\", \"123conbo\") \\\n",
    "    .config(\"spark.hadoop.fs.s3a.path.style.access\", \"true\") \\\n",
    "    .config(\"spark.hadoop.fs.s3a.impl\", \"org.apache.hadoop.fs.s3a.S3AFileSystem\") \\\n",
    "    .config(\"spark.sql.extensions\", \"io.delta.sql.DeltaSparkSessionExtension\") \\\n",
    "    .config(\"spark.sql.catalog.spark_catalog\", \"org.apache.spark.sql.delta.catalog.DeltaCatalog\") \\\n",
    "    .config(\"spark.delta.logStore.class\", \"org.apache.spark.sql.delta.storage.S3SingleDriverLogStore\") \\\n",
    "    .config(\"delta.enable-non-concurrent-writes\", \"true\") \\\n",
    "    .config('spark.sql.warehouse.dir', \"s3a://lakehouse/\") \\\n",
    "    .getOrCreate()"
   ]
  },
  {
   "cell_type": "code",
   "execution_count": 4,
   "id": "e3b2464e-0765-4940-8503-400c3261de97",
   "metadata": {
    "tags": []
   },
   "outputs": [],
   "source": [
    "df_dim_crew = spark.read.format(\"delta\").load(\"s3a://lakehouse/silver/credit\")\n",
    "crew_schema = ArrayType(\n",
    "    StructType([\n",
    "        StructField(\"credit_id\", StringType(), True),\n",
    "        StructField(\"department\", StringType(), True),\n",
    "        StructField(\"gender\", IntegerType(), True),\n",
    "        StructField(\"id\", IntegerType(), True),\n",
    "        StructField(\"job\", StringType(), True),\n",
    "        StructField(\"name\", StringType(), True),\n",
    "        StructField(\"profile_path\", StringType(), True)\n",
    "    ])\n",
    ")\n",
    "\n",
    "\n",
    "df_parsed = df_dim_cast.withColumn(\"cast\", from_json(col(\"cast\"), cast_schema))\n",
    "\n",
    "# Bước 2: Chuyển map thành array trước khi explode\n",
    "df_exploded = df_parsed.withColumn(\"crew\", expr(\"map_entries(crew)\"))\n",
    "\n",
    "# Bước 3: Explode để tách từng cặp key-value ra thành hàng riêng biệt\n",
    "df_exploded = df_exploded.withColumn(\"crew_key\", col(\"crew.key\")).withColumn(\"crew_value\", col(\"crew.value\")).drop(\"crew\")\n",
    "\n",
    "# Chọn các trường cần thiết\n"
   ]
  },
  {
   "cell_type": "code",
   "execution_count": 6,
   "id": "b17a8523-9d59-4b9d-bcdc-a71cf7735e58",
   "metadata": {
    "tags": []
   },
   "outputs": [
    {
     "data": {
      "text/plain": [
       "42708"
      ]
     },
     "execution_count": 6,
     "metadata": {},
     "output_type": "execute_result"
    }
   ],
   "source": [
    "df_exploded.count()"
   ]
  },
  {
   "cell_type": "code",
   "execution_count": 7,
   "id": "d2346967-345c-497f-b9c0-fba104ebdc45",
   "metadata": {
    "tags": []
   },
   "outputs": [
    {
     "data": {
      "text/plain": [
       "42708"
      ]
     },
     "execution_count": 7,
     "metadata": {},
     "output_type": "execute_result"
    }
   ],
   "source": [
    "df_parsed.count()"
   ]
  },
  {
   "cell_type": "code",
   "execution_count": 5,
   "id": "f1ff263a-dc9d-4efe-8567-962d1eeaedc0",
   "metadata": {
    "tags": []
   },
   "outputs": [
    {
     "data": {
      "text/plain": [
       "42708"
      ]
     },
     "execution_count": 5,
     "metadata": {},
     "output_type": "execute_result"
    }
   ],
   "source": [
    "df_dim_crew.count()"
   ]
  },
  {
   "cell_type": "code",
   "execution_count": 8,
   "id": "930df4aa-8cfa-4f53-8eb3-8216bb485b0b",
   "metadata": {
    "tags": []
   },
   "outputs": [
    {
     "name": "stdout",
     "output_type": "stream",
     "text": [
      "root\n",
      " |-- cast: string (nullable = true)\n",
      " |-- crew: map (nullable = true)\n",
      " |    |-- key: string\n",
      " |    |-- value: string (valueContainsNull = true)\n",
      " |-- id: long (nullable = true)\n",
      "\n"
     ]
    }
   ],
   "source": [
    "df_parsed.printSchema()\n"
   ]
  },
  {
   "cell_type": "code",
   "execution_count": 9,
   "id": "eda36dd6-58a6-483c-9373-63195ddd6714",
   "metadata": {},
   "outputs": [
    {
     "name": "stdout",
     "output_type": "stream",
     "text": [
      "root\n",
      " |-- cast: string (nullable = true)\n",
      " |-- id: long (nullable = true)\n",
      " |-- crew_key: array (nullable = true)\n",
      " |    |-- element: string (containsNull = false)\n",
      " |-- crew_value: array (nullable = true)\n",
      " |    |-- element: string (containsNull = true)\n",
      "\n"
     ]
    }
   ],
   "source": [
    "df_exploded.printSchema()"
   ]
  },
  {
   "cell_type": "code",
   "execution_count": 48,
   "id": "7270b371-7549-4c66-94c3-18335713e771",
   "metadata": {
    "tags": []
   },
   "outputs": [],
   "source": [
    "df = spark.read.format(\"delta\").load(\"s3a://lakehouse/gold/dim_crew\")"
   ]
  },
  {
   "cell_type": "code",
   "execution_count": 10,
   "id": "46b508e5-21b8-4ea7-8653-7dc3e470204c",
   "metadata": {
    "tags": []
   },
   "outputs": [
    {
     "name": "stdout",
     "output_type": "stream",
     "text": [
      "root\n",
      " |-- cast: string (nullable = true)\n",
      " |-- crew: string (nullable = true)\n",
      " |-- id: long (nullable = true)\n",
      "\n"
     ]
    }
   ],
   "source": [
    "df_dim_crew.printSchema()\n"
   ]
  },
  {
   "cell_type": "code",
   "execution_count": null,
   "id": "2795af85-f1a7-407f-b2a4-01023c0f635b",
   "metadata": {
    "tags": []
   },
   "outputs": [],
   "source": [
    "df.head(50)"
   ]
  },
  {
   "cell_type": "code",
   "execution_count": 5,
   "id": "68768674-0bb0-4246-bf27-0be4cd6a2a49",
   "metadata": {
    "tags": []
   },
   "outputs": [],
   "source": [
    "fact_movie_df = df.select(\n",
    "    col(\"id\"),\n",
    "    col(\"budget\"),\n",
    "    col(\"popularity\"),\n",
    "    col(\"revenue\"),\n",
    "    col(\"vote_average\"),\n",
    "    col(\"vote_count\"),\n",
    "    col(\"date_id\")\n",
    ").dropDuplicates([\"id\"])\n",
    "\n",
    "try:\n",
    "\n",
    "    fact_movie = DeltaTable.forPath(spark, \"s3a://lakehouse/gold/fact_movies\")\n",
    "\n",
    "    fact_movie.alias(\"target\").merge(\n",
    "        fact_movie_df.alias(\"source\"),\n",
    "        \"target.id = source.id\"\n",
    "    ).whenNotMatchedInsertAll().execute()\n",
    "except :\n",
    "    fact_movie_df.write.format(\"delta\").mode(\"overwrite\").save(\"s3a://lakehouse/gold/fact_movies\")\n"
   ]
  },
  {
   "cell_type": "code",
   "execution_count": null,
   "id": "67b6bd07-fdb0-4b5b-9dc9-ff47de7ff60e",
   "metadata": {},
   "outputs": [],
   "source": []
  }
 ],
 "metadata": {
  "kernelspec": {
   "display_name": "Python 3 (ipykernel)",
   "language": "python",
   "name": "python3"
  },
  "language_info": {
   "codemirror_mode": {
    "name": "ipython",
    "version": 3
   },
   "file_extension": ".py",
   "mimetype": "text/x-python",
   "name": "python",
   "nbconvert_exporter": "python",
   "pygments_lexer": "ipython3",
   "version": "3.10.10"
  }
 },
 "nbformat": 4,
 "nbformat_minor": 5
}
