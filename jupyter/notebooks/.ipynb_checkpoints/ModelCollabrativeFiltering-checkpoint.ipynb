{
 "cells": [
  {
   "cell_type": "code",
   "execution_count": 1,
   "id": "28864f54-881d-4d80-9a9c-4ab886c7d2f1",
   "metadata": {
    "tags": []
   },
   "outputs": [],
   "source": [
    "from pyspark.sql import SparkSession\n",
    "import pandas as pd\n",
    "from pyspark.sql.types import StructType, StructField, BooleanType, StringType, IntegerType, DateType, FloatType,DoubleType,ArrayType,LongType\n",
    "import logging\n",
    "import sys\n",
    "import traceback\n",
    "import ast\n",
    "import json\n",
    "import os\n",
    "import sys\n",
    "import traceback\n",
    "import logging\n",
    "from pyspark.sql import SparkSession\n",
    "from pyspark.sql.functions import col, expr,when,to_date ,udf, concat_ws,posexplode, from_json\n",
    "from pyspark.sql.types import StructType, StructField, BooleanType, StringType, IntegerType, DateType, FloatType,DoubleType\n",
    "from pyspark.sql import functions as F"
   ]
  },
  {
   "cell_type": "code",
   "execution_count": 2,
   "id": "9317314f-3d5e-4a42-84ca-b7dcfcdcc9b0",
   "metadata": {
    "tags": []
   },
   "outputs": [],
   "source": [
    "spark = SparkSession.builder \\\n",
    "    .appName(\"MinIO with Delta Lake\") \\\n",
    "    .config(\"spark.driver.memory\", \"8g\") \\\n",
    "    .config(\"spark.executor.memory\", \"8g\")  \\\n",
    "    .config(\"spark.jars\", \"jars/hadoop-aws-3.3.4.jar,jars/spark-sql-kafka-0-10_2.12-3.2.1.jar,jars/aws-java-sdk-bundle-1.12.262.jar,jars/delta-core_2.12-2.2.0.jar,jars/delta-storage-2.2.0.jar\") \\\n",
    "    .config(\"spark.hadoop.fs.s3a.endpoint\", \"http://minio:9000\") \\\n",
    "    .config(\"spark.hadoop.fs.s3a.access.key\", \"conbo123\") \\\n",
    "    .config(\"spark.hadoop.fs.s3a.secret.key\", \"123conbo\") \\\n",
    "    .config(\"spark.hadoop.fs.s3a.path.style.access\", \"true\") \\\n",
    "    .config(\"spark.hadoop.fs.s3a.impl\", \"org.apache.hadoop.fs.s3a.S3AFileSystem\") \\\n",
    "    .config(\"spark.sql.extensions\", \"io.delta.sql.DeltaSparkSessionExtension\") \\\n",
    "    .config(\"spark.sql.catalog.spark_catalog\", \"org.apache.spark.sql.delta.catalog.DeltaCatalog\") \\\n",
    "    .config(\"spark.delta.logStore.class\", \"org.apache.spark.sql.delta.storage.S3SingleDriverLogStore\") \\\n",
    "    .config(\"delta.enable-non-concurrent-writes\", \"true\") \\\n",
    "    .config('spark.sql.warehouse.dir', \"s3a://lakehouse/\") \\\n",
    "    .config(\"spark.sql.pivotMaxValues\", 100000) \\\n",
    "    .getOrCreate()\n"
   ]
  },
  {
   "cell_type": "code",
   "execution_count": 3,
   "id": "1143cb58-fdd8-44d3-8a88-c5bf78f8b4e1",
   "metadata": {
    "tags": []
   },
   "outputs": [],
   "source": [
    "from pyspark.sql import functions as F\n",
    "from pyspark.ml.linalg import Vectors, VectorUDT\n",
    "from pyspark.ml.feature import VectorAssembler\n",
    "from pyspark.sql.functions import monotonically_increasing_id\n",
    "from pyspark.ml.recommendation import ALS\n",
    "from pyspark.ml.evaluation import RegressionEvaluator\n",
    "\n",
    "# Đọc dữ liệu movie_names và ratings_data từ Delta\n",
    "movies  = spark.read.format(\"delta\").load(\"s3a://lakehouse/gold/dim_movie\")\n",
    "movies  = movies .select(\"id\", \"title\")\n",
    "movies  = movies .withColumnRenamed(\"id\", \"movieId\")\n",
    "\n",
    "ratings = spark.read.format(\"delta\").load(\"s3a://lakehouse/silver/ratings\")\n",
    "ratings = ratings.select(\"userId\", \"movieId\", \"rating\")\n",
    "ratings = ratings.limit(1000000)\n"
   ]
  },
  {
   "cell_type": "code",
   "execution_count": 4,
   "id": "3f092d55-0b94-40db-bb99-9b3754dbfd3d",
   "metadata": {
    "tags": []
   },
   "outputs": [
    {
     "name": "stdout",
     "output_type": "stream",
     "text": [
      "root\n",
      " |-- userId: integer (nullable = true)\n",
      " |-- movieId: integer (nullable = true)\n",
      " |-- rating: float (nullable = true)\n",
      "\n"
     ]
    }
   ],
   "source": [
    "ratings = ratings.select(\"userId\", \"movieId\", \"rating\")\n",
    "ratings.printSchema()"
   ]
  },
  {
   "cell_type": "code",
   "execution_count": 5,
   "id": "2ebc531e-bd08-4672-95a2-24249c474d6d",
   "metadata": {
    "tags": []
   },
   "outputs": [
    {
     "name": "stdout",
     "output_type": "stream",
     "text": [
      "root\n",
      " |-- userId: integer (nullable = true)\n",
      " |-- movieId: integer (nullable = true)\n",
      " |-- rating: float (nullable = true)\n",
      "\n"
     ]
    }
   ],
   "source": [
    "df = ratings.withColumn('userId', ratings['userId'].cast('int')).\\\n",
    "withColumn('movieId', ratings['movieId'].cast('int')).withColumn('rating', ratings['rating'].cast('float'))\n",
    "df.printSchema()"
   ]
  },
  {
   "cell_type": "code",
   "execution_count": 6,
   "id": "0f9b617a-9b7e-44c4-9a86-5fd5b7ff352e",
   "metadata": {
    "tags": []
   },
   "outputs": [
    {
     "name": "stdout",
     "output_type": "stream",
     "text": [
      "The number of ratings in each set: 600468, 199309, 200223\n"
     ]
    }
   ],
   "source": [
    "train, validation, test = df.randomSplit([0.6,0.2,0.2], seed = 0)\n",
    "print(\"The number of ratings in each set: {}, {}, {}\".format(train.count(), validation.count(), test.count()))"
   ]
  },
  {
   "cell_type": "code",
   "execution_count": 7,
   "id": "0259f516-9b03-4fd7-b023-1a064db5bbb0",
   "metadata": {
    "tags": []
   },
   "outputs": [],
   "source": [
    "from pyspark.sql.functions import col, sqrt\n",
    "def RMSE(predictions):\n",
    "    squared_diff = predictions.withColumn(\"squared_diff\", pow(col(\"rating\") - col(\"prediction\"), 2))\n",
    "    mse = squared_diff.selectExpr(\"mean(squared_diff) as mse\").first().mse\n",
    "    return mse ** 0.5"
   ]
  },
  {
   "cell_type": "code",
   "execution_count": 8,
   "id": "d9e8cf03-4808-490c-83dd-baefe21019bf",
   "metadata": {
    "tags": []
   },
   "outputs": [],
   "source": [
    "# implement the model using ALS algorithm and find the right hyperparameters using Grid Search\n",
    "from pyspark.ml.recommendation import ALS\n",
    "import time  \n",
    "\n",
    "def GridSearch(train, valid, num_iterations, reg_param, n_factors):\n",
    "    min_rmse = float('inf')\n",
    "    best_n = -1\n",
    "    best_reg = 0\n",
    "    best_model = None\n",
    "    # run Grid Search for all the parameter defined in the range in a loop\n",
    "    for n in n_factors:\n",
    "        for reg in reg_param:\n",
    "            als = ALS(rank = n, \n",
    "                      maxIter = num_iterations, \n",
    "                      seed = 0, \n",
    "                      regParam = reg,\n",
    "                      userCol=\"userId\", \n",
    "                      itemCol=\"movieId\", \n",
    "                      ratingCol=\"rating\", \n",
    "                      coldStartStrategy=\"drop\")            \n",
    "            model = als.fit(train)\n",
    "            predictions = model.transform(valid)\n",
    "            rmse = RMSE(predictions)     \n",
    "            print('{} latent factors and regularization = {}: validation RMSE is {}'.format(n, reg, rmse))\n",
    "            # track the best model using RMSE\n",
    "            if rmse < min_rmse:\n",
    "                min_rmse = rmse\n",
    "                best_n = n\n",
    "                best_reg = reg\n",
    "                best_model = model\n",
    "                \n",
    "    pred = best_model.transform(train)\n",
    "    train_rmse = RMSE(pred)\n",
    "    # best model and its metrics\n",
    "    print('\\nThe best model has {} latent factors and regularization = {}:'.format(best_n, best_reg))\n",
    "    print('traning RMSE is {}; validation RMSE is {}'.format(train_rmse, min_rmse))\n",
    "    return best_model"
   ]
  },
  {
   "cell_type": "code",
   "execution_count": 9,
   "id": "593cd653-0821-48d3-aaba-c26f75d944a9",
   "metadata": {
    "tags": []
   },
   "outputs": [
    {
     "name": "stdout",
     "output_type": "stream",
     "text": [
      "6 latent factors and regularization = 0.05: validation RMSE is 0.8560102329688704\n",
      "6 latent factors and regularization = 0.1: validation RMSE is 0.8424453107085027\n",
      "6 latent factors and regularization = 0.2: validation RMSE is 0.8665058463950894\n",
      "6 latent factors and regularization = 0.4: validation RMSE is 0.9518573820543371\n",
      "6 latent factors and regularization = 0.8: validation RMSE is 1.1770926108102437\n",
      "8 latent factors and regularization = 0.05: validation RMSE is 0.8557048412606626\n",
      "8 latent factors and regularization = 0.1: validation RMSE is 0.8388843064545881\n",
      "8 latent factors and regularization = 0.2: validation RMSE is 0.8646939342217799\n",
      "8 latent factors and regularization = 0.4: validation RMSE is 0.9515318661395938\n",
      "8 latent factors and regularization = 0.8: validation RMSE is 1.1770993896790543\n",
      "10 latent factors and regularization = 0.05: validation RMSE is 0.8588868809703648\n",
      "10 latent factors and regularization = 0.1: validation RMSE is 0.8397100311799146\n",
      "10 latent factors and regularization = 0.2: validation RMSE is 0.8672583076871974\n",
      "10 latent factors and regularization = 0.4: validation RMSE is 0.9518664547559745\n",
      "10 latent factors and regularization = 0.8: validation RMSE is 1.1770911365288443\n",
      "12 latent factors and regularization = 0.05: validation RMSE is 0.8581938538607365\n",
      "12 latent factors and regularization = 0.1: validation RMSE is 0.8389175566190376\n",
      "12 latent factors and regularization = 0.2: validation RMSE is 0.8681368585012125\n",
      "12 latent factors and regularization = 0.4: validation RMSE is 0.9521641027305848\n",
      "12 latent factors and regularization = 0.8: validation RMSE is 1.177085399315292\n",
      "\n",
      "The best model has 8 latent factors and regularization = 0.1:\n",
      "traning RMSE is 0.7043137577458796; validation RMSE is 0.8388843064545881\n",
      "Total Runtime: 87.37 seconds\n"
     ]
    }
   ],
   "source": [
    "# build the model using different ranges for Grid Search\n",
    "from pyspark.sql.functions import col, sqrt\n",
    "num_iterations = 10\n",
    "ranks = [6, 8, 10, 12]\n",
    "reg_params = [0.05, 0.1, 0.2, 0.4, 0.8]\n",
    "\n",
    "start_time = time.time()\n",
    "final_model = GridSearch(train, validation, num_iterations, reg_params, ranks)\n",
    "print('Total Runtime: {:.2f} seconds'.format(time.time() - start_time))"
   ]
  },
  {
   "cell_type": "code",
   "execution_count": 10,
   "id": "3a72f012-437e-469c-b818-615a497f4619",
   "metadata": {
    "tags": []
   },
   "outputs": [
    {
     "name": "stdout",
     "output_type": "stream",
     "text": [
      "The testing RMSE is 0.8411055768066206\n"
     ]
    }
   ],
   "source": [
    "pred_test = final_model.transform(test)\n",
    "print('The testing RMSE is ' + str(RMSE(pred_test)))"
   ]
  },
  {
   "cell_type": "code",
   "execution_count": 11,
   "id": "48a2ceaf-8cc4-4107-8bbe-06272730dc7e",
   "metadata": {
    "tags": []
   },
   "outputs": [
    {
     "name": "stdout",
     "output_type": "stream",
     "text": [
      "+-------+------+\n",
      "|movieId|userId|\n",
      "+-------+------+\n",
      "|     50|    12|\n",
      "|     82|    12|\n",
      "|    157|    12|\n",
      "|    194|    12|\n",
      "|    198|    12|\n",
      "|    247|    12|\n",
      "|    301|    12|\n",
      "|    334|    12|\n",
      "|    363|    12|\n",
      "|    492|    12|\n",
      "|    589|    12|\n",
      "|    590|    12|\n",
      "|    728|    12|\n",
      "|    759|    12|\n",
      "|    903|    12|\n",
      "|    940|    12|\n",
      "|    994|    12|\n",
      "|   1023|    12|\n",
      "|   1059|    12|\n",
      "|   1177|    12|\n",
      "+-------+------+\n",
      "only showing top 20 rows\n",
      "\n"
     ]
    }
   ],
   "source": [
    "single_user = test.filter(test['userId']==12).select(['movieId','userId'])\n",
    "single_user.show()"
   ]
  },
  {
   "cell_type": "code",
   "execution_count": 12,
   "id": "e1d27299-7423-4054-91af-98ef534b5ba8",
   "metadata": {
    "tags": []
   },
   "outputs": [
    {
     "name": "stdout",
     "output_type": "stream",
     "text": [
      "+-------+------+-------+--------------------+\n",
      "|movieId|userId|movieId|               title|\n",
      "+-------+------+-------+--------------------+\n",
      "|     82|    12|     82|          Miami Vice|\n",
      "|    157|    12|    157|Star Trek III: Th...|\n",
      "|    194|    12|    194|              Amélie|\n",
      "|    198|    12|    198|  To Be or Not to Be|\n",
      "|    247|    12|    247|         The Killing|\n",
      "|    301|    12|    301|           Rio Bravo|\n",
      "|    334|    12|    334|            Magnolia|\n",
      "|    363|    12|    363|             Head-On|\n",
      "|    492|    12|    492|Being John Malkovich|\n",
      "|    590|    12|    590|           The Hours|\n",
      "|    759|    12|    759|Gentlemen Prefer ...|\n",
      "|    903|    12|    903|      Cool Hand Luke|\n",
      "|    940|    12|    940|   The Lady Vanishes|\n",
      "|    994|    12|    994|          Straw Dogs|\n",
      "|   1023|    12|   1023|       Adam's Apples|\n",
      "|   1059|    12|   1059| The Hidden Fortress|\n",
      "|   1639|    12|   1639|Speed 2: Cruise C...|\n",
      "|   1641|    12|   1641|    Forces of Nature|\n",
      "|   1643|    12|   1643| Last Tango in Paris|\n",
      "|   1648|    12|   1648|Bill & Ted's Exce...|\n",
      "+-------+------+-------+--------------------+\n",
      "only showing top 20 rows\n",
      "\n"
     ]
    }
   ],
   "source": [
    "single_user.join(movies, single_user.movieId == movies.movieId, 'inner').show()\n"
   ]
  },
  {
   "cell_type": "code",
   "execution_count": 13,
   "id": "e0bc4783-ce83-4f4e-8ed2-383e20b47094",
   "metadata": {
    "tags": []
   },
   "outputs": [
    {
     "name": "stdout",
     "output_type": "stream",
     "text": [
      "+-------+------+----------+\n",
      "|movieId|userId|prediction|\n",
      "+-------+------+----------+\n",
      "|   3077|    12| 4.6133533|\n",
      "|   1952|    12| 4.4621687|\n",
      "|     50|    12|  4.459092|\n",
      "|    903|    12| 4.2934875|\n",
      "|    247|    12|  4.289667|\n",
      "|    194|    12|   4.28108|\n",
      "|   2020|    12|   4.23416|\n",
      "|   1299|    12|  4.185307|\n",
      "|   1648|    12|  4.159925|\n",
      "|   1293|    12| 4.1201406|\n",
      "|   1960|    12| 4.1085896|\n",
      "|     82|    12|  4.091055|\n",
      "|    363|    12|  4.085567|\n",
      "|   1264|    12|  4.062988|\n",
      "|    994|    12|  4.050111|\n",
      "|   1834|    12| 3.9850245|\n",
      "|   1643|    12| 3.9663813|\n",
      "|   1641|    12| 3.9311318|\n",
      "|   1214|    12| 3.9072285|\n",
      "|   2580|    12| 3.9030151|\n",
      "+-------+------+----------+\n",
      "only showing top 20 rows\n",
      "\n"
     ]
    }
   ],
   "source": [
    "reccomendations = final_model.transform(single_user)\n",
    "reccomendations.orderBy('prediction',ascending=False).show()"
   ]
  },
  {
   "cell_type": "code",
   "execution_count": 14,
   "id": "25aec6cd-1e12-4d90-ad03-db15267612fe",
   "metadata": {
    "tags": []
   },
   "outputs": [
    {
     "name": "stdout",
     "output_type": "stream",
     "text": [
      "+-------+------+----------+-------+--------------------+\n",
      "|movieId|userId|prediction|movieId|               title|\n",
      "+-------+------+----------+-------+--------------------+\n",
      "|     82|    12|  4.091055|     82|          Miami Vice|\n",
      "|    157|    12| 2.3696418|    157|Star Trek III: Th...|\n",
      "|    194|    12|   4.28108|    194|              Amélie|\n",
      "|    198|    12|  3.441933|    198|  To Be or Not to Be|\n",
      "|    247|    12|  4.289667|    247|         The Killing|\n",
      "|    301|    12| 2.4510481|    301|           Rio Bravo|\n",
      "|    334|    12| 3.8907888|    334|            Magnolia|\n",
      "|    363|    12|  4.085567|    363|             Head-On|\n",
      "|    492|    12|  3.868984|    492|Being John Malkovich|\n",
      "|    590|    12| 3.2765384|    590|           The Hours|\n",
      "|    759|    12| 3.8330197|    759|Gentlemen Prefer ...|\n",
      "|    903|    12| 4.2934875|    903|      Cool Hand Luke|\n",
      "|    940|    12| 3.4327934|    940|   The Lady Vanishes|\n",
      "|    994|    12|  4.050111|    994|          Straw Dogs|\n",
      "|   1023|    12| 3.4472713|   1023|       Adam's Apples|\n",
      "|   1059|    12| 3.5651088|   1059| The Hidden Fortress|\n",
      "|   1639|    12|   3.77871|   1639|Speed 2: Cruise C...|\n",
      "|   1641|    12| 3.9311318|   1641|    Forces of Nature|\n",
      "|   1643|    12| 3.9663813|   1643| Last Tango in Paris|\n",
      "|   1648|    12|  4.159925|   1648|Bill & Ted's Exce...|\n",
      "+-------+------+----------+-------+--------------------+\n",
      "only showing top 20 rows\n",
      "\n"
     ]
    }
   ],
   "source": [
    "reccomendations.join(movies, reccomendations.movieId == movies.movieId, 'inner').show()\n"
   ]
  },
  {
   "cell_type": "code",
   "execution_count": 15,
   "id": "ce2f764b-9c11-4fbc-be3a-99085f511ddd",
   "metadata": {
    "tags": []
   },
   "outputs": [
    {
     "name": "stdout",
     "output_type": "stream",
     "text": [
      "Movies liked by user with ID 12\n",
      "+-------+--------------------+------+\n",
      "|movieId|               title|rating|\n",
      "+-------+--------------------+------+\n",
      "|     82|          Miami Vice|   4.0|\n",
      "|    157|Star Trek III: Th...|   1.0|\n",
      "|    194|              Amélie|   5.0|\n",
      "|    198|  To Be or Not to Be|   1.0|\n",
      "|    247|         The Killing|   5.0|\n",
      "|    301|           Rio Bravo|   2.0|\n",
      "|    334|            Magnolia|   3.0|\n",
      "|    363|             Head-On|   4.0|\n",
      "|    492|Being John Malkovich|   4.0|\n",
      "|    590|           The Hours|   4.0|\n",
      "|    759|Gentlemen Prefer ...|   5.0|\n",
      "|    903|      Cool Hand Luke|   5.0|\n",
      "|    940|   The Lady Vanishes|   3.0|\n",
      "|    994|          Straw Dogs|   5.0|\n",
      "|   1023|       Adam's Apples|   5.0|\n",
      "|   1059| The Hidden Fortress|   4.0|\n",
      "|   1639|Speed 2: Cruise C...|   5.0|\n",
      "|   1641|    Forces of Nature|   3.0|\n",
      "|   1643| Last Tango in Paris|   4.0|\n",
      "|   1648|Bill & Ted's Exce...|   5.0|\n",
      "+-------+--------------------+------+\n",
      "only showing top 20 rows\n",
      "\n",
      "Recommended movies for user with ID 12\n",
      "+-------+--------------------+----------+\n",
      "|movieId|               title|prediction|\n",
      "+-------+--------------------+----------+\n",
      "|   2981|      The Lost World| 5.2874618|\n",
      "|   8656|         Deep Impact|  5.159748|\n",
      "|  26246|  Incident at Oglala| 5.1366496|\n",
      "|  50619|The Twilight Saga...| 5.1052384|\n",
      "|    872| Singin' in the Rain| 5.0426216|\n",
      "|  33592|    White of the Eye|  5.013466|\n",
      "|  84240|               Ghost| 5.0042915|\n",
      "|  72334|          Chimpanzee|   4.97084|\n",
      "|     59|A History of Viol...|  4.915189|\n",
      "|  31856|        Hydrozagadka| 4.8920355|\n",
      "|  42176|      The Main Event| 4.8749495|\n",
      "|    854|            The Mask|  4.857744|\n",
      "|    326|   Snakes on a Plane|  4.843353|\n",
      "|   6935|            Yamakasi| 4.8171687|\n",
      "|    632|           Stalag 17|  4.813434|\n",
      "|   7096|              Merlin|  4.792389|\n",
      "|  37495|          Four Lions| 4.7888966|\n",
      "|  52767|          The Hunter|  4.772318|\n",
      "| 120478|The Haunting of W...|  4.751865|\n",
      "|  38304|            Far Away|  4.738701|\n",
      "+-------+--------------------+----------+\n",
      "only showing top 20 rows\n",
      "\n"
     ]
    }
   ],
   "source": [
    "from pyspark.sql.functions import col, lit\n",
    "\n",
    "# select a single user from the test set\n",
    "user_id = 12\n",
    "single_user_ratings = test.filter(test['userId'] == user_id).select(['movieId', 'userId', 'rating'])\n",
    "\n",
    "# display the movies the user has liked\n",
    "print(\"Movies liked by user with ID\", user_id)\n",
    "single_user_ratings.join(movies, 'movieId').select('movieId', 'title', 'rating').show()\n",
    "\n",
    "# generate recommendations for the user\n",
    "all_movies = df.select('movieId').distinct()\n",
    "user_movies = single_user_ratings.select('movieId').distinct()\n",
    "movies_to_recommend = all_movies.subtract(user_movies)\n",
    "\n",
    "# predict ratings for movies the user has not rated yet\n",
    "recommendations = final_model.transform(movies_to_recommend.withColumn('userId', lit(user_id)))\n",
    "\n",
    "# filter out the movies that the user has already rated or seen (this filters out the movies that the user has not liked as well)\n",
    "recommendations = recommendations.filter(col('prediction') > 0)\n",
    "\n",
    "# display the recommendations with movie names\n",
    "print(\"Recommended movies for user with ID\", user_id)\n",
    "recommended_movies = recommendations.join(movies, 'movieId').select('movieId', 'title', 'prediction')\n",
    "\n",
    "# Sort recommended movies by prediction in descending order\n",
    "ordered_recommendations = recommended_movies.orderBy(col('prediction').desc())\n",
    "\n",
    "# Display the ordered recommendations\n",
    "ordered_recommendations.show()"
   ]
  },
  {
   "cell_type": "code",
   "execution_count": null,
   "id": "e9efa872-5ec2-4c06-ada4-38fb570f123f",
   "metadata": {},
   "outputs": [],
   "source": []
  }
 ],
 "metadata": {
  "kernelspec": {
   "display_name": "Python 3 (ipykernel)",
   "language": "python",
   "name": "python3"
  },
  "language_info": {
   "codemirror_mode": {
    "name": "ipython",
    "version": 3
   },
   "file_extension": ".py",
   "mimetype": "text/x-python",
   "name": "python",
   "nbconvert_exporter": "python",
   "pygments_lexer": "ipython3",
   "version": "3.10.10"
  }
 },
 "nbformat": 4,
 "nbformat_minor": 5
}
