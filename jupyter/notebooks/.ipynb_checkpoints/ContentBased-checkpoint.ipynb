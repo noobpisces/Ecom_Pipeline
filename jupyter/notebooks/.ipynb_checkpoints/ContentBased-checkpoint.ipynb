{
 "cells": [
  {
   "cell_type": "code",
   "execution_count": 1,
   "id": "638f47a1-cae7-428d-a3e0-4b88217860cc",
   "metadata": {
    "tags": []
   },
   "outputs": [],
   "source": [
    "from pyspark.sql import SparkSession\n",
    "import pandas as pd\n",
    "from pyspark.sql.types import StructType, StructField, BooleanType, StringType, IntegerType, DateType, FloatType,DoubleType,ArrayType,LongType\n",
    "import logging\n",
    "import sys\n",
    "import traceback\n",
    "import ast\n",
    "import json\n",
    "import os\n",
    "import sys\n",
    "import traceback\n",
    "import logging\n",
    "from pyspark.sql import SparkSession\n",
    "from pyspark.sql.functions import col, expr,when,to_date ,udf, concat_ws,posexplode, from_json\n",
    "from pyspark.sql.types import StructType, StructField, BooleanType, StringType, IntegerType, DateType, FloatType,DoubleType\n",
    "from pyspark.sql import functions as F"
   ]
  },
  {
   "cell_type": "code",
   "execution_count": 2,
   "id": "099d0057-3dbd-4c6f-af7d-287a2cd5af66",
   "metadata": {
    "tags": []
   },
   "outputs": [],
   "source": [
    "\n",
    "spark = SparkSession.builder \\\n",
    "    .appName(\"MinIO with Delta Lake\") \\\n",
    "    .config(\"spark.jars\", \"jars/hadoop-aws-3.3.4.jar,jars/spark-sql-kafka-0-10_2.12-3.2.1.jar,jars/aws-java-sdk-bundle-1.12.262.jar,jars/delta-core_2.12-2.2.0.jar,jars/delta-storage-2.2.0.jar\")\\\n",
    "    .config(\"spark.hadoop.fs.s3a.endpoint\", \"http://minio:9000\") \\\n",
    "    .config(\"spark.hadoop.fs.s3a.access.key\", \"conbo123\") \\\n",
    "    .config(\"spark.hadoop.fs.s3a.secret.key\", \"123conbo\") \\\n",
    "    .config(\"spark.hadoop.fs.s3a.path.style.access\", \"true\") \\\n",
    "    .config(\"spark.hadoop.fs.s3a.impl\", \"org.apache.hadoop.fs.s3a.S3AFileSystem\") \\\n",
    "    .config(\"spark.sql.extensions\", \"io.delta.sql.DeltaSparkSessionExtension\") \\\n",
    "    .config(\"spark.sql.catalog.spark_catalog\", \"org.apache.spark.sql.delta.catalog.DeltaCatalog\") \\\n",
    "    .config(\"spark.delta.logStore.class\", \"org.apache.spark.sql.delta.storage.S3SingleDriverLogStore\") \\\n",
    "    .config(\"delta.enable-non-concurrent-writes\", \"true\") \\\n",
    "    .config('spark.sql.warehouse.dir', \"s3a://lakehouse/\") \\\n",
    "    .getOrCreate()"
   ]
  },
  {
   "cell_type": "code",
   "execution_count": 3,
   "id": "04bb2311-54a4-47d7-9f3d-2adf26c27598",
   "metadata": {
    "tags": []
   },
   "outputs": [],
   "source": [
    "silver_merge_df = spark.read.format(\"delta\").load(\"s3a://lakehouse/gold/machineData\")\n"
   ]
  },
  {
   "cell_type": "code",
   "execution_count": 4,
   "id": "5efe882b-be81-420b-b964-77fc9e83dbe0",
   "metadata": {
    "tags": []
   },
   "outputs": [
    {
     "data": {
      "text/plain": [
       "45435"
      ]
     },
     "execution_count": 4,
     "metadata": {},
     "output_type": "execute_result"
    }
   ],
   "source": [
    "silver_merge_df.count()"
   ]
  },
  {
   "cell_type": "code",
   "execution_count": 5,
   "id": "42825e6c-8919-4835-953c-35794099b043",
   "metadata": {
    "tags": []
   },
   "outputs": [
    {
     "name": "stdout",
     "output_type": "stream",
     "text": [
      "+---+--------------------+\n",
      "| id|                comb|\n",
      "+---+--------------------+\n",
      "| 21|surfing surfboard...|\n",
      "| 24|femaleyakuza gore...|\n",
      "| 25|sniper golfwar pe...|\n",
      "| 38|lovestory dejavu ...|\n",
      "| 62|technology jupite...|\n",
      "| 70|boxer boxingtrain...|\n",
      "| 73|skinhead basketba...|\n",
      "| 80|talking dialogue ...|\n",
      "| 82|havanacuba basedo...|\n",
      "| 90|weapon gunfight s...|\n",
      "| 95|spacemarine savin...|\n",
      "| 98|ancientworld glad...|\n",
      "|113|child buddhistmon...|\n",
      "|121|hobbit orcs wizar...|\n",
      "|143|youngsoldier tren...|\n",
      "|156|cleaninglady suic...|\n",
      "|160|cinema train begi...|\n",
      "|167|help mental doubt...|\n",
      "|195|secretary emotion...|\n",
      "|214|famoustheme shoti...|\n",
      "+---+--------------------+\n",
      "only showing top 20 rows\n",
      "\n"
     ]
    }
   ],
   "source": [
    "silver_merge_df.show()"
   ]
  },
  {
   "cell_type": "code",
   "execution_count": 6,
   "id": "0bc0fd99-ca15-4e34-9c68-30f59150e0ab",
   "metadata": {
    "tags": []
   },
   "outputs": [],
   "source": [
    "from pyspark.ml import Pipeline\n",
    "from pyspark.ml.feature import IDF\n",
    "from pyspark.ml.feature import Word2Vec\n",
    "from pyspark.ml.feature import StopWordsRemover, VectorAssembler\n",
    "from pyspark.ml.feature import RegexTokenizer, CountVectorizer"
   ]
  },
  {
   "cell_type": "code",
   "execution_count": 7,
   "id": "a978c40c-2613-4337-893c-71a677ee11f6",
   "metadata": {
    "tags": []
   },
   "outputs": [],
   "source": [
    "spark_df = silver_merge_df.select('id', 'comb')\n",
    "regexTokenizer = RegexTokenizer(\n",
    "    gaps=False, pattern='\\w+', inputCol='comb', outputCol='token')\n",
    "stopWordsRemover = StopWordsRemover(\n",
    "    inputCol='token', outputCol='nostopwrd')\n",
    "# countVectorizer = CountVectorizer(inputCol=\"nostopwrd\", outputCol=\"rawFeature\")\n",
    "# iDF = IDF(inputCol=\"rawFeature\", outputCol=\"idf_vec\")\n",
    "word2Vec = Word2Vec(vectorSize=150, minCount=3,windowSize=10, \n",
    "                    inputCol='nostopwrd', outputCol='word_vec', seed=123)\n",
    "# vectorAssembler = VectorAssembler(inputCols=['idf_vec', 'word_vec'], outputCol='comb_vec')\n",
    "pipeline = Pipeline(stages=[regexTokenizer, stopWordsRemover, word2Vec])\n",
    "pipeline_model = pipeline.fit(spark_df)\n",
    "pipeline_model.write().overwrite().save(\n",
    "    \"s3a://lakehouse/model/\" + 'pipeline_model')"
   ]
  },
  {
   "cell_type": "code",
   "execution_count": 8,
   "id": "a7aae55e-6091-405b-9e10-a5a7aa0985ab",
   "metadata": {
    "tags": []
   },
   "outputs": [],
   "source": [
    "from pyspark.ml import PipelineModel\n"
   ]
  },
  {
   "cell_type": "code",
   "execution_count": 9,
   "id": "c9defaa8-8b91-4658-990d-f5a6eb798356",
   "metadata": {
    "tags": []
   },
   "outputs": [],
   "source": [
    "schema = StructType([\n",
    "    StructField(\"id\", StringType(), True),\n",
    "    StructField(\"vecs\", ArrayType(DoubleType()), True)\n",
    "])\n",
    "spark_df = silver_merge_df.select('id', 'comb')\n",
    "pipeline_mdl = PipelineModel.load(\"s3a://lakehouse/model/\" + 'pipeline_model')\n",
    "new_df = pipeline_mdl.transform(spark_df)\n",
    "all_movies_vecs = new_df.select('id', 'word_vec').rdd.map(lambda x: (x[0], x[1])).collect()\n",
    "data = [(id, [float(x) for x in vec]) for id, vec in all_movies_vecs]\n",
    "\n",
    "all_movies_df = spark.createDataFrame(data, schema)\n",
    "all_movies_df.write.format(\"delta\").mode(\"overwrite\").save(\"s3a://lakehouse/data/all_movies_delta\")\n",
    "\n"
   ]
  },
  {
   "cell_type": "code",
   "execution_count": 10,
   "id": "1a5cdbff-b705-41c3-95c1-0a23e864ba7c",
   "metadata": {
    "tags": []
   },
   "outputs": [],
   "source": [
    "df_merge = None\n",
    "df_list = None\n",
    "flag1 = False\n",
    "flag2 = False"
   ]
  },
  {
   "cell_type": "code",
   "execution_count": 11,
   "id": "e398e749-c595-4f71-9c6d-1b182e51f218",
   "metadata": {
    "tags": []
   },
   "outputs": [],
   "source": [
    "import numpy as np\n",
    "from pyspark.sql.functions import col, mean, lit, udf\n",
    "from pyspark.sql.types import StructType, StructField, StringType, IntegerType, FloatType\n",
    "from pyspark.ml.linalg import Vectors\n",
    "\n",
    "df_merge = None\n",
    "df_list = None\n",
    "flag1 = False\n",
    "flag2 = False\n",
    "\n",
    "\n",
    "def CosineSim(vec1, vec2):\n",
    "    numerator = np.dot(vec1, vec2)\n",
    "    denominator = np.sqrt(np.dot(vec1, vec1)) * np.sqrt(np.dot(vec2, vec2))\n",
    "    return float(numerator / denominator) if denominator != 0 else 0\n",
    "\n",
    "def get_titles():\n",
    "    global df_merge, flag1\n",
    "    if not flag1:\n",
    "        df_merge = spark.read.format(\"delta\").load(\"s3a://lakehouse/merge_data-movies/merged_data\")\n",
    "        flag1 = True\n",
    "    return list(df_merge.select(\"title\").toPandas()[\"title\"])\n",
    "\n",
    "def get_vecs(path):\n",
    "    df_list = spark.read.format(\"delta\").load(path)\n",
    "    data_original = df_list.collect()\n",
    "    all_vecs = [(row.id, Vectors.dense(row.vecs)) for row in data_original]\n",
    "    return all_vecs\n",
    "\n",
    "def recommendation(m_title, path, sim_mov_limit=5):\n",
    "    global df_merge\n",
    "    df_merge = spark.read.format(\"delta\").load(\"s3a://lakehouse/merge_data-movies/merged_data\")\n",
    "    if df_merge.filter(col(\"title\") == m_title).count() == 0:\n",
    "        return \"Sorry! The movie you searched is not in our database. Please check the spelling or try another movie.\"\n",
    "    \n",
    "    all_movies_vecs = get_vecs(path)\n",
    "    m_id = df_merge.filter(col(\"title\") == m_title).select(col('id')).collect()[0][0]\n",
    "    input_vec = [r[1] for r in all_movies_vecs if r[0] == m_id][0]\n",
    "    \n",
    "    similar_movies_rdd = spark.sparkContext.parallelize(\n",
    "        [(i[0], CosineSim(input_vec, i[1])) for i in all_movies_vecs]\n",
    "    )\n",
    "    \n",
    "    similar_movies_df = spark.createDataFrame(similar_movies_rdd, [\"movies_id\", \"score\"]) \\\n",
    "        .orderBy(col(\"score\").desc()) \\\n",
    "        .filter(col(\"movies_id\") != m_id) \\\n",
    "        .limit(sim_mov_limit)\n",
    "    \n",
    "    similar_movies_df = similar_movies_df.withColumn(\"input_movies_id\", lit(m_id))\n",
    "    return similar_movies_df.toPandas()\n",
    "\n",
    "def getMovieDetails(in_mov):\n",
    "    global df_merge\n",
    "    vote_counts = df_merge.filter(col(\"vote_count\").isNotNull()).select(col(\"vote_count\"))\n",
    "    vote_averages = df_merge.filter(col(\"vote_average\").isNotNull()).select(col(\"vote_average\"))\n",
    "    C = vote_averages.select(mean(\"vote_average\")).collect()[0][0]\n",
    "    quantiles = vote_counts.approxQuantile(\"vote_count\", [0.7], 0.001)\n",
    "    m = quantiles[0]\n",
    "    qualified = df_merge.filter((col(\"vote_count\") >= m) & col(\"vote_count\").isNotNull() & col(\"vote_average\").isNotNull())\n",
    "    qualified = qualified.withColumn(\"vote_count\", col(\"vote_count\").cast(\"int\")) \\\n",
    "        .withColumn(\"vote_average\", col(\"vote_average\").cast(\"int\"))\n",
    "    weighted_rating_udf = udf(lambda v, R: (\n",
    "        v / (v + m) * R) + (m / (m + v) * C), FloatType())\n",
    "    qualified = qualified.withColumn(\"weighted_rating\", weighted_rating_udf(\n",
    "        col(\"vote_count\"), col(\"vote_average\")))\n",
    "    qualified = qualified.orderBy(col(\"weighted_rating\").desc())\n",
    "\n",
    "    if isinstance(in_mov, str):\n",
    "        return \"Invalid input\"\n",
    "    a = in_mov.alias(\"a\")\n",
    "    b = qualified.alias(\"b\")\n",
    "\n",
    "    raw = a.join(b, col(\"a.movies_id\") == col(\"b.id\"), 'inner') \\\n",
    "        .orderBy(\"score\", ascending=False) \\\n",
    "        .select([col('a.' + c) for c in a.columns] + [col('b.title'), col('b.genres_convert'), col('b.keyword_convert'), col(\"b.director\"), col(\"b.cast_names\"), col(\"b.weighted_rating\")])\n",
    "    \n",
    "    return raw.select(\"movies_id\", \"input_movies_id\", \"title\", \"genres_convert\", \"director\", \"cast_names\", \"score\", \"weighted_rating\")\n",
    "\n",
    "# if __name__ == \"__main__\":\n",
    "#     movie_name = input(\"Enter a movie name: \")\n",
    "#     recommendations = recommendation(movie_name, sim_mov_limit=5)\n",
    "#     print(\"Recommended movies:\")\n",
    "#     print(recommendations)\n",
    "def haha(path):\n",
    "    movie_name = input(\"Enter a movie name: \")\n",
    "    recommendations = recommendation(movie_name,path, sim_mov_limit=5)\n",
    "\n",
    "    if isinstance(recommendations, str):  # Nếu không tìm thấy phim\n",
    "        print(recommendations)\n",
    "    else:\n",
    "        print(\"Recommended movies:\")\n",
    "        print(recommendations)\n",
    "\n",
    "        # Chuyển đổi kiểu dữ liệu của Pandas DataFrame về đúng dạng trước khi đưa vào Spark\n",
    "        recommendations = recommendations.astype({\n",
    "            \"movies_id\": int,\n",
    "            \"input_movies_id\": int,\n",
    "            \"score\": float\n",
    "        })\n",
    "\n",
    "        # Xác định schema cho Spark DataFrame\n",
    "        schema = StructType([\n",
    "            StructField(\"movies_id\", IntegerType(), True),\n",
    "            StructField(\"score\", FloatType(), True),\n",
    "            StructField(\"input_movies_id\", IntegerType(), True)\n",
    "        ])\n",
    "\n",
    "        # Chuyển đổi Pandas DataFrame thành danh sách từ điển\n",
    "        recommendations_list = recommendations.to_dict(orient=\"records\")\n",
    "\n",
    "        # Chuyển đổi danh sách từ điển thành Spark DataFrame\n",
    "        recommendations_spark_df = spark.createDataFrame(recommendations_list, schema=schema)\n",
    "        # recommendations_spark_df.show()\n",
    "        \n",
    "        details = getMovieDetails(recommendations_spark_df)\n",
    "\n",
    "\n",
    "        # Hiển thị thông tin chi tiết\n",
    "        print(\"Detailed movie recommendations:\")\n",
    "        print(details.toPandas())  # Chuyển về Pandas DataFrame để hiển thị\n",
    "\n",
    "\n"
   ]
  },
  {
   "cell_type": "code",
   "execution_count": 12,
   "id": "a32566af-b44f-49d3-932a-2ac6ee7fee75",
   "metadata": {},
   "outputs": [],
   "source": [
    "from pyspark.ml.feature import RegexTokenizer, StopWordsRemover, CountVectorizer, IDF\n",
    "from pyspark.sql.types import StructType, StructField, StringType, ArrayType, DoubleType\n",
    "from pyspark.ml.linalg import Vectors\n",
    "import numpy as np\n",
    "\n",
    "# Bước 1: Chuẩn bị dữ liệu đầu vào\n",
    "spark_df = silver_merge_df.select('id', 'comb')\n",
    "\n",
    "# Bước 2: Tokenizer\n",
    "regexTokenizer = RegexTokenizer(inputCol='comb', outputCol='token', pattern='\\\\w+')\n",
    "token_df = regexTokenizer.transform(spark_df)\n",
    "\n",
    "# Bước 3: Xóa stop words\n",
    "remover = StopWordsRemover(inputCol='token', outputCol='nostopwrd')\n",
    "nostop_df = remover.transform(token_df)\n",
    "\n",
    "# Bước 4: Count Vectorizer\n",
    "cv = CountVectorizer(inputCol='nostopwrd', outputCol='raw_features')\n",
    "cv_model = cv.fit(nostop_df)\n",
    "featurized_df = cv_model.transform(nostop_df)\n",
    "\n",
    "# Bước 5: TF-IDF\n",
    "idf = IDF(inputCol='raw_features', outputCol='tfidf_vec')\n",
    "idf_model = idf.fit(featurized_df)\n",
    "rescaled_df = idf_model.transform(featurized_df)\n",
    "\n",
    "# Bước 6: Chuẩn hóa và lưu lại vector\n",
    "data = rescaled_df.select(\"id\", \"tfidf_vec\").rdd.map(\n",
    "    lambda x: (x[0], [float(i) for i in x[1].toArray()])\n",
    ").collect()\n",
    "\n",
    "schema = StructType([\n",
    "    StructField(\"id\", StringType(), True),\n",
    "    StructField(\"vecs\", ArrayType(DoubleType()), True)\n",
    "])\n",
    "\n",
    "all_movies_df = spark.createDataFrame(data, schema)\n",
    "all_movies_df.write.format(\"delta\").mode(\"overwrite\").save(\"s3a://lakehouse/data/all_movies_tfidf_delta\")\n"
   ]
  },
  {
   "cell_type": "code",
   "execution_count": 15,
   "id": "1aef4460-568e-406d-b370-49d54159ad6c",
   "metadata": {},
   "outputs": [],
   "source": [
    "from pyspark.ml.feature import RegexTokenizer, StopWordsRemover, HashingTF, IDF\n",
    "from pyspark.sql.functions import udf\n",
    "from pyspark.sql.types import ArrayType, DoubleType\n",
    "\n",
    "# Bước 1–3: Tokenizer + StopWordsRemover\n",
    "regexTokenizer = RegexTokenizer(inputCol='comb', outputCol='tokens', pattern='\\\\w+')\n",
    "remover = StopWordsRemover(inputCol=\"tokens\", outputCol=\"nostopwrd\")\n",
    "\n",
    "token_df = regexTokenizer.transform(spark_df)\n",
    "nostop_df = remover.transform(token_df)\n",
    "\n",
    "# Bước 4: HashingTF\n",
    "hashingTF = HashingTF(inputCol=\"nostopwrd\", outputCol=\"raw_features\", numFeatures=10000)\n",
    "hashed_df = hashingTF.transform(nostop_df)\n",
    "\n",
    "# Bước 5: TF-IDF\n",
    "idf = IDF(inputCol=\"raw_features\", outputCol=\"hashing_tfidf_vec\")\n",
    "idf_model = idf.fit(hashed_df)\n",
    "rescaled_df = idf_model.transform(hashed_df)\n",
    "\n",
    "# Bước 6: Dùng UDF để convert SparseVector -> array\n",
    "@udf(returnType=ArrayType(DoubleType()))\n",
    "def to_array(v):\n",
    "    return v.toArray().tolist()\n",
    "\n",
    "# Bước 7: Thêm cột 'vecs' chứa vector TF-IDF dạng list, rồi ghi xuống Delta\n",
    "final_df = rescaled_df.withColumn(\"vecs\", to_array(\"hashing_tfidf_vec\")).select(\"id\", \"vecs\")\n",
    "\n",
    "final_df.write.format(\"delta\").mode(\"overwrite\").save(\"s3a://lakehouse/data/all_movies_hashingtfidf_delta\")\n"
   ]
  },
  {
   "cell_type": "code",
   "execution_count": 26,
   "id": "9b7d24a7-5f49-485d-85bc-f0f45fb40df6",
   "metadata": {},
   "outputs": [
    {
     "name": "stdin",
     "output_type": "stream",
     "text": [
      "Enter a movie name:  The Fury\n"
     ]
    },
    {
     "name": "stdout",
     "output_type": "stream",
     "text": [
      "Recommended movies:\n",
      "  movies_id     score input_movies_id\n",
      "0       170  0.984405           12611\n",
      "1     22825  0.981441           12611\n",
      "2    168098  0.979164           12611\n",
      "3      5876  0.971829           12611\n",
      "4     11336  0.970294           12611\n",
      "Detailed movie recommendations:\n",
      "   movies_id  input_movies_id          title                  genres_convert   \n",
      "0        170            12611  28 Days Later  Horror Thriller ScienceFiction  \\\n",
      "1      22825            12611        The Box         Thriller ScienceFiction   \n",
      "2     168098            12611           Cell  Horror ScienceFiction Thriller   \n",
      "3       5876            12611       The Mist  ScienceFiction Horror Thriller   \n",
      "4      11336            12611  The Dead Zone  Horror ScienceFiction Thriller   \n",
      "\n",
      "          director                                  cast_names     score   \n",
      "0       DannyBoyle      CillianMurphy NaomieHarris NoahHuntley  0.984405  \\\n",
      "1     RichardKelly      CameronDiaz JamesMarsden FrankLangella  0.981441   \n",
      "2      TodWilliams  JohnCusack SamuelL.Jackson IsabelleFuhrman  0.979164   \n",
      "3    FrankDarabont     ThomasJane MarciaGayHarden LaurieHolden  0.971829   \n",
      "4  DavidCronenberg   ChristopherWalken BrookeAdams TomSkerritt  0.970294   \n",
      "\n",
      "   weighted_rating  \n",
      "0         6.981236  \n",
      "1         5.024340  \n",
      "2         4.115588  \n",
      "3         5.993476  \n",
      "4         5.972336  \n"
     ]
    }
   ],
   "source": [
    "haha(\"s3a://lakehouse/data/all_movies_tfidf_delta\")"
   ]
  },
  {
   "cell_type": "code",
   "execution_count": 27,
   "id": "8bfb64b6-9d84-45ae-87b1-d3148d6fbe7d",
   "metadata": {},
   "outputs": [
    {
     "name": "stdin",
     "output_type": "stream",
     "text": [
      "Enter a movie name:  The Fury\n"
     ]
    },
    {
     "name": "stdout",
     "output_type": "stream",
     "text": [
      "Recommended movies:\n",
      "  movies_id     score input_movies_id\n",
      "0       170  0.984405           12611\n",
      "1     22825  0.981441           12611\n",
      "2    168098  0.979164           12611\n",
      "3      5876  0.971829           12611\n",
      "4     11336  0.970294           12611\n",
      "Detailed movie recommendations:\n",
      "   movies_id  input_movies_id          title                  genres_convert   \n",
      "0        170            12611  28 Days Later  Horror Thriller ScienceFiction  \\\n",
      "1      22825            12611        The Box         Thriller ScienceFiction   \n",
      "2     168098            12611           Cell  Horror ScienceFiction Thriller   \n",
      "3       5876            12611       The Mist  ScienceFiction Horror Thriller   \n",
      "4      11336            12611  The Dead Zone  Horror ScienceFiction Thriller   \n",
      "\n",
      "          director                                  cast_names     score   \n",
      "0       DannyBoyle      CillianMurphy NaomieHarris NoahHuntley  0.984405  \\\n",
      "1     RichardKelly      CameronDiaz JamesMarsden FrankLangella  0.981441   \n",
      "2      TodWilliams  JohnCusack SamuelL.Jackson IsabelleFuhrman  0.979164   \n",
      "3    FrankDarabont     ThomasJane MarciaGayHarden LaurieHolden  0.971829   \n",
      "4  DavidCronenberg   ChristopherWalken BrookeAdams TomSkerritt  0.970294   \n",
      "\n",
      "   weighted_rating  \n",
      "0         6.981236  \n",
      "1         5.024340  \n",
      "2         4.115588  \n",
      "3         5.993476  \n",
      "4         5.972336  \n"
     ]
    }
   ],
   "source": [
    "haha(\"s3a://lakehouse/data/all_movies_delta\")"
   ]
  },
  {
   "cell_type": "code",
   "execution_count": 24,
   "id": "a3aa45c5-4c1e-4b9b-93e5-2fc08f3303ac",
   "metadata": {},
   "outputs": [
    {
     "name": "stdout",
     "output_type": "stream",
     "text": [
      "+------+--------------------------------------------------------------------------------------------------------------------------------------------------------------------------------------------------------------------------------------------------------------------------------------------------------------------------------------------------------------------------------------------------------------------------------------------------------------------------------------------------------------------------------------------------------------------------------------------------------------------------------------------------------------------------------------------------------------------------------------------------------------------------------------------------------------------------------------------------------------------------------------------------------------------------------------------------------------------------------------------------------------------------------------------------------------------------------------------------------------------------------------------------------------------------------------------------------------------------------------------------------------------------------------------------------------------------------------------------------------------------------------------------------------------------------------------------------------------------------------------------------------------------------------------------------------------------------------------------------------------------------------------------------------------------------------------------------------------------------------------------------------------------------------------------------------------------------------------------------------------------------------------------------------------------------------------------------------------------------------------------------------------------------------------------------------------------------------------------------------------------------------------------------------------------------------------------------------------------------------------------------------------------------------------------------------------------------------------------------------------------------------------------------------------------------------------------------------------------------------------------------------------------------------------------------------------------------------------------------------------------------------------------------------------------------------------------------------------------------------------------------------------------------------------------------------------------------------------------------------------------------------------------------------------------------------------------------------------------------------------------------------------------------------------------------------------------------------------------------------------------------------------------------------------------------------------------------------------------------------------------------------------------------------------------------------------------------------------------------------------------------------------------------+\n",
      "|id    |vecs                                                                                                                                                                                                                                                                                                                                                                                                                                                                                                                                                                                                                                                                                                                                                                                                                                                                                                                                                                                                                                                                                                                                                                                                                                                                                                                                                                                                                                                                                                                                                                                                                                                                                                                                                                                                                                                                                                                                                                                                                                                                                                                                                                                                                                                                                                                                                                                                                                                                                                                                                                                                                                                                                                                                                                                                                                                                                                                                                                                                                                                                                                                                                                                                                                                                                                                                                                                                    |\n",
      "+------+--------------------------------------------------------------------------------------------------------------------------------------------------------------------------------------------------------------------------------------------------------------------------------------------------------------------------------------------------------------------------------------------------------------------------------------------------------------------------------------------------------------------------------------------------------------------------------------------------------------------------------------------------------------------------------------------------------------------------------------------------------------------------------------------------------------------------------------------------------------------------------------------------------------------------------------------------------------------------------------------------------------------------------------------------------------------------------------------------------------------------------------------------------------------------------------------------------------------------------------------------------------------------------------------------------------------------------------------------------------------------------------------------------------------------------------------------------------------------------------------------------------------------------------------------------------------------------------------------------------------------------------------------------------------------------------------------------------------------------------------------------------------------------------------------------------------------------------------------------------------------------------------------------------------------------------------------------------------------------------------------------------------------------------------------------------------------------------------------------------------------------------------------------------------------------------------------------------------------------------------------------------------------------------------------------------------------------------------------------------------------------------------------------------------------------------------------------------------------------------------------------------------------------------------------------------------------------------------------------------------------------------------------------------------------------------------------------------------------------------------------------------------------------------------------------------------------------------------------------------------------------------------------------------------------------------------------------------------------------------------------------------------------------------------------------------------------------------------------------------------------------------------------------------------------------------------------------------------------------------------------------------------------------------------------------------------------------------------------------------------------------------------------------+\n",
      "|347155|[-0.06093429525693257, -0.06732690831025441, 0.04162147641181946, 0.05983275671799977, 9.526049252599478E-4, -0.056808819373448685, 0.11520057916641235, -0.04077797383069992, 0.03891030450661977, 0.07859256366888681, -0.006531063467264175, -0.043687641620635986, 0.010354745512207348, -0.09673247734705606, -0.03606893370548884, -0.06556680798530579, -0.0160348874827226, 0.0564045508702596, 0.014513938377300898, 0.016862218578656513, -0.0707375705242157, -0.0032627135515213013, -0.030774238208929695, 0.03786386549472809, 0.012849129736423492, -0.01421013722817103, -0.0024441202792028585, -0.04059087485074997, 0.06751235326131184, -0.09831970930099487, -0.14052102963129678, -0.02572617679834366, 0.05373364190260569, 0.005377914135654767, 0.002475754047433535, -0.0861287514368693, 0.14380921920140582, 0.029486445089181263, 0.04221723477045695, 0.01185596485932668, -0.04497583210468292, -0.032448989649613694, 0.06018780171871185, -0.012671792258818943, 0.027288687725861866, -0.020241043219963707, 0.08802480498949686, -0.06639722983042398, -0.06382399300734201, 0.10210353136062622, -0.05568696061770121, 0.022586603959401447, 0.009731193383534748, 0.023018836975097656, -0.11552057663599649, 0.10051412383715311, 0.07038078705469766, -0.0015468889226516087, -0.025573027630647022, -0.10732565323511759, -0.12154905994733174, 0.013875134289264679, -0.09584973255793253, -0.0309851864973704, -0.04134434461593628, 0.05042430758476257, -0.05955952902634938, -0.1632856825987498, -0.06681781510512033, -0.0034421561285853386, 0.07381155093510945, -0.055848280588785805, 0.010692833612362543, 0.038351508478323616, -0.07214153309663136, -0.1166751484076182, 0.07777032752831776, 0.07676190137863159, 0.09462755918502808, 0.04755897323290507, 0.05326757828394572, -0.022598671416441597, 0.0949793259302775, -0.013781927525997162, -0.02823970963557561, 0.06303820013999939, -0.020572371780872345, -0.0724883625904719, -0.012538695087035496, 0.03743611524502436, 0.11052504181861877, 0.0267948309580485, -0.04250284036000569, -0.047351494431495667, 0.040298099319140114, -0.0016981478159626324, 0.044154872496922806, 0.028649404644966125, -0.03964591523011525, -0.06373353799184163, -0.029655762016773224, 0.0392694075902303, -0.13650226593017578, 0.035160407423973083, -0.04900015890598297, 0.09193390607833862, -0.03802208105723063, 0.005140540190041065, 0.03465743114550908, -0.1121559739112854, -0.03367357204357783, 0.07082761327425638, -0.08560936649640401, 0.05289069811503092, -0.08532574772834778, -0.05471609036127726, -0.028411512573560078, -0.028122474749883015, 0.0965447723865509, -0.005491950238744417, 0.05281272530555725, 0.07794491946697235, 0.0024295314215123653, -0.06405301888783772, 0.11926134427388509, -0.039997401336828865, -0.043212950229644775, 0.002020160512377818, 0.07956641912460327, 0.04941122730573018, -0.07071984310944875, 0.08451024691263834, -0.013539494325717289, 0.0239196370045344, 0.00532677893837293, 0.0018400376041730244, -0.0372784361243248, -0.08225693305333455, -0.04212809602419535, 0.031101574500401814, -0.08163454135258992, 0.09279281894365946, 0.07860274612903595, -0.09536268313725789, 0.008498884737491608, 0.003994643067320188, -0.0403343141078949, -0.039939949909845986, 0.05917407075564066, 0.007062088077267011]|\n",
      "+------+--------------------------------------------------------------------------------------------------------------------------------------------------------------------------------------------------------------------------------------------------------------------------------------------------------------------------------------------------------------------------------------------------------------------------------------------------------------------------------------------------------------------------------------------------------------------------------------------------------------------------------------------------------------------------------------------------------------------------------------------------------------------------------------------------------------------------------------------------------------------------------------------------------------------------------------------------------------------------------------------------------------------------------------------------------------------------------------------------------------------------------------------------------------------------------------------------------------------------------------------------------------------------------------------------------------------------------------------------------------------------------------------------------------------------------------------------------------------------------------------------------------------------------------------------------------------------------------------------------------------------------------------------------------------------------------------------------------------------------------------------------------------------------------------------------------------------------------------------------------------------------------------------------------------------------------------------------------------------------------------------------------------------------------------------------------------------------------------------------------------------------------------------------------------------------------------------------------------------------------------------------------------------------------------------------------------------------------------------------------------------------------------------------------------------------------------------------------------------------------------------------------------------------------------------------------------------------------------------------------------------------------------------------------------------------------------------------------------------------------------------------------------------------------------------------------------------------------------------------------------------------------------------------------------------------------------------------------------------------------------------------------------------------------------------------------------------------------------------------------------------------------------------------------------------------------------------------------------------------------------------------------------------------------------------------------------------------------------------------------------------------------------------------+\n",
      "\n"
     ]
    }
   ],
   "source": [
    "df = spark.read.format(\"delta\").load(\"s3a://lakehouse/data/all_movies_delta\")\n",
    "df.filter(df.id == \"347155\").show(truncate=False)\n"
   ]
  },
  {
   "cell_type": "code",
   "execution_count": 25,
   "id": "9a06d3bc-9a54-4500-80e0-04dc168abe46",
   "metadata": {},
   "outputs": [
    {
     "name": "stdout",
     "output_type": "stream",
     "text": [
      "+------+--------------------------------------------------------------------------------------------------------------------------------------------------------------------------------------------------------------------------------------------------------------------------------------------------------------------------------------------------------------------------------------------------------------------------------------------------------------------------------------------------------------------------------------------------------------------------------------------------------------------------------------------------------------------------------------------------------------------------------------------------------------------------------------------------------------------------------------------------------------------------------------------------------------------------------------------------------------------------------------------------------------------------------------------------------------------------------------------------------------------------------------------------------------------------------------------------------------------------------------------------------------------------------------------------------------------------------------------------------------------------------------------------------------------------------------------------------------------------------------------------------------------------------------------------------------------------------------------------------------------------------------------------------------------------------+\n",
      "|id    |vecs                                                                                                                                                                                                                                                                                                                                                                                                                                                                                                                                                                                                                                                                                                                                                                                                                                                                                                                                                                                                                                                                                                                                                                                                                                                                                                                                                                                                                                                                                                                                                                                                                                                                            |\n",
      "+------+--------------------------------------------------------------------------------------------------------------------------------------------------------------------------------------------------------------------------------------------------------------------------------------------------------------------------------------------------------------------------------------------------------------------------------------------------------------------------------------------------------------------------------------------------------------------------------------------------------------------------------------------------------------------------------------------------------------------------------------------------------------------------------------------------------------------------------------------------------------------------------------------------------------------------------------------------------------------------------------------------------------------------------------------------------------------------------------------------------------------------------------------------------------------------------------------------------------------------------------------------------------------------------------------------------------------------------------------------------------------------------------------------------------------------------------------------------------------------------------------------------------------------------------------------------------------------------------------------------------------------------------------------------------------------------+\n",
      "|347155|[0.06632221973031202, 0.0, 0.0, 0.0, 0.0, 0.0, 0.0, 0.0, 0.0, 0.0, 0.0, 0.0, 0.0, 0.0, 0.0, 0.0, 0.0, 0.0, 0.0, 0.0, 0.0, 0.0, 0.0, 0.0, 0.0, 0.0, 0.0, 0.0, 0.0, 0.0, 0.0, 0.0, 0.0, 0.0, 0.0, 0.0, 0.0, 0.0, 0.0, 0.0, 0.0, 0.0, 0.0, 0.0, 0.0, 0.0, 0.0, 0.0, 0.0, 0.0, 0.0, 0.0, 0.0, 0.0, 0.0, 0.0, 0.0, 0.0, 0.0, 0.0, 0.0, 0.0, 0.0, 0.0, 0.0, 0.0, 0.0, 0.0, 0.0, 0.0, 0.0, 0.0, 0.0, 0.0, 0.0, 0.0, 0.0, 0.0, 0.0, 0.0, 0.0, 0.0, 0.0, 0.0, 0.0, 0.0, 0.0, 0.0, 0.0, 0.0, 0.0, 0.0, 0.0, 0.0, 0.0, 0.0, 0.0, 0.0, 0.0, 0.0, 0.0, 0.0, 0.0, 0.0, 0.0, 0.0, 0.0, 0.0, 0.0, 0.0, 0.0, 0.0, 0.0, 0.0, 0.0, 0.0, 0.0, 0.0, 0.0, 0.0, 0.0, 0.0, 0.0, 0.0, 0.0, 0.0, 0.0, 0.0, 0.0, 0.0, 0.0, 0.0, 0.0, 0.0, 0.0, 0.0, 0.0, 0.0, 0.0, 0.0, 0.0, 0.0, 0.0, 0.0, 0.0, 0.0, 0.0, 0.0, 0.0, 0.0, 0.0, 0.0, 0.0, 0.0, 0.0, 0.0, 0.0, 0.0, 0.0, 0.0, 0.0, 0.0, 0.0, 0.0, 0.0, 0.0, 0.0, 0.0, 0.0, 0.0, 0.0, 0.0, 0.0, 0.0, 0.0, 0.0, 0.0, 0.0, 0.0, 0.0, 0.0, 0.0, 0.0, 0.0, 0.0, 0.0, 0.0, 0.0, 0.0, 0.0, 0.0, 0.0, 0.0, 0.0, 0.0, 0.0, 0.0, 0.0, 0.0, 0.0, 0.0, 0.0, 0.0, 0.0, 0.0, 0.0, 0.0, 0.0, 0.0, 0.0, 0.0, 0.0, 0.0, 0.0, 0.0, 0.0, 0.0, 0.0, 0.0, 0.0, 0.0, 0.0, 0.0, 0.0, 0.0, 0.0, 0.0, 0.0, 0.0, 0.0, 0.0, 0.0, 0.0, 0.0, 0.0, 0.0, 0.0, 0.0, 0.0, 0.0, 0.0, 0.0, 0.0, 0.0, 0.0, 0.0, 0.0, 0.0, 0.0, 0.0, 0.0, 0.0, 0.0, 0.0, 0.0, 0.0, 0.0, 0.0, 0.0, 0.0, 0.0, 0.0, 0.0, 0.0, 0.0, 0.0, 0.0, 0.0, 0.0, 0.0, 0.0, 0.0, 0.0, 0.0, 0.0, 0.0, 0.0, 0.0, 0.0, 0.0, 0.0, 0.0, 0.0, 0.0, 0.0, 0.0, 0.0, 0.0, 0.0, 0.0, 0.0, 0.0, 0.0, 0.0, 0.0, 0.0, 0.0, 0.0, 0.0, 0.0, 0.0, 0.0, 0.0, 0.0, 0.0, 0.0, 0.0, 0.0, 0.0, 0.0, 0.0, 0.0, 0.0, 0.0, 0.0, 0.0, 0.0, 0.0, 0.0, 0.0]|\n",
      "+------+--------------------------------------------------------------------------------------------------------------------------------------------------------------------------------------------------------------------------------------------------------------------------------------------------------------------------------------------------------------------------------------------------------------------------------------------------------------------------------------------------------------------------------------------------------------------------------------------------------------------------------------------------------------------------------------------------------------------------------------------------------------------------------------------------------------------------------------------------------------------------------------------------------------------------------------------------------------------------------------------------------------------------------------------------------------------------------------------------------------------------------------------------------------------------------------------------------------------------------------------------------------------------------------------------------------------------------------------------------------------------------------------------------------------------------------------------------------------------------------------------------------------------------------------------------------------------------------------------------------------------------------------------------------------------------+\n",
      "\n"
     ]
    }
   ],
   "source": [
    "df = spark.read.format(\"delta\").load(\"s3a://lakehouse/data/all_movies_tfidf_delta\")\n",
    "df.filter(df.id == \"347155\").show(truncate=False)\n"
   ]
  },
  {
   "cell_type": "code",
   "execution_count": null,
   "id": "0ed103a0-dc10-455b-9dc6-332b3dafcb18",
   "metadata": {},
   "outputs": [],
   "source": []
  },
  {
   "cell_type": "code",
   "execution_count": null,
   "id": "12ac4cae-a652-429c-a9fa-aa9f19e49966",
   "metadata": {},
   "outputs": [],
   "source": []
  },
  {
   "cell_type": "code",
   "execution_count": null,
   "id": "c618aa3a-45e6-410a-b112-268ffeaeb686",
   "metadata": {},
   "outputs": [],
   "source": []
  },
  {
   "cell_type": "code",
   "execution_count": null,
   "id": "ef4f7cbf-519e-4e54-8765-48f442bc4e04",
   "metadata": {},
   "outputs": [],
   "source": []
  },
  {
   "cell_type": "code",
   "execution_count": null,
   "id": "25376ca8-3216-4328-8693-65654a058746",
   "metadata": {},
   "outputs": [],
   "source": []
  },
  {
   "cell_type": "code",
   "execution_count": null,
   "id": "cd1eabd5-af4b-49e9-a34c-975e304d9a53",
   "metadata": {},
   "outputs": [],
   "source": []
  },
  {
   "cell_type": "code",
   "execution_count": null,
   "id": "35d51cca-5baa-48da-b1a7-00ca5ba70583",
   "metadata": {},
   "outputs": [],
   "source": []
  },
  {
   "cell_type": "code",
   "execution_count": null,
   "id": "fa82f66a-cdc9-4b48-ae35-cea25da735a4",
   "metadata": {},
   "outputs": [],
   "source": []
  },
  {
   "cell_type": "code",
   "execution_count": null,
   "id": "3db727d0-71c3-442f-8631-fe0beeb76995",
   "metadata": {},
   "outputs": [],
   "source": []
  }
 ],
 "metadata": {
  "kernelspec": {
   "display_name": "Python 3 (ipykernel)",
   "language": "python",
   "name": "python3"
  },
  "language_info": {
   "codemirror_mode": {
    "name": "ipython",
    "version": 3
   },
   "file_extension": ".py",
   "mimetype": "text/x-python",
   "name": "python",
   "nbconvert_exporter": "python",
   "pygments_lexer": "ipython3",
   "version": "3.10.10"
  }
 },
 "nbformat": 4,
 "nbformat_minor": 5
}
